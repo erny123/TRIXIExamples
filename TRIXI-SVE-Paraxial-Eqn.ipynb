{
 "cells": [
  {
   "cell_type": "markdown",
   "metadata": {},
   "source": [
    "# Example on Creating New Partial Differential Equations"
   ]
  },
  {
   "cell_type": "markdown",
   "metadata": {},
   "source": [
    "This example uses the elixer script from: \n",
    "\n",
    "https://github.com/trixi-framework/Trixi.jl/blob/main/examples/dgmulti_2d/elixir_navierstokes_convergence.jl\n",
    "\n",
    "This notebook is based on a simple Navier-Stokes problem with periodic bondary conditions in the x-direction and walls in the y-direction. The top y-boundary has a moving wall (No-Slip). This is called Couette Flow which is described in this wikipedia article: \n",
    "\n",
    "https://en.wikipedia.org/wiki/Couette_flow"
   ]
  },
  {
   "cell_type": "code",
   "execution_count": 1,
   "metadata": {},
   "outputs": [
    {
     "data": {
      "text/plain": [
       "v\"1.10.5\""
      ]
     },
     "execution_count": 1,
     "metadata": {},
     "output_type": "execute_result"
    }
   ],
   "source": [
    "VERSION"
   ]
  },
  {
   "cell_type": "code",
   "execution_count": 2,
   "metadata": {},
   "outputs": [
    {
     "name": "stderr",
     "output_type": "stream",
     "text": [
      "\u001b[32m\u001b[1m  Activating\u001b[22m\u001b[39m new project at `~/TRIXI`\n"
     ]
    }
   ],
   "source": [
    "] activate ."
   ]
  },
  {
   "cell_type": "code",
   "execution_count": 3,
   "metadata": {},
   "outputs": [],
   "source": [
    "using OrdinaryDiffEq\n",
    "using Trixi\n",
    "using Plots"
   ]
  },
  {
   "cell_type": "markdown",
   "metadata": {},
   "source": [
    "# 2D Gaussian Beam Slowly Varrying Approximation"
   ]
  },
  {
   "cell_type": "markdown",
   "metadata": {},
   "source": [
    "We will write the 2D Slowly Varying Enevelope Approximation for Optics in TRIXI. The Following equation is found in **Fundamentals of Nonlinear Optics** by Powers (Eqn 10.79)\n",
    "\n",
    "\n",
    "\n",
    "This is based off the tutorial: https://trixi-framework.github.io/Trixi.jl/stable/tutorials/adding_new_scalar_equations/\n",
    "\n",
    "and elixer example on advection:\n",
    "https://github.com/trixi-framework/Trixi.jl/blob/main/examples/structured_2d_dgsem/elixir_advection_basic.jl\n",
    "\n",
    "and src codes: https://github.com/trixi-framework/Trixi.jl/blob/main/src/equations/maxwell_1d.jl"
   ]
  },
  {
   "cell_type": "markdown",
   "metadata": {},
   "source": [
    "The time dependent paraxial wave equation with no dispersion is:\n",
    "\n",
    "\\begin{equation}\n",
    "    \\frac{\\partial}{\\partial t} A + v_{g} \\frac{\\partial}{\\partial z} A - i\\frac{v_{g}}{2 k_{0}} \\nabla^{2} A = 0\n",
    "\\end{equation}"
   ]
  },
  {
   "cell_type": "markdown",
   "metadata": {},
   "source": [
    "There is one issue with `Trixi.jl`: It does not handle complex values. Thus, we will need to split our SVEA paraxial system into the real and imaginary parts. \n",
    "\n",
    "We define the amplitude: \n",
    "\n",
    "\\begin{equation}\n",
    "    \\mathbf{A}\\left( z, r_{\\perp}, t \\right) = A_{r}\\left( z, r_{\\perp}, t \\right) + i  A_{i}\\left( z, r_{\\perp}, t \\right)\n",
    "\\end{equation}\n",
    "\n",
    "Plugging into the SVEA equation: \n",
    "\n",
    "\\begin{equation}\n",
    "    \\begin{aligned}\n",
    "    &\\frac{\\partial}{\\partial t} \\left( A_{r} + i A_{i}  \\right) + v_{g} \\frac{\\partial}{\\partial z} \\left( A_{r} + i A_{i}  \\right)  - i\\frac{v_{g}}{2 k_{0}} \\nabla^{2} \\left( A_{r} + i A_{i}  \\right)  = 0 \\\\\n",
    "    \\Rightarrow& \\frac{\\partial}{\\partial t} A_{r} + v_{g} \\frac{\\partial}{\\partial z}  A_{r}  + \\frac{v_{g}}{2 k_{0}} \\nabla^{2}  A_{i}  \\: + \\: i\\left( \\frac{\\partial}{\\partial t} A_{i} + v_{g} \\frac{\\partial}{\\partial z}  A_{i}  - \\frac{v_{g}}{2 k_{0}} \\nabla^{2}  A_{r} \\right) = 0\n",
    "    \\end{aligned}\n",
    "\\end{equation}\n",
    "\n",
    "We then set the real and imaginary parts to be a coupled system of equations:\n",
    "\n",
    "\\begin{equation}\n",
    "    \\begin{aligned}\n",
    "    &\\frac{\\partial}{\\partial t} A_{r} + v_{g} \\frac{\\partial}{\\partial z}  A_{r}  + \\frac{v_{g}}{2 k_{0}} \\nabla^{2}  A_{i} = 0 \\\\\n",
    "    &\\frac{\\partial}{\\partial t} A_{i} + v_{g} \\frac{\\partial}{\\partial z}  A_{i}  - \\frac{v_{g}}{2 k_{0}} \\nabla^{2}  A_{r} = 0 \n",
    "    \\end{aligned}\n",
    "\\end{equation}"
   ]
  },
  {
   "cell_type": "markdown",
   "metadata": {},
   "source": [
    "# Setting up the SVEA (Paraxial Wave) Equation"
   ]
  },
  {
   "cell_type": "markdown",
   "metadata": {},
   "source": [
    "## Hyperbolic Advection Term"
   ]
  },
  {
   "cell_type": "markdown",
   "metadata": {},
   "source": [
    "The hyperbolic advection term of the SVEA Paraxial Wave equation is just: \n",
    "\n",
    "\\begin{equation}\n",
    "    \\frac{\\partial}{\\partial t} A + v_{g} \\frac{\\partial}{\\partial z} A \n",
    "\\end{equation}\n",
    "\n",
    "The linear hyperbolic advection equation is already implemented in `Trixi.jl`. All we need to do is use the `LinearScalarAdvectionEquation2D()` function which assumes the form of: \n",
    "\n",
    "\\begin{equation}\n",
    "    \\frac{\\partial}{\\partial t} A + v_{z} \\frac{\\partial}{\\partial z} A + v_{y} \\frac{\\partial}{\\partial y} A\n",
    "\\end{equation}\n",
    "\n",
    "`LinearScalarAdvectionEquation2D()` takes in the user input for the advection velocity ($v_z ,\\: v_y$). Since the SVEA has only an advection term in the x-direction, we can set the transverse direction to zero ($v_{y} \\rightarrow 0$).\n",
    "\n",
    "Below we set up the linear hyperbolic advection equation. Note that we need to do this for the real and imaginary parts ($A_{r}, A_{i}$)."
   ]
  },
  {
   "cell_type": "code",
   "execution_count": 4,
   "metadata": {},
   "outputs": [],
   "source": [
    "# advection_velocity = (1.0,0.0)\n",
    "# equations_hyperbolic_real = LinearScalarAdvectionEquation2D(advection_velocity);\n",
    "# equations_hyperbolic_imag = LinearScalarAdvectionEquation2D(advection_velocity);"
   ]
  },
  {
   "cell_type": "markdown",
   "metadata": {},
   "source": [
    "Let's import various `Trixi.jl` funcitons we need to define our new equations"
   ]
  },
  {
   "cell_type": "code",
   "execution_count": 163,
   "metadata": {},
   "outputs": [],
   "source": [
    "# Define new physics\n",
    "using Trixi\n",
    "using Trixi: AbstractEquations, get_node_vars\n",
    "import Trixi: varnames, default_analysis_integrals, flux, max_abs_speed_naive,\n",
    "              have_nonconservative_terms"
   ]
  },
  {
   "cell_type": "code",
   "execution_count": 164,
   "metadata": {},
   "outputs": [],
   "source": [
    "# Since there is no native support for the Linear Advection equation with two variables\n",
    "# variables: Ar, Ai\n",
    "struct LinearAdvectionEquation2v2D{T <: Real} <: AbstractEquations{2 #= spatial dimension =#,\n",
    "                                                                   2 #= two variables (u,a) =#}\n",
    "    speed_of_light::T #constant speed of light (vacuum)\n",
    "    k0::T #constant central wavenumber \n",
    "end"
   ]
  },
  {
   "cell_type": "markdown",
   "metadata": {},
   "source": [
    "We define our new 2-variable, 2-dimension linear sacalar advection equations as shown above. We create a new struct that is a `Trixi.jl` type of `AbstractEquations` (hence the `<:`). `AbstractEquations{a,b}` is a type where the the `a` is the spatial dimensions of the system, and `b` are the variables of the system. \n",
    "\n",
    "Notice that we add the `{T <: Real}` to initialize the struct `LinearAdvectionEquation2v2D` to take in `T` values that belong to the `Real` type of Julia. \n",
    "\n",
    "Inside the struct, we want it to hold the speed of light and the central wavenumber: `speed_of_light` and `k0`, respectively"
   ]
  },
  {
   "cell_type": "markdown",
   "metadata": {},
   "source": [
    "Next we need to define the variable names of our 2-variable, 2-dimensional linear scalar advection equation. The variables will be the real and imaginary part ($A_{r}$, $A_{i}$). These two variables are the conservative and the primitive so we use multiple-dispatch to overload the `Trixi.jl` function `varnames()`"
   ]
  },
  {
   "cell_type": "code",
   "execution_count": 165,
   "metadata": {},
   "outputs": [
    {
     "data": {
      "text/plain": [
       "default_analysis_integrals (generic function with 6 methods)"
      ]
     },
     "execution_count": 165,
     "metadata": {},
     "output_type": "execute_result"
    }
   ],
   "source": [
    "varnames(::typeof(cons2cons), ::LinearAdvectionEquation2v2D) = (\"Ar\", \"Ai\")\n",
    "varnames(::typeof(cons2prim), ::LinearAdvectionEquation2v2D) = (\"Ar\", \"Ai\")\n",
    "\n",
    "default_analysis_integrals(::LinearAdvectionEquation2v2D) = ()"
   ]
  },
  {
   "cell_type": "markdown",
   "metadata": {},
   "source": [
    "### Defining Flux"
   ]
  },
  {
   "cell_type": "markdown",
   "metadata": {},
   "source": [
    "We need to identify the flux for the 2v2D Linear Advection Equations:\n",
    "\n",
    "\\begin{equation}\n",
    "    \\mathbf{F} = \\begin{pmatrix}\n",
    "    f_z \\\\\n",
    "    f_y\n",
    "    \\end{pmatrix} = c \\begin{pmatrix}\n",
    "    A_{r} \\\\\n",
    "    A_{i}\n",
    "    \\end{pmatrix}\n",
    "\\end{equation}\n",
    "\n",
    "\n",
    "As shown above, the flux is just simpy the group velocity ($v_{g}$) which in vacuum is just the speed of light. "
   ]
  },
  {
   "cell_type": "code",
   "execution_count": 635,
   "metadata": {},
   "outputs": [
    {
     "data": {
      "text/plain": [
       "flux (generic function with 52 methods)"
      ]
     },
     "execution_count": 635,
     "metadata": {},
     "output_type": "execute_result"
    }
   ],
   "source": [
    "# Calculate 2D flux for a single point\n",
    "@inline function flux(u, orientation::Integer,\n",
    "                      equations::LinearAdvectionEquation2v2D)\n",
    "    Ar, Ai = u\n",
    "\n",
    "    if orientation == 1\n",
    "        # viscous flux components in the x-direction\n",
    "        f1 = equations.speed_of_light * Ar\n",
    "        f2 = equations.speed_of_light * Ai\n",
    "\n",
    "        return SVector(f1, f2)\n",
    "    else # if orientation == 2\n",
    "        # viscous flux components in the y-direction\n",
    "        g1 = 0.0 #equations.speed_of_light * Ar\n",
    "        g2 = 0.0 #quations.speed_of_light * Ai\n",
    "\n",
    "        return SVector(g1, g2)\n",
    "    end\n",
    "end"
   ]
  },
  {
   "cell_type": "markdown",
   "metadata": {},
   "source": [
    "The flux function requires the input variable (which can be a scalar or vector), orientation (z or y directions), and equation type. \n",
    "\n",
    "We first unpack the scalar terms from the input variable `u` which should be a vector of the two scalar variables $A_{r}$ and $A_{i}$. \n",
    "\n",
    "Next we return a static vector `SVector()` of the fluxes as shown above."
   ]
  },
  {
   "cell_type": "markdown",
   "metadata": {},
   "source": [
    "### Defining Speed Limits"
   ]
  },
  {
   "cell_type": "markdown",
   "metadata": {},
   "source": [
    "We need to calculate the maximum speed possible for our fluxes. We do this by multiple-dispatching the `Trixi.jl` function `max_abs_speed_naive()`. "
   ]
  },
  {
   "cell_type": "code",
   "execution_count": 636,
   "metadata": {},
   "outputs": [
    {
     "data": {
      "text/plain": [
       "max_abs_speeds (generic function with 1 method)"
      ]
     },
     "execution_count": 636,
     "metadata": {},
     "output_type": "execute_result"
    }
   ],
   "source": [
    "# Calculate maximum wave speed for local Lax-Friedrichs-type dissipation\n",
    "@inline function max_abs_speed_naive(u_ll, u_rr, orientation::Int,\n",
    "                                     equations::LinearAdvectionEquation2v2D)\n",
    "    cd = 0.0\n",
    "    if orientation == 1\n",
    "        cd = equations.speed_of_light\n",
    "    end\n",
    "    λ_max = abs(cd)\n",
    "end\n",
    "\n",
    "@inline have_constant_speed(::LinearAdvectionEquation2v2D) = True()\n",
    "\n",
    "@inline function max_abs_speeds(equations::LinearAdvectionEquation2v2D)\n",
    "    if equations.orientation == 1\n",
    "        return SVector(equations.speed_of_light, equations.speed_of_light)\n",
    "    else\n",
    "        return SVector(0.0, 0.0)\n",
    "    end\n",
    "end"
   ]
  },
  {
   "cell_type": "markdown",
   "metadata": {},
   "source": [
    "We are now done creating our new 2-variable, 2-dimensional scalar Advection equations. "
   ]
  },
  {
   "cell_type": "markdown",
   "metadata": {},
   "source": [
    "## Parabolic Diffusion Term (Diffraction)"
   ]
  },
  {
   "cell_type": "markdown",
   "metadata": {},
   "source": [
    "The parabolic diffusion (diffraction) term of the SVEA Paraxial Wave equation is just: \n",
    "\n",
    "\\begin{equation}\n",
    "    \\frac{\\partial}{\\partial t} A - i\\frac{v_{g}}{2 k_{0}} \\nabla^{2} A\n",
    "\\end{equation}\n",
    "\n",
    "But we split it up into the real and imaginary parts to get rid of the complex values: \n",
    "\n",
    "\\begin{equation}\n",
    "    \\begin{aligned}\n",
    "        &\\frac{\\partial}{\\partial t} A_{r} + \\frac{v_{g}}{2 k_{0}} \\nabla^{2} A_{i} \\\\\n",
    "        &\\frac{\\partial}{\\partial t} A_{i} - \\frac{v_{g}}{2 k_{0}} \\nabla^{2} A_{r}\n",
    "    \\end{aligned}\n",
    "\\end{equation}"
   ]
  },
  {
   "cell_type": "markdown",
   "metadata": {},
   "source": [
    "### Creating Parabolic Equation Struct"
   ]
  },
  {
   "cell_type": "markdown",
   "metadata": {},
   "source": [
    "We need to make an equation struct to hold all the information for the diffraction term. We can use the code from the tutorial: https://trixi-framework.github.io/Trixi.jl/stable/tutorials/adding_new_parabolic_terms/"
   ]
  },
  {
   "cell_type": "code",
   "execution_count": 637,
   "metadata": {},
   "outputs": [],
   "source": [
    "struct ConstantAnisotropicDiffusion2D{E, T} <: Trixi.AbstractEquationsParabolic{2, 2, GradientVariablesConservative}\n",
    "    # diffusivity::T\n",
    "    equations_hyperbolic::E\n",
    "    speed_of_light::T # c\n",
    "    k0::T # k0 wavenumber\n",
    "end"
   ]
  },
  {
   "cell_type": "markdown",
   "metadata": {},
   "source": [
    "Creating the abstract struct: \n",
    "\n",
    "`struct ConstantAnisotropicDiffusion2D{E, T}`\n",
    "\n",
    "where the `E` is the abstract type which will be used to refer to the `equation` type, and the `T` will be used to refer to the diffusivity type. In this case, because it is 2D it will be a 2D vector type.\n",
    "\n",
    "This abstract struct allows for anisotropic diffusion in the longitudinal and transverse direction. In this case, the SVEA is not anisotropic but we will leave it in case users want to play around with it. \n",
    "\n",
    "This struct will belong to (`<:`):\n",
    "\n",
    "`Trixi.AbstractEquationsParabolic{2, 1, GradientVariablesConservative}`\n",
    "\n",
    "Where the `2` is the number of dimensions, `1` is the number of variables, and `GradientVariablesConservative` is chosen because the hyperbolic system is conservative. This is the case because there is no dissipation mechanism (i.e. optical absorption from air)."
   ]
  },
  {
   "cell_type": "markdown",
   "metadata": {},
   "source": [
    "Next we need to map the parabolic variables to the hyperbolic variables. `Trixi.jl` already has a function to obtain the variable names: `varnames()`. Since the `LinearScalarAdvectionEquation2D` is already part of the `Trixi.jl` package and part of the `equation` abstract type, `varnames()` will be able to act and return something for the hyperbolic terms. \n",
    "\n",
    "We need to define a function via multiple-dispatch to do the same for our parabolic terms. We do this below:"
   ]
  },
  {
   "cell_type": "code",
   "execution_count": 638,
   "metadata": {},
   "outputs": [
    {
     "data": {
      "text/plain": [
       "varnames (generic function with 73 methods)"
      ]
     },
     "execution_count": 638,
     "metadata": {},
     "output_type": "execute_result"
    }
   ],
   "source": [
    "varnames(variable_mapping, equations_parabolic::ConstantAnisotropicDiffusion2D) =\n",
    "  varnames(variable_mapping, equations_parabolic.equations_hyperbolic)"
   ]
  },
  {
   "cell_type": "markdown",
   "metadata": {},
   "source": [
    "In this new multiple-dispatched `varnames()`, the first input argument is the same as the the one from the `Trixi.jl` package. `variable_mapping` is the map from one set of variables to the other. \n",
    "\n",
    "The second argument then defines our multiple-dispatch where we have define this function to take effect when the second argument is a type `::ConstantAnisotropicDiffusion2D`. When this is the case, it actually just calls the original `varnames()` and inputs the `ConstantAnisotropicDiffusion2D` struct's hyperbolic equations which we defined in the abstract struct above!"
   ]
  },
  {
   "cell_type": "markdown",
   "metadata": {},
   "source": [
    "### Parabolic Flux"
   ]
  },
  {
   "cell_type": "markdown",
   "metadata": {},
   "source": [
    "Next, we define the viscous flux function. We assume that the mixed hyperbolic-parabolic system is of the form:\n",
    "\n",
    "\\begin{equation}\n",
    "    \\frac{\\partial}{\\partial t} A + \\frac{\\partial}{\\partial x} \\left[ f_{1}\\left( A \\right) + g_{1}\\left( A, \\nabla A \\right)  \\right] + \\frac{\\partial}{\\partial y} \\left[ f_{2}\\left( A \\right) + g_{2}\\left( A, \\nabla A \\right)  \\right] = 0\n",
    "\\end{equation}"
   ]
  },
  {
   "cell_type": "markdown",
   "metadata": {},
   "source": [
    "where $f_{1}(A)$ and $f_{2}(A)$ are the hyperbolic fluxes. $g_{1}(A, \\nabla A)$ and $g_{2}(A \\nabla A)$ denotes the viscous fluxes. For anisotropic diffusion, the viscous fluxes are the first and second components of the matrix-vector product involving `diffusivity` and the gradient vector. Here, we specialize the flux to our new parabolic equation type `ConstantAnisotropicDiffusion2D`"
   ]
  },
  {
   "cell_type": "markdown",
   "metadata": {},
   "source": [
    "However, because we have to scalar values ($A_{r} $, $A_{i}$), we'll follow along the `compressible_navier_stokes_2d.jl` source code, specifically the parabolic diffusion flux for the `CompressibleNavierStokesDiffusion2D`.\n",
    "\n",
    "https://github.com/trixi-framework/Trixi.jl/blob/1d7b2561ff656cb9b8c826ee8b7ee389a3370917/src/equations/compressible_navier_stokes_2d.jl"
   ]
  },
  {
   "cell_type": "markdown",
   "metadata": {},
   "source": [
    "In our case, the viscous stress tensor is anisotropic such that: \n",
    "\n",
    "\\begin{equation}\n",
    "    \\tau_{z} = \\frac{v_{g}}{2 k_{0}} \\begin{bmatrix}\n",
    "    0 & 1 \\\\\n",
    "    -1 & 0\n",
    "    \\end{bmatrix}\n",
    "\\end{equation}\n",
    "\n",
    "and\n",
    "\n",
    "\\begin{equation}\n",
    "    \\tau_{y} = \\frac{v_{g}}{2 k_{0}} \\begin{bmatrix}\n",
    "    0 & 1 \\\\\n",
    "    -1 & 0\n",
    "    \\end{bmatrix}\n",
    "\\end{equation}\n",
    "\n",
    "so that the diffusive flux in the z-direction is: \n",
    "\n",
    "\\begin{equation}\n",
    "    \\tau_{z}\\cdot \\begin{pmatrix}\n",
    "    A_{r} \\\\\n",
    "    A_{i}\n",
    "    \\end{pmatrix} = \\frac{v_{g}}{2 k_{0}} \\begin{pmatrix}\n",
    "    A_{i} \\\\\n",
    "    -A_{r}\n",
    "    \\end{pmatrix}\n",
    "\\end{equation}\n",
    "\n",
    "and the diffusive flux in the transverse y-direction is: \n",
    "\n",
    "\\begin{equation}\n",
    "    \\tau_{y}\\cdot \\begin{pmatrix}\n",
    "    A_{r} \\\\\n",
    "    A_{i}\n",
    "    \\end{pmatrix} = \\frac{v_{g}}{2 k_{0}} \\begin{pmatrix}\n",
    "    A_{i} \\\\\n",
    "    -A_{r}\n",
    "    \\end{pmatrix}\n",
    "\\end{equation}"
   ]
  },
  {
   "cell_type": "code",
   "execution_count": 639,
   "metadata": {},
   "outputs": [
    {
     "data": {
      "text/plain": [
       "flux (generic function with 52 methods)"
      ]
     },
     "execution_count": 639,
     "metadata": {},
     "output_type": "execute_result"
    }
   ],
   "source": [
    "# Explicit formulas for the diffusive Navier-Stokes fluxes are available, e.g., in Section 2\n",
    "# of the paper by Rueda-Ramírez, Hennemann, Hindenlang, Winters, and Gassner\n",
    "# \"An Entropy Stable Nodal Discontinuous Galerkin Method for the resistive\n",
    "#  MHD Equations. Part II: Subcell Finite Volume Shock Capturing\"\n",
    "# where one sets the magnetic field components equal to 0.\n",
    "function flux(u, gradients, orientation::Integer, equations::ConstantAnisotropicDiffusion2D)\n",
    "    \n",
    "    # Here `gradients` is assumed to contain the gradients of the primitive variables (rho, v1, v2, T)\n",
    "    # either computed directly or reverse engineered from the gradient of the entropy variables\n",
    "    # by way of the `convert_gradient_variables` function.\n",
    "    dArdz, dAidz = gradients[1]\n",
    "    dArdy, dAidy = gradients[2]\n",
    "\n",
    "    # Components of viscous stress tensor\n",
    "\n",
    "    tau_12 = equations.speed_of_light*0.5/equations.k0\n",
    "    tau_21 = -equations.speed_of_light*0.5/equations.k0\n",
    "    \n",
    "    if orientation == 1\n",
    "        # viscous flux components in the x-direction\n",
    "        f1 = tau_12 * dAidz\n",
    "        f2 = tau_21 * dArdz\n",
    "\n",
    "        return SVector(f1, f2)\n",
    "    else # if orientation == 2\n",
    "        # viscous flux components in the y-direction\n",
    "        g1 = tau_12 * dAidy\n",
    "        g2 = tau_21 * dArdy\n",
    "\n",
    "        return SVector(g1, g2)\n",
    "    end\n",
    "end"
   ]
  },
  {
   "cell_type": "markdown",
   "metadata": {},
   "source": [
    "# Putting it All Together"
   ]
  },
  {
   "cell_type": "markdown",
   "metadata": {},
   "source": [
    "## Initialize Equations"
   ]
  },
  {
   "cell_type": "markdown",
   "metadata": {},
   "source": [
    "Let's initialize the hyperbolic advection equations. We need to define the speed of light and wavenumber. Let's also define the central wavelength and central frequency of our laser."
   ]
  },
  {
   "cell_type": "markdown",
   "metadata": {},
   "source": [
    "We define the group velocity as the group velocity in vacuum: $v_g = c$\n",
    "\n",
    "While $k_0$ is the central wave number. We'll use a central wavelength of $\\lambda_0 = 1 \\mu \\mathrm{m}$"
   ]
  },
  {
   "cell_type": "code",
   "execution_count": 640,
   "metadata": {},
   "outputs": [],
   "source": [
    "c = 2.998e8 #m/s speed of light in vacuum\n",
    "l0 = 1.0e-6 #central wavelength in meters\n",
    "k0 = 2.0*pi/l0 #central wavenumber\n",
    "omega0 = c*k0 ; #central angular frequency (2*pi f)"
   ]
  },
  {
   "cell_type": "markdown",
   "metadata": {},
   "source": [
    "We'll use the wavelength as the normalization for the space variables (z,y)"
   ]
  },
  {
   "cell_type": "markdown",
   "metadata": {},
   "source": [
    "Let's now define our advection equation. We will normalize the speed to the speed of light and the length to our total length of the simulation. Let's say we want to see the laser travel: \n",
    "\n",
    "$$ L = 10 \\:\\mathrm{mm}$$\n",
    "\n",
    "This will be our normalization length. So then our wavenumber needs to be normalized as follows: "
   ]
  },
  {
   "cell_type": "code",
   "execution_count": 641,
   "metadata": {},
   "outputs": [
    {
     "name": "stdout",
     "output_type": "stream",
     "text": [
      "Normalization Length: 0.1\n",
      "Normalized wavelength: 9.999999999999999e-6\n",
      "Normalized wavenumber: 628318.5307179587\n",
      "Normalized speed of light: 1.0\n",
      "Normalization time: 3.3355570380253507e-10\n"
     ]
    }
   ],
   "source": [
    "Lnorm = 10.0e-2 #normalization factor\n",
    "l0norm = l0/Lnorm #normalized wavelength\n",
    "k0norm = 2.0*pi/l0norm #normalized wavenumber\n",
    "\n",
    "cnorm = 1.0 #normalized speed of light\n",
    "Tnorm = Lnorm/c\n",
    "omega0norm = omega0*Tnorm\n",
    "\n",
    "println(\"Normalization Length: \", Lnorm)\n",
    "println(\"Normalized wavelength: \", l0norm)\n",
    "println(\"Normalized wavenumber: \", k0norm)\n",
    "println(\"Normalized speed of light: \", cnorm)\n",
    "println(\"Normalization time: \", Tnorm)"
   ]
  },
  {
   "cell_type": "markdown",
   "metadata": {},
   "source": [
    "Notice that we also normalized time by the speed of light and total distance of travel. We will use this for the initial conditions"
   ]
  },
  {
   "cell_type": "markdown",
   "metadata": {},
   "source": [
    "Now let's initialize our hyperbolic equations"
   ]
  },
  {
   "cell_type": "code",
   "execution_count": 642,
   "metadata": {},
   "outputs": [
    {
     "data": {
      "text/plain": [
       "(1.0, 628318.5307179587, 6.283185307179587e6)"
      ]
     },
     "execution_count": 642,
     "metadata": {},
     "output_type": "execute_result"
    }
   ],
   "source": [
    "cnorm, k0norm, k0"
   ]
  },
  {
   "cell_type": "code",
   "execution_count": 643,
   "metadata": {},
   "outputs": [
    {
     "data": {
      "text/plain": [
       "┌──────────────────────────────────────────────────────────────────────────────────────────────────┐\n",
       "│ LinearAdvectionEquation2v2D                                                                      │\n",
       "│ ═══════════════════════════                                                                      │\n",
       "│ #variables: ………………………………………………… 2                                                                │\n",
       "│ │ variable 1: …………………………………………… Ar                                                               │\n",
       "│ │ variable 2: …………………………………………… Ai                                                               │\n",
       "└──────────────────────────────────────────────────────────────────────────────────────────────────┘"
      ]
     },
     "execution_count": 643,
     "metadata": {},
     "output_type": "execute_result"
    }
   ],
   "source": [
    "equations_hyperbolic = LinearAdvectionEquation2v2D(cnorm, k0norm)"
   ]
  },
  {
   "cell_type": "markdown",
   "metadata": {},
   "source": [
    "Note that in defining `equations_hyperbolic` we use to inputs into our custom `LinearAdvectionEquation2v2D()` function. This is because the parametric struct has two variables within it as we defined it: `speed_of_light` and `k0`. This means that we can initialize these parameters of the struct by inputting them as arguments in chronological order. "
   ]
  },
  {
   "cell_type": "markdown",
   "metadata": {},
   "source": [
    "Let's now initialize the parabolic part of our equation. Similar to the hyperbolic initialization, we input the arguments for the hyperbolic equations, the speed of light, and wavenumber"
   ]
  },
  {
   "cell_type": "code",
   "execution_count": 644,
   "metadata": {},
   "outputs": [
    {
     "data": {
      "text/plain": [
       "┌──────────────────────────────────────────────────────────────────────────────────────────────────┐\n",
       "│ ConstantAnisotropicDiffusion2D                                                                   │\n",
       "│ ══════════════════════════════                                                                   │\n",
       "│ #variables: ………………………………………………… 2                                                                │\n",
       "│ │ variable 1: …………………………………………… Ar                                                               │\n",
       "│ │ variable 2: …………………………………………… Ai                                                               │\n",
       "└──────────────────────────────────────────────────────────────────────────────────────────────────┘"
      ]
     },
     "execution_count": 644,
     "metadata": {},
     "output_type": "execute_result"
    }
   ],
   "source": [
    "equations_parabolic = ConstantAnisotropicDiffusion2D(equations_hyperbolic, cnorm, k0norm)"
   ]
  },
  {
   "cell_type": "markdown",
   "metadata": {},
   "source": [
    "# Initial Conditions"
   ]
  },
  {
   "cell_type": "markdown",
   "metadata": {},
   "source": [
    "THe initial conditions will be a gaussian beam of the form from Powers Eqn 2.124: \n",
    "\n",
    "\\begin{equation}\n",
    "    \\mathbf{E}\\left( z,r_{\\perp},t \\right) = \\frac{A_0}{2} \\exp{\\left( -\\frac{\\alpha z}{2}  \\right)} \\frac{w_{0}}{w\\left( z \\right)}\\:  \\exp{\\left( \\frac{ -r_{\\perp}^2}{w^2(z)} \\right)} \\:\\exp{\\left( i k_{0} \\frac{r^{2}_{\\perp}}{2 R\\left( Z \\right)} - i \\zeta \\left( z \\right) \\right)}  \\: \\exp{\\left( \\frac{\\left( z - t/c  \\right)^{2}}{\\tau^{2}_{0}} \\right)}     \\cos{\\left( \\omega_{0} t - k_{0} z  \\right)} \\: \\hat{E} \n",
    "\\end{equation}\n",
    "\n",
    "where the variable $z$ is the longitudinal direction and $r_{\\perp}$ is the transverse direction, and $\\alpha$ is the medium's absorption coefficient. In this example, we choose $\\alpha = 0$, so no absorption by the medium since it is vacuum."
   ]
  },
  {
   "cell_type": "markdown",
   "metadata": {},
   "source": [
    "The $w\\left( z \\right)$ represents the $1/e$ field amplitude radius:\n",
    "\n",
    "\\begin{equation}\n",
    "    w\\left( z \\right) = w_{0} \\sqrt{1 + \\frac{z}{z_{R}}}\n",
    "\\end{equation}\n",
    "\n",
    "$w_{0}$ is the beam waist radius at $z=0$ (the focus), and $z_{R}$ is the rayleigh length described by: \n",
    "\n",
    "\\begin{equation}\n",
    "    z_{R} = \\frac{\\pi n w^{2}_{0}}{\\lambda}\n",
    "\\end{equation}\n",
    "\n",
    "and $n$ is the index of refraction.\n",
    "\n"
   ]
  },
  {
   "cell_type": "markdown",
   "metadata": {},
   "source": [
    "The radius of curvature is defined as:\n",
    "\n",
    "\\begin{equation}\n",
    "    R\\left( z \\right) = z \\left( 1 + \\left( \\frac{z_{R}}{z} \\right)^{2}  \\right)\n",
    "\\end{equation}\n",
    "\n",
    "the Guoy phase shift is define as: \n",
    "\n",
    "\\begin{equation}\n",
    "    \\zeta \\left( z \\right) = \\tan^{-1}{\\left( z/z_{R} \\right)}  \n",
    "\\end{equation}"
   ]
  },
  {
   "cell_type": "markdown",
   "metadata": {},
   "source": [
    "Lastly, $\\tau_{0}$ is the $1/e$ temporal pulse width. \n",
    "\n",
    "In this example, let's assume our beam starts at: $z = 0$, at the focus. \n",
    "\n",
    "We can calculate $w_{0}$ and $\\tau_{0}$ from the beamwidth Full-Width-Half-Max (FWHM) $r_{FWHM}$ and the temporal pulsewidth $t_{FWHM}$,  formulation via: \n",
    "\n",
    "\\begin{equation}\n",
    "    \\begin{aligned}\n",
    "    \\tau_{0} &= t_{FWHM}/\\sqrt{ 2 \\ln{\\left(2 \\right)} } \\\\\n",
    "    w_{0} &= r_{FWHM}/\\sqrt{ 2 \\ln{\\left(2 \\right)} } \n",
    "    \\end{aligned}\n",
    "\\end{equation}"
   ]
  },
  {
   "cell_type": "markdown",
   "metadata": {},
   "source": [
    "We can now initialize our gaussian beam:"
   ]
  },
  {
   "cell_type": "code",
   "execution_count": 645,
   "metadata": {},
   "outputs": [
    {
     "data": {
      "text/plain": [
       "GaussianA! (generic function with 1 method)"
      ]
     },
     "execution_count": 645,
     "metadata": {},
     "output_type": "execute_result"
    }
   ],
   "source": [
    "function GaussianA!(A::AbstractArray{ComplexF64}, laserzstart::Float64, Ztot::Float64, t::Float64, zdomain::AbstractArray{Float64}, rdomain::AbstractArray{Float64}, Amp0::Float64, l0::Float64, k0::Float64, omega0::Float64, tau0::Float64, w0::Float64, c::Float64, nindexrefraction::Float64, lnorm::Float64, tnorm::Float64)\n",
    "\n",
    "    Nz, Nr = size(A)\n",
    "    dz = (zdomain[2]-zdomain[1])/Nz\n",
    "    dr = (rdomain[2]-rdomain[1])/Nr\n",
    "\n",
    "    zR = pi*nindexrefraction*w0^2/l0\n",
    "    # println(\"Zr: \", zR)\n",
    "    wz = 0.0 #initialize wz so loop doesn't re-create it every iteration\n",
    "    Rz = 0.0 #same for Rz\n",
    "    Guyoz = 0.0 #same for Guoy Phase\n",
    "    \n",
    "    for i in 1:Nz\n",
    "        zz =  zdomain[1] + (i-1)*dz - laserzstart #zdomain[1] + (i-1)*dz + laserzstart\n",
    "        for j in 1:Nr\n",
    "            rr = rdomain[1] + (j-1)*dr\n",
    "            wz = w0*sqrt(1 + (zz/zR)^2)\n",
    "            Rz = zstart * (1 + (zR/zz)^2)\n",
    "            Guoyz = atan(zz/zR)\n",
    "            # println(wz, \" : \", Rz)\n",
    "            A[i,j] = Amp0 * w0/wz * exp( -rr^2/wz^2 ) * exp(1.0im * k0 *rr^2/(2*Rz) - 1.0im*Guoyz) * exp( -(zz - t/c)^2/tau0^2  ) \n",
    "\n",
    "        end\n",
    "    end\n",
    "\n",
    "end"
   ]
  },
  {
   "cell_type": "markdown",
   "metadata": {},
   "source": [
    "Let's define our beamwidth and the pulsewidth first:"
   ]
  },
  {
   "cell_type": "code",
   "execution_count": 646,
   "metadata": {},
   "outputs": [
    {
     "data": {
      "text/plain": [
       "0.0001"
      ]
     },
     "execution_count": 646,
     "metadata": {},
     "output_type": "execute_result"
    }
   ],
   "source": [
    "tfwhm = 25.0e-12 # 1 ns pulsewidth\n",
    "rfwhm = 100.0e-6 # 100 micron beamwidht"
   ]
  },
  {
   "cell_type": "markdown",
   "metadata": {},
   "source": [
    "In the normalized units:"
   ]
  },
  {
   "cell_type": "code",
   "execution_count": 647,
   "metadata": {},
   "outputs": [
    {
     "name": "stdout",
     "output_type": "stream",
     "text": [
      "Normalized t-fwhm: 0.07494999999999999\n",
      "Normalize r-fwhm: 0.001\n"
     ]
    }
   ],
   "source": [
    "tfwhmnorm = tfwhm/Tnorm\n",
    "rfwhmnorm = rfwhm/Lnorm\n",
    "\n",
    "println(\"Normalized t-fwhm: \", tfwhmnorm)\n",
    "println(\"Normalize r-fwhm: \", rfwhmnorm)"
   ]
  },
  {
   "cell_type": "markdown",
   "metadata": {},
   "source": [
    "Let's now calculate the $\\tau_0$ and $w_0$"
   ]
  },
  {
   "cell_type": "code",
   "execution_count": 648,
   "metadata": {},
   "outputs": [
    {
     "data": {
      "text/plain": [
       "8.49321800288019e-5"
      ]
     },
     "execution_count": 648,
     "metadata": {},
     "output_type": "execute_result"
    }
   ],
   "source": [
    "tau0 = tfwhm/sqrt(2*log(2))\n",
    "w0 = rfwhm/sqrt(2*log(2))"
   ]
  },
  {
   "cell_type": "markdown",
   "metadata": {},
   "source": [
    "We can now define the Rayleigh Length. Because it's vacuum, we use an index of refraction equal to one: $n = 1$"
   ]
  },
  {
   "cell_type": "code",
   "execution_count": 649,
   "metadata": {},
   "outputs": [
    {
     "data": {
      "text/plain": [
       "0.022661800709135968"
      ]
     },
     "execution_count": 649,
     "metadata": {},
     "output_type": "execute_result"
    }
   ],
   "source": [
    "nindexref = 1.0\n",
    "zR = pi*nindexref*w0^2/l0"
   ]
  },
  {
   "cell_type": "markdown",
   "metadata": {},
   "source": [
    "We initialize our beam travelling to the right and starting on the right of the focus at: $z = 1 \\:\\mathrm{mm}$\n",
    "\n",
    "We can then calculate the beam radius ($w(z)$), radius of curvature ($R(z)$), and Guoy phase shift ($\\zeta (z)$)"
   ]
  },
  {
   "cell_type": "code",
   "execution_count": 650,
   "metadata": {},
   "outputs": [
    {
     "data": {
      "text/plain": [
       "0.1"
      ]
     },
     "execution_count": 650,
     "metadata": {},
     "output_type": "execute_result"
    }
   ],
   "source": [
    "Lnorm"
   ]
  },
  {
   "cell_type": "code",
   "execution_count": 651,
   "metadata": {},
   "outputs": [
    {
     "data": {
      "text/plain": [
       "0.7230858682464256"
      ]
     },
     "execution_count": 651,
     "metadata": {},
     "output_type": "execute_result"
    }
   ],
   "source": [
    "zstart = 2.0e-2\n",
    "wzstart = w0*sqrt(1 + (zstart/zR))\n",
    "Rzstart = zstart * (1 + (zR/zstart)^2)\n",
    "Guoyzstart = atan(zstart/zR)"
   ]
  },
  {
   "cell_type": "code",
   "execution_count": 652,
   "metadata": {},
   "outputs": [
    {
     "data": {
      "text/plain": [
       "(0.00011653185370584573, 0.04567786056902977)"
      ]
     },
     "execution_count": 652,
     "metadata": {},
     "output_type": "execute_result"
    }
   ],
   "source": [
    "wzstart, Rzstart"
   ]
  },
  {
   "cell_type": "markdown",
   "metadata": {},
   "source": [
    "Note that these must also be normalized as follows:"
   ]
  },
  {
   "cell_type": "code",
   "execution_count": 653,
   "metadata": {},
   "outputs": [
    {
     "data": {
      "text/plain": [
       "0.7230858682464256"
      ]
     },
     "execution_count": 653,
     "metadata": {},
     "output_type": "execute_result"
    }
   ],
   "source": [
    "w0norm = w0/Lnorm\n",
    "tau0norm = tau0/Tnorm\n",
    "\n",
    "zstartnorm = zstart/Lnorm\n",
    "wzstartnorm = wzstart/Lnorm #the beam radius is in units of meters\n",
    "Rzstartnorm = Rzstart/Lnorm #the beam radius of curvature is also in meters\n",
    "Guoyzstartnorm =Guoyzstart #the guoy phase is unitless and doesn't need to be normalized"
   ]
  },
  {
   "cell_type": "markdown",
   "metadata": {},
   "source": [
    "Let's choose how many points are in the domain and initialize our `A` matrix"
   ]
  },
  {
   "cell_type": "code",
   "execution_count": 654,
   "metadata": {},
   "outputs": [
    {
     "data": {
      "text/plain": [
       "((500, 200), 100000)"
      ]
     },
     "execution_count": 654,
     "metadata": {},
     "output_type": "execute_result"
    }
   ],
   "source": [
    "NZ = 500\n",
    "NR = 200\n",
    "AA = zeros(ComplexF64, (NZ,NR));\n",
    "size(AA), length(AA)"
   ]
  },
  {
   "cell_type": "markdown",
   "metadata": {},
   "source": [
    "Let's create our Z-domain and R-domain just to make sure we know where we're at in space"
   ]
  },
  {
   "cell_type": "code",
   "execution_count": 655,
   "metadata": {},
   "outputs": [
    {
     "data": {
      "text/plain": [
       "(0.1, 1.0, [0.0, 0.1], [-0.001, 0.001])"
      ]
     },
     "execution_count": 655,
     "metadata": {},
     "output_type": "execute_result"
    }
   ],
   "source": [
    "zdomain = [0.0, 1.0*Lnorm]\n",
    "ZTOT = zdomain[2]-zdomain[1]\n",
    "ZTOTnorm = ZTOT/Lnorm\n",
    "rdomain = [-0.01*Lnorm, 0.01*Lnorm]\n",
    "\n",
    "ZTOT, ZTOTnorm, zdomain, rdomain"
   ]
  },
  {
   "cell_type": "markdown",
   "metadata": {},
   "source": [
    "Normalize the domain values"
   ]
  },
  {
   "cell_type": "code",
   "execution_count": 656,
   "metadata": {},
   "outputs": [
    {
     "data": {
      "text/plain": [
       "([0.0, 1.0], [-0.01, 0.01])"
      ]
     },
     "execution_count": 656,
     "metadata": {},
     "output_type": "execute_result"
    }
   ],
   "source": [
    "zdomainnorm = zdomain./Lnorm\n",
    "rdomainnorm = rdomain./Lnorm\n",
    "\n",
    "zdomainnorm, rdomainnorm"
   ]
  },
  {
   "cell_type": "markdown",
   "metadata": {},
   "source": [
    "Let's get the spatial step sizes"
   ]
  },
  {
   "cell_type": "code",
   "execution_count": 657,
   "metadata": {},
   "outputs": [
    {
     "data": {
      "text/plain": [
       "1.0e-5"
      ]
     },
     "execution_count": 657,
     "metadata": {},
     "output_type": "execute_result"
    }
   ],
   "source": [
    "dz = (zdomain[2]-zdomain[1])/NZ\n",
    "dr = (rdomain[2]-rdomain[1])/NR"
   ]
  },
  {
   "cell_type": "markdown",
   "metadata": {},
   "source": [
    "Now let's plut into the our Gaussian function. Play around with the time. The time is set by distance the pulse has travelled. For example, setting `travel = 0.0` is the amplitude at time $t=0$. Setting `travel = 0.07` gets the time required to travel 7cm"
   ]
  },
  {
   "cell_type": "code",
   "execution_count": 658,
   "metadata": {
    "scrolled": true
   },
   "outputs": [],
   "source": [
    "travel = 0.07\n",
    "ttime = travel/c/Tnorm\n",
    "GaussianA!(AA, zstartnorm, ZTOTnorm, ttime, zdomainnorm, rdomainnorm, 1.0, l0norm, k0norm, omega0*Tnorm, tau0norm, w0norm, 1.0, 1.0, Lnorm, Tnorm)"
   ]
  },
  {
   "cell_type": "code",
   "execution_count": 659,
   "metadata": {},
   "outputs": [],
   "source": [
    "AAint = abs2.(AA);"
   ]
  },
  {
   "cell_type": "markdown",
   "metadata": {},
   "source": [
    "Get coordinate points for our plot"
   ]
  },
  {
   "cell_type": "code",
   "execution_count": 660,
   "metadata": {},
   "outputs": [],
   "source": [
    "Zdomain = [zdomain[1] + (i-1)*dz for i in 1:NZ]\n",
    "Rdomain = [rdomain[1] + (i-1)*dr for i in 1:NR];"
   ]
  },
  {
   "cell_type": "markdown",
   "metadata": {},
   "source": [
    "Plot with heatmap"
   ]
  },
  {
   "cell_type": "code",
   "execution_count": 661,
   "metadata": {},
   "outputs": [
    {
     "data": {
      "image/png": "[encoded data removed]",
      "image/svg+xml": [
       "<?xml version=\"1.0\" encoding=\"utf-8\"?>\n",
       "<svg xmlns=\"http://www.w3.org/2000/svg\" xmlns:xlink=\"http://www.w3.org/1999/xlink\" width=\"600\" height=\"400\" viewBox=\"0 0 2400 1600\">\n",
       "<defs>\n",
       "  <clipPath id=\"clip580\">\n",
       "    <rect x=\"0\" y=\"0\" width=\"2400\" height=\"1600\"/>\n",
       "  </clipPath>\n",
       "</defs>\n",
       "<path clip-path=\"url(#clip580)\" d=\"M0 1600 L2400 1600 L2400 0 L0 0  Z\" fill=\"#ffffff\" fill-rule=\"evenodd\" fill-opacity=\"1\"/>\n",
       "<defs>\n",
       "  <clipPath id=\"clip581\">\n",
       "    <rect x=\"480\" y=\"0\" width=\"1681\" height=\"1600\"/>\n",
       "  </clipPath>\n",
       "</defs>\n",
       "<path clip-path=\"url(#clip580)\" d=\"M186.76 1486.45 L2112.76 1486.45 L2112.76 47.2441 L186.76 47.2441  Z\" fill=\"#ffffff\" fill-rule=\"evenodd\" fill-opacity=\"1\"/>\n",
       "<defs>\n",
       "  <clipPath id=\"clip582\">\n",
       "    <rect x=\"186\" y=\"47\" width=\"1927\" height=\"1440\"/>\n",
       "  </clipPath>\n",
       "</defs>\n",
       "<polyline clip-path=\"url(#clip582)\" style=\"stroke:#000000; stroke-linecap:round; stroke-linejoin:round; stroke-width:2; stroke-opacity:0.1; fill:none\" points=\"191.575,1486.45 191.575,47.2441 \"/>\n",
       "<polyline clip-path=\"url(#clip582)\" style=\"stroke:#000000; stroke-linecap:round; stroke-linejoin:round; stroke-width:2; stroke-opacity:0.1; fill:none\" points=\"673.074,1486.45 673.074,47.2441 \"/>\n",
       "<polyline clip-path=\"url(#clip582)\" style=\"stroke:#000000; stroke-linecap:round; stroke-linejoin:round; stroke-width:2; stroke-opacity:0.1; fill:none\" points=\"1154.57,1486.45 1154.57,47.2441 \"/>\n",
       "<polyline clip-path=\"url(#clip582)\" style=\"stroke:#000000; stroke-linecap:round; stroke-linejoin:round; stroke-width:2; stroke-opacity:0.1; fill:none\" points=\"1636.07,1486.45 1636.07,47.2441 \"/>\n",
       "<polyline clip-path=\"url(#clip582)\" style=\"stroke:#000000; stroke-linecap:round; stroke-linejoin:round; stroke-width:2; stroke-opacity:0.1; fill:none\" points=\"186.76,1485.01 2112.76,1485.01 \"/>\n",
       "<polyline clip-path=\"url(#clip582)\" style=\"stroke:#000000; stroke-linecap:round; stroke-linejoin:round; stroke-width:2; stroke-opacity:0.1; fill:none\" points=\"186.76,1197.17 2112.76,1197.17 \"/>\n",
       "<polyline clip-path=\"url(#clip582)\" style=\"stroke:#000000; stroke-linecap:round; stroke-linejoin:round; stroke-width:2; stroke-opacity:0.1; fill:none\" points=\"186.76,909.327 2112.76,909.327 \"/>\n",
       "<polyline clip-path=\"url(#clip582)\" style=\"stroke:#000000; stroke-linecap:round; stroke-linejoin:round; stroke-width:2; stroke-opacity:0.1; fill:none\" points=\"186.76,621.486 2112.76,621.486 \"/>\n",
       "<polyline clip-path=\"url(#clip582)\" style=\"stroke:#000000; stroke-linecap:round; stroke-linejoin:round; stroke-width:2; stroke-opacity:0.1; fill:none\" points=\"186.76,333.646 2112.76,333.646 \"/>\n",
       "<polyline clip-path=\"url(#clip580)\" style=\"stroke:#000000; stroke-linecap:round; stroke-linejoin:round; stroke-width:4; stroke-opacity:1; fill:none\" points=\"186.76,1486.45 2112.76,1486.45 \"/>\n",
       "<polyline clip-path=\"url(#clip580)\" style=\"stroke:#000000; stroke-linecap:round; stroke-linejoin:round; stroke-width:4; stroke-opacity:1; fill:none\" points=\"191.575,1486.45 191.575,1467.55 \"/>\n",
       "<polyline clip-path=\"url(#clip580)\" style=\"stroke:#000000; stroke-linecap:round; stroke-linejoin:round; stroke-width:4; stroke-opacity:1; fill:none\" points=\"673.074,1486.45 673.074,1467.55 \"/>\n",
       "<polyline clip-path=\"url(#clip580)\" style=\"stroke:#000000; stroke-linecap:round; stroke-linejoin:round; stroke-width:4; stroke-opacity:1; fill:none\" points=\"1154.57,1486.45 1154.57,1467.55 \"/>\n",
       "<polyline clip-path=\"url(#clip580)\" style=\"stroke:#000000; stroke-linecap:round; stroke-linejoin:round; stroke-width:4; stroke-opacity:1; fill:none\" points=\"1636.07,1486.45 1636.07,1467.55 \"/>\n",
       "<path clip-path=\"url(#clip580)\" d=\"M92.8604 1532.02 L122.536 1532.02 L122.536 1535.95 L92.8604 1535.95 L92.8604 1532.02 Z\" fill=\"#000000\" fill-rule=\"nonzero\" fill-opacity=\"1\" /><path clip-path=\"url(#clip580)\" d=\"M142.629 1517.37 Q139.018 1517.37 137.189 1520.93 Q135.383 1524.47 135.383 1531.6 Q135.383 1538.71 137.189 1542.27 Q139.018 1545.82 142.629 1545.82 Q146.263 1545.82 148.068 1542.27 Q149.897 1538.71 149.897 1531.6 Q149.897 1524.47 148.068 1520.93 Q146.263 1517.37 142.629 1517.37 M142.629 1513.66 Q148.439 1513.66 151.494 1518.27 Q154.573 1522.85 154.573 1531.6 Q154.573 1540.33 151.494 1544.94 Q148.439 1549.52 142.629 1549.52 Q136.818 1549.52 133.74 1544.94 Q130.684 1540.33 130.684 1531.6 Q130.684 1522.85 133.74 1518.27 Q136.818 1513.66 142.629 1513.66 Z\" fill=\"#000000\" fill-rule=\"nonzero\" fill-opacity=\"1\" /><path clip-path=\"url(#clip580)\" d=\"M162.791 1542.97 L167.675 1542.97 L167.675 1548.85 L162.791 1548.85 L162.791 1542.97 Z\" fill=\"#000000\" fill-rule=\"nonzero\" fill-opacity=\"1\" /><path clip-path=\"url(#clip580)\" d=\"M187.86 1517.37 Q184.249 1517.37 182.42 1520.93 Q180.615 1524.47 180.615 1531.6 Q180.615 1538.71 182.42 1542.27 Q184.249 1545.82 187.86 1545.82 Q191.494 1545.82 193.3 1542.27 Q195.128 1538.71 195.128 1531.6 Q195.128 1524.47 193.3 1520.93 Q191.494 1517.37 187.86 1517.37 M187.86 1513.66 Q193.67 1513.66 196.726 1518.27 Q199.804 1522.85 199.804 1531.6 Q199.804 1540.33 196.726 1544.94 Q193.67 1549.52 187.86 1549.52 Q182.05 1549.52 178.971 1544.94 Q175.915 1540.33 175.915 1531.6 Q175.915 1522.85 178.971 1518.27 Q182.05 1513.66 187.86 1513.66 Z\" fill=\"#000000\" fill-rule=\"nonzero\" fill-opacity=\"1\" /><path clip-path=\"url(#clip580)\" d=\"M218.022 1517.37 Q214.411 1517.37 212.582 1520.93 Q210.776 1524.47 210.776 1531.6 Q210.776 1538.71 212.582 1542.27 Q214.411 1545.82 218.022 1545.82 Q221.656 1545.82 223.462 1542.27 Q225.29 1538.71 225.29 1531.6 Q225.29 1524.47 223.462 1520.93 Q221.656 1517.37 218.022 1517.37 M218.022 1513.66 Q223.832 1513.66 226.887 1518.27 Q229.966 1522.85 229.966 1531.6 Q229.966 1540.33 226.887 1544.94 Q223.832 1549.52 218.022 1549.52 Q212.212 1549.52 209.133 1544.94 Q206.077 1540.33 206.077 1531.6 Q206.077 1522.85 209.133 1518.27 Q212.212 1513.66 218.022 1513.66 Z\" fill=\"#000000\" fill-rule=\"nonzero\" fill-opacity=\"1\" /><path clip-path=\"url(#clip580)\" d=\"M238.994 1544.91 L246.633 1544.91 L246.633 1518.55 L238.323 1520.21 L238.323 1515.95 L246.586 1514.29 L251.262 1514.29 L251.262 1544.91 L258.901 1544.91 L258.901 1548.85 L238.994 1548.85 L238.994 1544.91 Z\" fill=\"#000000\" fill-rule=\"nonzero\" fill-opacity=\"1\" /><path clip-path=\"url(#clip580)\" d=\"M278.345 1517.37 Q274.734 1517.37 272.906 1520.93 Q271.1 1524.47 271.1 1531.6 Q271.1 1538.71 272.906 1542.27 Q274.734 1545.82 278.345 1545.82 Q281.98 1545.82 283.785 1542.27 Q285.614 1538.71 285.614 1531.6 Q285.614 1524.47 283.785 1520.93 Q281.98 1517.37 278.345 1517.37 M278.345 1513.66 Q284.156 1513.66 287.211 1518.27 Q290.29 1522.85 290.29 1531.6 Q290.29 1540.33 287.211 1544.94 Q284.156 1549.52 278.345 1549.52 Q272.535 1549.52 269.457 1544.94 Q266.401 1540.33 266.401 1531.6 Q266.401 1522.85 269.457 1518.27 Q272.535 1513.66 278.345 1513.66 Z\" fill=\"#000000\" fill-rule=\"nonzero\" fill-opacity=\"1\" /><path clip-path=\"url(#clip580)\" d=\"M574.857 1532.02 L604.533 1532.02 L604.533 1535.95 L574.857 1535.95 L574.857 1532.02 Z\" fill=\"#000000\" fill-rule=\"nonzero\" fill-opacity=\"1\" /><path clip-path=\"url(#clip580)\" d=\"M624.625 1517.37 Q621.014 1517.37 619.185 1520.93 Q617.38 1524.47 617.38 1531.6 Q617.38 1538.71 619.185 1542.27 Q621.014 1545.82 624.625 1545.82 Q628.259 1545.82 630.065 1542.27 Q631.894 1538.71 631.894 1531.6 Q631.894 1524.47 630.065 1520.93 Q628.259 1517.37 624.625 1517.37 M624.625 1513.66 Q630.435 1513.66 633.491 1518.27 Q636.57 1522.85 636.57 1531.6 Q636.57 1540.33 633.491 1544.94 Q630.435 1549.52 624.625 1549.52 Q618.815 1549.52 615.736 1544.94 Q612.681 1540.33 612.681 1531.6 Q612.681 1522.85 615.736 1518.27 Q618.815 1513.66 624.625 1513.66 Z\" fill=\"#000000\" fill-rule=\"nonzero\" fill-opacity=\"1\" /><path clip-path=\"url(#clip580)\" d=\"M644.787 1542.97 L649.671 1542.97 L649.671 1548.85 L644.787 1548.85 L644.787 1542.97 Z\" fill=\"#000000\" fill-rule=\"nonzero\" fill-opacity=\"1\" /><path clip-path=\"url(#clip580)\" d=\"M669.856 1517.37 Q666.245 1517.37 664.417 1520.93 Q662.611 1524.47 662.611 1531.6 Q662.611 1538.71 664.417 1542.27 Q666.245 1545.82 669.856 1545.82 Q673.491 1545.82 675.296 1542.27 Q677.125 1538.71 677.125 1531.6 Q677.125 1524.47 675.296 1520.93 Q673.491 1517.37 669.856 1517.37 M669.856 1513.66 Q675.667 1513.66 678.722 1518.27 Q681.801 1522.85 681.801 1531.6 Q681.801 1540.33 678.722 1544.94 Q675.667 1549.52 669.856 1549.52 Q664.046 1549.52 660.968 1544.94 Q657.912 1540.33 657.912 1531.6 Q657.912 1522.85 660.968 1518.27 Q664.046 1513.66 669.856 1513.66 Z\" fill=\"#000000\" fill-rule=\"nonzero\" fill-opacity=\"1\" /><path clip-path=\"url(#clip580)\" d=\"M700.018 1517.37 Q696.407 1517.37 694.579 1520.93 Q692.773 1524.47 692.773 1531.6 Q692.773 1538.71 694.579 1542.27 Q696.407 1545.82 700.018 1545.82 Q703.653 1545.82 705.458 1542.27 Q707.287 1538.71 707.287 1531.6 Q707.287 1524.47 705.458 1520.93 Q703.653 1517.37 700.018 1517.37 M700.018 1513.66 Q705.829 1513.66 708.884 1518.27 Q711.963 1522.85 711.963 1531.6 Q711.963 1540.33 708.884 1544.94 Q705.829 1549.52 700.018 1549.52 Q694.208 1549.52 691.13 1544.94 Q688.074 1540.33 688.074 1531.6 Q688.074 1522.85 691.13 1518.27 Q694.208 1513.66 700.018 1513.66 Z\" fill=\"#000000\" fill-rule=\"nonzero\" fill-opacity=\"1\" /><path clip-path=\"url(#clip580)\" d=\"M730.18 1517.37 Q726.569 1517.37 724.74 1520.93 Q722.935 1524.47 722.935 1531.6 Q722.935 1538.71 724.74 1542.27 Q726.569 1545.82 730.18 1545.82 Q733.814 1545.82 735.62 1542.27 Q737.449 1538.71 737.449 1531.6 Q737.449 1524.47 735.62 1520.93 Q733.814 1517.37 730.18 1517.37 M730.18 1513.66 Q735.99 1513.66 739.046 1518.27 Q742.125 1522.85 742.125 1531.6 Q742.125 1540.33 739.046 1544.94 Q735.99 1549.52 730.18 1549.52 Q724.37 1549.52 721.291 1544.94 Q718.236 1540.33 718.236 1531.6 Q718.236 1522.85 721.291 1518.27 Q724.37 1513.66 730.18 1513.66 Z\" fill=\"#000000\" fill-rule=\"nonzero\" fill-opacity=\"1\" /><path clip-path=\"url(#clip580)\" d=\"M750.388 1514.29 L768.745 1514.29 L768.745 1518.22 L754.671 1518.22 L754.671 1526.7 Q755.689 1526.35 756.708 1526.19 Q757.726 1526 758.745 1526 Q764.532 1526 767.912 1529.17 Q771.291 1532.34 771.291 1537.76 Q771.291 1543.34 767.819 1546.44 Q764.347 1549.52 758.027 1549.52 Q755.851 1549.52 753.583 1549.15 Q751.338 1548.78 748.93 1548.04 L748.93 1543.34 Q751.013 1544.47 753.236 1545.03 Q755.458 1545.58 757.935 1545.58 Q761.939 1545.58 764.277 1543.48 Q766.615 1541.37 766.615 1537.76 Q766.615 1534.15 764.277 1532.04 Q761.939 1529.94 757.935 1529.94 Q756.06 1529.94 754.185 1530.35 Q752.333 1530.77 750.388 1531.65 L750.388 1514.29 Z\" fill=\"#000000\" fill-rule=\"nonzero\" fill-opacity=\"1\" /><path clip-path=\"url(#clip580)\" d=\"M1086.71 1517.37 Q1083.1 1517.37 1081.27 1520.93 Q1079.47 1524.47 1079.47 1531.6 Q1079.47 1538.71 1081.27 1542.27 Q1083.1 1545.82 1086.71 1545.82 Q1090.35 1545.82 1092.15 1542.27 Q1093.98 1538.71 1093.98 1531.6 Q1093.98 1524.47 1092.15 1520.93 Q1090.35 1517.37 1086.71 1517.37 M1086.71 1513.66 Q1092.52 1513.66 1095.58 1518.27 Q1098.66 1522.85 1098.66 1531.6 Q1098.66 1540.33 1095.58 1544.94 Q1092.52 1549.52 1086.71 1549.52 Q1080.9 1549.52 1077.83 1544.94 Q1074.77 1540.33 1074.77 1531.6 Q1074.77 1522.85 1077.83 1518.27 Q1080.9 1513.66 1086.71 1513.66 Z\" fill=\"#000000\" fill-rule=\"nonzero\" fill-opacity=\"1\" /><path clip-path=\"url(#clip580)\" d=\"M1106.88 1542.97 L1111.76 1542.97 L1111.76 1548.85 L1106.88 1548.85 L1106.88 1542.97 Z\" fill=\"#000000\" fill-rule=\"nonzero\" fill-opacity=\"1\" /><path clip-path=\"url(#clip580)\" d=\"M1131.95 1517.37 Q1128.33 1517.37 1126.51 1520.93 Q1124.7 1524.47 1124.7 1531.6 Q1124.7 1538.71 1126.51 1542.27 Q1128.33 1545.82 1131.95 1545.82 Q1135.58 1545.82 1137.39 1542.27 Q1139.21 1538.71 1139.21 1531.6 Q1139.21 1524.47 1137.39 1520.93 Q1135.58 1517.37 1131.95 1517.37 M1131.95 1513.66 Q1137.76 1513.66 1140.81 1518.27 Q1143.89 1522.85 1143.89 1531.6 Q1143.89 1540.33 1140.81 1544.94 Q1137.76 1549.52 1131.95 1549.52 Q1126.14 1549.52 1123.06 1544.94 Q1120 1540.33 1120 1531.6 Q1120 1522.85 1123.06 1518.27 Q1126.14 1513.66 1131.95 1513.66 Z\" fill=\"#000000\" fill-rule=\"nonzero\" fill-opacity=\"1\" /><path clip-path=\"url(#clip580)\" d=\"M1162.11 1517.37 Q1158.5 1517.37 1156.67 1520.93 Q1154.86 1524.47 1154.86 1531.6 Q1154.86 1538.71 1156.67 1542.27 Q1158.5 1545.82 1162.11 1545.82 Q1165.74 1545.82 1167.55 1542.27 Q1169.38 1538.71 1169.38 1531.6 Q1169.38 1524.47 1167.55 1520.93 Q1165.74 1517.37 1162.11 1517.37 M1162.11 1513.66 Q1167.92 1513.66 1170.97 1518.27 Q1174.05 1522.85 1174.05 1531.6 Q1174.05 1540.33 1170.97 1544.94 Q1167.92 1549.52 1162.11 1549.52 Q1156.3 1549.52 1153.22 1544.94 Q1150.16 1540.33 1150.16 1531.6 Q1150.16 1522.85 1153.22 1518.27 Q1156.3 1513.66 1162.11 1513.66 Z\" fill=\"#000000\" fill-rule=\"nonzero\" fill-opacity=\"1\" /><path clip-path=\"url(#clip580)\" d=\"M1192.27 1517.37 Q1188.66 1517.37 1186.83 1520.93 Q1185.02 1524.47 1185.02 1531.6 Q1185.02 1538.71 1186.83 1542.27 Q1188.66 1545.82 1192.27 1545.82 Q1195.9 1545.82 1197.71 1542.27 Q1199.54 1538.71 1199.54 1531.6 Q1199.54 1524.47 1197.71 1520.93 Q1195.9 1517.37 1192.27 1517.37 M1192.27 1513.66 Q1198.08 1513.66 1201.14 1518.27 Q1204.21 1522.85 1204.21 1531.6 Q1204.21 1540.33 1201.14 1544.94 Q1198.08 1549.52 1192.27 1549.52 Q1186.46 1549.52 1183.38 1544.94 Q1180.33 1540.33 1180.33 1531.6 Q1180.33 1522.85 1183.38 1518.27 Q1186.46 1513.66 1192.27 1513.66 Z\" fill=\"#000000\" fill-rule=\"nonzero\" fill-opacity=\"1\" /><path clip-path=\"url(#clip580)\" d=\"M1222.43 1517.37 Q1218.82 1517.37 1216.99 1520.93 Q1215.19 1524.47 1215.19 1531.6 Q1215.19 1538.71 1216.99 1542.27 Q1218.82 1545.82 1222.43 1545.82 Q1226.07 1545.82 1227.87 1542.27 Q1229.7 1538.71 1229.7 1531.6 Q1229.7 1524.47 1227.87 1520.93 Q1226.07 1517.37 1222.43 1517.37 M1222.43 1513.66 Q1228.24 1513.66 1231.3 1518.27 Q1234.38 1522.85 1234.38 1531.6 Q1234.38 1540.33 1231.3 1544.94 Q1228.24 1549.52 1222.43 1549.52 Q1216.62 1549.52 1213.54 1544.94 Q1210.49 1540.33 1210.49 1531.6 Q1210.49 1522.85 1213.54 1518.27 Q1216.62 1513.66 1222.43 1513.66 Z\" fill=\"#000000\" fill-rule=\"nonzero\" fill-opacity=\"1\" /><path clip-path=\"url(#clip580)\" d=\"M1568.71 1517.37 Q1565.1 1517.37 1563.27 1520.93 Q1561.47 1524.47 1561.47 1531.6 Q1561.47 1538.71 1563.27 1542.27 Q1565.1 1545.82 1568.71 1545.82 Q1572.35 1545.82 1574.15 1542.27 Q1575.98 1538.71 1575.98 1531.6 Q1575.98 1524.47 1574.15 1520.93 Q1572.35 1517.37 1568.71 1517.37 M1568.71 1513.66 Q1574.52 1513.66 1577.58 1518.27 Q1580.66 1522.85 1580.66 1531.6 Q1580.66 1540.33 1577.58 1544.94 Q1574.52 1549.52 1568.71 1549.52 Q1562.9 1549.52 1559.82 1544.94 Q1556.77 1540.33 1556.77 1531.6 Q1556.77 1522.85 1559.82 1518.27 Q1562.9 1513.66 1568.71 1513.66 Z\" fill=\"#000000\" fill-rule=\"nonzero\" fill-opacity=\"1\" /><path clip-path=\"url(#clip580)\" d=\"M1588.87 1542.97 L1593.76 1542.97 L1593.76 1548.85 L1588.87 1548.85 L1588.87 1542.97 Z\" fill=\"#000000\" fill-rule=\"nonzero\" fill-opacity=\"1\" /><path clip-path=\"url(#clip580)\" d=\"M1613.94 1517.37 Q1610.33 1517.37 1608.5 1520.93 Q1606.7 1524.47 1606.7 1531.6 Q1606.7 1538.71 1608.5 1542.27 Q1610.33 1545.82 1613.94 1545.82 Q1617.58 1545.82 1619.38 1542.27 Q1621.21 1538.71 1621.21 1531.6 Q1621.21 1524.47 1619.38 1520.93 Q1617.58 1517.37 1613.94 1517.37 M1613.94 1513.66 Q1619.75 1513.66 1622.81 1518.27 Q1625.89 1522.85 1625.89 1531.6 Q1625.89 1540.33 1622.81 1544.94 Q1619.75 1549.52 1613.94 1549.52 Q1608.13 1549.52 1605.05 1544.94 Q1602 1540.33 1602 1531.6 Q1602 1522.85 1605.05 1518.27 Q1608.13 1513.66 1613.94 1513.66 Z\" fill=\"#000000\" fill-rule=\"nonzero\" fill-opacity=\"1\" /><path clip-path=\"url(#clip580)\" d=\"M1644.1 1517.37 Q1640.49 1517.37 1638.66 1520.93 Q1636.86 1524.47 1636.86 1531.6 Q1636.86 1538.71 1638.66 1542.27 Q1640.49 1545.82 1644.1 1545.82 Q1647.74 1545.82 1649.54 1542.27 Q1651.37 1538.71 1651.37 1531.6 Q1651.37 1524.47 1649.54 1520.93 Q1647.74 1517.37 1644.1 1517.37 M1644.1 1513.66 Q1649.91 1513.66 1652.97 1518.27 Q1656.05 1522.85 1656.05 1531.6 Q1656.05 1540.33 1652.97 1544.94 Q1649.91 1549.52 1644.1 1549.52 Q1638.29 1549.52 1635.22 1544.94 Q1632.16 1540.33 1632.16 1531.6 Q1632.16 1522.85 1635.22 1518.27 Q1638.29 1513.66 1644.1 1513.66 Z\" fill=\"#000000\" fill-rule=\"nonzero\" fill-opacity=\"1\" /><path clip-path=\"url(#clip580)\" d=\"M1674.27 1517.37 Q1670.66 1517.37 1668.83 1520.93 Q1667.02 1524.47 1667.02 1531.6 Q1667.02 1538.71 1668.83 1542.27 Q1670.66 1545.82 1674.27 1545.82 Q1677.9 1545.82 1679.71 1542.27 Q1681.53 1538.71 1681.53 1531.6 Q1681.53 1524.47 1679.71 1520.93 Q1677.9 1517.37 1674.27 1517.37 M1674.27 1513.66 Q1680.08 1513.66 1683.13 1518.27 Q1686.21 1522.85 1686.21 1531.6 Q1686.21 1540.33 1683.13 1544.94 Q1680.08 1549.52 1674.27 1549.52 Q1668.46 1549.52 1665.38 1544.94 Q1662.32 1540.33 1662.32 1531.6 Q1662.32 1522.85 1665.38 1518.27 Q1668.46 1513.66 1674.27 1513.66 Z\" fill=\"#000000\" fill-rule=\"nonzero\" fill-opacity=\"1\" /><path clip-path=\"url(#clip580)\" d=\"M1694.47 1514.29 L1712.83 1514.29 L1712.83 1518.22 L1698.76 1518.22 L1698.76 1526.7 Q1699.78 1526.35 1700.79 1526.19 Q1701.81 1526 1702.83 1526 Q1708.62 1526 1712 1529.17 Q1715.38 1532.34 1715.38 1537.76 Q1715.38 1543.34 1711.9 1546.44 Q1708.43 1549.52 1702.11 1549.52 Q1699.94 1549.52 1697.67 1549.15 Q1695.42 1548.78 1693.02 1548.04 L1693.02 1543.34 Q1695.1 1544.47 1697.32 1545.03 Q1699.54 1545.58 1702.02 1545.58 Q1706.03 1545.58 1708.36 1543.48 Q1710.7 1541.37 1710.7 1537.76 Q1710.7 1534.15 1708.36 1532.04 Q1706.03 1529.94 1702.02 1529.94 Q1700.15 1529.94 1698.27 1530.35 Q1696.42 1530.77 1694.47 1531.65 L1694.47 1514.29 Z\" fill=\"#000000\" fill-rule=\"nonzero\" fill-opacity=\"1\" /><polyline clip-path=\"url(#clip580)\" style=\"stroke:#000000; stroke-linecap:round; stroke-linejoin:round; stroke-width:4; stroke-opacity:1; fill:none\" points=\"186.76,1486.45 186.76,47.2441 \"/>\n",
       "<polyline clip-path=\"url(#clip580)\" style=\"stroke:#000000; stroke-linecap:round; stroke-linejoin:round; stroke-width:4; stroke-opacity:1; fill:none\" points=\"186.76,1485.01 203.564,1485.01 \"/>\n",
       "<polyline clip-path=\"url(#clip580)\" style=\"stroke:#000000; stroke-linecap:round; stroke-linejoin:round; stroke-width:4; stroke-opacity:1; fill:none\" points=\"186.76,1197.17 203.564,1197.17 \"/>\n",
       "<polyline clip-path=\"url(#clip580)\" style=\"stroke:#000000; stroke-linecap:round; stroke-linejoin:round; stroke-width:4; stroke-opacity:1; fill:none\" points=\"186.76,909.327 203.564,909.327 \"/>\n",
       "<polyline clip-path=\"url(#clip580)\" style=\"stroke:#000000; stroke-linecap:round; stroke-linejoin:round; stroke-width:4; stroke-opacity:1; fill:none\" points=\"186.76,621.486 203.564,621.486 \"/>\n",
       "<polyline clip-path=\"url(#clip580)\" style=\"stroke:#000000; stroke-linecap:round; stroke-linejoin:round; stroke-width:4; stroke-opacity:1; fill:none\" points=\"186.76,333.646 203.564,333.646 \"/>\n",
       "<path clip-path=\"url(#clip580)\" d=\"M63.4226 1470.81 Q59.8115 1470.81 57.9828 1474.37 Q56.1773 1477.91 56.1773 1485.04 Q56.1773 1492.15 57.9828 1495.71 Q59.8115 1499.26 63.4226 1499.26 Q67.0569 1499.26 68.8624 1495.71 Q70.6911 1492.15 70.6911 1485.04 Q70.6911 1477.91 68.8624 1474.37 Q67.0569 1470.81 63.4226 1470.81 M63.4226 1467.1 Q69.2328 1467.1 72.2883 1471.71 Q75.367 1476.29 75.367 1485.04 Q75.367 1493.77 72.2883 1498.38 Q69.2328 1502.96 63.4226 1502.96 Q57.6125 1502.96 54.5338 1498.38 Q51.4782 1493.77 51.4782 1485.04 Q51.4782 1476.29 54.5338 1471.71 Q57.6125 1467.1 63.4226 1467.1 Z\" fill=\"#000000\" fill-rule=\"nonzero\" fill-opacity=\"1\" /><path clip-path=\"url(#clip580)\" d=\"M83.5845 1496.41 L88.4688 1496.41 L88.4688 1502.29 L83.5845 1502.29 L83.5845 1496.41 Z\" fill=\"#000000\" fill-rule=\"nonzero\" fill-opacity=\"1\" /><path clip-path=\"url(#clip580)\" d=\"M108.654 1470.81 Q105.043 1470.81 103.214 1474.37 Q101.409 1477.91 101.409 1485.04 Q101.409 1492.15 103.214 1495.71 Q105.043 1499.26 108.654 1499.26 Q112.288 1499.26 114.094 1495.71 Q115.922 1492.15 115.922 1485.04 Q115.922 1477.91 114.094 1474.37 Q112.288 1470.81 108.654 1470.81 M108.654 1467.1 Q114.464 1467.1 117.52 1471.71 Q120.598 1476.29 120.598 1485.04 Q120.598 1493.77 117.52 1498.38 Q114.464 1502.96 108.654 1502.96 Q102.844 1502.96 99.765 1498.38 Q96.7095 1493.77 96.7095 1485.04 Q96.7095 1476.29 99.765 1471.71 Q102.844 1467.1 108.654 1467.1 Z\" fill=\"#000000\" fill-rule=\"nonzero\" fill-opacity=\"1\" /><path clip-path=\"url(#clip580)\" d=\"M138.816 1470.81 Q135.205 1470.81 133.376 1474.37 Q131.57 1477.91 131.57 1485.04 Q131.57 1492.15 133.376 1495.71 Q135.205 1499.26 138.816 1499.26 Q142.45 1499.26 144.256 1495.71 Q146.084 1492.15 146.084 1485.04 Q146.084 1477.91 144.256 1474.37 Q142.45 1470.81 138.816 1470.81 M138.816 1467.1 Q144.626 1467.1 147.681 1471.71 Q150.76 1476.29 150.76 1485.04 Q150.76 1493.77 147.681 1498.38 Q144.626 1502.96 138.816 1502.96 Q133.006 1502.96 129.927 1498.38 Q126.871 1493.77 126.871 1485.04 Q126.871 1476.29 129.927 1471.71 Q133.006 1467.1 138.816 1467.1 Z\" fill=\"#000000\" fill-rule=\"nonzero\" fill-opacity=\"1\" /><path clip-path=\"url(#clip580)\" d=\"M65.0198 1182.97 Q61.4087 1182.97 59.58 1186.53 Q57.7745 1190.07 57.7745 1197.2 Q57.7745 1204.31 59.58 1207.87 Q61.4087 1211.42 65.0198 1211.42 Q68.6541 1211.42 70.4596 1207.87 Q72.2883 1204.31 72.2883 1197.2 Q72.2883 1190.07 70.4596 1186.53 Q68.6541 1182.97 65.0198 1182.97 M65.0198 1179.26 Q70.83 1179.26 73.8855 1183.87 Q76.9642 1188.45 76.9642 1197.2 Q76.9642 1205.93 73.8855 1210.54 Q70.83 1215.12 65.0198 1215.12 Q59.2097 1215.12 56.131 1210.54 Q53.0754 1205.93 53.0754 1197.2 Q53.0754 1188.45 56.131 1183.87 Q59.2097 1179.26 65.0198 1179.26 Z\" fill=\"#000000\" fill-rule=\"nonzero\" fill-opacity=\"1\" /><path clip-path=\"url(#clip580)\" d=\"M85.1818 1208.57 L90.066 1208.57 L90.066 1214.45 L85.1818 1214.45 L85.1818 1208.57 Z\" fill=\"#000000\" fill-rule=\"nonzero\" fill-opacity=\"1\" /><path clip-path=\"url(#clip580)\" d=\"M110.251 1182.97 Q106.64 1182.97 104.811 1186.53 Q103.006 1190.07 103.006 1197.2 Q103.006 1204.31 104.811 1207.87 Q106.64 1211.42 110.251 1211.42 Q113.885 1211.42 115.691 1207.87 Q117.52 1204.31 117.52 1197.2 Q117.52 1190.07 115.691 1186.53 Q113.885 1182.97 110.251 1182.97 M110.251 1179.26 Q116.061 1179.26 119.117 1183.87 Q122.195 1188.45 122.195 1197.2 Q122.195 1205.93 119.117 1210.54 Q116.061 1215.12 110.251 1215.12 Q104.441 1215.12 101.362 1210.54 Q98.3067 1205.93 98.3067 1197.2 Q98.3067 1188.45 101.362 1183.87 Q104.441 1179.26 110.251 1179.26 Z\" fill=\"#000000\" fill-rule=\"nonzero\" fill-opacity=\"1\" /><path clip-path=\"url(#clip580)\" d=\"M134.441 1210.51 L150.76 1210.51 L150.76 1214.45 L128.816 1214.45 L128.816 1210.51 Q131.478 1207.76 136.061 1203.13 Q140.668 1198.48 141.848 1197.13 Q144.093 1194.61 144.973 1192.87 Q145.876 1191.11 145.876 1189.42 Q145.876 1186.67 143.931 1184.93 Q142.01 1183.2 138.908 1183.2 Q136.709 1183.2 134.256 1183.96 Q131.825 1184.73 129.047 1186.28 L129.047 1181.55 Q131.871 1180.42 134.325 1179.84 Q136.779 1179.26 138.816 1179.26 Q144.186 1179.26 147.38 1181.95 Q150.575 1184.63 150.575 1189.12 Q150.575 1191.25 149.765 1193.17 Q148.978 1195.07 146.871 1197.67 Q146.293 1198.34 143.191 1201.55 Q140.089 1204.75 134.441 1210.51 Z\" fill=\"#000000\" fill-rule=\"nonzero\" fill-opacity=\"1\" /><path clip-path=\"url(#clip580)\" d=\"M62.9365 895.126 Q59.3254 895.126 57.4967 898.691 Q55.6912 902.232 55.6912 909.362 Q55.6912 916.468 57.4967 920.033 Q59.3254 923.575 62.9365 923.575 Q66.5707 923.575 68.3763 920.033 Q70.205 916.468 70.205 909.362 Q70.205 902.232 68.3763 898.691 Q66.5707 895.126 62.9365 895.126 M62.9365 891.422 Q68.7467 891.422 71.8022 896.029 Q74.8809 900.612 74.8809 909.362 Q74.8809 918.089 71.8022 922.695 Q68.7467 927.278 62.9365 927.278 Q57.1264 927.278 54.0477 922.695 Q50.9921 918.089 50.9921 909.362 Q50.9921 900.612 54.0477 896.029 Q57.1264 891.422 62.9365 891.422 Z\" fill=\"#000000\" fill-rule=\"nonzero\" fill-opacity=\"1\" /><path clip-path=\"url(#clip580)\" d=\"M83.0984 920.728 L87.9827 920.728 L87.9827 926.607 L83.0984 926.607 L83.0984 920.728 Z\" fill=\"#000000\" fill-rule=\"nonzero\" fill-opacity=\"1\" /><path clip-path=\"url(#clip580)\" d=\"M108.168 895.126 Q104.557 895.126 102.728 898.691 Q100.922 902.232 100.922 909.362 Q100.922 916.468 102.728 920.033 Q104.557 923.575 108.168 923.575 Q111.802 923.575 113.608 920.033 Q115.436 916.468 115.436 909.362 Q115.436 902.232 113.608 898.691 Q111.802 895.126 108.168 895.126 M108.168 891.422 Q113.978 891.422 117.033 896.029 Q120.112 900.612 120.112 909.362 Q120.112 918.089 117.033 922.695 Q113.978 927.278 108.168 927.278 Q102.358 927.278 99.2789 922.695 Q96.2234 918.089 96.2234 909.362 Q96.2234 900.612 99.2789 896.029 Q102.358 891.422 108.168 891.422 Z\" fill=\"#000000\" fill-rule=\"nonzero\" fill-opacity=\"1\" /><path clip-path=\"url(#clip580)\" d=\"M141.177 896.121 L129.371 914.57 L141.177 914.57 L141.177 896.121 M139.95 892.047 L145.83 892.047 L145.83 914.57 L150.76 914.57 L150.76 918.459 L145.83 918.459 L145.83 926.607 L141.177 926.607 L141.177 918.459 L125.575 918.459 L125.575 913.945 L139.95 892.047 Z\" fill=\"#000000\" fill-rule=\"nonzero\" fill-opacity=\"1\" /><path clip-path=\"url(#clip580)\" d=\"M63.2606 607.285 Q59.6495 607.285 57.8208 610.85 Q56.0152 614.392 56.0152 621.521 Q56.0152 628.628 57.8208 632.192 Q59.6495 635.734 63.2606 635.734 Q66.8948 635.734 68.7004 632.192 Q70.5291 628.628 70.5291 621.521 Q70.5291 614.392 68.7004 610.85 Q66.8948 607.285 63.2606 607.285 M63.2606 603.581 Q69.0707 603.581 72.1263 608.188 Q75.205 612.771 75.205 621.521 Q75.205 630.248 72.1263 634.854 Q69.0707 639.438 63.2606 639.438 Q57.4504 639.438 54.3717 634.854 Q51.3162 630.248 51.3162 621.521 Q51.3162 612.771 54.3717 608.188 Q57.4504 603.581 63.2606 603.581 Z\" fill=\"#000000\" fill-rule=\"nonzero\" fill-opacity=\"1\" /><path clip-path=\"url(#clip580)\" d=\"M83.4225 632.887 L88.3067 632.887 L88.3067 638.766 L83.4225 638.766 L83.4225 632.887 Z\" fill=\"#000000\" fill-rule=\"nonzero\" fill-opacity=\"1\" /><path clip-path=\"url(#clip580)\" d=\"M108.492 607.285 Q104.881 607.285 103.052 610.85 Q101.246 614.392 101.246 621.521 Q101.246 628.628 103.052 632.192 Q104.881 635.734 108.492 635.734 Q112.126 635.734 113.932 632.192 Q115.76 628.628 115.76 621.521 Q115.76 614.392 113.932 610.85 Q112.126 607.285 108.492 607.285 M108.492 603.581 Q114.302 603.581 117.358 608.188 Q120.436 612.771 120.436 621.521 Q120.436 630.248 117.358 634.854 Q114.302 639.438 108.492 639.438 Q102.682 639.438 99.603 634.854 Q96.5474 630.248 96.5474 621.521 Q96.5474 612.771 99.603 608.188 Q102.682 603.581 108.492 603.581 Z\" fill=\"#000000\" fill-rule=\"nonzero\" fill-opacity=\"1\" /><path clip-path=\"url(#clip580)\" d=\"M139.232 619.623 Q136.084 619.623 134.232 621.776 Q132.404 623.929 132.404 627.678 Q132.404 631.405 134.232 633.581 Q136.084 635.734 139.232 635.734 Q142.381 635.734 144.209 633.581 Q146.061 631.405 146.061 627.678 Q146.061 623.929 144.209 621.776 Q142.381 619.623 139.232 619.623 M148.515 604.97 L148.515 609.23 Q146.756 608.396 144.95 607.956 Q143.168 607.517 141.408 607.517 Q136.779 607.517 134.325 610.642 Q131.894 613.767 131.547 620.086 Q132.913 618.072 134.973 617.007 Q137.033 615.919 139.51 615.919 Q144.718 615.919 147.728 619.091 Q150.76 622.239 150.76 627.678 Q150.76 633.003 147.612 636.22 Q144.464 639.438 139.232 639.438 Q133.237 639.438 130.066 634.854 Q126.894 630.248 126.894 621.521 Q126.894 613.327 130.783 608.466 Q134.672 603.581 141.223 603.581 Q142.982 603.581 144.765 603.929 Q146.57 604.276 148.515 604.97 Z\" fill=\"#000000\" fill-rule=\"nonzero\" fill-opacity=\"1\" /><path clip-path=\"url(#clip580)\" d=\"M63.5152 319.444 Q59.9041 319.444 58.0754 323.009 Q56.2699 326.551 56.2699 333.68 Q56.2699 340.787 58.0754 344.352 Q59.9041 347.893 63.5152 347.893 Q67.1494 347.893 68.955 344.352 Q70.7837 340.787 70.7837 333.68 Q70.7837 326.551 68.955 323.009 Q67.1494 319.444 63.5152 319.444 M63.5152 315.741 Q69.3254 315.741 72.3809 320.347 Q75.4596 324.93 75.4596 333.68 Q75.4596 342.407 72.3809 347.014 Q69.3254 351.597 63.5152 351.597 Q57.7051 351.597 54.6264 347.014 Q51.5708 342.407 51.5708 333.68 Q51.5708 324.93 54.6264 320.347 Q57.7051 315.741 63.5152 315.741 Z\" fill=\"#000000\" fill-rule=\"nonzero\" fill-opacity=\"1\" /><path clip-path=\"url(#clip580)\" d=\"M83.6771 345.046 L88.5614 345.046 L88.5614 350.926 L83.6771 350.926 L83.6771 345.046 Z\" fill=\"#000000\" fill-rule=\"nonzero\" fill-opacity=\"1\" /><path clip-path=\"url(#clip580)\" d=\"M108.746 319.444 Q105.135 319.444 103.307 323.009 Q101.501 326.551 101.501 333.68 Q101.501 340.787 103.307 344.352 Q105.135 347.893 108.746 347.893 Q112.381 347.893 114.186 344.352 Q116.015 340.787 116.015 333.68 Q116.015 326.551 114.186 323.009 Q112.381 319.444 108.746 319.444 M108.746 315.741 Q114.557 315.741 117.612 320.347 Q120.691 324.93 120.691 333.68 Q120.691 342.407 117.612 347.014 Q114.557 351.597 108.746 351.597 Q102.936 351.597 99.8576 347.014 Q96.8021 342.407 96.8021 333.68 Q96.8021 324.93 99.8576 320.347 Q102.936 315.741 108.746 315.741 Z\" fill=\"#000000\" fill-rule=\"nonzero\" fill-opacity=\"1\" /><path clip-path=\"url(#clip580)\" d=\"M138.908 334.514 Q135.575 334.514 133.654 336.296 Q131.756 338.078 131.756 341.203 Q131.756 344.328 133.654 346.111 Q135.575 347.893 138.908 347.893 Q142.242 347.893 144.163 346.111 Q146.084 344.305 146.084 341.203 Q146.084 338.078 144.163 336.296 Q142.265 334.514 138.908 334.514 M134.232 332.523 Q131.223 331.782 129.533 329.722 Q127.867 327.662 127.867 324.699 Q127.867 320.555 130.807 318.148 Q133.769 315.741 138.908 315.741 Q144.07 315.741 147.01 318.148 Q149.95 320.555 149.95 324.699 Q149.95 327.662 148.26 329.722 Q146.593 331.782 143.607 332.523 Q146.987 333.31 148.862 335.602 Q150.76 337.893 150.76 341.203 Q150.76 346.227 147.681 348.912 Q144.626 351.597 138.908 351.597 Q133.191 351.597 130.112 348.912 Q127.057 346.227 127.057 341.203 Q127.057 337.893 128.955 335.602 Q130.853 333.31 134.232 332.523 M132.519 325.139 Q132.519 327.824 134.186 329.329 Q135.876 330.833 138.908 330.833 Q141.918 330.833 143.607 329.329 Q145.32 327.824 145.32 325.139 Q145.32 322.454 143.607 320.949 Q141.918 319.444 138.908 319.444 Q135.876 319.444 134.186 320.949 Q132.519 322.454 132.519 325.139 Z\" fill=\"#000000\" fill-rule=\"nonzero\" fill-opacity=\"1\" /><g clip-path=\"url(#clip582)\">\n",
       "<image width=\"1926\" height=\"1439\" xlink:href=\"data:image/png;base64,\n",
       "iVBORw0KGgoAAAANSUhEUgAAB4YAAAWfCAYAAABHo5vmAAAgAElEQVR4nOzd23bjSLqo158HKbOq\n",
       "e9vD7/+W9urKlMSDL7S218G7N77sihIpas7rGAEQBEBkUvFxN3O8DgAA8CnsvtBW+RUP8B49wEtY\n",
       "5tP/K/3Tv4Av4uPfJ2cGAADc1v7WOwAAAAAAAADAX8sXwwAAAAAAAAAP7njrHQAAgEcm/fxoFh5b\n",
       "bxP/zKc/Nxa+gOXtYTHj/7DyRGvH9eO3CAAA/GdWDAMAAAAAAAA8OF8MAwAAAAAAADw4KWkAAPhv\n",
       "5J8/i3jMvsSh/RIvkk9jYeR3+al9i8z1V4ger36jto/Zx28RAAA+PyuGAQAAAAAAAB6cL4YBAAAA\n",
       "AAAAHtxu5qiWAwDAl7A+tivf+x8WHou7Pqx3vXPBZ99/bu+z/xfCne7/0t2609d4M+uOhyMLAMBn\n",
       "Z8UwAAAAAAAAwIPzxTAAAAAAAADAgzveegcAAOB/Z234Vkb3v4rH424P293u2Nzvvt3rfsGfVSO/\n",
       "t7gGwr4t3a04We4if/aA8rqDu5OlBgDgk7NiGAAAAAAAAODB+WIYAAAAAAAA4MFJSQMAcDMy0f+K\n",
       "8DpvcihusdF7fs8/et/a9m5zxO75ffrsPj5Ge03vp0jubcXjny/NMFCW+r/Zfp3rZgIAgM6KYQAA\n",
       "AAAAAIAH54thAAAAAAAAgAe3mzmq0gAAsJRE9H8W91/++VNsc7d0/+/4WNztZXe3Oxbd8T+/7zYF\n",
       "vHZ716Xz3eL9/CLbTJu84+spWX1uAwDANiuGAQAAAAAAAB6cL4YBAAAAAAAAHpyUNAAAWY+4fvbc\n",
       "axVe5/JDccf54Q+e666zzrs73rcP3qb7xr+i/TP984doF27zer+J6PvNV3/29/wG27xr26/zqxwJ\n",
       "AAD+OSuGAQAAAAAAAB6cL4YBAAAAAAAAHpyUNADAg1sbZ/3sqde4/zd5mfecHv7o/PMjZJ2/SDI7\n",
       "bfKz3zfu2NJ8ct7owplukUX+3Pnqr5OlvsG5nTb52f8L7fMH6AEA+HOsGAYAAAAAAAB4cFYMAwB8\n",
       "UuvX4H32VX1h/5e/xHtdybl6nfgHr/LNK0zXjet7//ErhtvxaNtb/zo/ei7+q1usWF036hYrbsu4\n",
       "vlcLVylbffwXzrdylfgNtnkTK8sAAADcEyuGAQAAAAAAAB6cL4YBAAAAAAAAHpyUNADAHVodAv7c\n",
       "4v4vfZn3nNEtWeR7zR3XbdYs8sdvsw9bmd++1/2v7vUeVPfrnv/JvDL3WvPPywbFcYuzyB++/3Xf\n",
       "7jVL3bbZs9R3mohePd/S8+yeSU4DAHw2VgwDAAAAAAAAPDhfDAMAAAAAAAA8OClpAIA7VEO6n17O\n",
       "D6fJPvlcK9/12gu+1/zz2v3/+KzzpH27RQo7bzMNWx29f4B72iI9y9tmWzvsY7PIPRF9z/nqj97m\n",
       "4qzz0v2vVr7Oldu8wVzL0+AfbfW5AQDAn2HFMAAAAAAAAMCD88UwAAAAAAAAwIOTkgYA+EA9lPrJ\n",
       "k6pfIhHd5lubC554bFfnqz82/7zLf7+67nXulma142tYuM3V51nbtcXndprpc98b1yai32dcM+ZX\n",
       "arUL889lXNyx61yWbfO6NEsdt1n3/8Oz1HW+j09+r93/6l7nmi+RnP7srxAA4B5YMQwAAAAAAADw\n",
       "4HwxDAAAAAAAAPDgpKQBABapgdlPbWkieuZ+M9H3mViu8y1PMaf8c93/dYnlla9zt2tzrUw2123e\n",
       "JiW97txem3/+5PfQxSHUltKtKen7TPxer+sS0e+jbrHNMF8+/ttz5eO/9D1fe8zuN5ld3elcXyA3\n",
       "3UcBAHxNVgwDAAAAAAAAPDhfDAMAAAAAAAA8uOOtdwAA4N599nBptjQTfYu51m1zaZZ3YS74fVQZ\n",
       "F7e5Mtm8cK58/HP+OWwzn/8fv82WzF6ZiF68zTRq4jn02e/IaxO/S0ftWgq4JafXJZZrBrimjHdp\n",
       "m+06z9u8bp+31119nSEtX8+f+J6X87FemTnrXI5HTH73fftodYsLX0H9rPvkyen7fc8BAG7PimEA\n",
       "AAAAAACAB+eLYQAAAAAAAIAHJyUNAHxZ64Ok95o4vddEdJ1vXda5J4pX5qtXpnsn7VueK+eHy3wx\n",
       "sRzmqvvf9qtmndfNVefLcy1MltdrYG1+e2UmvbrF/XhdlLRmhcs2W/q5Z5HTvsXEb8kK98R13WZJ\n",
       "Sa+bq4+rWedyP6hztWEl69ynWng+5p9qaNss+5ZT2EutTE7fIF+91Nr9WnnEAAA+CyuGAQAAAAAA\n",
       "AB6cL4YBAAAAAAAAHpyUNADApk+eiM67f4uM68oUc8lrrk7flr+zrO/TuhRwzSLfJv98WDjXypT0\n",
       "9n7VuWZm9umYxW1+dJY6b/MWKelb3KdWhkRrRndhSjpmqXuK+WPzz9c5p7kuC7POdZsrU9J9ru19\n",
       "uy6+NlPmOp6y9Xxsw9Zm0tNjRH2dbdhiZav1mSS/oWVQm2upe01hAwDcnhXDAAAAAAAAAA/OimEA\n",
       "4CHd6xrfrixb+ev34l/f6Lqdy6sS02rglSuB23y3WL27dq62srXOtV+6YrituF25zTLX+3wLj1mZ\n",
       "6xarrFevUl5aEPh4de1iG7VuXF6JunSVb5vrsgurX+NK5n2Ya2bmcg3bjNd5mWumrvKNx6yc3fGY\n",
       "TTxm17AqdFeLHHnfwlRxrnqvSu/BwgW3vQyw8o62eIVsWjD8uVfvfu69BwD4/7NiGAAAAAAAAODB\n",
       "+WIYAAAAAAAA4MFJSQMAX9gdB6eX7trH55+rlI6tecqSdV6YiJ75/FnnmmL+6JR0SSe/b7P9c2bt\n",
       "NmO+Osy3Mku9ryns+jpTSnptmr3Ml9PycYvNukDoykT0+7iSdV4310zLP19qvjokli9hzK+M2y/c\n",
       "5i6Ou85p2TbLeZvz4fEaSCnsmguuxelw2uZ69cLkdD226fEmHrOenC5WP+uVN2rdVOulFvZfvhcA\n",
       "AB/JimEAAAAAAACAB+eLYQAAAAAAAIAHJyUNAHwqPYB3r5noW2RQV6rp2JqULH+nuDJXuzIRPVP+\n",
       "zrLnmtfln3PueGXKOG9z+58gea74z5mWkq5zxXEp/7wwS71wrvdxJSUdz9mYS12bki5zNT0iuj1y\n",
       "eUp6V7YZE9F53Mfmn0u6+te2WbLO22N+aZvhM2V3rfnqdVnqmpK+pHExhV0vqNCJLrnpONW/z7d9\n",
       "DdT7Xrru6s8+xBR2vbustTLFfK9Z5/oZdpt3AADgV1kxDAAAAAAAAPDgfDEMAAAAAAAA8OCkpAGA\n",
       "u3Cv4edfE15FfqG3SE5/bMb1FttcmYh+n69kneNcMfFbtrky6zzTMstrU9Lr9mtm5rB7WjfXwnE1\n",
       "63woKenrx6ek99d6bn98SvoWnyklD7o8JR1aupfdDVLSMf98XpilPsf883m3LiV9nrc0ruSHSyL6\n",
       "fVy5Ttq12RLRTTt7bmNlcrrkpmfa+9STwuvue+szxmXG+vMiYa740wT3HGy+12A2APB1WDEMAAAA\n",
       "AAAA8OB8MQwAAAAAAADw4KSkAYBP5o6j0x++ax+fde45wJXbjH/LmJLN6xLR7+NKHnRt1rmlpGOK\n",
       "eeG4mljeh6zzIe7XYbbneh9X9n/dXDMzh+u6Y1ZS0oeckm7XwKGkb2PScy8l/Z/GrE1JX8K4Otc5\n",
       "p6S3x5VEdB23MhFd56uJ6JrQL/Od688JlGs4Houe5V33fHCN4y4LC8VVSk4vLRnHAHd9prrb/vDC\n",
       "HbvrkvRd7xwAwP/HimEAAAAAAACAB+eLYQAAAAAAAIAHJyUNALBpZavwflPYac9yIjomm8tWUyK6\n",
       "5TVL+rnO9T5uXda55qtT1jknomM+Ocy3rynmsM3jPLe54jaPYVxJP9e5ZmaOIe1cEtEzLRNd0s+/\n",
       "Nm772tzn66kpyel+B103V49+lqxzUxLRdb7LteVqzwuT0+e6zV1JSbdr8xTz1aeSdY730DLXzMw+\n",
       "XOu73Wua67wwuV7mep9vnRhPTneqlJv+FbswYdxmqXTvUrt65pp/UmP76PZt3kI50+qeyToDAPwz\n",
       "VgwDAAAAAAAAPDhfDAMAAAAAAAA8OClpAOAv9/GhwsVusmtlo/XI1hdwg22GFG2dq2SiS/r5fa51\n",
       "41Ymomdi1jknouO4kHauc5VMdM41x+T08Rry1TEl/RT/CbUyJX0Mf897iJn3nJIO89W/Mt7HfSvz\n",
       "7XLOPswVx60MjV5jxrXmdi9hvku8B53jvrWUdJvrFJLT55yIbuPewnV3mlOaax+P7an81EH9CYPw\n",
       "WXe+1vTw/T57lWtgtzoDXKbLN46Qlq85/phmvy59jmvWvgMLZ7vrknTJwd9z8hsA+OysGAYAAAAA\n",
       "AAB4cL4YBgAAAAAAAHhwUtIAwBe2OqF4r0nGmnVelyDsqcLyd4o5WLu9vZptzPnn7XErE9Hv821n\n",
       "kQ+7llhem3+OWecw7una5nqqyemQkn7KKel1+edjPB/LuGNNSedx22NWJqLf59se09PycaMLlXry\n",
       "NYY/L7EPWgKzJTc9M3OO2yyZ4tPClPQpZpFPId8+0xLuJTf9Plfbt/3Kz6eSoV1+Adzr883aNHuZ\n",
       "r+bgy1y9dly3WW6icau5UfzRMePVjegyn2AzAPBYrBgGAAAAAAAAeHBWDAMA/7J7XT+S3eQFrFtx\n",
       "W1fO9aVzK7dZ//6wrHyqq3zLiqx1K4Hfx20/TtcVw2Ul8Exb5dtXAn9L457SiuE4V1gN/BRW+M7M\n",
       "PMcVw2U1cF0J/BTPxzKurvI9hqW0ea6FK4bLmJm2EriOy3ezu10x3HYsrxgO487Xts26YrisBs4r\n",
       "hi/b+1ZXDL+F1cczM4cwXxkzM/MW/9a+1DFaQSN+1i2ue7Rha1dVttnWbvOSVvmuWzGcVx/X56Aw\n",
       "X70H5WHh/nKLMyP75AuGP/nuAwA3YsUwAAAAAAAAwIPzxTAAAAAAAADAg5OSBgA+wC2azSu3ea/R\n",
       "7LWpyJSxrDnDus2UxKzb3E4Br5xrZm1KuuafD7uSdd4eM9MS0e/jtjPRT9eWkn4Omeiekm7H9jmk\n",
       "wWsi+rmmpEMX+WllSjr+ye8x3jbKuFukpOtct7hrl1znykR0HdcT0XVcyD+HRPTMzGm3vdG3mNs9\n",
       "xm0ewv6XMTMz+ziufCbu82d1+QmGNNUvCO/B4m1e0xUVg9PxHNrNdo68Ph+0YxYvurj/1/JMVTcZ\n",
       "jsW/z5hm+3j1hCz7tnKu6hbbBAC+CiuGAQAAAAAAAB6cL4YBAAAAAAAAHpyUNADAMiX7ti4V2VuR\n",
       "K8fVuerfH4bsYc1Xl4RiSArPzOzruPA4fagp6Wn55JKJPob080xLRM+0TPTztWWpS0r628JE9Pu4\n",
       "7XPjeb8uEf0+X0hJx8ukjKtz5ZR0mK+mpA+xXZpS0m2T7U61uNSZUtJxkzUlfQ4p45ySjjtXktNv\n",
       "ca63kH/Oieh4nh3CfGXMTM8/l+T0Lmaplzab41RrY7U1ixxOopxYbidkySfv8tHYvlvVxHV/B1Zm\n",
       "kWu3f925fYvzDADgK7JiGAAAAAAAAODB+WIYAAAAAAAA4MFJSQMA/0sLQ4W38SVewMIs9UzLAdZt\n",
       "xsx1yz+3v2Us+eeciI755zKuJqIPuzgupKSfwpiZmaecf94e9y0komdmnsM/Qb7F41/zz99Co7jP\n",
       "lYbNczjVav75eWFK+inmdktK+ljTvStT0nGuW3wEpJR0TKquTEmf4jZrSvotzFdT0q9hXJ3reG6v\n",
       "8yV8PsVi/OxicjqNi+95vASimmLeHnddmYiemet1e1zZr5mWiO7j2jYvS7PU8SII1+a1Pp/l/PPK\n",
       "nyG50/yz3QcAHowVwwAAAAAAAAAPzhfDAAAAAAAAAA9OShoA+BNuEetcuc0617pxOeu81MrXWf+u\n",
       "sI3bhXG7afnnMldPRK9LTu8XJqJnZp5CmromontKenubJRE90zLR33LWOY47bJ/bNRH9rZ0aab6S\n",
       "m56Zed5vBx7LmJmZpzouJFqPca6aki7jvkpKuiSi67hTzB2XRPTMzFuY7zVu86nMdU5TTbjMZ2Zm\n",
       "H+bbx58wqCngtGuX+N8zYZPX2ITN+ecwLieiYxb5Eubb50R0O4mu4XOsJK5n2rNLPX+u+dmrzFeD\n",
       "wR9/Fy3PyLfJHa8+ZitfRdmmSDQA8F9ZMQwAAAAAAADw4HwxDAAAAAAAAPDgpKQBAO7RrqTh1qaw\n",
       "S8Jvl/ZrZlcznGFcn6tkG2MiOj4mH8K4Y0g//9K4kH/Oiei4zZKJLonomZZ//r4wET0z8z287WXM\n",
       "zK8kp7fTjWXM+zZLSrrlTXNKOsxXctMzM4e4bytT0u1tWpsHLa9yeUr6sv1KeyK6HbWWkm5zvYS5\n",
       "jvFz53CO48Kwkpue6T8PUX7qIAvJ6eUp6TDhZWEieqbln3siuo0rr6E8a8zM7MpcC3924104tvF+\n",
       "cF35jBmv4XziAgDwp1gxDAAAAAAAAPDgfDEMAAAAAAAA8OCkpAGAz6WW7e7WujRfTVjmhF+ar2YP\n",
       "1+U1c/455B3LmPdxMSW9204xHxanpJ/CuKf4mP98jfnncNxKInqmZaK/L0xE13F9rpa6/H7YTnr2\n",
       "lHSYK+aanw8tqVrS1Me4zWNMx5bkdE5Jx3ErlUx0TknHFPPpuj3uFOeq+efX8/bF8nJpx/8YtplT\n",
       "0vFnB/YhOb32hxrqZ+K6v9u/XtoNrSSiZ1r++RI/wy4567w97rJbN9fMzD7lq+uxLSnpdm+sz1TX\n",
       "dA61bdZnx124py3NUuefALiB+jLv+CUAAF+DFcMAAAAAAAAAD84XwwAAAAAAAAAPTkoaAL6YT19i\n",
       "zla+0ppFDuOWZp0X7tfM7EKGM+era3K6bDPmQUtyuiai87jwOJ1T0tfnNO7pGlLSMRH9HNPaz+E9\n",
       "eI4p6W8hE/1tYSJ6Zua3cDh+W5iIfp9ve9z3mHVOWep9TEQfTnHc9jaf4jaPcZyU9H/IKemQDH6L\n",
       "WeHXc0xJ77cvqOe4zaewzWP+CYA0bPbpc2ft01I5G2tu9xI+Xy81ER2zyOfwmXKJieJzHRcy0edp\n",
       "97P+mR7y1dd2P9uF/S8/pzEzMyEZ/z5fOLbxmWriOdTO23U/fVLS1TO/UmsuI79GI/prvEoAYMaK\n",
       "YQAAAAAAAICHZ8UwAPBPfPTa4lusZf7k66eXrj6O4+rq3bzKd3vcPq5o2odVZXWuQ3xMLquBj3XF\n",
       "cNzmMazceo5zPcX3qawG/haX65XVwHklcB63vb6lrPCdmfk9rvL97bg97re8Ynh7Vdy3Y1s59y2v\n",
       "GN7et6c41zG+zrRiOIyZueMVw3ElcF4xfA4rhs/tfvAa5pqZeTmHc+MU72dhJeehrhKP9/d2p6qr\n",
       "KtetXqxnbFuZXs+zttWyYvh8bdfmMayknZk5h8/OumL4snBcedaYmblet8ddwwrlmf5MdS3nbXyf\n",
       "Vq7yve8lpuV1rn4BH71Na4EBgP/KimEAAAAAAACAB+eLYQAAAAAAAIAHJyUNALBMSbW1nNtu4Vwr\n",
       "x7X9aonomZZHrAnFkhHdh2zp+1wxgxrGlfTzzMxTHRdeZ05E55T09vv+HLPO38Ima0r6e0hEz7RM\n",
       "9O8h/TzTU9K/h7Tzb8e3NNdvYa5vca467jls8ynmq49xXElJH2Lye7erudR1riHfez4vTkmHZPNb\n",
       "zDq/xnFPp+3E71NMfh9OIR++azn+/OMQC39ForznMzOXsNFYdZ5S/D7HxPW5JqdDzvsU0snv22zn\n",
       "2Tl8vp7jZ3qZa6Y9I+yvMUtdnm/qs1J8n8oz2vWOnx3bvskiAwD8WVYMAwAAAAAAADw4XwwDAAAA\n",
       "AAAAPDgpaQDgPixMO653i50rab44UxxYUn+7OFkeF/5Osaakd7uQkg4Z5pmZQ3xMLuMOMZuZk9ML\n",
       "U9JP+3Up6ZKInpn5Ft6ClYno93Hb+eeaiP5bzCL//rSdbP7t+Jrm+i3M9f2pzfXtuY17Dtt8eoqJ\n",
       "6JqSDu/BPr5Pu/32ObSLqdGaXr1eQi64dIBn5lzHlZT0W0xJv7Vk89Pr9ntwjCnpfUh+h9vPzKz9\n",
       "pL7GCm0ddwmfdT3/HMbEg3aKieJTeKE1JX2Kn3Xp8zWmpOtn+jl8vpZnjZn4fFMT0fmZKjzHxfNs\n",
       "ZbG556tXuuPkdNk1JWwA4C9kxTAAAAAAAADAg/PFMAAAAAAAAMCDk5IGAD6ZlTm6muar05WRH7//\n",
       "eVza/5g9rONC8rjmn8u4PlfMU4Yk5jHOdYzH7BiO2VPMTj7HPxMt4+pc30Li93sYMzPzPaakfz+G\n",
       "lPTCRPT7uO1k8+9PL2mu375tz/X9uc31XFPSYZvHeCyOz+3Y7sN7sI/v+a6kjBeXRq+X7Yvgcm4X\n",
       "yiUkomdmTq/b455iIvr48tzGhZz3Ib5PJSVdfw6hKm9nrbhecv55e9wp3kNPIROd54ov9BQy6W/x\n",
       "JwyOMZ9cPjtrlnofk9NrnyO2x13qT2XEY5ae0eoFVZPTH/1cW7PasfPeMtf1jnDH+WoAgP/EimEA\n",
       "AAAAAACAB+eLYQAAAAAAAIAHJyUNADyoxe3Jj7Y0S12T2dvjypiZloh+n297XM1S71OWOiaiYyry\n",
       "EOY7xrnyuPA6j/t2zJ5CknRm5ins2re2+2nct5ihrSnp7yF9+9sxJqKPLcX8e0g7lzEzM799/7k5\n",
       "5tv3mJL+1sY9fQ8p6ZCbnpk5PLdjm1LSx5Up6dqIbtdJSknHxm9NSR9ftzPRp5iIPsSc+iGk2ffl\n",
       "+M/MriRVF9dZL2FcST/PzJzCez4zcwrzvV3bTbTkn9/isXiKr7N8phxjuvcYX2f5TCyfwe/j1v2M\n",
       "RHnWmGn555U/u/G+zXXPcS2x/D7j9pCar46b/HAS0QDAY7FiGAAAAAAAAODB+WIYAAAAAAAA4MFJ\n",
       "SQMAH+CTZ50Xqgm/1VtdNq7mAHO+OqQWc5Z6OxW5zznJmJIOScxDyEnOzBzisT2GcU/xbarjnsNL\n",
       "eN63hOK3kJjtKentpO3MzG+H7UTubzGj+9vzupR0SUTPzHz/LaSkw5iZmec47vjb9v4fQ256ZmZf\n",
       "U9Jh3C5kjN8n2z4fdzElfY253blsj7ue2r3lEhLRddzhZzv+NSW9D9dnPbYr1ffpHO7J55qIjuPe\n",
       "Sko6nD8zM28h6/wcfybgbeFnRflsmumfdeWzMyeid+s++8uzxkx7dim56f+51bjR7TH1fnaD59Xy\n",
       "jPx1Ys3y1QDAX8eKYQAAAAAAAIAH54thAAAAAAAAgAcnJQ0AD0Ks+a90i+xemavmmuO4kCDMc8W/\n",
       "P2zbbHPtw7gyZqYlomdmDmG+MmZm5ljHhWN2jBnRY/wz0aeFKennw/a47yE3PTPzPSSiZ2a+h0Tu\n",
       "96eWRc7jvm2nmEsiembm++8/Nsc8hzEzM09/W5eS3ocxMzP77y1lvHvefp92x5jNLJfw6lJnqFxf\n",
       "T22j+9f2T/XLz+2U9P4pJqJjpnsXrs+VKemciF6Yf86J6IXjXg9trufL9rF9WvwZUD5TjjGFXT/r\n",
       "Vn6+1s/0fcg/1+eI9lMZ8ZkqJqfLM1rfZht3Xfi82qx+Jpdi/lXlyDqqAHDfrBgGAAAAAAAAeHC+\n",
       "GAYAAAAAAAB4cFLSAPDliE5/BinMF3OAU8eVBOHCRHSdL28ztGP3qS/7K+MWpi7jMUsp6fiWl0T0\n",
       "zMxTmO+ppqRDhvb50JK23+q4kpI+ttzx9+eWkv4WUtLfvres8/Pv2+Oe/95S0se/tXH7kJze/xYT\n",
       "0b+1c2P3HE7Ip/hP2EO4huu98RqjmOft83H31s7Z6+vC/HZMSe/i9dQy0TFDG/LDl3O7UZ3P7b59\n",
       "CuPezu08e43bfLlsH9vnmKUumehyz36fq40rnynls2mmf9YdQj65Zp1XfvaXZ433cQufb5Ymp9c+\n",
       "O6afGIm3UPnhW5PfBoCvwophAAAAAAAAgAdnxTAAwIdat3p3vZXbXLhKeVdXDK9cXRTHhdU5eXVU\n",
       "HRd27bhwFdhMWw28dMVwGDPzCyuLw2rgb09theZzXDH8/H17xfDzb9tjZmaeft9e5VtXAh/+R10x\n",
       "vH08dn+LJ9r3b23ct+1x1+enNtch/FN3+YrhsHq3rgR+aefGLpyPu2M7Z3fxGi7KSuCZmWtYDZxX\n",
       "Ap/af298C+Ne44rhl7jN5/O6+97TfvuY1ftxXeVbPlPKZ9PMzCGeG+UzsXwGz8zs43NE+ezvq3zD\n",
       "uOstngnv+flS1QgA4CNYMQwAAAAAAADw4HwxDAAAAAAAAPDgpKQBgC/ssyfr1qb5dmncyrlaajFn\n",
       "GxcmIGue8hBe5z4ei5XJ6UM8NXpyOqSkw5iZmaeUkm6J6OfDdrq3jnuuKelvMSUdxh1jSvr4+8/N\n",
       "MYe/bY+Zmdn/PaaM/x7yvX/7Lc11/e33NG6+b893fXpu2zyG5PTilPTuFI7tWzt/5mdLfu+e/tge\n",
       "s4/58F07NyakgEsiembmElLMz2/tvy1Oby0z/hbGPce58j1ov/0anvYtmV3uteWePTNz3NfPnTJm\n",
       "7Wdd+ewsn8Ez/TP9w59J6k9lLExO1+ezr5N/Lvu/LrMPAHAPrBgGAAAAAAAAeHC+GAYAAAAAAAB4\n",
       "cFLSAADL3GdOb+Ve7Wp6dWFyOmepy1wxx9i3uf13ljUlXf9isyU9180105LTx31MSZcs9WE7Nz0z\n",
       "83xoyemn43bu9SmmpJ+e27jj93Up6f3v2+N2f4uJ6L/FM+3v2/nn69/+R5rq+vvf0rjL9+1x1+fv\n",
       "bZuHG6Skz9vvwe41Jr9jMnsO2/+kr/ft3fUfbVx4nftTzKSHZPP5tWWdn17bMSvXerlnzPzCPSjc\n",
       "055ONf8cUtLxMl/5WVHnqp915bOzZ53rNRC2Wa+nG2Sd077FKnLds4+PLN/nszYAwGdixTAAAAAA\n",
       "AADAg/PFMAAAAAAAAMCDk5IGAODfrcvz9Zk+OCUd/y6y55+3x+1jdjKPS3OlqeYQss513DHOddxv\n",
       "J1WP+5ZnPS5MSR+fWjr2GJPTh2/bKel9GDMzs/9te9zutzTVzO9t4PVvf98e8/eWkr78/n+0cd+3\n",
       "t3l53k5cz8xcDyErvIt/J31tafPdObznr1TPneYAACAASURBVH+0bR5bPnm/L6+hprDj63zbfg37\n",
       "13hu/9weV66lmX5tlmu9pqTrPajc08q9cabda1fe22fa51NORC/8TNzHn4eon+nlGWHlM0n/2Y2V\n",
       "pJgBAL46K4YBAAAAAAAAHpwvhgEAAAAAAAAenJQ0AMCmW2T3Vm7zFnOtzCOuTEmvTEC2PctHLA4s\n",
       "meiakl6ZnO7p0pCSDmNm1ianjzEde3iOKenn7fn239pc+2/b+7/7raWH57eYkv7tb5tjaiL6/Pv/\n",
       "mcZdvm+Puz5v79fMzBy+bc+1O6Spdtd2nl3PL9tjjt/bXPu2b8X+3PZ/99bOx13IRO9/1nN7e1y5\n",
       "lt7HxZR0ScsvTETPtHtauTe+j1t3P175WVHnqp91Sz9fb/Ac0X4qo1r77PW551q9zXatAAA8EiuG\n",
       "AQAAAAAAAB6cL4YBAAAAAAAAHpyUNADAJpm5X5argR+bKrxNdrKpf7FZMpx1rjwuZURjSnofMqj7\n",
       "mFSt40IWtoyZmTkc27j9U0hJx/TtbFeRZ749p6mu32PK+HtISX//e5qrJKLft/l/bY95btvc7bdf\n",
       "5y6mpKempC8/twft2/vUzuyZ3SVkxt+2088zM9fXsP8zs/v5Y3tQzaSHa6BcSzP92lx6P1h4ryr3\n",
       "xpl2r82J6DYsjcs/hxC32VLSH//zEDdJLKsi/wscDACAf8aKYQAAAAAAAIAH54thAAAAAAAAgAcn\n",
       "JQ0AX05Nq61M5cG/7n4TkDF1WfuaS7cZ54r55124b9SU9H7lXDHjWsbtYzp2V8cdt/O3u6e2/7un\n",
       "8Pe8zzEl/dxS0pdvv4Ux27npmZnrt//Rxj3/H5tj9k/bY2ZmdoeQko5/J32NYefreTvFfKl/m31t\n",
       "+eTL+WVzzO41pJ9nZhfPjV0413ZPcZvhGijX0ky/Nsu1vvLeMhPzz/H5rMxV7tkzv/AZED5UVj81\n",
       "3mKbt/hJCrgf8tsA8FVYMQwAAAAAAADw4HwxDAAAAAAAAPDgpKQB4EEIRD8aObf/8DWOxcprs6cu\n",
       "47gwsM8VMqg1JZ0zqGGb+zjXIeafy7g41xwPm0Oux/ZPu+vxqY17+hbm2s5Nv49ryend8e+bY/Zx\n",
       "rv1+e/93u+3jOjNzvbZE8SXMd73WLPV2Inpm5nr8x/aY8F6+zxXPjXCu7Y7xb9BD1nnpNTftWr/J\n",
       "PSin/cv20lTLPys+eq779jWeXRrH4pF4NwHg87NiGAAAAAAAAODB+WIYAAAAAAAA4MFJSQMAX9jq\n",
       "APe9xtVusF/50G4PvNej+pV8dLo0p0ZvkXGt40qauv6Z7j4M3Lcs8hxicvqwnRW+Hp7jNlvKeB/G\n",
       "lUT0zMzhBinpNNfhNY07x2NW3oPyXs5MPjfSuVbO2ZmZfUhJ18z7De4H+R60aMzM2rQ/f512ZsTz\n",
       "7CYPQvf69LV6v+71dQIA/HWsGAYAAAAAAAB4cFYMAwAfoPw1vvUtt1fep7UrK1bOdr3X/b/nBUFR\n",
       "OrL3/AKKvFyvTrhyVWJZIliXbMe/DS7j4irlujJ3wrg6Vxm3q8ciSvu2cP9npr0HK9/zmaXnY7sG\n",
       "6nXShn32x41yr73n23Het5u8zlIxWbfVW+z/fZ8d/AfvEwDw17FiGAAAAAAAAODB+WIYAAAAAAAA\n",
       "4MFJSQMAfFotM3eLGF1PLa7MHq5LQK4ctzI7+T7fmjHv42JTdeFLKNvsqdGF7diVp+xM2rdr3P/d\n",
       "0k53bZuXjuvig/bR21zZtJ35GsesittM10C9zpe+zLrNNq7dtxc2rvNPGKzc/7VWfr6uHffxzzer\n",
       "nyPaNtePBADgPlgxDAAAAAAAAPDgfDEMAAAAAAAA8OCkpAEAPtQNkp4rs8g1Sbr7+BTzbbKTa8bM\n",
       "zFziuPIWXBZWaGdmLiE3WsbMtH2rieVLHXcJWedL+5vZPi7sW33Ty0E7n9tccdzucgpj3tJclzju\n",
       "et0edwljZmZ2l8P2mHqfurZjVvatvMaZmWs8ZvswrryXM7P2HKo3oXANpGtp1l7D5Z4x0+9B5Z7W\n",
       "D9m6+3H+DFhYLM+fdYvGvI+7z+eItT+70Z7RVm9z7Vyy1AAAH8GKYQAAAAAAAIAH54thAAAAAAAA\n",
       "gAcnJQ0APKiSo2upxVsk8NaFjGd2S/d/bYq5tCevuxaeXJltvCx8nXmuhRnO1fnqkhHNGdTr9t+m\n",
       "nsOYmZlLTMeWcXWu67mO204ZT5xrTtvp3t2p5YJ3p5hiPr1uDzq9pLnm9CMNux63x112T22bwW4X\n",
       "38tru1Iu55/bc53bsajHrLwH6b2cXzk3wrkWztmZSddAupamX5sr7wd1XLmnlXvj+7g1Y2bWZp1X\n",
       "/hzC+3z3+ZneU9Klk774mWpxgLuNKsdspXtOYQMAfA5WDAMAAAAAAAA8OF8MAwAAAAAAADw4KWkA\n",
       "4D7UStsuD1y50TiuWJjAW122Cy9zbc7w47ONOUsd844lT9kTy3Gb1+036hy32ceVbbbrJM11iXMt\n",
       "zL2eTy1Xe1k47voWE7lv2yngXRjzPq7ln3ev2ynj/es/0lzXp9/auMPz5phLvB9fr9tZ5N0uHv9r\n",
       "yyJfS0r67f9Jc+3e/i2NK+9BeS/ftxnT4OFcu77Fe+1beM8XX5vlWs+J6Dzug++hea40LI1b/1kX\n",
       "xiz+eYvyjJAS0XGbt3imypbu2i3yz9UNktPK1ADAjVkxDAAAAAAAAPDgfDEMAAAAAAAA8OCkpAHg\n",
       "i+nx5DJyZWL5a1gbr16cUCx5x5jyrinmlG28tmzjJcx1iQnIMtdMS2LW1GXbYsxrLkxEv48LY2L+\n",
       "+VSyzpeWhD3VceftcecwZmbmfGr/hLq8PoUxba79a8hEv7SU9LzErPDLH5tj9s8td3w9bueCZ2Yu\n",
       "u+1zI2edD983x6xOSU9ISe9eW0p6//J/x3Hb70F5L2cmnxvpXIunY7kGyrU006/Ncq2Xe8ZMvweV\n",
       "e1q5N77PtfLnBNp9e+XnTv6sKz/VUD9f62d62Lv6HFGeXXKWOj5TlefC/Hx2g/yzwvJfpb7nAMBX\n",
       "YcUwAAAAAAAAwIPzxTAAAAAAAADAg5OSBgDYUHN6u4Up5lk518Ic4MpE9PsWwzZranFhAnJlcrqm\n",
       "Ls/x2JZxKxPRMzOnMN/p2v7mtMz1FpOqOfcaErOnt5ihjfnnlMh9aYncy8/t13n4+Zbm2v1oueD9\n",
       "8z+2Bx3b/l9jsrnc967n1ii+HrdT0hPS1TMzu5iz351KSjoc15nZ/4gp6R/baer9j7bNem5MONfK\n",
       "OTvTroGaXK/XZrnWyz1jpt+Dyj2t3Bvfx62bqyeny5i1n3UpJb0wEV3HrXwmyT/1sTQ5/fHPjumZ\n",
       "dvFcPYUNAPD1WDEMAAAAAAAA8OB8MQwAAAAAAADw4KSkAYA7UZNvLY/If7Yyu7c2QXgNidaapS4J\n",
       "yMuc41xt3Dls8xwztD3DuT3m1Db5C+NK/rldmyWpWlPSbzXjGrKwb28ti/z29pzGPb1sjzv8bHMd\n",
       "fmyPu35vGeDdcxwXMtG7fTv+MSQ9u8tpc8zlbTvXPDMzx3DMFqek57Sdud6//pGm2v/8tzRu94/t\n",
       "lPTuHy0lPX+0c+P6IyS/wzk7M3MO18ApXEsz/dos13q5Z8z8wj1o5X0v3GvLPft9XBqWxvUsdf2s\n",
       "C5+v+flg3Wd/zVKnlHS9t6z8SZDlKWl+nWMLANyWFcMAAAAAAAAAD86KYQDgC1u9SvljV9yuXvWx\n",
       "K6tb6kqZuAqmrAbuc5WVPnElcJhrZuZy3R5XVhXP9FVUpzDudI2rxeIpVMa9xW2WVXGvl7YKL487\n",
       "hxXDp7hi+KWNK6scjz+/pbnOP942x+yet1fbzszsj9tzzczsDturTPfx1ni9xFVxb+F1fmurWuew\n",
       "/T4tXzF8Dvv/0lY873+2lcW7P8LK4rhi+PqPdg5d/rF9bM8/4rkdroG8Yjhem+VaL/eMmbX3qrxi\n",
       "ONxrV97b67jy2TTzCyuGF1ZA8md6mO8at5mKKKufqdJ8da57rc2sXm1r9S4A8PVYMQwAAAAAAADw\n",
       "4HwxDAAAAAAAAPDgpKQBgD9hdYp55SbLwJWJ6F+Zr2xxe5u7ul8x27gyX10S0TMtj3iJc5Ws82Vh\n",
       "TnJm5hz27RwTkKeanA650VMs39Zxb5ftc7uMmZl5LSnpc8uzvsTc68tpe9zLW8vQPr+2rO1TSOQe\n",
       "nlvWef+0nfjdHds5O4f2pu93L9vbjPeW3bnt2/7tdXtQzApfQ0p6drWFXV9neD9fw2ucmd3PmMz+\n",
       "Y3vc9d/aNi//1q678z++b445/bE9ZmbmLSSnX2Ny/TVem+VaL/eMmX4PKve0cm+cWXs/XvlZcb7E\n",
       "n0Oon3VhXPkMnumf6WVcedZ4n2vhT2Xk5HR4D+oz4Q2eHddauc16zBZuMpPCBgB+nRXDAAAAAAAA\n",
       "AA/OF8MAAAAAAAAAD05KGgD4X1oZYv4qUv65pvlKCnvlXLM2X51yhtOS09eYgCypxZyIzuO2E7+n\n",
       "mLo8x2N2CuPKmJmeG30LL+E1p6S3x73EpOpLTU6fQjr2bfu9nPmFlPTL9nzHH22b+5CJ3sVE9G5f\n",
       "s5PbieL9JWaR39r1tHsJ8z215PfuGM6NxSnpOYXX+dby4fOzHdvrj5C+/Ue7Ti7/9lsad/rH9ri3\n",
       "nJLeHvf60lLSL0tT0u08y/egktBfeA8t9+xfGbfycyd/1pWfagifwe/j1qWkc9Z55Vw3yTqvTE6v\n",
       "m+s2WerPzREDAP47K4YBAAAAAAAAHpwvhgEAAAAAAAAenJQ0APDJ1CDaVwhdL84BpgRhTSjWPGJI\n",
       "SYcxMzOXXUiq5pxkzFOGbZ6vba5TfDR/u26nS98ua1PSrwtT0i/n7b9NfdmvTUn/PG0f2+eQl52Z\n",
       "eTq0XO3xsH1uHMKYmZndfvsN2MVkfM3BH8r7ef7ZtvnaroHdz+189e65bXMO4RxanZI+h/vZa8zs\n",
       "v7R9u/7cPm/P/2hZ5zruLSSnX0NuembmJaSkf/5sKemfMSX9M1zr5Z4x8wsp6XLfC2Nm2r223LNn\n",
       "fiU5vX3evtVE9MKfaiifwTP9M708I9TniJXPN2ufvT7+2fHrcCwAgM/BimEAAAAAAACAB+eLYQAA\n",
       "AAAAAIAHJyUNAHxhq5NvJf25Ms0Xk6R1myEDWTO0U7OHu+1xl2tMRYZxPREdx4X5TjF1eYqv8xSO\n",
       "7ena/v6zJqdTurTt/rzut+d6ubT9/xkzrs/77X/2PJ1aSvr41l7o8bD9Pt0iJV09hffgemrHf//y\n",
       "2sZ9e9scs3uKJ1o4/vkXB+qhPW9PeH1r/wS/vLTz8fJzO598/tFSzG9/tJR0yUSXRPRMy0T/fG37\n",
       "/+OtpaR/hGv957m9T/UeVO5pNcdf7rU9JR3zz+H5oHw2vY+Ln3XlpxrqZ3pNSYefflj5TFIT0ROT\n",
       "0+U57hqT3/nZceHz6trncilsAIB/xophAAAAAAAAgAfni2EAAAAAAACAByclDQD8y2p8reWHa9Mz\n",
       "usEmy0avcaO7kgOM+1/meh+4nSqs2cOaILyGPGLJTb/PFVLSMetck9On2U7fnupccd/ewut8iynp\n",
       "13gSPYfE6UssXT6H3O7Tvu3/875lXJ9CZvkYcs2/Mu4QzttdPLeTXIxv7/klJHKPMYt8jFnk/fP2\n",
       "tbJ7atdTyW9PzW/HY3Yt+e2akn5t404v2/nkU8g1z8y8xeT0S0hO//ixnZuemfnj5/Zcf4TXOLM2\n",
       "Jf3jtDYl/fO8fW68hHvjTLvXvsVby2t8PngLn9Xls2nmF35eofxUQ/gMnumf6ZeQuS7PGjPteak8\n",
       "A73PVfPPZb51Wer3bX7wXLdIP9+kNn23RwMAeABWDAMAAAAAAAA8OF8MAwAAAAAAADw4KWkA4EHd\n",
       "pCUd9AD3urlWjluZM6ypxZh/DnnKy7XlJM+7OC7kKc+7lrp8m5bbfbpuP8K/XVve9C2kb2dmXs/b\n",
       "7/vTfl0G9SkmVX/E5PRxF7LIMR1bEtEzM/uQKd7VHHwbllzie34+bR+zp5g7Pn9rid9DyETvjjUl\n",
       "XY5/Td7XlPT2uGs8z84xOX0Kme63mGJ+jcnpl5ftcT9CInpm5o+XkJJ+a/v1x1u7h5ZM9I+YiP4R\n",
       "EtEzLRNdc/yvYVy5Z8/MvF3WpaRPIcM8M/NWP1/DZ2f5DP6VceUZoeSmZ9qzy8pnpf85cs2Yv2Lc\n",
       "R8+10r3uFwDAv8aKYQAAAAAAAIAH54thAAAAAAAAgAcnJQ0AsGllQq5GYVdmnRfmAENO8t3ClHRM\n",
       "96ZsY8hNz/Tk9CWkLk/TUtJ13Ntu+xH+NaakjzEr/BSax8eYfz6GYcfYWD7mlPT2uX0Ix3WmJaLf\n",
       "x22PWZqIjrnjc0zkns/bx+MU073Hl3ZuH0NKen9o13BJSU98L2dhSvoSj/+ppqTDe/D22lLSLzE5\n",
       "/TPM9+M15p/DuD/e2n79cWrn4x8pJd3uLT/zuO1z42c7tecljHuNiejXS/t8fQ2frzURvfIz8RLn\n",
       "qp/p15CJrj9v0X4qoz7frBtXnwmXPjveJDct/wwA8M9YMQwAAAAAAADw4KwYBgD+cuVv9nf5L/sX\n",
       "rrG7wSb7Kt9tu2t8AXlV3MIVdgtXDF/i6pxdWOlT57pMW110DiukznV1VFh9PDPzNtur4o7X9pj/\n",
       "Nm314mtYWXyMK9SOYVXlMS5MP8RVyvvd9v6XFb4zM7t4DZTp8tUUBl7i6u/zJa5YDStbn+Oq1uOx\n",
       "XU9l3P7QTo79vtYN1invwSWuMD2FVa113Gtc2f0SV+aWFcN/xG3+cVo31z/iMfsjnNt/xPfpR7wH\n",
       "/Qyn40s8Zctq4Lpi+C1+Vr+Fz9e8Yjh+1pXPznP8rM4VkPCMkJ8jSsUkHv/6TNXKL4tX3Ib51q4+\n",
       "XuwmC4vLMQMA+OtYMQwAAAAAAADw4HwxDAAAAAAAAPDgpKQBgC/sJi3phVan+RbmAGOqcBfyiDW1\n",
       "eN2VBGTMSe5abvd83U5dnnbtkfsQk9NvYdwx7v/rtf2d6CFcAzXrfAjDDrt1c83M7MP+7+PfzO5i\n",
       "frvoKent/T/H9/IUk9NvIcv7/NbO2aeYkj4ctq/hQ0xE32tK+lyT3yF3PNPep9dTTEnHFPOPMF8Z\n",
       "8z5ue5s5EX1qx+yP0/Z78OMUE9GtKpzGvZzbHaGMe4m549f4mfgW8s/ls2lm5rRwXPkMnuk/D1Ge\n",
       "Ea4hqz0zc72Ge1AZMzPX+EzVntE+/tnxvn32/QcA+HVWDAMAAAAAAAA8OF8MAwAAAAAAADw4KWkA\n",
       "gC25OP2xObprTFzvaoIw7P8uZg8npoBLJrrkpmdatvESE5CXmOEsecpzSHDOzJzmNY07hDT1W8wd\n",
       "H+q4kCk+hNzxzMwhJHL38fypf+W6C9dK3ORMPGYp6BmP2bmkpC9trtMlZsbP2+f2c0z8PoVE9MzM\n",
       "cb89riai9+V+Ft/zeAtNye+Sm57p79NbuJ5ez+19eonjfoZk8484V0lJ/3FuxyynpEP2/kdM4/9o\n",
       "heK1Kenw+fRaU9K7dSnp0659htXPunNISeefh6if6WFcSkS/z7Y9V3y+KXO9T1i2ufYnQVaOip+c\n",
       "66YCAPiirBgGAAAAAAAAeHC+GAYAAAAAAAB4cFLSAMBdyLXmXxi5zi22Wazer3UJv54qXJdaLJno\n",
       "3a79XWTNU553IYt8bSnpc0hEz7QM51uca3+tyemSkm7H9hCSx/uYcd3XnHoYVnLTv+IaktMrU9Kn\n",
       "mCh+u8TE7GF7/5/2q1PS29f6YdfuB7uSkk4z/UIEtSS/43WS38+Qkn6LWeqXMNfMzM8wrox5H7f9\n",
       "OmtKuuefS0o6TZUS0TMtE/1yaef2a/jcfA0/c/A+rn0+pZT0wkT0zMwlfHae4+usn+nX8BxRs9Ql\n",
       "OV2z1PmZamWKObvXZvMt9mttWBsA4K9ixTAAAAAAAADAg/PFMAAAAAAAAMCDk5IGAFiltOFC3nS9\n",
       "dQnCmjPcxTxiafzWlPSEcTUBuQs5yZmZXchTnkNS+H2bLa+5L/nquM19TGuXlPQ+JnJL/nkXctMz\n",
       "M7v4d6670pKOrjFAXLLCl3hpnkpKOmap32Ki+CWMe9638+zp3K7hkok+xHvo/aakaz68psG3x73G\n",
       "9/w15p/LuVES0e/jto9Hnavmn8u4moj+GRLRMzM/Qyb6JX5uvoTPndeQfp6Zedu1/PPbvGyOqSnp\n",
       "U/15hfA6ayK6fvaXcfWZpI2LzzdLk9Mrs9R13MK5dJgBAP40K4YBAAAAAAAAHpwvhgEAAAAAAAAe\n",
       "nJQ0APCp1ILcrnWd/8yufBo9/xzG5RR2G5f2LSYUS/75Gv8u8rJrecpdyL1e8jbbuFOYb5dT0nFc\n",
       "mG8fX+c+pHRDUfh9XBs2c9ret5IBnun3oJKJrrngc7g2a0r6dd/GPaeUdHujjvG+cQjz5ZT0ojEz\n",
       "a4OqOSUd88/lfc8p6ZhwL/O9hET0TE1Jp6nmZ7xv/Ay395WJ6JmZl8v2iyiJ6JmWiV6fkt4eV1PS\n",
       "lzouJKdzSnrauGt53ohZ6jJXfT5bm2Je+Hz2ZdRjBgDwOVgxDAAAAAAAAPDgfDEMAAAAAAAA8OCk\n",
       "pAEAllmZr75FkG5hgrDmXku2cVcTv2VcTUDWbW7nKc/xbzF315Z13s12XrMmot/qvoXM9S6e22lc\n",
       "7jXHcUk7Fu08mylvZ8lNz7T88FvMAD8f4rhwDT/t2zE77mNKOmxzH+8tt/gL6HI6XmpKOo47hfe9\n",
       "nhuvNUce8s+v8dp8Cbfkl5qIjsnpl5CJrononyERPTPzMySPX2L++SXkn193L2mut2njziH/fA7p\n",
       "5/dxLetcxl3jXNeaf04/SVE/eEqWus2Vs87pGe0G+eqlz7SCzQAAf5YVwwAAAAAAAAAPzhfDAAAA\n",
       "AAAAAA9OShoAeEgt6lxzdDX/HNxgk1VJFfZjVlOL2y80ZxtTBrVmG9u4S0pT12xmzDqHv+0sY2Za\n",
       "IjpvMya/a3I6zbXwdOxTtf2/hPfz3Irfcwo79xb/5Ddnhffb42oi+hjfqFK5rinp8ipXh/3LuJ6S\n",
       "bts8hflKbnpm5i3eaksmuqaky7iSm56ZeYn555fQcH+JieiXmDIumeiSiJ5pmeiaiD6FRPTMzOm6\n",
       "MiXdxl3Csb3URHRNNodxea70HLH6mWp7vpylvoWb7Fo5ZgAAj8WKYQAAAAAAAIAHZ8UwAMCHWrlk\n",
       "+OPXMNSVJnUl53W3vQpmF1fYTZhr0grfmWvcZlk9WlflltVRMzPntGJ47erdshp46TYXr5i/hvMx\n",
       "LgJLK4Hfx22POcfz7BRW79YVw69x3FMYd4yrxA9h/2fiiuE008wu3ISWrxgO72dd91dXDJ/DhGXF\n",
       "+UxfMVzG9dXH2ztXxsz0FcOv4WJfuRL4fdz2itvXuMq3rAY+1RXD1zbuvHDFcP2su4bP675iOC47\n",
       "T88ItWJSVqKum+t9vjJuZQPhV8Z99FwAAPwzVgwDAAAAAAAAPDhfDAMAAAAAAAA8OClpAODL6lHn\n",
       "lfnnqGxycW63WZ35W5laLAckzpWy1DMlO3mpKeyFKeZzPTliCrjtW91mGLP4kit5zWtMdV7iP6Eu\n",
       "IX97ilnqUziHnuJ59nRp444pJZ2mSonomZlSnI5V6nSd1NM/nhrptI1V5DyuJKdrSvpUU9LhgLzF\n",
       "F1Ay0W+x814S0e/jtlPGNRH9WseFtPPr7meaq6Sky5iZmdNsJ6JnWib6sjglXcaV3PT7uHZuXMM5\n",
       "VD8r2jbvOeu80E12q75PAABfjxXDAAAAAAAAAA/OF8MAAAAAAAAAD05KGgDgLoW4XU0U7z4+lJdL\n",
       "wCXJmPc/JCDjTHNtecrSMq6py8vClHRvLK/b5i5nqdMGk5KIruPqXOeYET1fD5tjTrvtMe9zbf89\n",
       "71tMRD/FFvMxzHeI7/ltUtIf715T0vWcPcVxJRNd5yr557d4P36N99q3kH/OiehdSzavzT9vjztf\n",
       "1yWi67iVieiZmWt430v6uc41U/PP9acmynPcus+wvM3VWeo0TLAZAOCeWDEMAAAAAAAA8OB8MQwA\n",
       "AAAAAADw4KSkAQA25CxyGrkycNr37H63uTC1uNvOO+5yfjvmKUO6NO7+1GPWktMxER2PRw1rt42W\n",
       "QWvzmteQI7/EPGgf97Q55hwzqCVLfdy1v/l9C1nq9/nWpaRr/nkfTo4vk5KO53aZb3VK+hTO2zJm\n",
       "ZuYt3F3edjERPTX/vD3ubddSzCvzz6dp2zxd16WkLzElXfLPKxPRdVz9qYacfw7XQMtNt7nWJ5Zv\n",
       "kWz+6G3W5wMAAP4ZK4YBAAAAAAAAHpwvhgEAAAAAAAAenJQ0AMCjy/XnlSnsdam/Xc02hr957AnI\n",
       "NmwXjsc15nYn5jVXpqQXHtqlSvp55hdS0mFcSZHPzFxiuvQcDu4p/nPsdN0ed6yJ6JClnmmZ6EM8\n",
       "MdampGMmvW1yqZaSjonolSnpeKHn5HS4Bk5xm2+77fzwKYyZmXmrKeaSkq5z5ZT09nw1/1zGnWMi\n",
       "+nxZmZJel4ieiZ/XMVl+rePSeVsfqrbnqp9ha8PIcS4tZgCAh2XFMAAAAAAAAMCD88UwAAAAAAAA\n",
       "wIOTkgYAWKRlkXPX+c/syn+zcpsf3xbsJewwMiaKewq7pC7jJvNbvj2w5GV/SalrLvyT09V5zZKm\n",
       "vsZE9GVXk9/b487zlOY6h3+2HeI/7Y4TU9IhTZ1T0td2cpeU9O6Tp6Svq1PSYVxOSceceklJn6fl\n",
       "n0smuqSfZ2ZOU8dtp5jrXDX/XLZ5qfnnMG5lIrqOq/fQPC4kp/PPQ6z8TInXcPscW52SvkFyeqny\n",
       "WQ0AwJ9lxTAAAAAAAADAg/PFMAAAAAAAAMCDk5IGALhLLUy9dpMlxbw60PrB2cNry07G8m0qU9e5\n",
       "+sCQ4YxTxSJmi3XWomfJOtfkdxxXcqPXnIiOWd6S2w0Z3ZmZ0247OX24tn/aHWpKOozLKek4bheu\n",
       "gZqlLhdBvjTjuDKyJqLrNVDOx56SbtfAynP7HJLNp5ilLnO9j9vOOpdc8+pxPSW9fTxqIvpax4X3\n",
       "vKSf38fFz+H0Uw0L58rzrcw63yCMJGhqqwAAIABJREFUXD/41270BtsEAOCfsWIYAAAAAAAA4MH5\n",
       "YhgAAAAAAADgwUlJAwB8oBrTWx1sXia/gI9/pdewc31r6xLF9VBca6Z7YZHxsjCZ3YWUdJ5p3ftU\n",
       "E9F5XEjpXmY7ET0zsw8p3cNubUp6H8aVMe/jYnJ6tz2u5KZnbnMPTeHYhYnoOu5S8vMzc1mZko75\n",
       "50sYlxPRMYtc5luZdX6fr+Sf2zYvIdmcU9Lx3CiZ6JySXph1znMtzD/Xz5216oPEX7sXf7VPvvsA\n",
       "AJ+GFcMAAAAAAAAAD86KYQCAO1RWTexusv549TY/dn1IX/AcVyGFFY51dVHdZlowufqwhm1e8jbX\n",
       "7VxfLbZu5VldYXcJ/9Q6h1XFMzOHMlf8p11e5bv7+BXDu3Ci7cI1V5XtzaxdIdjPs3Uri/OK4YXj\n",
       "ykrgmbayuK5+zeMWbrOuGC6rafvrDKt3F64EruNWrgR+ny+twb/fbS6dq7rP1cxWAgMA3BcrhgEA\n",
       "AAAAAAAenC+GAQAAAAAAAB6clDQAAOtdYzhwd4su8rot7srr3NWEZd1mmOsmJe+avi3ZyTbXPqek\n",
       "t+e7xNToPr6f+5ByLWNmWvp2ZSJ6ZmYX5qvb3K1MSedMfZmr6ZfJunO7j1uXks6Z9JJFXpmlXphY\n",
       "rvP1Y7Ew/3yDrHPeZpkv55rX/QRAfdboOfiPTknXqcSYAQBYx4phAAAAAAAAgAfni2EAAAAAAACA\n",
       "ByclDQDwSeX08C+M/HBl15bu1tocY0li7q7xbzEXJqdLbnpmcXI6b3TZoJSlnpm5hgxnTUTnRGvI\n",
       "LNeM6yXkn9dnncs241y7dSnpekPoyel1Wq52cUo65Hsv+ZytKeOF+eqVWeqFKeY818LXWY5r3Waf\n",
       "K2adw3xLE9EzKZ/ct3mD/PMdbu7X1HsVAACfjRXDAAAAAAAAAA/OF8MAAAAAAAAAD05KGgDgwa1N\n",
       "Tq/Os4Zt1t5xShmvbCfXmVrqcmVyOr/nIdU5M3MtxzbOVd6Ckn5+n2rduPo+7WuWt+R2dy1DWzLR\n",
       "l5yIXjdu5Vzv41ampNeNWptU/fiUdM+frzu361wl2bwysXyrbbb56vEP+78wEf0+Xzkf1yWi37dZ\n",
       "5rtFIvrjfzZhLYloAICvzophAAAAAAAAgAfni2EAAAAAAACAByclDQDAL+hh6g/fZklOp9z0zC32\n",
       "f2lyOuSm37cZE78lHbu0yrs6D1rGtWNxqe9TGFcTyyUdu9vV9zKOC/O19PPM1G2W+XZrI9ErtVN7\n",
       "bUq65HtXZqnf5wvbvMlc67LOK/e/z7dwm0sT0TNp35Ymot9HfrzyswkL51pOABoAgG1WDAMAAAAA\n",
       "AAA8OF8MAwAAAAAAADw4KWkAAGamBQhvkWftVr6ClTnGtdssGc6aC+7J6e3XUCvdJV26i5NdY7q0\n",
       "7Fydaxffp5Up6fL3vCsT0e/zhfc8Zp3r3yOnlHS+NO82Jh1nWpiSXpyvTinmnAtemXVemcxemYhu\n",
       "8/W5wv1sda45nEO3SUSv/tmBj57r433uvQcAYAUrhgEAAAAAAAAenC+GAQAAAAAAAB7cbuaoJAMA\n",
       "wFI94nqnceqcyE2TLR63bq6U7p2Z9Pek+ZiFRHH9+9W4zTZfnCummFP++a73v7xPa8/tdjzu9J6R\n",
       "Lc6kp6zw2txuSx6vS+P3Y7Ey/7xu//99o+vmKvu2+pil47H6v5ZusM183D5aPR8BAGCbFcMAAAAA\n",
       "AAAAD84XwwAAAAAAAAAPTkoaAICbqSHdu3WT5PTKuVYmp+M20zFrf7+6NGUcE8sr89s1JX2b/PbK\n",
       "rPPCK33pNXcDMVXb/5G+Lrebk9MfnEVenpJOKeaFWee6zYVZ6uXv+d2mpOtU9/rfXhLRAAB8PCuG\n",
       "AQAAAAAAAB6cL4YBAAAAAAAAHpyUNAAAd62HY+80Mbs8fXufyem1Wee1ieK1+78u2XyLY7Z0m0tT\n",
       "5NEXSUnn6ZYmfhfmh/PrLFnqdYnrd9vJ5rWJ5TjuFsds+bgPnutuE9Ez7X0CAICPZ8UwAAAAAAAA\n",
       "wIOzYhgAgIdQ1y7eraUrIW+xSnndNteuap14bNdus72Gdfu//Jgt3f867I6vzw/WV8kuG7R03NpV\n",
       "vgtXMuf5Vq9SXrnKd832fm3cR881d7wauJ6PAABwn6wYBgAAAAAAAHhwvhgGAAAAAAAAeHBS0gAA\n",
       "fBk9VHvPSduwb3n37zVfvTLX3OdrU318inlplrpamN9+jOvuo63M1a7OIq/bZssnL84if/rX2ba4\n",
       "Vpgvb/Ke/wuqJL8BAOBzs2IYAAAAAAAA4MH5YhgAAAAAAADgwUlJAwDAf/P507dxv5bu/i2y1Ou2\n",
       "+fmz1HmjcdS9Zsb5r9b9c77ljtdusyWKPz6L3I/Fum3edUo6TXfP/7W0NLoOAACfmhXDAAAAAAAA\n",
       "AA/OF8MAAAAAAAAAD05KGgAA/kU1ynu/vkpy+qPnukWKefV7eYvz9p6vlY92i3+mx20uzQrfIoXd\n",
       "ZlvrTvctT3Wv/20kEQ0AAL/KimEAAAAAAACAB+eLYQAAAAAAAIAHJyUNAAB/oR7H/ewZXVnqv3a+\n",
       "ra197v1/3+RnvwYWut5xSjrN9Ln3/65T0ktT3vds+zU8wqsEAICPZsUwAAAAAAAAwIPzxTAAAAAA\n",
       "AADAg5OSBgCAOyA5/WtD1vvsKeZbHLS2zc9+xt6z9o/5z551vsU2b7D/eZOf/b9w7vesBQCAr8CK\n",
       "YQAAAAAAAIAH54thAAAAAAAAgAcnJQ0AAJ/I2izvZ4/8xv1/iDT1vW3vr/AIr2GVz/7P9M+ekl69\n",
       "Se/n+pkAAIB/hRXDAAAAAAAAAA/OF8MAAAAAAAAAD05KGgAAHsz6IO9XSPzKUt/eV3mdxVf5Z/q9\n",
       "5p8d/9vNBAAA/JWsGAYAAAAAAAB4cFYMAwAA/1tr13F+lVWhC1/n3R6yu90x/os7/if/0l2749e5\n",
       "lFW+AADAv86KYQAAAAAAAIAH54thAAAAAAAAgAcnJQ0AAPxpctO3tviYeQu+HlnnG5OIBgAA/npW\n",
       "DAMAAAAAAAA8OF8MAwAAAAAAADy44613AAAA+PxWpkt3y0OoX6GLvPiYLZ3uKxz/WxENvi35ZwAA\n",
       "4HOxYhgAAAAAAADgwfliGAAAAAAAAODBSUkDAAB3ZX1I+haRVvnk/yCSy0f4+PPMmQ0AAHw2VgwD\n",
       "AAAAAAAAPDhfDAMAAAAAAAA8OClpAADgoa3MvfZA9G22Cp+L/DMAAMBHsmIYAAAAAAAA4MH5YhgA\n",
       "AAAAAADgwUlJAwAARLfI0O4+ffxWCvuv87nPjc+99wAAAJ+PFcMAAAAAAAAAD84XwwAAAAAAAAAP\n",
       "TkoaAADgjt0mX72SYPBn4F0CAAB4fFYMA/8vO3dMAwAAgDDMv2tuLCytjQUAAAAAAACIE4YBAAAA\n",
       "AAAA4lxJAwAAcNwKAwAAQI/FMAAAAAAAAECcMAwAAAAAAAAQJwwDAAAAAAAAxAnDAAAAAAAAAHHC\n",
       "MAAAAAAAAECcMAwAAAAAAAAQJwwDAAAAAAAAxAnDAAAAAAAAAHHCMAAAAAAAAECcMAwAAAAAAAAQ\n",
       "JwwDAAAAAAAAxAnDAAAAAAAAAHHCMAAAAAAAAECcMAwAAAAAAAAQJwwDAAAAAAAAxAnDAAAAAAAA\n",
       "AHHCMAAAAAAAAECcMAwAAAAAAAAQJwwDAAAAAAAAxAnDAAAAAAAAAHHCMAAAAAAAAECcMAwAAAAA\n",
       "AAAQJwwDAAAAAAAAxAnDAAAAAAAAAHHCMAAAAAAAAECcMAwAAAAAAAAQJwwDAAAAAAAAxAnDAAAA\n",
       "AAAAAHHCMAAAAAAAAECcMAwAAAAAAAAQJwwDAAAAAAAAxAnDAAAAAAAAAHHCMAAAAAAAAECcMAwA\n",
       "AAAAAAAQJwwDAAAAAAAAxAnDAAAAAAAAAHHCMAAAAAAAAECcMAwAAAAAAAAQJwwDAAAAAAAAxAnD\n",
       "AAAAAAAAAHHCMAAAAAAAAECcMAwAAAAAAAAQJwwDAAAAAAAAxAnDAAAAAAAAAHHCMAAAAAAAAECc\n",
       "MAwAAAAAAAAQJwwDAAAAAAAAxAnDAAAAAAAAAHHCMAAAAAAAAECcMAwAAAAAAAAQJwwDAAAAAAAA\n",
       "xAnDAAAAAAAAAHHCMAAAAAAAAECcMAwAAAAAAAAQJwwDAAAAAAAAxAnDAAAAAAAAAHHCMAAAAAAA\n",
       "AECcMAwAAAAAAAAQJwwDAAAAAAAAxAnDAAAAAAAAAHHCMAAAAAAAAECcMAwAAAAAAAAQJwwDAAAA\n",
       "AAAAxAnDAAAAAAAAAHHCMAAAAAAAAECcMAwAAAAAAAAQJwwDAAAAAAAAxAnDAAAAAAAAAHHCMAAA\n",
       "AAAAAECcMAwAAAAAAAAQJwwDAAAAAAAAxAnDAAAAAAAAAHHCMAAAAAAAAECcMAwAAAAAAAAQJwwD\n",
       "AAAAAAAAxAnDAAAAAAAAAHHCMAAAAAAAAECcMAwAAAAAAAAQJwwDAAAAAAAAxAnDAAAAAAAAAHHC\n",
       "MAAAAAAAAECcMAwAAAAAAAAQJwwDAAAAAAAAxAnDAAAAAAAAAHHCMAAAAAAAAECcMAwAAAAAAAAQ\n",
       "JwwDAAAAAAAAxAnDAAAAAAAAAHHCMAAAAAAAAECcMAwAAAAAAAAQJwwDAAAAAAAAxAnDAAAAAAAA\n",
       "AHHCMAAAAAAAAECcMAwAAAAAAAAQJwwDAAAAAAAAxAnDAAAAAAAAAHHCMAAAAAAAAECcMAwAAAAA\n",
       "AAAQJwwDAAAAAAAAxAnDAAAAAAAAAHHCMAAAAAAAAECcMAwAAAAAAAAQJwwDAAAAAAAAxAnDAAAA\n",
       "AAAAAHHCMAAAAAAAAECcMAwAAAAAAAAQJwwDAAAAAAAAxAnDAAAAAAAAAHHCMAAAAAAAAECcMAwA\n",
       "AAAAAAAQJwwDAAAAAAAAxAnDAAAAAAAAAHHCMAAAAAAAAECcMAwAAAAAAAAQJwwDAAAAAAAAxAnD\n",
       "AAAAAAAAAHHCMAAAAAAAAECcMAwAAAAAAAAQJwwDAAAAAAAAxAnDAAAAAAAAAHHCMAAAAAAAAECc\n",
       "MAwAAAAAAAAQJwwDAAAAAAAAxAnDAAAAAAAAAHHCMAAAAAAAAECcMAwAAAAAAAAQJwwDAAAAAAAA\n",
       "xAnDAAAAAAAAAHHCMAAAAAAAAECcMAwAAAAAAAAQJwwDAAAAAAAAxAnDAAAAAAAAAHHCMAAAAAAA\n",
       "AECcMAwAAAAAAAAQJwwDAAAAAAAAxAnDAAAAAAAAAHHCMAAAAAAAAECcMAwAAAAAAAAQJwwDAAAA\n",
       "AAAAxAnDAAAAAAAAAHHCMAAAAAAAAECcMAwAAAAAAAAQJwwDAAAAAAAAxAnDAAAAAAAAAHHCMAAA\n",
       "AAAAAECcMAwAAAAAAAAQJwwDAAAAAAAAxAnDAAAAAAAAAHHCMAAAAAAAAECcMAwAAAAAAAAQJwwD\n",
       "AAAAAAAAxAnDAAAAAAAAAHHCMAAAAAAAAECcMAwAAAAAAAAQJwwDAAAAAAAAxAnDAAAAAAAAAHHC\n",
       "MAAAAAAAAECcMAwAAAAAAAAQJwwDAAAAAAAAxAnDAAAAAAAAAHHCMAAAAAAAAECcMAwAAAAAAAAQ\n",
       "JwwDAAAAAAAAxAnDAAAAAAAAAHHCMAAAAAAAAECcMAwAAAAAAAAQJwwDAAAAAAAAxAnDAAAAAAAA\n",
       "AHHCMAAAAAAAAECcMAwAAAAAAAAQJwwDAAAAAAAAxAnDAAAAAAAAAHHCMAAAAAAAAECcMAwAAAAA\n",
       "AAAQJwwDAAAAAAAAxAnDAAAAAAAAAHHCMAAAAAAAAECcMAwAAAAAAAAQJwwDAAAAAAAAxAnDAAAA\n",
       "AAAAAHHCMAAAAAAAAECcMAwAAAAAAAAQJwwDAAAAAAAAxAnDAAAAAAAAAHHCMAAAAAAAAECcMAwA\n",
       "AAAAAAAQJwwDAAAAAAAAxAnDAAAAAAAAAHHCMAAAAAAAAECcMAwAAAAAAAAQJwwDAAAAAAAAxAnD\n",
       "AAAAAAAAAHHCMAAAAAAAAECcMAwAAAAAAAAQJwwDAAAAAAAAxAnDAAAAAAAAAHHCMAAAAAAAAECc\n",
       "MAwAAAAAAAAQJwwDAAAAAAAAxAnDAAAAAAAAAHHCMAAAAAAAAECcMAwAAAAAAAAQJwwDAAAAAAAA\n",
       "xAnDAAAAAAAAAHHCMAAAAAAAAECcMAwAAAAAAAAQJwwDAAAAAAAAxAnDAAAAAAAAAHHCMAAAAAAA\n",
       "AECcMAwAAAAAAAAQJwwDAAAAAAAAxAnDAAAAAAAAAHHCMAAAAAAAAECcMAwAAAAAAAAQJwwDAAAA\n",
       "AAAAxAnDAAAAAAAAAHHCMAAAAAAAAECcMAwAAAAAAAAQJwwDAAAAAAAAxAnDAAAAAAAAAHHCMAAA\n",
       "AAAAAECcMAwAAAAAAAAQJwwDAAAAAAAAxAnDAAAAAAAAAHHCMAAAAAAAAECcMAwAAAAAAAAQJwwD\n",
       "AAAAAAAAxAnDAAAAAAAAAHHCMAAAAAAAAECcMAwAAAAAAAAQJwwDAAAAAAAAxAnDAAAAAAAAAHHC\n",
       "MAAAAAAAAECcMAwAAAAAAAAQJwwDAAAAAAAAxAnDAAAAAAAAAHHCMAAAAAAAAECcMAwAAAAAAAAQ\n",
       "JwwDAAAAAAAAxAnDAAAAAAAAAHHCMAAAAAAAAECcMAwAAAAAAAAQJwwDAAAAAAAAxAnDAAAAAAAA\n",
       "AHHCMAAAAAAAAECcMAwAAAAAAAAQJwwDAAAAAAAAxAnDAAAAAAAAAHHCMAAAAAAAAECcMAwAAAAA\n",
       "AAAQJwwDAAAAAAAAxAnDAAAAAAAAAHHCMAAAAAAAAECcMAwAAAAAAAAQJwwDAAAAAAAAxAnDAAAA\n",
       "AAAAAHHCMAAAAAAAAECcMAwAAAAAAAAQJwwDAAAAAAAAxAnDAAAAAAAAAHHCMAAAAAAAAECcMAwA\n",
       "AAAAAAAQJwwDAAAAAAAAxAnDAAAAAAAAAHHCMAAAAAAAAECcMAwAAAAAAAAQJwwDAAAAAAAAxAnD\n",
       "AAAAAAAAAHHCMAAAAAAAAECcMAwAAAAAAAAQJwwDAAAAAAAAxAnDAAAAAAAAAHHCMAAAAAAAAECc\n",
       "MAwAAAAAAAAQJwwDAAAAAAAAxAnDAAAAAAAAAHHCMAAAAAAAAECcMAwAAAAAAAAQJwwDAAAAAAAA\n",
       "xAnDAAAAAAAAAHHCMAAAAAAAAECcMAwAAAAAAAAQJwwDAAAAAAAAxAnDAAAAAAAAAHHCMAAAAAAA\n",
       "AECcMAwAAAAAAAAQJwwDAAAAAAAAxAnDAAAAAAAAAHHCMAAAAAAAAECcMAwAAAAAAAAQJwwDAAAA\n",
       "AAAAxAnDAAAAAAAAAHHCMAAAAAAAAECcMAwAAAAAAAAQJwwDAAAAAAAAxAnDAAAAAAAAAHHCMAAA\n",
       "AAAAAECcMAwAAAAAAAAQJwwDAAAAAAAAxAnDAAAAAAAAAHHCMAAAAAAAAECcMAwAAAAAAAAQJwwD\n",
       "AAAAAAAAxAnDAAAAAAAAAHHCMAAAAAAAAECcMAwAAAAAAAAQJwwDAAAAAAAAxAnDAAAAAAAAAHHC\n",
       "MAAAAAAAAECcMAwAAAAAAAAQJwwDAAAAAAAAxAnDAAAAAAAAAHHCMAAAAAAAAECcMAwAAAAAAAAQ\n",
       "JwwDAAAAAAAAxAnDAAAAAAAAAHHCMAAAAAAAAECcMAwAAAAAAAAQJwwDAAAAAAAAxAnDAAAAAAAA\n",
       "AHHCMAAAAAAAAECcMAwAAAAAAAAQJwwDAAAAAAAAxAnDAAAAAAAAAHHCMAAAAAAAAECcMAwAAAAA\n",
       "AAAQJwwDAAAAAAAAxAnDAAAAAAAAAHHCMAAAAAAAAECcMAwAAAAAAAAQJwwDAAAAAAAAxAnDAAAA\n",
       "AAAAAHHCMAAAAAAAAECcMAwAAAAAAAAQJwwDAAAAAAAAxAnDAAAAAAAAAHHCMAAAAAAAAECcMAwA\n",
       "AAAAAAAQJwwDAAAAAAAAxAnDAAAAAAAAAHHCMAAAAAAAAECcMAwAAAAAAAAQJwwDAAAAAAAAxAnD\n",
       "AAAAAAAAAHHCMAAAAAAAAECcMAwAAAAAAAAQJwwDAAAAAAAAxAnDAAAAAAAAAHHCMAAAAAAAAECc\n",
       "MAwAAAAAAAAQJwwDAAAAAAAAxAnDAAAAAAAAAHHCMAAAAAAAAECcMAwAAAAAAAAQJwwDAAAAAAAA\n",
       "xAnDAAAAAAAAAHHCMAAAAAAAAECcMAwAAAAAAAAQJwwDAAAAAAAAxAnDAAAAAAAAAHHCMAAAAAAA\n",
       "AECcMAwAAAAAAAAQJwwDAAAAAAAAxAnDAAAAAAAAAHHCMAAAAAAAAECcMAwAAAAAAAAQJwwDAAAA\n",
       "AAAAxAnDAAAAAAAAAHHCMAAAAAAAAECcMAwAAAAAAAAQJwwDAAAAAAAAxAnDAAAAAAAAAHHCMAAA\n",
       "AAAAAECcMAwAAAAAAAAQJwwDAAAAAAAAxAnDAAAAAAAAAHHCMAAAAAAAAECcMAwAAAAAAAAQJwwD\n",
       "AAAAAAAAxAnDAAAAAAAAAHHCMAAAAAAAAECcMAwAAAAAAAAQJwwDAAAAAAAAxAnDAAAAAAAAAHHC\n",
       "MAAAAAAAAECcMAwAAAAAAAAQJwwDAAAAAAAAxAnDAAAAAAAAAHHCMAAAAAAAAECcMAwAAAAAAAAQ\n",
       "JwwDAAAAAAAAxAnDAAAAAAAAAHHCMAAAAAAAAECcMAwAAAAAAAAQJwwDAAAAAAAAxAnDAAAAAAAA\n",
       "AHHCMAAAAAAAAECcMAwAAAAAAAAQJwwDAAAAAAAAxAnDAAAAAAAAAHHCMAAAAAAAAECcMAwAAAAA\n",
       "AAAQJwwDAAAAAAAAxAnDAAAAAAAAAHHCMAAAAAAAAECcMAwAAAAAAAAQJwwDAAAAAAAAxAnDAAAA\n",
       "AAAAAHHCMAAAAAAAAECcMAwAAAAAAAAQJwwDAAAAAAAAxAnDAAAAAAAAAHHCMAAAAAAAAECcMAwA\n",
       "AAAAAAAQJwwDAAAAAAAAxAnDAAAAAAAAAHHCMAAAAAAAAECcMAwAAAAAAAAQJwwDAAAAAAAAxAnD\n",
       "AAAAAAAAAHHCMAAAAAAAAECcMAwAAAAAAAAQJwwDAAAAAAAAxAnDAAAAAAAAAHHCMAAAAAAAAECc\n",
       "MAwAAAAAAAAQJwwDAAAAAAAAxAnDAAAAAAAAAHHCMAAAAAAAAECcMAwAAAAAAAAQJwwDAAAAAAAA\n",
       "xAnDAAAAAAAAAHHCMAAAAAAAAECcMAwAAAAAAAAQJwwDAAAAAAAAxAnDAAAAAAAAAHHCMAAAAAAA\n",
       "AECcMAwAAAAAAAAQJwwDAAAAAAAAxAnDAAAAAAAAAHHCMAAAAAAAAECcMAwAAAAAAAAQJwwDAAAA\n",
       "AAAAxAnDAAAAAAAAAHHCMAAAAAAAAECcMAwAAAAAAAAQJwwDAAAAAAAAxAnDAAAAAAAAAHHCMAAA\n",
       "AAAAAECcMAwAAAAAAAAQJwwDAAAAAAAAxAnDAAAAAAAAAHHCMAAAAAAAAECcMAwAAAAAAAAQJwwD\n",
       "AAAAAAAAxAnDAAAAAAAAAHHCMAAAAAAAAECcMAwAAAAAAAAQJwwDAAAAAAAAxAnDAAAAAAAAAHHC\n",
       "MAAAAAAAAECcMAwAAAAAAAAQJwwDAAAAAAAAxAnDAAAAAAAAAHHCMAAAAAAAAECcMAwAAAAAAAAQ\n",
       "JwwDAAAAAAAAxAnDAAAAAAAAAHHCMAAAAAAAAECcMAwAAAAAAAAQJwwDAAAAAAAAxAnDAAAAAAAA\n",
       "AHHCMAAAAAAAAECcMAwAAAAAAAAQJwwDAAAAAAAAxAnDAAAAAAAAAHHCMAAAAAAAAECcMAwAAAAA\n",
       "AAAQJwwDAAAAAAAAxAnDAAAAAAAAAHHCMAAAAAAAAECcMAwAAAAAAAAQJwwDAAAAAAAAxAnDAAAA\n",
       "AAAAAHHCMAAAAAAAAECcMAwAAAAAAAAQJwwDAAAAAAAAxAnDAAAAAAAAAHHCMAAAAAAAAECcMAwA\n",
       "AAAAAAAQJwwDAAAAAAAAxAnDAAAAAAAAAHHCMAAAAAAAAECcMAwAAAAAAAAQJwwDAAAAAAAAxAnD\n",
       "AAAAAAAAAHHCMAAAAAAAAECcMAwAAAAAAAAQJwwDAAAAAAAAxAnDAAAAAAAAAHHCMAAAAAAAAECc\n",
       "MAwAAAAAAAAQJwwDAAAAAAAAxAnDAAAAAAAAAHHCMAAAAAAAAECcMAwAAAAAAAAQJwwDAAAAAAAA\n",
       "xAnDAAAAAAAAAHHCMAAAAAAAAECcMAwAAAAAAAAQJwwDAAAAAAAAxAnDAAAAAAAAAHHCMAAAAAAA\n",
       "AECcMAwAAAAAAAAQJwwDAAAAAAAAxAnDAAAAAAAAAHHCMAAAAAAAAECcMAwAAAAAAAAQJwwDAAAA\n",
       "AAAAxAnDAAAAAAAAAHHCMAAAAAAAAECcMAwAAAAAAAAQJwwDAAAAAAAAxAnDAAAAAAAAAHHCMAAA\n",
       "AAAAAECcMAwAAAAAAAAQJwwDAAAAAAAAxAnDAAAAAAAAAHHCMAAAAAAAAECcMAwAAAAAAAAQJwwD\n",
       "AAAAAAAAxAnDAAAAAAAAAHHCMAAAAAAAAECcMAwAAAAAAAAQJwwDAAAAAAAAxAnDAAAAAAAAAHHC\n",
       "MAAAAAAAAECcMAwAAAAAAAAQJwwDAAAAAAAAxAnDAAAAAAAAAHHCMAAAAAAAAECcMAwAAAAAAAAQ\n",
       "JwwDAAAAAAAAxAnDAIw9O5ABAAAAGORvfY+vNAIAAAAAAObEMAAAAAAAAMCcGAYAAAAAAACYE8MA\n",
       "AAAAAAAAc2IYAAAAAAAAYE4MAwAAAAAAAMyJYQAAAAAAAIA5MQwAAAAAAAAwJ4YBAAAAAAAA5sQw\n",
       "AAAAAAAAwJwYBgAAAAAAAJgTwwAAAAAAAABzYhgAAAAAAABgTgwDAAAAAAAAzIlhAAAAAAAAgDkx\n",
       "DAAAAAAAADAnhgEAAAAAAADmxDAAAAAAAADAnBgGAAAAAAAAmBPDAAAAAAAAAHNiGAAAAAAAAGBO\n",
       "DAMAAAAAAADMiWEAAAAAAACAOTEMAAAAAAAAMCeGAQAAAAAAAObEMAAAAAAAAMCcGAYAAAAAAACY\n",
       "E8MAAAAAAAAAc2IYAAAAAAAAYE4MAwAAAAAAAMyJYQAAAAAAAIA5MQwAAAAAAAAwJ4YBAAAAAAAA\n",
       "5sQwAAAAAAAAwJwYBgAAAABGBoxlAAAU60lEQVQAAJgTwwAAAAAAAABzYhgAAAAAAABgTgwDAAAA\n",
       "AAAAzIlhAAAAAAAAgDkxDAAAAAAAADAnhgEAAAAAAADmxDAAAAAAAADAnBgGAAAAAAAAmBPDAAAA\n",
       "AAAAAHNiGAAAAAAAAGBODAMAAAAAAADMiWEAAAAAAACAOTEMAAAAAAAAMCeGAQAAAAAAAObEMAAA\n",
       "AAAAAMCcGAYAAAAAAACYE8MAAAAAAAAAc2IYAAAAAAAAYE4MAwAAAAAAAMyJYQAAAAAAAIA5MQwA\n",
       "AAAAAAAwJ4YBAAAAAAAA5sQwAAAAAAAAwJwYBgAAAAAAAJgTwwAAAAAAAABzYhgAAAAAAABgTgwD\n",
       "AAAAAAAAzIlhAAAAAAAAgDkxDAAAAAAAADAnhgEAAAAAAADmxDAAAAAAAADAnBgGAAAAAAAAmBPD\n",
       "AAAAAAAAAHNiGAAAAAAAAGBODAMAAAAAAADMiWEAAAAAAACAOTEMAAAAAAAAMCeGAQAAAAAAAObE\n",
       "MAAAAAAAAMCcGAYAAAAAAACYE8MAAAAAAAAAc2IYAAAAAAAAYE4MAwAAAAAAAMyJYQAAAAAAAIA5\n",
       "MQwAAAAAAAAwJ4YBAAAAAAAA5sQwAAAAAAAAwJwYBgAAAAAAAJgTwwAAAAAAAABzYhgAAAAAAABg\n",
       "TgwDAAAAAAAAzIlhAAAAAAAAgDkxDAAAAAAAADAnhgEAAAAAAADmxDAAAAAAAADAnBgGAAAAAAAA\n",
       "mBPDAAAAAAAAAHNiGAAAAAAAAGBODAMAAAAAAADMiWEAAAAAAACAOTEMAAAAAAAAMCeGAQAAAAAA\n",
       "AObEMAAAAAAAAMCcGAYAAAAAAACYE8MAAAAAAAAAc2IYAAAAAAAAYE4MAwAAAAAAAMyJYQAAAAAA\n",
       "AIA5MQwAAAAAAAAwJ4YBAAAAAAAA5sQwAAAAAAAAwJwYBgAAAAAAAJgTwwAAAAAAAABzYhgAAAAA\n",
       "AABgTgwDAAAAAAAAzIlhAAAAAAAAgDkxDAAAAAAAADAnhgEAAAAAAADmxDAAAAAAAADAnBgGAAAA\n",
       "AAAAmBPDAAAAAAAAAHNiGAAAAAAAAGBODAMAAAAAAADMiWEAAAAAAACAOTEMAAAAAAAAMCeGAQAA\n",
       "AAAAAObEMAAAAAAAAMCcGAYAAAAAAACYE8MAAAAAAAAAc2IYAAAAAAAAYE4MAwAAAAAAAMyJYQAA\n",
       "AAAAAIA5MQwAAAAAAAAwJ4YBAAAAAAAA5sQwAAAAAAAAwJwYBgAAAAAAAJgTwwAAAAAAAABzYhgA\n",
       "AAAAAABgTgwDAAAAAAAAzIlhAAAAAAAAgDkxDAAAAAAAADAnhgEAAAAAAADmxDAAAAAAAADAnBgG\n",
       "AAAAAAAAmBPDAAAAAAAAAHNiGAAAAAAAAGBODAMAAAAAAADMiWEAAAAAAACAOTEMAAAAAAAAMCeG\n",
       "AQAAAAAAAObEMAAAAAAAAMCcGAYAAAAAAACYE8MAAAAAAAAAc2IYAAAAAAAAYE4MAwAAAAAAAMyJ\n",
       "YQAAAAAAAIA5MQwAAAAAAAAwJ4YBAAAAAAAA5sQwAAAAAAAAwJwYBgAAAAAAAJgTwwAAAAAAAABz\n",
       "YhgAAAAAAABgTgwDAAAAAAAAzIlhAAAAAAAAgDkxDAAAAAAAADAnhgEAAAAAAADmxDAAAAAAAADA\n",
       "nBgGAAAAAAAAmBPDAAAAAAAAAHNiGAAAAAAAAGBODAMAAAAAAADMiWEAAAAAAACAOTEMAAAAAAAA\n",
       "MCeGAQAAAAAAAObEMAAAAAAAAMCcGAYAAAAAAACYE8MAAAAAAAAAc2IYAAAAAAAAYE4MAwAAAAAA\n",
       "AMyJYQAAAAAAAIA5MQwAAAAAAAAwJ4YBAAAAAAAA5sQwAAAAAAAAwJwYBgAAAAAAAJgTwwAAAAAA\n",
       "AABzYhgAAAAAAABgTgwDAAAAAAAAzIlhAAAAAAAAgDkxDAAAAAAAADAnhgEAAAAAAADmxDAAAAAA\n",
       "AADAnBgGAAAAAAAAmBPDAAAAAAAAAHNiGAAAAAAAAGBODAMAAAAAAADMiWEAAAAAAACAOTEMAAAA\n",
       "AAAAMCeGAQAAAAAAAObEMAAAAAAAAMCcGAYAAAAAAACYE8MAAAAAAAAAc2IYAAAAAAAAYE4MAwAA\n",
       "AAAAAMyJYQAAAAAAAIA5MQwAAAAAAAAwJ4YBAAAAAAAA5sQwAAAAAAAAwJwYBgAAAAAAAJgTwwAA\n",
       "AAAAAABzYhgAAAAAAABgTgwDAAAAAAAAzIlhAAAAAAAAgDkxDAAAAAAAADAnhgEAAAAAAADmxDAA\n",
       "AAAAAADAnBgGAAAAAAAAmBPDAAAAAAAAAHNiGAAAAAAAAGBODAMAAAAAAADMiWEAAAAAAACAOTEM\n",
       "AAAAAAAAMCeGAQAAAAAAAObEMAAAAAAAAMCcGAYAAAAAAACYE8MAAAAAAAAAc2IYAAAAAAAAYE4M\n",
       "AwAAAAAAAMyJYQAAAAAAAIA5MQwAAAAAAAAwJ4YBAAAAAAAA5sQwAAAAAAAAwJwYBgAAAAAAAJgT\n",
       "wwAAAAAAAABzYhgAAAAAAABgTgwDAAAAAAAAzIlhAAAAAAAAgDkxDAAAAAAAADAnhgEAAAAAAADm\n",
       "xDAAAAAAAADAnBgGAAAAAAAAmBPDAAAAAAAAAHNiGAAAAAAAAGBODAMAAAAAAADMiWEAAAAAAACA\n",
       "OTEMAAAAAAAAMCeGAQAAAAAAAObEMAAAAAAAAMCcGAYAAAAAAACYE8MAAAAAAAAAc2IYAAAAAAAA\n",
       "YE4MAwAAAAAAAMyJYQAAAAAAAIA5MQwAAAAAAAAwJ4YBAAAAAAAA5sQwAAAAAAAAwJwYBgAAAAAA\n",
       "AJgTwwAAAAAAAABzYhgAAAAAAABgTgwDAAAAAAAAzIlhAAAAAAAAgDkxDAAAAAAAADAnhgEAAAAA\n",
       "AADmxDAAAAAAAADAnBgGAAAAAAAAmBPDAAAAAAAAAHNiGAAAAAAAAGBODAMAAAAAAADMiWEAAAAA\n",
       "AACAOTEMAAAAAAAAMCeGAQAAAAAAAObEMAAAAAAAAMCcGAYAAAAAAACYE8MAAAAAAAAAc2IYAAAA\n",
       "AAAAYE4MAwAAAAAAAMyJYQAAAAAAAIA5MQwAAAAAAAAwJ4YBAAAAAAAA5sQwAAAAAAAAwJwYBgAA\n",
       "AAAAAJgTwwAAAAAAAABzYhgAAAAAAABgTgwDAAAAAAAAzIlhAAAAAAAAgDkxDAAAAAAAADAnhgEA\n",
       "AAAAAADmxDAAAAAAAADAnBgGAAAAAAAAmBPDAAAAAAAAAHNiGAAAAAAAAGBODAMAAAAAAADMiWEA\n",
       "AAAAAACAOTEMAAAAAAAAMCeGAQAAAAAAAObEMAAAAAAAAMCcGAYAAAAAAACYE8MAAAAAAAAAc2IY\n",
       "AAAAAAAAYE4MAwAAAAAAAMyJYQAAAAAAAIA5MQwAAAAAAAAwJ4YBAAAAAAAA5sQwAAAAAAAAwJwY\n",
       "BgAAAAAAAJgTwwAAAAAAAABzYhgAAAAAAABgTgwDAAAAAAAAzIlhAAAAAAAAgDkxDAAAAAAAADAn\n",
       "hgEAAAAAAADmxDAAAAAAAADAnBgGAAAAAAAAmBPDAAAAAAAAAHNiGAAAAAAAAGBODAMAAAAAAADM\n",
       "iWEAAAAAAACAOTEMAAAAAAAAMCeGAQAAAAAAAObEMAAAAAAAAMCcGAYAAAAAAACYE8MAAAAAAAAA\n",
       "c2IYAAAAAAAAYE4MAwAAAAAAAMyJYQAAAAAAAIA5MQwAAAAAAAAwJ4YBAAAAAAAA5sQwAAAAAAAA\n",
       "wJwYBgAAAAAAAJgTwwAAAAAAAABzYhgAAAAAAABgTgwDAAAAAAAAzIlhAAAAAAAAgDkxDAAAAAAA\n",
       "ADAnhgEAAAAAAADmxDAAAAAAAADAnBgGAAAAAAAAmBPDAAAAAAAAAHNiGAAAAAAAAGBODAMAAAAA\n",
       "AADMiWEAAAAAAACAOTEMAAAAAAAAMCeGAQAAAAAAAObEMAAAAAAAAMCcGAYAAAAAAACYE8MAAAAA\n",
       "AAAAc2IYAAAAAAAAYE4MAwAAAAAAAMyJYQAAAAAAAIA5MQwAAAAAAAAwJ4YBAAAAAAAA5sQwAAAA\n",
       "AAAAwJwYBgAAAAAAAJgTwwAAAAAAAABzYhgAAAAAAABgTgwDAAAAAAAAzIlhAAAAAAAAgDkxDAAA\n",
       "AAAAADAnhgEAAAAAAADmxDAAAAAAAADAnBgGAAAAAAAAmBPDAAAAAAAAAHNiGAAAAAAAAGBODAMA\n",
       "AAAAAADMiWEAAAAAAACAOTEMAAAAAAAAMCeGAQAAAAAAAObEMAAAAAAAAMCcGAYAAAAAAACYE8MA\n",
       "AAAAAAAAc2IYAAAAAAAAYE4MAwAAAAAAAMyJYQAAAAAAAIA5MQwAAAAAAAAwJ4YBAAAAAAAA5sQw\n",
       "AAAAAAAAwJwYBgAAAAAAAJgTwwAAAAAAAABzYhgAAAAAAABgTgwDAAAAAAAAzIlhAAAAAAAAgDkx\n",
       "DAAAAAAAADAnhgEAAAAAAADmxDAAAAAAAADAnBgGAAAAAAAAmBPDAAAAAAAAAHNiGAAAAAAAAGBO\n",
       "DAMAAAAAAADMiWEAAAAAAACAOTEMAAAAAAAAMCeGAQAAAAAAAObEMAAAAAAAAMCcGAYAAAAAAACY\n",
       "E8MAAAAAAAAAc2IYAAAAAAAAYE4MAwAAAAAAAMyJYQAAAAAAAIA5MQwAAAAAAAAwJ4YBAAAAAAAA\n",
       "5sQwAAAAAAAAwJwYBgAAAAAAAJgTwwAAAAAAAABzYhgAAAAAAABgTgwDAAAAAAAAzIlhAAAAAAAA\n",
       "gDkxDAAAAAAAADAnhgEAAAAAAADmxDAAAAAAAADAnBgGAAAAAAAAmBPDAAAAAAAAAHNiGAAAAAAA\n",
       "AGBODAMAAAAAAADMiWEAAAAAAACAOTEMAAAAAAAAMCeGAQAAAAAAAObEMAAAAAAAAMCcGAYAAAAA\n",
       "AACYE8MAAAAAAAAAc2IYAAAAAAAAYE4MAwAAAAAAAMyJYQAAAAAAAIA5MQwAAAAAAAAwJ4YBAAAA\n",
       "AAAA5sQwAAAAAAAAwJwYBgAAAAAAAJgTwwAAAAAAAABzYhgAAAAAAABgTgwDAAAAAAAAzIlhAAAA\n",
       "AAAAgDkxDAAAAAAAADAnhgEAAAAAAADmxDAAAAAAAADAnBgGAAAAAAAAmBPDAAAAAAAAAHNiGAAA\n",
       "AAAAAGBODAMAAAAAAADMiWEAAAAAAACAOTEMAAAAAAAAMCeGAQAAAAAAAObEMAAAAAAAAMCcGAYA\n",
       "AAAAAACYE8MAAAAAAAAAc2IYAAAAAAAAYE4MAwAAAAAAAMyJYQAAAAAAAIA5MQwAAAAAAAAwJ4YB\n",
       "AAAAAAAA5sQwAAAAAAAAwJwYBgAAAAAAAJgTwwAAAAAAAABzYhgAAAAAAABgTgwDAAAAAAAAzIlh\n",
       "AAAAAAAAgDkxDAAAAAAAADAnhgEAAAAAAADmxDAAAAAAAADAnBgGAAAAAAAAmBPDAAAAAAAAAHNi\n",
       "GAAAAAAAAGBODAMAAAAAAADMiWEAAAAAAACAOTEMAAAAAAAAMCeGAQAAAAAAAObEMAAAAAAAAMCc\n",
       "GAYAAAAAAACYE8MAAAAAAAAAc2IYAAAAAAAAYE4MAwAAAAAAAMyJYQAAAAAAAIA5MQwAAAAAAAAw\n",
       "J4YBAAAAAAAA5sQwAAAAAAAAwJwYBgAAAAAAAJgTwwAAAAAAAABzYhgAAAAAAABgTgwDAAAAAAAA\n",
       "zIlhAAAAAAAAgDkxDAAAAAAAADAnhgEAAAAAAADmxDAAAAAAAADAnBgGAAAAAAAAmBPDAAAAAAAA\n",
       "AHNiGAAAAAAAAGBODAMAAAAAAADMiWEAAAAAAACAOTEMAAAAAAAAMCeGAQAAAAAAAObEMAAAAAAA\n",
       "AMCcGAYAAAAAAACYE8MAAAAAAAAAc2IYAAAAAAAAYE4MAwAAAAAAAMyJYQAAAAAAAIA5MQwAAAAA\n",
       "AAAwJ4YBAAAAAAAA5sQwAAAAAAAAwJwYBgAAAAAAAJgTwwAAAAAAAABzYhgAAAAAAABgTgwDAAAA\n",
       "AAAAzIlhAAAAAAAAgDkxDAAAAAAAADAnhgEAAAAAAADmxDAAAAAAAADAnBgGAAAAAAAAmBPDAAAA\n",
       "AAAAAHNiGAAAAAAAAGBODAMAAAAAAADMiWEAAAAAAACAOTEMAAAAAAAAMCeGAQAAAAAAAObEMAAA\n",
       "AAAAAMCcGAYAAAAAAACYE8MAAAAAAAAAc2IYAAAAAAAAYE4MAwAAAAAAAMyJYQAAAAAAAIA5MQwA\n",
       "AAAAAAAwJ4YBAAAAAAAA5sQwAAAAAAAAwJwYBgAAAAAAAJgTwwAAAAAAAABzYhgAAAAAAABgTgwD\n",
       "AAAAAAAAzIlhAAAAAAAAgDkxDAAAAAAAADAnhgEAAAAAAADmxDAAAAAAAADAnBgGAAAAAAAAmBPD\n",
       "AAAAAAAAAHNiGAAAAAAAAGBODAMAAAAAAADMiWEAAAAAAACAOTEMAAAAAAAAMCeGAQAAAAAAAObE\n",
       "MAAAAAAAAMCcGAYAAAAAAACYE8MAAAAAAAAAc2IYAAAAAAAAYE4MAwAAAAAAAMyJYQAAAAAAAIA5\n",
       "MQwAAAAAAAAwJ4YBAAAAAAAA5sQwAAAAAAAAwJwYBgAAAAAAAJgTwwAAAAAAAABzYhgAAAAAAABg\n",
       "TgwDAAAAAAAAzIlhAAAAAAAAgDkxDAAAAAAAADAnhgEAAAAAAADmxDAAAAAAAADAnBgGAKg9O5AB\n",
       "AAAAGORvfY+vNAIAAAAAmBPDAAAAAAAAAHNiGAAAAAAAAGBODAMAAAAAAADMiWEAAAAAAACAOTEM\n",
       "AAAAAAAAMCeGAQAAAAAAAObEMAAAAAAAAMCcGAYAAAAAAACYE8MAAAAAAAAAc2IYAAAAAAAAYE4M\n",
       "AwAAAAAAAMyJYQAAAAAAAIA5MQwAAAAAAAAwJ4YBAAAAAAAA5sQwAAAAAAAAwJwYBgAAAAAAAJgT\n",
       "wwAAAAAAAABzYhgAAAAAAABgTgwDAAAAAAAAzIlhAAAAAAAAgDkxDAAAAAAAADAnhgEAAAAAAADm\n",
       "xDAAAAAAAADAnBgGAAAAAAAAmBPDAAAAAAAAAHNiGAAAAAAAAGBODAMAAAAAAADMiWEAAAAAAACA\n",
       "OTEMAAAAAAAAMCeGAQAAAAAAAObEMAAAAAAAAMCcGAYAAAAAAACYE8MAAAAAAAAAc2IYAAAAAAAA\n",
       "YE4MAwAAAAAAAMyJYQAAAAAAAIA5MQwAAAAAAAAwJ4YBAAAAAAAA5sQwAAAAAAAAwJwYBgAAAAAA\n",
       "AJgTwwAAAAAAAABzYhgAAAAAAABgLnkg7U/O8Q2EAAAAAElFTkSuQmCC\n",
       "\" transform=\"translate(187, 47)\"/>\n",
       "</g>\n",
       "<defs>\n",
       "  <clipPath id=\"clip583\">\n",
       "    <rect x=\"2160\" y=\"47\" width=\"73\" height=\"1440\"/>\n",
       "  </clipPath>\n",
       "</defs>\n",
       "<g clip-path=\"url(#clip583)\">\n",
       "<image width=\"72\" height=\"1439\" xlink:href=\"data:image/png;base64,\n",
       "iVBORw0KGgoAAAANSUhEUgAAAEgAAAWfCAYAAAAI7rB3AAAMWUlEQVR4nO3dwY0rRxAFwaZQ/lsh\n",
       "L6XfLQtUeSQPERYsEg8c9MyQ+/n3/v0O/+uvb/8Bv06gIFAQKAgU5r5/v/03/DQLCgIFgYJAQaAw\n",
       "7/359t/w0ywoCBQECgIFR41gQUGgIFAQKAgU5rmKrSwoCBQECgIFgcK86yq2saAgUBAoCBQcNYIF\n",
       "BYGCQEGgIFBwFQsWFAQKAgWBgvtBwYKCQEGgIFAQKMxx1FhZUBAoCBQECgIFN8yCBQWBgkBBoDDH\n",
       "DbOVBQWBgkBBoCBQmHP/+fbf8NMsKAgUBAoCBYGCxz7BgoJAQaAgUHDDLFhQECgIFAQKAgVXsWBB\n",
       "QaAgUBAouB8ULCgIFAQKAgWBwnwcNVYWFAQKAgWBgkBhzvWfWTYWFAQKAgWBgqNGsKAgUBAoCBQE\n",
       "Co4awYKCQEGgIFAQKHjDLFhQECgIFAQK83HUWFlQECgIFAQKAgXvSQcLCgIFgYJAwVEjWFAQKAgU\n",
       "BAoCBc/mgwUFgYJAQaAgUHAWCxYUBAoCBYGCo0awoCBQECgIFAQKjhrBgoJAQaAgUBAozLn323/D\n",
       "T7OgIFAQKAgUHDWCBQWBgkBBoCBQ8NgnWFAQKAgUBAo+pIMFBYGCQEGgIFCYj6caKwsKAgWBgkBB\n",
       "oOAsFiwoCBQECgIFL1AFCwoCBYGCQEGg4IZZsKAgUBAoCBTcDwoWFAQKAgWBgkDBDbNgQUGgIFAQ\n",
       "KAgUXMWCBQWBgkBBoOB788GCgkBBoCBQECg4agQLCgIFgYJAQaDgKhYsKAgUBAoCBR/SwYKCQEGg\n",
       "IFAQKLiKBQsKAgWBgkBhzvMhvbGgIFAQKAgUBAqOGsGCgkBBoCBQECi4igULCgIFgYJAwYd0sKAg\n",
       "UBAoCBQECnPu+/bf8NMsKAgUBAoCBYGCs1iwoCBQECgIFBw1ggUFgYJAQaAgUHDUCBYUBAoCBYGC\n",
       "o0awoCBQECgIFAQKc5w0VhYUBAoCBYGCQGHOcxbbWFAQKAgUBAqOGsGCgkBBoCBQECi4igULCgIF\n",
       "gYJAQaAwfohzZ0FBoCBQECg4agQLCgIFgYJAQaDgKhYsKAgUBAoChTn38+2/4adZUBAoCBQECgKF\n",
       "ec9VbGNBQaAgUBAoCBTcMAsWFAQKAgWBghtmwYKCQEGgIFAQKMy7Gm3UCQIFgYJAwVEjWFAQKAgU\n",
       "BAoChTmeza8sKAgUBAoCBYHCPGexlQUFgYJAQaAwx1ONlTpBoCBQECgIFBw1ggUFgYJAQaAgUPDY\n",
       "J1hQECgIFAQKXgMO6gSBgkBBoCBQ8J50sKAgUBAoCBQ81QgWFAQKAgWBgkBh3tNoo04QKAgUBAoC\n",
       "BTfMggUFgYJAQaDghlmwoCBQECgIFAQKc9wwW6kTBAoCBYGCQMFZLFhQECgIFAQKPqSDBQWBgkBB\n",
       "oCBQ8L35YEFBoCBQECj43nxQJwgUBAoCBYHCPEeNlQUFgYJAQaAgUPDYJ1hQECgIFAQK/jNLUCcI\n",
       "FAQKAgWBghtmwYKCQEGgIFAQKLhhFiwoCBQECgIFR41gQUGgIFAQKAgUvCcd1AkCBYGCQMFRI1hQ\n",
       "ECgIFAQKAgVPNYIFBYGCQEGgIFBwFgsWFAQKAgWBgn+fFSwoCBQECgIFgYJ/ZRzUCQIFgYJAQaDg\n",
       "hlmwoCBQECgIFDybDxYUBAoCBYGCQMFRI1hQECgIFAQKc31IrywoCBQECgIFgYLvzQd1gkBBoCBQ\n",
       "ECi4YRYsKAgUBAoCBR/SwYKCQEGgIFAQKHjDLFhQECgIFAQKjhrBgoJAQaAgUBAouIoFCwoCBYGC\n",
       "QEGg4NdfgjpBoCBQECjM9VRjZUFBoCBQECgIFNwwCxYUBAoCBYGCQMFVLFhQECgIFAQKPqSDBQWB\n",
       "gkBBoCBQ8BtmwYKCQEGgIFBw1AgWFAQKAgWBgkDBVSxYUBAoCBQECgIFX2YJ6gSBgkBBoODLLMGC\n",
       "gkBBoCBQECi4YRYsKAgUBAoCBYGCq1iwoCBQECgIFLwGHCwoCBQECgIFgYKjRrCgIFAQKAgU5h0f\n",
       "0hsLCgIFgYJAQaDghlmwoCBQECgIFAQKbpgFCwoCBYGCQMFRI1hQECgIFAQKAgVHjWBBQaAgUBAo\n",
       "CBScxYIFBYGCQEGg4KgRLCgIFAQKAgWBgqtYsKAgUBAoCBTm+jLLyoKCQEGgIFAQKDhqBAsKAgWB\n",
       "gkBBoODZfLCgIFAQKAgU5r1v/wm/zYKCQEGgIFAQKDhqBAsKAgWBgkDBD00GCwoCBYGCQEGg4KgR\n",
       "LCgIFAQKAgWBgjfMggUFgYJAQaDgyyzBgoJAQaAgUBAoeMMsWFAQKAgUBAoCBY99ggUFgYJAQaDg\n",
       "qUawoCBQECgIFAQKHvsECwoCBYGCQMH9oGBBQaAgUBAoCBQ8mw8WFAQKAgWBgkDBDbNgQUGgIFAQ\n",
       "KHg2HywoCBQECgIFgcLcb/8FP86CgkBBoCBQECg4iwULCgIFgYJAwRtmwYKCQEGgIFAQKLhhFiwo\n",
       "CBQECgIF94OCBQWBgkBBoCBQcNQIFhQECgIFgYJAwVksWFAQKAgUBAqezQcLCgIFgYJAQaAwfvxl\n",
       "Z0FBoCBQECgIFJzFggUFgYJAQaDg2XywoCBQECgIFAQKns0HCwoCBYGCQMFRI1hQECgIFAQKAgVH\n",
       "jWBBQaAgUBAoCBTmesVsZUFBoCBQECi4YRYsKAgUBAoCBYGCG2bBgoJAQaAgUHDUCBYUBAoCBYGC\n",
       "QGGepxorCwoCBYGCQEGgMPe4YbaxoCBQECgIFLxAFSwoCBQECgIFgYIfmgwWFAQKAgWBgkDBD00G\n",
       "CwoCBYGCQMGz+WBBQaAgUBAoCBS8Jx0sKAgUBAoCBd84DBYUBAoCBYGCQMFRI1hQECgIFAQKAgXv\n",
       "SQcLCgIFgYJAwWvAwYKCQEGgIFAQKDhqBAsKAgWBgkBBoOA96WBBQaAgUBAo+ImuYEFBoCBQECgI\n",
       "FNwwCxYUBAoCBYGCZ/PBgoJAQaAgUBAoOGoECwoCBYGCQEGg4CwWLCgIFAQKAgVHjWBBQaAgUBAo\n",
       "CBRcxYIFBYGCQEGgIFBwwyxYUBAoCBQECo4awYKCQEGgIFAQKDhqBAsKAgWBgkDBUSNYUBAoCBQE\n",
       "CgIFP9EVLCgIFAQKAgWBgv8vFiwoCBQECgIFN8yCBQWBgkBBoCBQmHdcxjYWFAQKAgWBgkDBWSxY\n",
       "UBAoCBQECp7NBwsKAgWBgkBBoODZfLCgIFAQKAgU3A8KFhQECgIFgYJAwbP5YEFBoCBQECgIFJzF\n",
       "ggUFgYJAQaDgJ7qCBQWBgkBBoCBQmOsVs5UFBYGCQEGg4AWqYEFBoCBQECgIFOY5aqwsKAgUBAoC\n",
       "BYGCs1iwoCBQECgIFDzVCBYUBAoCBYGCQMEbZsGCgkBBoCBQECjM9ZXMlQUFgYJAQaDghlmwoCBQ\n",
       "ECgIFAQKfv0lWFAQKAgUBApeoAoWFAQKAgWBgkDBU41gQUGgIFAQKAgU3DALFhQECgIFgcLc45bZ\n",
       "xoKCQEGgIFAQKLhhFiwoCBQECgIFgYKrWLCgIFAQKAgUPNUIFhQECgIFgYJAwWOfYEFBoCBQECjM\n",
       "/ThqbCwoCBQECgIFgYKjRrCgIFAQKAgUBArzXMVWFhQECgIFgYKjRrCgIFAQKAgUBApzP65iGwsK\n",
       "AgWBgkBBoOAsFiwoCBQECgIFTzWCBQWBgkBBoCBQcNQIFhQECgIFgYIP6WBBQaAgUBAoCBQ8mw8W\n",
       "FAQKAgWBgkBh3vnz7b/hp1lQECgIFAQKbpgFCwoCBYGCQEGg4A2zYEFBoCBQECjMfe4HbSwoCBQE\n",
       "CgIFgYKjRrCgIFAQKAgUBApzPZtfWVAQKAgUBAqOGsGCgkBBoCBQECg4agQLCgIFgYJAQaAw7zmL\n",
       "bSwoCBQECgIFN8yCBQWBgkBBoCBQ8J50sKAgUBAoCBQcNYIFBYGCQEGgIFCY56ixsqAgUBAoCBQE\n",
       "Cs5iwYKCQEGgIFCY6wWqlQUFgYJAQaAgUPCb9sGCgkBBoCBQECj4MkuwoCBQECgIFDzVCBYUBAoC\n",
       "BYGCQMFRI1hQECgIFAQKPqSDBQWBgkBBoCBQ8Gw+WFAQKAgUBAoCBWexYEFBoCBQECjM8Wx+ZUFB\n",
       "oCBQECgIFBw1ggUFgYJAQaAgUPCedLCgIFAQKAgU5jhqrCwoCBQECgIFgYI3zIIFBYGCQEGg4Nl8\n",
       "sKAgUBAoCBQECm6YBQsKAgWBgkBBoDDvvG//DT/NgoJAQaAgUHDDLFhQECgIFAQKAoU5jhorCwoC\n",
       "BYGCQOE/LrLuTX/wFc8AAAAASUVORK5CYII=\n",
       "\" transform=\"translate(2161, 47)\"/>\n",
       "</g>\n",
       "<path clip-path=\"url(#clip580)\" d=\"M2280.7 1317.39 Q2277.09 1317.39 2275.26 1320.96 Q2273.45 1324.5 2273.45 1331.63 Q2273.45 1338.73 2275.26 1342.3 Q2277.09 1345.84 2280.7 1345.84 Q2284.33 1345.84 2286.14 1342.3 Q2287.97 1338.73 2287.97 1331.63 Q2287.97 1324.5 2286.14 1320.96 Q2284.33 1317.39 2280.7 1317.39 M2280.7 1313.69 Q2286.51 1313.69 2289.57 1318.3 Q2292.64 1322.88 2292.64 1331.63 Q2292.64 1340.36 2289.57 1344.96 Q2286.51 1349.54 2280.7 1349.54 Q2274.89 1349.54 2271.81 1344.96 Q2268.76 1340.36 2268.76 1331.63 Q2268.76 1322.88 2271.81 1318.3 Q2274.89 1313.69 2280.7 1313.69 Z\" fill=\"#000000\" fill-rule=\"nonzero\" fill-opacity=\"1\" /><path clip-path=\"url(#clip580)\" d=\"M2300.86 1342.99 L2305.75 1342.99 L2305.75 1348.87 L2300.86 1348.87 L2300.86 1342.99 Z\" fill=\"#000000\" fill-rule=\"nonzero\" fill-opacity=\"1\" /><path clip-path=\"url(#clip580)\" d=\"M2325.93 1317.39 Q2322.32 1317.39 2320.49 1320.96 Q2318.69 1324.5 2318.69 1331.63 Q2318.69 1338.73 2320.49 1342.3 Q2322.32 1345.84 2325.93 1345.84 Q2329.57 1345.84 2331.37 1342.3 Q2333.2 1338.73 2333.2 1331.63 Q2333.2 1324.5 2331.37 1320.96 Q2329.57 1317.39 2325.93 1317.39 M2325.93 1313.69 Q2331.74 1313.69 2334.8 1318.3 Q2337.88 1322.88 2337.88 1331.63 Q2337.88 1340.36 2334.8 1344.96 Q2331.74 1349.54 2325.93 1349.54 Q2320.12 1349.54 2317.04 1344.96 Q2313.99 1340.36 2313.99 1331.63 Q2313.99 1322.88 2317.04 1318.3 Q2320.12 1313.69 2325.93 1313.69 Z\" fill=\"#000000\" fill-rule=\"nonzero\" fill-opacity=\"1\" /><path clip-path=\"url(#clip580)\" d=\"M2346.9 1344.94 L2354.54 1344.94 L2354.54 1318.57 L2346.23 1320.24 L2346.23 1315.98 L2354.5 1314.31 L2359.17 1314.31 L2359.17 1344.94 L2366.81 1344.94 L2366.81 1348.87 L2346.9 1348.87 L2346.9 1344.94 Z\" fill=\"#000000\" fill-rule=\"nonzero\" fill-opacity=\"1\" /><polyline clip-path=\"url(#clip580)\" style=\"stroke:#000000; stroke-linecap:round; stroke-linejoin:round; stroke-width:4; stroke-opacity:1; fill:none\" points=\"2232.76,1335.22 2256.76,1335.22 \"/>\n",
       "<path clip-path=\"url(#clip580)\" d=\"M2280.7 1166.17 Q2277.09 1166.17 2275.26 1169.73 Q2273.45 1173.27 2273.45 1180.4 Q2273.45 1187.51 2275.26 1191.07 Q2277.09 1194.62 2280.7 1194.62 Q2284.33 1194.62 2286.14 1191.07 Q2287.97 1187.51 2287.97 1180.4 Q2287.97 1173.27 2286.14 1169.73 Q2284.33 1166.17 2280.7 1166.17 M2280.7 1162.46 Q2286.51 1162.46 2289.57 1167.07 Q2292.64 1171.65 2292.64 1180.4 Q2292.64 1189.13 2289.57 1193.74 Q2286.51 1198.32 2280.7 1198.32 Q2274.89 1198.32 2271.81 1193.74 Q2268.76 1189.13 2268.76 1180.4 Q2268.76 1171.65 2271.81 1167.07 Q2274.89 1162.46 2280.7 1162.46 Z\" fill=\"#000000\" fill-rule=\"nonzero\" fill-opacity=\"1\" /><path clip-path=\"url(#clip580)\" d=\"M2300.86 1191.77 L2305.75 1191.77 L2305.75 1197.65 L2300.86 1197.65 L2300.86 1191.77 Z\" fill=\"#000000\" fill-rule=\"nonzero\" fill-opacity=\"1\" /><path clip-path=\"url(#clip580)\" d=\"M2325.93 1166.17 Q2322.32 1166.17 2320.49 1169.73 Q2318.69 1173.27 2318.69 1180.4 Q2318.69 1187.51 2320.49 1191.07 Q2322.32 1194.62 2325.93 1194.62 Q2329.57 1194.62 2331.37 1191.07 Q2333.2 1187.51 2333.2 1180.4 Q2333.2 1173.27 2331.37 1169.73 Q2329.57 1166.17 2325.93 1166.17 M2325.93 1162.46 Q2331.74 1162.46 2334.8 1167.07 Q2337.88 1171.65 2337.88 1180.4 Q2337.88 1189.13 2334.8 1193.74 Q2331.74 1198.32 2325.93 1198.32 Q2320.12 1198.32 2317.04 1193.74 Q2313.99 1189.13 2313.99 1180.4 Q2313.99 1171.65 2317.04 1167.07 Q2320.12 1162.46 2325.93 1162.46 Z\" fill=\"#000000\" fill-rule=\"nonzero\" fill-opacity=\"1\" /><path clip-path=\"url(#clip580)\" d=\"M2350.12 1193.71 L2366.44 1193.71 L2366.44 1197.65 L2344.5 1197.65 L2344.5 1193.71 Q2347.16 1190.96 2351.74 1186.33 Q2356.35 1181.68 2357.53 1180.33 Q2359.77 1177.81 2360.65 1176.07 Q2361.56 1174.32 2361.56 1172.63 Q2361.56 1169.87 2359.61 1168.13 Q2357.69 1166.4 2354.59 1166.4 Q2352.39 1166.4 2349.94 1167.16 Q2347.51 1167.93 2344.73 1169.48 L2344.73 1164.75 Q2347.55 1163.62 2350.01 1163.04 Q2352.46 1162.46 2354.5 1162.46 Q2359.87 1162.46 2363.06 1165.15 Q2366.26 1167.83 2366.26 1172.32 Q2366.26 1174.45 2365.45 1176.38 Q2364.66 1178.27 2362.55 1180.87 Q2361.97 1181.54 2358.87 1184.75 Q2355.77 1187.95 2350.12 1193.71 Z\" fill=\"#000000\" fill-rule=\"nonzero\" fill-opacity=\"1\" /><polyline clip-path=\"url(#clip580)\" style=\"stroke:#000000; stroke-linecap:round; stroke-linejoin:round; stroke-width:4; stroke-opacity:1; fill:none\" points=\"2232.76,1184 2256.76,1184 \"/>\n",
       "<path clip-path=\"url(#clip580)\" d=\"M2280.7 1014.94 Q2277.09 1014.94 2275.26 1018.51 Q2273.45 1022.05 2273.45 1029.18 Q2273.45 1036.28 2275.26 1039.85 Q2277.09 1043.39 2280.7 1043.39 Q2284.33 1043.39 2286.14 1039.85 Q2287.97 1036.28 2287.97 1029.18 Q2287.97 1022.05 2286.14 1018.51 Q2284.33 1014.94 2280.7 1014.94 M2280.7 1011.24 Q2286.51 1011.24 2289.57 1015.84 Q2292.64 1020.43 2292.64 1029.18 Q2292.64 1037.9 2289.57 1042.51 Q2286.51 1047.09 2280.7 1047.09 Q2274.89 1047.09 2271.81 1042.51 Q2268.76 1037.9 2268.76 1029.18 Q2268.76 1020.43 2271.81 1015.84 Q2274.89 1011.24 2280.7 1011.24 Z\" fill=\"#000000\" fill-rule=\"nonzero\" fill-opacity=\"1\" /><path clip-path=\"url(#clip580)\" d=\"M2300.86 1040.54 L2305.75 1040.54 L2305.75 1046.42 L2300.86 1046.42 L2300.86 1040.54 Z\" fill=\"#000000\" fill-rule=\"nonzero\" fill-opacity=\"1\" /><path clip-path=\"url(#clip580)\" d=\"M2325.93 1014.94 Q2322.32 1014.94 2320.49 1018.51 Q2318.69 1022.05 2318.69 1029.18 Q2318.69 1036.28 2320.49 1039.85 Q2322.32 1043.39 2325.93 1043.39 Q2329.57 1043.39 2331.37 1039.85 Q2333.2 1036.28 2333.2 1029.18 Q2333.2 1022.05 2331.37 1018.51 Q2329.57 1014.94 2325.93 1014.94 M2325.93 1011.24 Q2331.74 1011.24 2334.8 1015.84 Q2337.88 1020.43 2337.88 1029.18 Q2337.88 1037.9 2334.8 1042.51 Q2331.74 1047.09 2325.93 1047.09 Q2320.12 1047.09 2317.04 1042.51 Q2313.99 1037.9 2313.99 1029.18 Q2313.99 1020.43 2317.04 1015.84 Q2320.12 1011.24 2325.93 1011.24 Z\" fill=\"#000000\" fill-rule=\"nonzero\" fill-opacity=\"1\" /><path clip-path=\"url(#clip580)\" d=\"M2360.26 1027.79 Q2363.62 1028.51 2365.49 1030.77 Q2367.39 1033.04 2367.39 1036.38 Q2367.39 1041.49 2363.87 1044.29 Q2360.35 1047.09 2353.87 1047.09 Q2351.7 1047.09 2349.38 1046.65 Q2347.09 1046.24 2344.64 1045.38 L2344.64 1040.87 Q2346.58 1042 2348.89 1042.58 Q2351.21 1043.16 2353.73 1043.16 Q2358.13 1043.16 2360.42 1041.42 Q2362.74 1039.69 2362.74 1036.38 Q2362.74 1033.32 2360.58 1031.61 Q2358.45 1029.87 2354.64 1029.87 L2350.61 1029.87 L2350.61 1026.03 L2354.82 1026.03 Q2358.27 1026.03 2360.1 1024.66 Q2361.93 1023.27 2361.93 1020.68 Q2361.93 1018.02 2360.03 1016.61 Q2358.15 1015.17 2354.64 1015.17 Q2352.71 1015.17 2350.51 1015.59 Q2348.32 1016.01 2345.68 1016.89 L2345.68 1012.72 Q2348.34 1011.98 2350.65 1011.61 Q2352.99 1011.24 2355.05 1011.24 Q2360.38 1011.24 2363.48 1013.67 Q2366.58 1016.08 2366.58 1020.2 Q2366.58 1023.07 2364.94 1025.06 Q2363.29 1027.02 2360.26 1027.79 Z\" fill=\"#000000\" fill-rule=\"nonzero\" fill-opacity=\"1\" /><polyline clip-path=\"url(#clip580)\" style=\"stroke:#000000; stroke-linecap:round; stroke-linejoin:round; stroke-width:4; stroke-opacity:1; fill:none\" points=\"2232.76,1032.77 2256.76,1032.77 \"/>\n",
       "<path clip-path=\"url(#clip580)\" d=\"M2280.7 863.716 Q2277.09 863.716 2275.26 867.281 Q2273.45 870.823 2273.45 877.952 Q2273.45 885.059 2275.26 888.623 Q2277.09 892.165 2280.7 892.165 Q2284.33 892.165 2286.14 888.623 Q2287.97 885.059 2287.97 877.952 Q2287.97 870.823 2286.14 867.281 Q2284.33 863.716 2280.7 863.716 M2280.7 860.012 Q2286.51 860.012 2289.57 864.619 Q2292.64 869.202 2292.64 877.952 Q2292.64 886.679 2289.57 891.285 Q2286.51 895.869 2280.7 895.869 Q2274.89 895.869 2271.81 891.285 Q2268.76 886.679 2268.76 877.952 Q2268.76 869.202 2271.81 864.619 Q2274.89 860.012 2280.7 860.012 Z\" fill=\"#000000\" fill-rule=\"nonzero\" fill-opacity=\"1\" /><path clip-path=\"url(#clip580)\" d=\"M2300.86 889.318 L2305.75 889.318 L2305.75 895.197 L2300.86 895.197 L2300.86 889.318 Z\" fill=\"#000000\" fill-rule=\"nonzero\" fill-opacity=\"1\" /><path clip-path=\"url(#clip580)\" d=\"M2325.93 863.716 Q2322.32 863.716 2320.49 867.281 Q2318.69 870.823 2318.69 877.952 Q2318.69 885.059 2320.49 888.623 Q2322.32 892.165 2325.93 892.165 Q2329.57 892.165 2331.37 888.623 Q2333.2 885.059 2333.2 877.952 Q2333.2 870.823 2331.37 867.281 Q2329.57 863.716 2325.93 863.716 M2325.93 860.012 Q2331.74 860.012 2334.8 864.619 Q2337.88 869.202 2337.88 877.952 Q2337.88 886.679 2334.8 891.285 Q2331.74 895.869 2325.93 895.869 Q2320.12 895.869 2317.04 891.285 Q2313.99 886.679 2313.99 877.952 Q2313.99 869.202 2317.04 864.619 Q2320.12 860.012 2325.93 860.012 Z\" fill=\"#000000\" fill-rule=\"nonzero\" fill-opacity=\"1\" /><path clip-path=\"url(#clip580)\" d=\"M2358.94 864.712 L2347.14 883.161 L2358.94 883.161 L2358.94 864.712 M2357.71 860.637 L2363.59 860.637 L2363.59 883.161 L2368.52 883.161 L2368.52 887.049 L2363.59 887.049 L2363.59 895.197 L2358.94 895.197 L2358.94 887.049 L2343.34 887.049 L2343.34 882.536 L2357.71 860.637 Z\" fill=\"#000000\" fill-rule=\"nonzero\" fill-opacity=\"1\" /><polyline clip-path=\"url(#clip580)\" style=\"stroke:#000000; stroke-linecap:round; stroke-linejoin:round; stroke-width:4; stroke-opacity:1; fill:none\" points=\"2232.76,881.546 2256.76,881.546 \"/>\n",
       "<path clip-path=\"url(#clip580)\" d=\"M2280.7 712.491 Q2277.09 712.491 2275.26 716.056 Q2273.45 719.597 2273.45 726.727 Q2273.45 733.833 2275.26 737.398 Q2277.09 740.94 2280.7 740.94 Q2284.33 740.94 2286.14 737.398 Q2287.97 733.833 2287.97 726.727 Q2287.97 719.597 2286.14 716.056 Q2284.33 712.491 2280.7 712.491 M2280.7 708.787 Q2286.51 708.787 2289.57 713.394 Q2292.64 717.977 2292.64 726.727 Q2292.64 735.454 2289.57 740.06 Q2286.51 744.643 2280.7 744.643 Q2274.89 744.643 2271.81 740.06 Q2268.76 735.454 2268.76 726.727 Q2268.76 717.977 2271.81 713.394 Q2274.89 708.787 2280.7 708.787 Z\" fill=\"#000000\" fill-rule=\"nonzero\" fill-opacity=\"1\" /><path clip-path=\"url(#clip580)\" d=\"M2300.86 738.092 L2305.75 738.092 L2305.75 743.972 L2300.86 743.972 L2300.86 738.092 Z\" fill=\"#000000\" fill-rule=\"nonzero\" fill-opacity=\"1\" /><path clip-path=\"url(#clip580)\" d=\"M2325.93 712.491 Q2322.32 712.491 2320.49 716.056 Q2318.69 719.597 2318.69 726.727 Q2318.69 733.833 2320.49 737.398 Q2322.32 740.94 2325.93 740.94 Q2329.57 740.94 2331.37 737.398 Q2333.2 733.833 2333.2 726.727 Q2333.2 719.597 2331.37 716.056 Q2329.57 712.491 2325.93 712.491 M2325.93 708.787 Q2331.74 708.787 2334.8 713.394 Q2337.88 717.977 2337.88 726.727 Q2337.88 735.454 2334.8 740.06 Q2331.74 744.643 2325.93 744.643 Q2320.12 744.643 2317.04 740.06 Q2313.99 735.454 2313.99 726.727 Q2313.99 717.977 2317.04 713.394 Q2320.12 708.787 2325.93 708.787 Z\" fill=\"#000000\" fill-rule=\"nonzero\" fill-opacity=\"1\" /><path clip-path=\"url(#clip580)\" d=\"M2346.14 709.412 L2364.5 709.412 L2364.5 713.347 L2350.42 713.347 L2350.42 721.819 Q2351.44 721.472 2352.46 721.31 Q2353.48 721.125 2354.5 721.125 Q2360.28 721.125 2363.66 724.296 Q2367.04 727.468 2367.04 732.884 Q2367.04 738.463 2363.57 741.565 Q2360.1 744.643 2353.78 744.643 Q2351.6 744.643 2349.33 744.273 Q2347.09 743.903 2344.68 743.162 L2344.68 738.463 Q2346.76 739.597 2348.99 740.153 Q2351.21 740.708 2353.69 740.708 Q2357.69 740.708 2360.03 738.602 Q2362.37 736.495 2362.37 732.884 Q2362.37 729.273 2360.03 727.167 Q2357.69 725.06 2353.69 725.06 Q2351.81 725.06 2349.94 725.477 Q2348.08 725.893 2346.14 726.773 L2346.14 709.412 Z\" fill=\"#000000\" fill-rule=\"nonzero\" fill-opacity=\"1\" /><polyline clip-path=\"url(#clip580)\" style=\"stroke:#000000; stroke-linecap:round; stroke-linejoin:round; stroke-width:4; stroke-opacity:1; fill:none\" points=\"2232.76,730.321 2256.76,730.321 \"/>\n",
       "<path clip-path=\"url(#clip580)\" d=\"M2280.7 561.265 Q2277.09 561.265 2275.26 564.83 Q2273.45 568.372 2273.45 575.501 Q2273.45 582.608 2275.26 586.173 Q2277.09 589.714 2280.7 589.714 Q2284.33 589.714 2286.14 586.173 Q2287.97 582.608 2287.97 575.501 Q2287.97 568.372 2286.14 564.83 Q2284.33 561.265 2280.7 561.265 M2280.7 557.562 Q2286.51 557.562 2289.57 562.168 Q2292.64 566.751 2292.64 575.501 Q2292.64 584.228 2289.57 588.835 Q2286.51 593.418 2280.7 593.418 Q2274.89 593.418 2271.81 588.835 Q2268.76 584.228 2268.76 575.501 Q2268.76 566.751 2271.81 562.168 Q2274.89 557.562 2280.7 557.562 Z\" fill=\"#000000\" fill-rule=\"nonzero\" fill-opacity=\"1\" /><path clip-path=\"url(#clip580)\" d=\"M2300.86 586.867 L2305.75 586.867 L2305.75 592.747 L2300.86 592.747 L2300.86 586.867 Z\" fill=\"#000000\" fill-rule=\"nonzero\" fill-opacity=\"1\" /><path clip-path=\"url(#clip580)\" d=\"M2325.93 561.265 Q2322.32 561.265 2320.49 564.83 Q2318.69 568.372 2318.69 575.501 Q2318.69 582.608 2320.49 586.173 Q2322.32 589.714 2325.93 589.714 Q2329.57 589.714 2331.37 586.173 Q2333.2 582.608 2333.2 575.501 Q2333.2 568.372 2331.37 564.83 Q2329.57 561.265 2325.93 561.265 M2325.93 557.562 Q2331.74 557.562 2334.8 562.168 Q2337.88 566.751 2337.88 575.501 Q2337.88 584.228 2334.8 588.835 Q2331.74 593.418 2325.93 593.418 Q2320.12 593.418 2317.04 588.835 Q2313.99 584.228 2313.99 575.501 Q2313.99 566.751 2317.04 562.168 Q2320.12 557.562 2325.93 557.562 Z\" fill=\"#000000\" fill-rule=\"nonzero\" fill-opacity=\"1\" /><path clip-path=\"url(#clip580)\" d=\"M2356.67 573.603 Q2353.52 573.603 2351.67 575.756 Q2349.84 577.909 2349.84 581.659 Q2349.84 585.386 2351.67 587.562 Q2353.52 589.714 2356.67 589.714 Q2359.82 589.714 2361.65 587.562 Q2363.5 585.386 2363.5 581.659 Q2363.5 577.909 2361.65 575.756 Q2359.82 573.603 2356.67 573.603 M2365.95 558.951 L2365.95 563.21 Q2364.2 562.376 2362.39 561.937 Q2360.61 561.497 2358.85 561.497 Q2354.22 561.497 2351.76 564.622 Q2349.33 567.747 2348.99 574.066 Q2350.35 572.052 2352.41 570.988 Q2354.47 569.9 2356.95 569.9 Q2362.16 569.9 2365.17 573.071 Q2368.2 576.219 2368.2 581.659 Q2368.2 586.983 2365.05 590.2 Q2361.9 593.418 2356.67 593.418 Q2350.68 593.418 2347.51 588.835 Q2344.33 584.228 2344.33 575.501 Q2344.33 567.307 2348.22 562.446 Q2352.11 557.562 2358.66 557.562 Q2360.42 557.562 2362.2 557.909 Q2364.01 558.256 2365.95 558.951 Z\" fill=\"#000000\" fill-rule=\"nonzero\" fill-opacity=\"1\" /><polyline clip-path=\"url(#clip580)\" style=\"stroke:#000000; stroke-linecap:round; stroke-linejoin:round; stroke-width:4; stroke-opacity:1; fill:none\" points=\"2232.76,579.095 2256.76,579.095 \"/>\n",
       "<path clip-path=\"url(#clip580)\" d=\"M2280.7 410.04 Q2277.09 410.04 2275.26 413.605 Q2273.45 417.146 2273.45 424.276 Q2273.45 431.382 2275.26 434.947 Q2277.09 438.489 2280.7 438.489 Q2284.33 438.489 2286.14 434.947 Q2287.97 431.382 2287.97 424.276 Q2287.97 417.146 2286.14 413.605 Q2284.33 410.04 2280.7 410.04 M2280.7 406.336 Q2286.51 406.336 2289.57 410.943 Q2292.64 415.526 2292.64 424.276 Q2292.64 433.003 2289.57 437.609 Q2286.51 442.193 2280.7 442.193 Q2274.89 442.193 2271.81 437.609 Q2268.76 433.003 2268.76 424.276 Q2268.76 415.526 2271.81 410.943 Q2274.89 406.336 2280.7 406.336 Z\" fill=\"#000000\" fill-rule=\"nonzero\" fill-opacity=\"1\" /><path clip-path=\"url(#clip580)\" d=\"M2300.86 435.642 L2305.75 435.642 L2305.75 441.521 L2300.86 441.521 L2300.86 435.642 Z\" fill=\"#000000\" fill-rule=\"nonzero\" fill-opacity=\"1\" /><path clip-path=\"url(#clip580)\" d=\"M2325.93 410.04 Q2322.32 410.04 2320.49 413.605 Q2318.69 417.146 2318.69 424.276 Q2318.69 431.382 2320.49 434.947 Q2322.32 438.489 2325.93 438.489 Q2329.57 438.489 2331.37 434.947 Q2333.2 431.382 2333.2 424.276 Q2333.2 417.146 2331.37 413.605 Q2329.57 410.04 2325.93 410.04 M2325.93 406.336 Q2331.74 406.336 2334.8 410.943 Q2337.88 415.526 2337.88 424.276 Q2337.88 433.003 2334.8 437.609 Q2331.74 442.193 2325.93 442.193 Q2320.12 442.193 2317.04 437.609 Q2313.99 433.003 2313.99 424.276 Q2313.99 415.526 2317.04 410.943 Q2320.12 406.336 2325.93 406.336 Z\" fill=\"#000000\" fill-rule=\"nonzero\" fill-opacity=\"1\" /><path clip-path=\"url(#clip580)\" d=\"M2344.91 406.961 L2367.14 406.961 L2367.14 408.952 L2354.59 441.521 L2349.7 441.521 L2361.51 410.896 L2344.91 410.896 L2344.91 406.961 Z\" fill=\"#000000\" fill-rule=\"nonzero\" fill-opacity=\"1\" /><polyline clip-path=\"url(#clip580)\" style=\"stroke:#000000; stroke-linecap:round; stroke-linejoin:round; stroke-width:4; stroke-opacity:1; fill:none\" points=\"2232.76,427.87 2256.76,427.87 \"/>\n",
       "<path clip-path=\"url(#clip580)\" d=\"M2280.7 258.815 Q2277.09 258.815 2275.26 262.379 Q2273.45 265.921 2273.45 273.051 Q2273.45 280.157 2275.26 283.722 Q2277.09 287.264 2280.7 287.264 Q2284.33 287.264 2286.14 283.722 Q2287.97 280.157 2287.97 273.051 Q2287.97 265.921 2286.14 262.379 Q2284.33 258.815 2280.7 258.815 M2280.7 255.111 Q2286.51 255.111 2289.57 259.717 Q2292.64 264.301 2292.64 273.051 Q2292.64 281.777 2289.57 286.384 Q2286.51 290.967 2280.7 290.967 Q2274.89 290.967 2271.81 286.384 Q2268.76 281.777 2268.76 273.051 Q2268.76 264.301 2271.81 259.717 Q2274.89 255.111 2280.7 255.111 Z\" fill=\"#000000\" fill-rule=\"nonzero\" fill-opacity=\"1\" /><path clip-path=\"url(#clip580)\" d=\"M2300.86 284.416 L2305.75 284.416 L2305.75 290.296 L2300.86 290.296 L2300.86 284.416 Z\" fill=\"#000000\" fill-rule=\"nonzero\" fill-opacity=\"1\" /><path clip-path=\"url(#clip580)\" d=\"M2325.93 258.815 Q2322.32 258.815 2320.49 262.379 Q2318.69 265.921 2318.69 273.051 Q2318.69 280.157 2320.49 283.722 Q2322.32 287.264 2325.93 287.264 Q2329.57 287.264 2331.37 283.722 Q2333.2 280.157 2333.2 273.051 Q2333.2 265.921 2331.37 262.379 Q2329.57 258.815 2325.93 258.815 M2325.93 255.111 Q2331.74 255.111 2334.8 259.717 Q2337.88 264.301 2337.88 273.051 Q2337.88 281.777 2334.8 286.384 Q2331.74 290.967 2325.93 290.967 Q2320.12 290.967 2317.04 286.384 Q2313.99 281.777 2313.99 273.051 Q2313.99 264.301 2317.04 259.717 Q2320.12 255.111 2325.93 255.111 Z\" fill=\"#000000\" fill-rule=\"nonzero\" fill-opacity=\"1\" /><path clip-path=\"url(#clip580)\" d=\"M2356.09 273.884 Q2352.76 273.884 2350.84 275.666 Q2348.94 277.449 2348.94 280.574 Q2348.94 283.699 2350.84 285.481 Q2352.76 287.264 2356.09 287.264 Q2359.43 287.264 2361.35 285.481 Q2363.27 283.676 2363.27 280.574 Q2363.27 277.449 2361.35 275.666 Q2359.45 273.884 2356.09 273.884 M2351.42 271.893 Q2348.41 271.152 2346.72 269.092 Q2345.05 267.032 2345.05 264.069 Q2345.05 259.926 2347.99 257.518 Q2350.95 255.111 2356.09 255.111 Q2361.26 255.111 2364.2 257.518 Q2367.14 259.926 2367.14 264.069 Q2367.14 267.032 2365.45 269.092 Q2363.78 271.152 2360.79 271.893 Q2364.17 272.68 2366.05 274.972 Q2367.95 277.264 2367.95 280.574 Q2367.95 285.597 2364.87 288.282 Q2361.81 290.967 2356.09 290.967 Q2350.38 290.967 2347.3 288.282 Q2344.24 285.597 2344.24 280.574 Q2344.24 277.264 2346.14 274.972 Q2348.04 272.68 2351.42 271.893 M2349.7 264.509 Q2349.7 267.194 2351.37 268.699 Q2353.06 270.203 2356.09 270.203 Q2359.1 270.203 2360.79 268.699 Q2362.51 267.194 2362.51 264.509 Q2362.51 261.824 2360.79 260.319 Q2359.1 258.815 2356.09 258.815 Q2353.06 258.815 2351.37 260.319 Q2349.7 261.824 2349.7 264.509 Z\" fill=\"#000000\" fill-rule=\"nonzero\" fill-opacity=\"1\" /><polyline clip-path=\"url(#clip580)\" style=\"stroke:#000000; stroke-linecap:round; stroke-linejoin:round; stroke-width:4; stroke-opacity:1; fill:none\" points=\"2232.76,276.645 2256.76,276.645 \"/>\n",
       "<path clip-path=\"url(#clip580)\" d=\"M2280.7 107.589 Q2277.09 107.589 2275.26 111.154 Q2273.45 114.696 2273.45 121.825 Q2273.45 128.932 2275.26 132.496 Q2277.09 136.038 2280.7 136.038 Q2284.33 136.038 2286.14 132.496 Q2287.97 128.932 2287.97 121.825 Q2287.97 114.696 2286.14 111.154 Q2284.33 107.589 2280.7 107.589 M2280.7 103.886 Q2286.51 103.886 2289.57 108.492 Q2292.64 113.075 2292.64 121.825 Q2292.64 130.552 2289.57 135.158 Q2286.51 139.742 2280.7 139.742 Q2274.89 139.742 2271.81 135.158 Q2268.76 130.552 2268.76 121.825 Q2268.76 113.075 2271.81 108.492 Q2274.89 103.886 2280.7 103.886 Z\" fill=\"#000000\" fill-rule=\"nonzero\" fill-opacity=\"1\" /><path clip-path=\"url(#clip580)\" d=\"M2300.86 133.191 L2305.75 133.191 L2305.75 139.07 L2300.86 139.07 L2300.86 133.191 Z\" fill=\"#000000\" fill-rule=\"nonzero\" fill-opacity=\"1\" /><path clip-path=\"url(#clip580)\" d=\"M2325.93 107.589 Q2322.32 107.589 2320.49 111.154 Q2318.69 114.696 2318.69 121.825 Q2318.69 128.932 2320.49 132.496 Q2322.32 136.038 2325.93 136.038 Q2329.57 136.038 2331.37 132.496 Q2333.2 128.932 2333.2 121.825 Q2333.2 114.696 2331.37 111.154 Q2329.57 107.589 2325.93 107.589 M2325.93 103.886 Q2331.74 103.886 2334.8 108.492 Q2337.88 113.075 2337.88 121.825 Q2337.88 130.552 2334.8 135.158 Q2331.74 139.742 2325.93 139.742 Q2320.12 139.742 2317.04 135.158 Q2313.99 130.552 2313.99 121.825 Q2313.99 113.075 2317.04 108.492 Q2320.12 103.886 2325.93 103.886 Z\" fill=\"#000000\" fill-rule=\"nonzero\" fill-opacity=\"1\" /><path clip-path=\"url(#clip580)\" d=\"M2346.23 138.353 L2346.23 134.094 Q2347.99 134.927 2349.8 135.367 Q2351.6 135.807 2353.34 135.807 Q2357.97 135.807 2360.4 132.705 Q2362.85 129.58 2363.2 123.237 Q2361.86 125.228 2359.8 126.293 Q2357.74 127.358 2355.24 127.358 Q2350.05 127.358 2347.02 124.233 Q2344.01 121.084 2344.01 115.645 Q2344.01 110.321 2347.16 107.103 Q2350.31 103.886 2355.54 103.886 Q2361.53 103.886 2364.68 108.492 Q2367.85 113.075 2367.85 121.825 Q2367.85 129.996 2363.96 134.881 Q2360.1 139.742 2353.55 139.742 Q2351.79 139.742 2349.98 139.395 Q2348.18 139.047 2346.23 138.353 M2355.54 123.7 Q2358.69 123.7 2360.51 121.547 Q2362.37 119.395 2362.37 115.645 Q2362.37 111.918 2360.51 109.765 Q2358.69 107.589 2355.54 107.589 Q2352.39 107.589 2350.54 109.765 Q2348.71 111.918 2348.71 115.645 Q2348.71 119.395 2350.54 121.547 Q2352.39 123.7 2355.54 123.7 Z\" fill=\"#000000\" fill-rule=\"nonzero\" fill-opacity=\"1\" /><polyline clip-path=\"url(#clip580)\" style=\"stroke:#000000; stroke-linecap:round; stroke-linejoin:round; stroke-width:4; stroke-opacity:1; fill:none\" points=\"2232.76,125.419 2256.76,125.419 \"/>\n",
       "<polyline clip-path=\"url(#clip580)\" style=\"stroke:#000000; stroke-linecap:round; stroke-linejoin:round; stroke-width:4; stroke-opacity:1; fill:none\" points=\"2232.76,1486.45 2232.76,47.2441 \"/>\n",
       "</svg>\n"
      ],
      "text/html": [
       "<img src=\"data:image/png;base64,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\" />"
      ]
     },
     "execution_count": 661,
     "metadata": {},
     "output_type": "execute_result"
    }
   ],
   "source": [
    "heatmap(Rdomain, Zdomain,  AAint, format=:png)"
   ]
  },
  {
   "cell_type": "markdown",
   "metadata": {},
   "source": [
    "With the initial condition, we need to separate into real and imaginary parts"
   ]
  },
  {
   "cell_type": "code",
   "execution_count": 662,
   "metadata": {},
   "outputs": [],
   "source": [
    "Are = real.(AA)\n",
    "Aim = imag.(AA);"
   ]
  },
  {
   "cell_type": "markdown",
   "metadata": {},
   "source": [
    "### Setting Initial Conditions to Trixi"
   ]
  },
  {
   "cell_type": "markdown",
   "metadata": {},
   "source": [
    "Finally we need a variable that will hold the initial conditions to input into `Trixi.jl`"
   ]
  },
  {
   "cell_type": "code",
   "execution_count": 663,
   "metadata": {},
   "outputs": [
    {
     "data": {
      "text/plain": [
       "initial_condition_SVEA (generic function with 1 method)"
      ]
     },
     "execution_count": 663,
     "metadata": {},
     "output_type": "execute_result"
    }
   ],
   "source": [
    "function initial_condition_SVEA(x, t, equations)\n",
    "    # Amplitude and shift\n",
    "    A0 = 1.0\n",
    "    c = 2.998e8 # speed of light m/s\n",
    "    l0 = 1.0e-6 # central wavelength \n",
    "    k0 = 2.0*pi/l0 # central wavenumber\n",
    "    omega0 = c*k0 # central frequency\n",
    "\n",
    "    Lnorm = 0.1 #normalization factor\n",
    "    Tnorm = Lnorm/c\n",
    "    \n",
    "    zmin0 = 0.0 #real unnormalized value\n",
    "    laserzstart = 0.02 #real unnormalized value\n",
    "    z = x[1]*Lnorm # unnormalize our z coordinate by multiplying by Lnorm\n",
    "    r = x[2]*Lnorm # unnormalize our r coordinate by multiplying by Lnorm\n",
    "    tt = t*Tnorm # unnormalize our time by multiplying by Tnorm\n",
    "    \n",
    "\n",
    "    tfwhm = 25.0e-12 # 1 ns pulsewidth\n",
    "    rfwhm = 100.0e-6 # 100 micron beamwidht\n",
    "    tau0 = tfwhm/sqrt(2*log(2))\n",
    "    w0 = rfwhm/sqrt(2*log(2))\n",
    "    # println(\"tau0: \", tau0)\n",
    "    # println(\"w0: \", w0)\n",
    "    \n",
    "    \n",
    "    nindexref = 1.0\n",
    "    zR = pi*nindexref*w0^2/l0\n",
    "    #normalize beam variables\n",
    "    w0norm = w0 #/Lnorm\n",
    "    tau0norm = tau0 #/Tnorm\n",
    "    zRnorm = zR #/Lnorm\n",
    "    \n",
    "    #normalized beam radius, beam curvature, and guoy phase\n",
    "    wz = w0*sqrt(1 + (z/zR)^2) #w0norm*sqrt(1 + (z/zRnorm)^2)\n",
    "    # Rz = z * (1 + (zR/z)^2) #z * (1 + (zRnorm/z)^2)\n",
    "    inv2Rz = 0.5*z/(z^2 + zR^2)\n",
    "    Guoyz = atan(z/zR) #atan(z/zRnorm)\n",
    "    \n",
    "    #Gaussian Beam Amplitude Equation (Complex Valued)\n",
    "    A = A0 * w0/wz * exp( -r^2/wz^2 ) * exp(1.0im * k0 *r^2*inv2Rz - 1.0im*Guoyz) * exp( -((z - laserzstart)/c - tt)^2/tau0^2  )\n",
    "    \n",
    "\n",
    "    Ar = real(A)\n",
    "    Ai = imag(A)\n",
    "\n",
    "    return SVector(Ar, Ai) #Ar, Ai#\n",
    "end"
   ]
  },
  {
   "cell_type": "markdown",
   "metadata": {},
   "source": [
    "First we want to normalize the array holding our r,z coordinates"
   ]
  },
  {
   "cell_type": "code",
   "execution_count": 664,
   "metadata": {},
   "outputs": [],
   "source": [
    "Zdomainnorm = Zdomain/Lnorm\n",
    "Rdomainnorm = Rdomain/Lnorm;"
   ]
  },
  {
   "cell_type": "markdown",
   "metadata": {},
   "source": [
    "Let's fill our real `AAAr` and imaginary `AAAi` matrices with the initial conditions"
   ]
  },
  {
   "cell_type": "code",
   "execution_count": 665,
   "metadata": {
    "scrolled": true
   },
   "outputs": [],
   "source": [
    "AAAr = zeros(Float64, (length(Zdomain), length(Rdomain)) )\n",
    "AAAi = zeros(Float64, (length(Zdomain), length(Rdomain)) )\n",
    "\n",
    "for i in 1:length(Zdomain)\n",
    "    for j in 1:length(Rdomain)\n",
    "\n",
    "        AAA = initial_condition_SVEA( [ Zdomainnorm[i], Rdomainnorm[j] ], 0.0, equations_parabolic)\n",
    "        AAAr[i,j] = AAA[1]\n",
    "        AAAi[i,j] = AAA[2]\n",
    "        \n",
    "\n",
    "    end\n",
    "end"
   ]
  },
  {
   "cell_type": "code",
   "execution_count": 666,
   "metadata": {},
   "outputs": [],
   "source": [
    "AAAA = @. AAAr + 1.0im.*AAAi;\n",
    "AAAA2 = abs2.(AAAA);"
   ]
  },
  {
   "cell_type": "code",
   "execution_count": 667,
   "metadata": {},
   "outputs": [
    {
     "data": {
      "image/png": "[encoded data removed]",
      "image/svg+xml": [
       "<?xml version=\"1.0\" encoding=\"utf-8\"?>\n",
       "<svg xmlns=\"http://www.w3.org/2000/svg\" xmlns:xlink=\"http://www.w3.org/1999/xlink\" width=\"600\" height=\"400\" viewBox=\"0 0 2400 1600\">\n",
       "<defs>\n",
       "  <clipPath id=\"clip640\">\n",
       "    <rect x=\"0\" y=\"0\" width=\"2400\" height=\"1600\"/>\n",
       "  </clipPath>\n",
       "</defs>\n",
       "<path clip-path=\"url(#clip640)\" d=\"M0 1600 L2400 1600 L2400 0 L0 0  Z\" fill=\"#ffffff\" fill-rule=\"evenodd\" fill-opacity=\"1\"/>\n",
       "<defs>\n",
       "  <clipPath id=\"clip641\">\n",
       "    <rect x=\"480\" y=\"0\" width=\"1681\" height=\"1600\"/>\n",
       "  </clipPath>\n",
       "</defs>\n",
       "<path clip-path=\"url(#clip640)\" d=\"M172.015 1486.45 L2112.76 1486.45 L2112.76 47.2441 L172.015 47.2441  Z\" fill=\"#ffffff\" fill-rule=\"evenodd\" fill-opacity=\"1\"/>\n",
       "<defs>\n",
       "  <clipPath id=\"clip642\">\n",
       "    <rect x=\"172\" y=\"47\" width=\"1942\" height=\"1440\"/>\n",
       "  </clipPath>\n",
       "</defs>\n",
       "<polyline clip-path=\"url(#clip642)\" style=\"stroke:#000000; stroke-linecap:round; stroke-linejoin:round; stroke-width:2; stroke-opacity:0.1; fill:none\" points=\"652.348,1486.45 652.348,47.2441 \"/>\n",
       "<polyline clip-path=\"url(#clip642)\" style=\"stroke:#000000; stroke-linecap:round; stroke-linejoin:round; stroke-width:2; stroke-opacity:0.1; fill:none\" points=\"1137.53,1486.45 1137.53,47.2441 \"/>\n",
       "<polyline clip-path=\"url(#clip642)\" style=\"stroke:#000000; stroke-linecap:round; stroke-linejoin:round; stroke-width:2; stroke-opacity:0.1; fill:none\" points=\"1622.72,1486.45 1622.72,47.2441 \"/>\n",
       "<polyline clip-path=\"url(#clip642)\" style=\"stroke:#000000; stroke-linecap:round; stroke-linejoin:round; stroke-width:2; stroke-opacity:0.1; fill:none\" points=\"2107.9,1486.45 2107.9,47.2441 \"/>\n",
       "<polyline clip-path=\"url(#clip642)\" style=\"stroke:#000000; stroke-linecap:round; stroke-linejoin:round; stroke-width:2; stroke-opacity:0.1; fill:none\" points=\"172.015,1200.05 2112.76,1200.05 \"/>\n",
       "<polyline clip-path=\"url(#clip642)\" style=\"stroke:#000000; stroke-linecap:round; stroke-linejoin:round; stroke-width:2; stroke-opacity:0.1; fill:none\" points=\"172.015,912.206 2112.76,912.206 \"/>\n",
       "<polyline clip-path=\"url(#clip642)\" style=\"stroke:#000000; stroke-linecap:round; stroke-linejoin:round; stroke-width:2; stroke-opacity:0.1; fill:none\" points=\"172.015,624.365 2112.76,624.365 \"/>\n",
       "<polyline clip-path=\"url(#clip642)\" style=\"stroke:#000000; stroke-linecap:round; stroke-linejoin:round; stroke-width:2; stroke-opacity:0.1; fill:none\" points=\"172.015,336.524 2112.76,336.524 \"/>\n",
       "<polyline clip-path=\"url(#clip642)\" style=\"stroke:#000000; stroke-linecap:round; stroke-linejoin:round; stroke-width:2; stroke-opacity:0.1; fill:none\" points=\"172.015,48.6833 2112.76,48.6833 \"/>\n",
       "<polyline clip-path=\"url(#clip640)\" style=\"stroke:#000000; stroke-linecap:round; stroke-linejoin:round; stroke-width:4; stroke-opacity:1; fill:none\" points=\"172.015,1486.45 2112.76,1486.45 \"/>\n",
       "<polyline clip-path=\"url(#clip640)\" style=\"stroke:#000000; stroke-linecap:round; stroke-linejoin:round; stroke-width:4; stroke-opacity:1; fill:none\" points=\"652.348,1486.45 652.348,1467.55 \"/>\n",
       "<polyline clip-path=\"url(#clip640)\" style=\"stroke:#000000; stroke-linecap:round; stroke-linejoin:round; stroke-width:4; stroke-opacity:1; fill:none\" points=\"1137.53,1486.45 1137.53,1467.55 \"/>\n",
       "<polyline clip-path=\"url(#clip640)\" style=\"stroke:#000000; stroke-linecap:round; stroke-linejoin:round; stroke-width:4; stroke-opacity:1; fill:none\" points=\"1622.72,1486.45 1622.72,1467.55 \"/>\n",
       "<polyline clip-path=\"url(#clip640)\" style=\"stroke:#000000; stroke-linecap:round; stroke-linejoin:round; stroke-width:4; stroke-opacity:1; fill:none\" points=\"2107.9,1486.45 2107.9,1467.55 \"/>\n",
       "<path clip-path=\"url(#clip640)\" d=\"M627.047 1514.29 L645.404 1514.29 L645.404 1518.22 L631.33 1518.22 L631.33 1526.7 Q632.348 1526.35 633.367 1526.19 Q634.385 1526 635.404 1526 Q641.191 1526 644.571 1529.17 Q647.95 1532.34 647.95 1537.76 Q647.95 1543.34 644.478 1546.44 Q641.006 1549.52 634.686 1549.52 Q632.51 1549.52 630.242 1549.15 Q627.997 1548.78 625.589 1548.04 L625.589 1543.34 Q627.672 1544.47 629.895 1545.03 Q632.117 1545.58 634.594 1545.58 Q638.598 1545.58 640.936 1543.48 Q643.274 1541.37 643.274 1537.76 Q643.274 1534.15 640.936 1532.04 Q638.598 1529.94 634.594 1529.94 Q632.719 1529.94 630.844 1530.35 Q628.992 1530.77 627.047 1531.65 L627.047 1514.29 Z\" fill=\"#000000\" fill-rule=\"nonzero\" fill-opacity=\"1\" /><path clip-path=\"url(#clip640)\" d=\"M667.163 1517.37 Q663.552 1517.37 661.723 1520.93 Q659.918 1524.47 659.918 1531.6 Q659.918 1538.71 661.723 1542.27 Q663.552 1545.82 667.163 1545.82 Q670.797 1545.82 672.603 1542.27 Q674.431 1538.71 674.431 1531.6 Q674.431 1524.47 672.603 1520.93 Q670.797 1517.37 667.163 1517.37 M667.163 1513.66 Q672.973 1513.66 676.029 1518.27 Q679.107 1522.85 679.107 1531.6 Q679.107 1540.33 676.029 1544.94 Q672.973 1549.52 667.163 1549.52 Q661.353 1549.52 658.274 1544.94 Q655.219 1540.33 655.219 1531.6 Q655.219 1522.85 658.274 1518.27 Q661.353 1513.66 667.163 1513.66 Z\" fill=\"#000000\" fill-rule=\"nonzero\" fill-opacity=\"1\" /><path clip-path=\"url(#clip640)\" d=\"M1097.14 1544.91 L1104.78 1544.91 L1104.78 1518.55 L1096.47 1520.21 L1096.47 1515.95 L1104.73 1514.29 L1109.41 1514.29 L1109.41 1544.91 L1117.05 1544.91 L1117.05 1548.85 L1097.14 1548.85 L1097.14 1544.91 Z\" fill=\"#000000\" fill-rule=\"nonzero\" fill-opacity=\"1\" /><path clip-path=\"url(#clip640)\" d=\"M1136.49 1517.37 Q1132.88 1517.37 1131.05 1520.93 Q1129.25 1524.47 1129.25 1531.6 Q1129.25 1538.71 1131.05 1542.27 Q1132.88 1545.82 1136.49 1545.82 Q1140.13 1545.82 1141.93 1542.27 Q1143.76 1538.71 1143.76 1531.6 Q1143.76 1524.47 1141.93 1520.93 Q1140.13 1517.37 1136.49 1517.37 M1136.49 1513.66 Q1142.3 1513.66 1145.36 1518.27 Q1148.44 1522.85 1148.44 1531.6 Q1148.44 1540.33 1145.36 1544.94 Q1142.3 1549.52 1136.49 1549.52 Q1130.68 1549.52 1127.6 1544.94 Q1124.55 1540.33 1124.55 1531.6 Q1124.55 1522.85 1127.6 1518.27 Q1130.68 1513.66 1136.49 1513.66 Z\" fill=\"#000000\" fill-rule=\"nonzero\" fill-opacity=\"1\" /><path clip-path=\"url(#clip640)\" d=\"M1166.65 1517.37 Q1163.04 1517.37 1161.21 1520.93 Q1159.41 1524.47 1159.41 1531.6 Q1159.41 1538.71 1161.21 1542.27 Q1163.04 1545.82 1166.65 1545.82 Q1170.29 1545.82 1172.09 1542.27 Q1173.92 1538.71 1173.92 1531.6 Q1173.92 1524.47 1172.09 1520.93 Q1170.29 1517.37 1166.65 1517.37 M1166.65 1513.66 Q1172.46 1513.66 1175.52 1518.27 Q1178.6 1522.85 1178.6 1531.6 Q1178.6 1540.33 1175.52 1544.94 Q1172.46 1549.52 1166.65 1549.52 Q1160.84 1549.52 1157.76 1544.94 Q1154.71 1540.33 1154.71 1531.6 Q1154.71 1522.85 1157.76 1518.27 Q1160.84 1513.66 1166.65 1513.66 Z\" fill=\"#000000\" fill-rule=\"nonzero\" fill-opacity=\"1\" /><path clip-path=\"url(#clip640)\" d=\"M1582.33 1544.91 L1589.96 1544.91 L1589.96 1518.55 L1581.65 1520.21 L1581.65 1515.95 L1589.92 1514.29 L1594.59 1514.29 L1594.59 1544.91 L1602.23 1544.91 L1602.23 1548.85 L1582.33 1548.85 L1582.33 1544.91 Z\" fill=\"#000000\" fill-rule=\"nonzero\" fill-opacity=\"1\" /><path clip-path=\"url(#clip640)\" d=\"M1611.72 1514.29 L1630.08 1514.29 L1630.08 1518.22 L1616.01 1518.22 L1616.01 1526.7 Q1617.02 1526.35 1618.04 1526.19 Q1619.06 1526 1620.08 1526 Q1625.87 1526 1629.25 1529.17 Q1632.63 1532.34 1632.63 1537.76 Q1632.63 1543.34 1629.15 1546.44 Q1625.68 1549.52 1619.36 1549.52 Q1617.19 1549.52 1614.92 1549.15 Q1612.67 1548.78 1610.27 1548.04 L1610.27 1543.34 Q1612.35 1544.47 1614.57 1545.03 Q1616.79 1545.58 1619.27 1545.58 Q1623.27 1545.58 1625.61 1543.48 Q1627.95 1541.37 1627.95 1537.76 Q1627.95 1534.15 1625.61 1532.04 Q1623.27 1529.94 1619.27 1529.94 Q1617.39 1529.94 1615.52 1530.35 Q1613.67 1530.77 1611.72 1531.65 L1611.72 1514.29 Z\" fill=\"#000000\" fill-rule=\"nonzero\" fill-opacity=\"1\" /><path clip-path=\"url(#clip640)\" d=\"M1651.84 1517.37 Q1648.23 1517.37 1646.4 1520.93 Q1644.59 1524.47 1644.59 1531.6 Q1644.59 1538.71 1646.4 1542.27 Q1648.23 1545.82 1651.84 1545.82 Q1655.47 1545.82 1657.28 1542.27 Q1659.11 1538.71 1659.11 1531.6 Q1659.11 1524.47 1657.28 1520.93 Q1655.47 1517.37 1651.84 1517.37 M1651.84 1513.66 Q1657.65 1513.66 1660.7 1518.27 Q1663.78 1522.85 1663.78 1531.6 Q1663.78 1540.33 1660.7 1544.94 Q1657.65 1549.52 1651.84 1549.52 Q1646.03 1549.52 1642.95 1544.94 Q1639.89 1540.33 1639.89 1531.6 Q1639.89 1522.85 1642.95 1518.27 Q1646.03 1513.66 1651.84 1513.66 Z\" fill=\"#000000\" fill-rule=\"nonzero\" fill-opacity=\"1\" /><path clip-path=\"url(#clip640)\" d=\"M2071.6 1544.91 L2087.92 1544.91 L2087.92 1548.85 L2065.97 1548.85 L2065.97 1544.91 Q2068.63 1542.16 2073.22 1537.53 Q2077.82 1532.88 2079 1531.53 Q2081.25 1529.01 2082.13 1527.27 Q2083.03 1525.51 2083.03 1523.82 Q2083.03 1521.07 2081.09 1519.33 Q2079.17 1517.6 2076.06 1517.6 Q2073.86 1517.6 2071.41 1518.36 Q2068.98 1519.13 2066.2 1520.68 L2066.2 1515.95 Q2069.03 1514.82 2071.48 1514.24 Q2073.93 1513.66 2075.97 1513.66 Q2081.34 1513.66 2084.54 1516.35 Q2087.73 1519.03 2087.73 1523.52 Q2087.73 1525.65 2086.92 1527.57 Q2086.13 1529.47 2084.03 1532.07 Q2083.45 1532.74 2080.35 1535.95 Q2077.24 1539.15 2071.6 1544.91 Z\" fill=\"#000000\" fill-rule=\"nonzero\" fill-opacity=\"1\" /><path clip-path=\"url(#clip640)\" d=\"M2107.73 1517.37 Q2104.12 1517.37 2102.29 1520.93 Q2100.49 1524.47 2100.49 1531.6 Q2100.49 1538.71 2102.29 1542.27 Q2104.12 1545.82 2107.73 1545.82 Q2111.36 1545.82 2113.17 1542.27 Q2115 1538.71 2115 1531.6 Q2115 1524.47 2113.17 1520.93 Q2111.36 1517.37 2107.73 1517.37 M2107.73 1513.66 Q2113.54 1513.66 2116.6 1518.27 Q2119.67 1522.85 2119.67 1531.6 Q2119.67 1540.33 2116.6 1544.94 Q2113.54 1549.52 2107.73 1549.52 Q2101.92 1549.52 2098.84 1544.94 Q2095.79 1540.33 2095.79 1531.6 Q2095.79 1522.85 2098.84 1518.27 Q2101.92 1513.66 2107.73 1513.66 Z\" fill=\"#000000\" fill-rule=\"nonzero\" fill-opacity=\"1\" /><path clip-path=\"url(#clip640)\" d=\"M2137.89 1517.37 Q2134.28 1517.37 2132.45 1520.93 Q2130.65 1524.47 2130.65 1531.6 Q2130.65 1538.71 2132.45 1542.27 Q2134.28 1545.82 2137.89 1545.82 Q2141.53 1545.82 2143.33 1542.27 Q2145.16 1538.71 2145.16 1531.6 Q2145.16 1524.47 2143.33 1520.93 Q2141.53 1517.37 2137.89 1517.37 M2137.89 1513.66 Q2143.7 1513.66 2146.76 1518.27 Q2149.84 1522.85 2149.84 1531.6 Q2149.84 1540.33 2146.76 1544.94 Q2143.7 1549.52 2137.89 1549.52 Q2132.08 1549.52 2129 1544.94 Q2125.95 1540.33 2125.95 1531.6 Q2125.95 1522.85 2129 1518.27 Q2132.08 1513.66 2137.89 1513.66 Z\" fill=\"#000000\" fill-rule=\"nonzero\" fill-opacity=\"1\" /><polyline clip-path=\"url(#clip640)\" style=\"stroke:#000000; stroke-linecap:round; stroke-linejoin:round; stroke-width:4; stroke-opacity:1; fill:none\" points=\"172.015,1486.45 172.015,47.2441 \"/>\n",
       "<polyline clip-path=\"url(#clip640)\" style=\"stroke:#000000; stroke-linecap:round; stroke-linejoin:round; stroke-width:4; stroke-opacity:1; fill:none\" points=\"172.015,1200.05 188.833,1200.05 \"/>\n",
       "<polyline clip-path=\"url(#clip640)\" style=\"stroke:#000000; stroke-linecap:round; stroke-linejoin:round; stroke-width:4; stroke-opacity:1; fill:none\" points=\"172.015,912.206 188.833,912.206 \"/>\n",
       "<polyline clip-path=\"url(#clip640)\" style=\"stroke:#000000; stroke-linecap:round; stroke-linejoin:round; stroke-width:4; stroke-opacity:1; fill:none\" points=\"172.015,624.365 188.833,624.365 \"/>\n",
       "<polyline clip-path=\"url(#clip640)\" style=\"stroke:#000000; stroke-linecap:round; stroke-linejoin:round; stroke-width:4; stroke-opacity:1; fill:none\" points=\"172.015,336.524 188.833,336.524 \"/>\n",
       "<polyline clip-path=\"url(#clip640)\" style=\"stroke:#000000; stroke-linecap:round; stroke-linejoin:round; stroke-width:4; stroke-opacity:1; fill:none\" points=\"172.015,48.6833 188.833,48.6833 \"/>\n",
       "<path clip-path=\"url(#clip640)\" d=\"M54.5569 1213.39 L62.1958 1213.39 L62.1958 1187.03 L53.8856 1188.69 L53.8856 1184.43 L62.1495 1182.77 L66.8254 1182.77 L66.8254 1213.39 L74.4642 1213.39 L74.4642 1217.33 L54.5569 1217.33 L54.5569 1213.39 Z\" fill=\"#000000\" fill-rule=\"nonzero\" fill-opacity=\"1\" /><path clip-path=\"url(#clip640)\" d=\"M93.9086 1185.85 Q90.2975 1185.85 88.4688 1189.41 Q86.6632 1192.95 86.6632 1200.08 Q86.6632 1207.19 88.4688 1210.75 Q90.2975 1214.29 93.9086 1214.29 Q97.5428 1214.29 99.3483 1210.75 Q101.177 1207.19 101.177 1200.08 Q101.177 1192.95 99.3483 1189.41 Q97.5428 1185.85 93.9086 1185.85 M93.9086 1182.14 Q99.7187 1182.14 102.774 1186.75 Q105.853 1191.33 105.853 1200.08 Q105.853 1208.81 102.774 1213.41 Q99.7187 1218 93.9086 1218 Q88.0984 1218 85.0197 1213.41 Q81.9642 1208.81 81.9642 1200.08 Q81.9642 1191.33 85.0197 1186.75 Q88.0984 1182.14 93.9086 1182.14 Z\" fill=\"#000000\" fill-rule=\"nonzero\" fill-opacity=\"1\" /><path clip-path=\"url(#clip640)\" d=\"M124.07 1185.85 Q120.459 1185.85 118.631 1189.41 Q116.825 1192.95 116.825 1200.08 Q116.825 1207.19 118.631 1210.75 Q120.459 1214.29 124.07 1214.29 Q127.705 1214.29 129.51 1210.75 Q131.339 1207.19 131.339 1200.08 Q131.339 1192.95 129.51 1189.41 Q127.705 1185.85 124.07 1185.85 M124.07 1182.14 Q129.881 1182.14 132.936 1186.75 Q136.015 1191.33 136.015 1200.08 Q136.015 1208.81 132.936 1213.41 Q129.881 1218 124.07 1218 Q118.26 1218 115.182 1213.41 Q112.126 1208.81 112.126 1200.08 Q112.126 1191.33 115.182 1186.75 Q118.26 1182.14 124.07 1182.14 Z\" fill=\"#000000\" fill-rule=\"nonzero\" fill-opacity=\"1\" /><path clip-path=\"url(#clip640)\" d=\"M57.7745 925.55 L74.0939 925.55 L74.0939 929.486 L52.1495 929.486 L52.1495 925.55 Q54.8115 922.796 59.3949 918.166 Q64.0013 913.513 65.1819 912.171 Q67.4272 909.648 68.3068 907.912 Q69.2096 906.152 69.2096 904.463 Q69.2096 901.708 67.2652 899.972 Q65.3439 898.236 62.2421 898.236 Q60.043 898.236 57.5893 899 Q55.1588 899.764 52.381 901.314 L52.381 896.592 Q55.2051 895.458 57.6588 894.879 Q60.1124 894.301 62.1495 894.301 Q67.5198 894.301 70.7142 896.986 Q73.9087 899.671 73.9087 904.162 Q73.9087 906.291 73.0985 908.213 Q72.3115 910.111 70.205 912.703 Q69.6263 913.375 66.5245 916.592 Q63.4226 919.787 57.7745 925.55 Z\" fill=\"#000000\" fill-rule=\"nonzero\" fill-opacity=\"1\" /><path clip-path=\"url(#clip640)\" d=\"M93.9086 898.004 Q90.2975 898.004 88.4688 901.569 Q86.6632 905.111 86.6632 912.24 Q86.6632 919.347 88.4688 922.912 Q90.2975 926.453 93.9086 926.453 Q97.5428 926.453 99.3483 922.912 Q101.177 919.347 101.177 912.24 Q101.177 905.111 99.3483 901.569 Q97.5428 898.004 93.9086 898.004 M93.9086 894.301 Q99.7187 894.301 102.774 898.907 Q105.853 903.49 105.853 912.24 Q105.853 920.967 102.774 925.574 Q99.7187 930.157 93.9086 930.157 Q88.0984 930.157 85.0197 925.574 Q81.9642 920.967 81.9642 912.24 Q81.9642 903.49 85.0197 898.907 Q88.0984 894.301 93.9086 894.301 Z\" fill=\"#000000\" fill-rule=\"nonzero\" fill-opacity=\"1\" /><path clip-path=\"url(#clip640)\" d=\"M124.07 898.004 Q120.459 898.004 118.631 901.569 Q116.825 905.111 116.825 912.24 Q116.825 919.347 118.631 922.912 Q120.459 926.453 124.07 926.453 Q127.705 926.453 129.51 922.912 Q131.339 919.347 131.339 912.24 Q131.339 905.111 129.51 901.569 Q127.705 898.004 124.07 898.004 M124.07 894.301 Q129.881 894.301 132.936 898.907 Q136.015 903.49 136.015 912.24 Q136.015 920.967 132.936 925.574 Q129.881 930.157 124.07 930.157 Q118.26 930.157 115.182 925.574 Q112.126 920.967 112.126 912.24 Q112.126 903.49 115.182 898.907 Q118.26 894.301 124.07 894.301 Z\" fill=\"#000000\" fill-rule=\"nonzero\" fill-opacity=\"1\" /><path clip-path=\"url(#clip640)\" d=\"M67.9133 623.011 Q71.2698 623.728 73.1448 625.997 Q75.0429 628.265 75.0429 631.599 Q75.0429 636.714 71.5244 639.515 Q68.0059 642.316 61.5245 642.316 Q59.3486 642.316 57.0338 641.876 Q54.7421 641.46 52.2884 640.603 L52.2884 636.089 Q54.2328 637.224 56.5477 637.802 Q58.8625 638.381 61.3856 638.381 Q65.7837 638.381 68.0754 636.645 Q70.3902 634.909 70.3902 631.599 Q70.3902 628.543 68.2374 626.83 Q66.1078 625.094 62.2884 625.094 L58.2606 625.094 L58.2606 621.251 L62.4735 621.251 Q65.9226 621.251 67.7513 619.886 Q69.58 618.497 69.58 615.904 Q69.58 613.242 67.6819 611.83 Q65.8069 610.395 62.2884 610.395 Q60.3671 610.395 58.168 610.812 Q55.969 611.228 53.3301 612.108 L53.3301 607.941 Q55.9921 607.201 58.3069 606.83 Q60.6449 606.46 62.705 606.46 Q68.0291 606.46 71.1309 608.89 Q74.2327 611.298 74.2327 615.418 Q74.2327 618.288 72.5892 620.279 Q70.9457 622.247 67.9133 623.011 Z\" fill=\"#000000\" fill-rule=\"nonzero\" fill-opacity=\"1\" /><path clip-path=\"url(#clip640)\" d=\"M93.9086 610.163 Q90.2975 610.163 88.4688 613.728 Q86.6632 617.27 86.6632 624.4 Q86.6632 631.506 88.4688 635.071 Q90.2975 638.612 93.9086 638.612 Q97.5428 638.612 99.3483 635.071 Q101.177 631.506 101.177 624.4 Q101.177 617.27 99.3483 613.728 Q97.5428 610.163 93.9086 610.163 M93.9086 606.46 Q99.7187 606.46 102.774 611.066 Q105.853 615.65 105.853 624.4 Q105.853 633.126 102.774 637.733 Q99.7187 642.316 93.9086 642.316 Q88.0984 642.316 85.0197 637.733 Q81.9642 633.126 81.9642 624.4 Q81.9642 615.65 85.0197 611.066 Q88.0984 606.46 93.9086 606.46 Z\" fill=\"#000000\" fill-rule=\"nonzero\" fill-opacity=\"1\" /><path clip-path=\"url(#clip640)\" d=\"M124.07 610.163 Q120.459 610.163 118.631 613.728 Q116.825 617.27 116.825 624.4 Q116.825 631.506 118.631 635.071 Q120.459 638.612 124.07 638.612 Q127.705 638.612 129.51 635.071 Q131.339 631.506 131.339 624.4 Q131.339 617.27 129.51 613.728 Q127.705 610.163 124.07 610.163 M124.07 606.46 Q129.881 606.46 132.936 611.066 Q136.015 615.65 136.015 624.4 Q136.015 633.126 132.936 637.733 Q129.881 642.316 124.07 642.316 Q118.26 642.316 115.182 637.733 Q112.126 633.126 112.126 624.4 Q112.126 615.65 115.182 611.066 Q118.26 606.46 124.07 606.46 Z\" fill=\"#000000\" fill-rule=\"nonzero\" fill-opacity=\"1\" /><path clip-path=\"url(#clip640)\" d=\"M66.5939 323.318 L54.7884 341.767 L66.5939 341.767 L66.5939 323.318 M65.367 319.244 L71.2466 319.244 L71.2466 341.767 L76.1772 341.767 L76.1772 345.656 L71.2466 345.656 L71.2466 353.804 L66.5939 353.804 L66.5939 345.656 L50.9921 345.656 L50.9921 341.142 L65.367 319.244 Z\" fill=\"#000000\" fill-rule=\"nonzero\" fill-opacity=\"1\" /><path clip-path=\"url(#clip640)\" d=\"M93.9086 322.323 Q90.2975 322.323 88.4688 325.888 Q86.6632 329.429 86.6632 336.559 Q86.6632 343.665 88.4688 347.23 Q90.2975 350.772 93.9086 350.772 Q97.5428 350.772 99.3483 347.23 Q101.177 343.665 101.177 336.559 Q101.177 329.429 99.3483 325.888 Q97.5428 322.323 93.9086 322.323 M93.9086 318.619 Q99.7187 318.619 102.774 323.226 Q105.853 327.809 105.853 336.559 Q105.853 345.286 102.774 349.892 Q99.7187 354.475 93.9086 354.475 Q88.0984 354.475 85.0197 349.892 Q81.9642 345.286 81.9642 336.559 Q81.9642 327.809 85.0197 323.226 Q88.0984 318.619 93.9086 318.619 Z\" fill=\"#000000\" fill-rule=\"nonzero\" fill-opacity=\"1\" /><path clip-path=\"url(#clip640)\" d=\"M124.07 322.323 Q120.459 322.323 118.631 325.888 Q116.825 329.429 116.825 336.559 Q116.825 343.665 118.631 347.23 Q120.459 350.772 124.07 350.772 Q127.705 350.772 129.51 347.23 Q131.339 343.665 131.339 336.559 Q131.339 329.429 129.51 325.888 Q127.705 322.323 124.07 322.323 M124.07 318.619 Q129.881 318.619 132.936 323.226 Q136.015 327.809 136.015 336.559 Q136.015 345.286 132.936 349.892 Q129.881 354.475 124.07 354.475 Q118.26 354.475 115.182 349.892 Q112.126 345.286 112.126 336.559 Q112.126 327.809 115.182 323.226 Q118.26 318.619 124.07 318.619 Z\" fill=\"#000000\" fill-rule=\"nonzero\" fill-opacity=\"1\" /><path clip-path=\"url(#clip640)\" d=\"M53.793 31.4033 L72.1494 31.4033 L72.1494 35.3385 L58.0754 35.3385 L58.0754 43.8106 Q59.0939 43.4634 60.1124 43.3014 Q61.131 43.1162 62.1495 43.1162 Q67.9365 43.1162 71.3161 46.2875 Q74.6957 49.4588 74.6957 54.8754 Q74.6957 60.4541 71.2235 63.5559 Q67.7513 66.6346 61.4319 66.6346 Q59.256 66.6346 56.9875 66.2642 Q54.7421 65.8939 52.3347 65.1531 L52.3347 60.4541 Q54.418 61.5883 56.6402 62.1439 Q58.8625 62.6994 61.3393 62.6994 Q65.3439 62.6994 67.6819 60.593 Q70.0198 58.4865 70.0198 54.8754 Q70.0198 51.2643 67.6819 49.1578 Q65.3439 47.0514 61.3393 47.0514 Q59.4643 47.0514 57.5893 47.468 Q55.7375 47.8847 53.793 48.7643 L53.793 31.4033 Z\" fill=\"#000000\" fill-rule=\"nonzero\" fill-opacity=\"1\" /><path clip-path=\"url(#clip640)\" d=\"M93.9086 34.482 Q90.2975 34.482 88.4688 38.0468 Q86.6632 41.5884 86.6632 48.718 Q86.6632 55.8245 88.4688 59.3893 Q90.2975 62.9309 93.9086 62.9309 Q97.5428 62.9309 99.3483 59.3893 Q101.177 55.8245 101.177 48.718 Q101.177 41.5884 99.3483 38.0468 Q97.5428 34.482 93.9086 34.482 M93.9086 30.7783 Q99.7187 30.7783 102.774 35.3848 Q105.853 39.9681 105.853 48.718 Q105.853 57.4448 102.774 62.0513 Q99.7187 66.6346 93.9086 66.6346 Q88.0984 66.6346 85.0197 62.0513 Q81.9642 57.4448 81.9642 48.718 Q81.9642 39.9681 85.0197 35.3848 Q88.0984 30.7783 93.9086 30.7783 Z\" fill=\"#000000\" fill-rule=\"nonzero\" fill-opacity=\"1\" /><path clip-path=\"url(#clip640)\" d=\"M124.07 34.482 Q120.459 34.482 118.631 38.0468 Q116.825 41.5884 116.825 48.718 Q116.825 55.8245 118.631 59.3893 Q120.459 62.9309 124.07 62.9309 Q127.705 62.9309 129.51 59.3893 Q131.339 55.8245 131.339 48.718 Q131.339 41.5884 129.51 38.0468 Q127.705 34.482 124.07 34.482 M124.07 30.7783 Q129.881 30.7783 132.936 35.3848 Q136.015 39.9681 136.015 48.718 Q136.015 57.4448 132.936 62.0513 Q129.881 66.6346 124.07 66.6346 Q118.26 66.6346 115.182 62.0513 Q112.126 57.4448 112.126 48.718 Q112.126 39.9681 115.182 35.3848 Q118.26 30.7783 124.07 30.7783 Z\" fill=\"#000000\" fill-rule=\"nonzero\" fill-opacity=\"1\" /><g clip-path=\"url(#clip642)\">\n",
       "<image width=\"1941\" height=\"1439\" xlink:href=\"data:image/png;base64,\n",
       "iVBORw0KGgoAAAANSUhEUgAAB5UAAAWfCAYAAACLOqENAAAgAElEQVR4nOzZMRHAMBDAsG8u/Cmn\n",
       "BOK5HSQE3v3M7DMAAAAAAAAAcLG+DgAAAAAAAADgv0xlAAAAAAAAAJKpDAAAAAAAAEAylQEAAAAA\n",
       "AABIpjIAAAAAAAAAyVQGAAAAAAAAIJnKAAAAAAAAACRTGQAAAAAAAIBkKgMAAAAAAACQTGUAAAAA\n",
       "AAAAkqkMAAAAAAAAQDKVAQAAAAAAAEimMgAAAAAAAADJVAYAAAAAAAAgmcoAAAAAAAAAJFMZAAAA\n",
       "AAAAgGQqAwAAAAAAAJBMZQAAAAAAAACSqQwAAAAAAABAMpUBAAAAAAAASKYyAAAAAAAAAMlUBgAA\n",
       "AAAAACCZygAAAAAAAAAkUxkAAAAAAACAZCoDAAAAAAAAkExlAAAAAAAAAJKpDAAAAAAAAEAylQEA\n",
       "AAAAAABIpjIAAAAAAAAAyVQGAAAAAAAAIJnKAAAAAAAAACRTGQAAAAAAAIBkKgMAAAAAAACQTGUA\n",
       "AAAAAAAAkqkMAAAAAAAAQDKVAQAAAAAAAEimMgAAAAAAAADJVAYAAAAAAAAgmcoAAAAAAAAAJFMZ\n",
       "AAAAAAAAgGQqAwAAAAAAAJBMZQAAAAAAAACSqQwAAAAAAABAMpUBAAAAAAAASKYyAAAAAAAAAMlU\n",
       "BgAAAAAAACCZygAAAAAAAAAkUxkAAAAAAACAZCoDAAAAAAAAkExlAAAAAAAAAJKpDAAAAAAAAEAy\n",
       "lQEAAAAAAABIpjIAAAAAAAAAyVQGAAAAAAAAIJnKAAAAAAAAACRTGQAAAAAAAIBkKgMAAAAAAACQ\n",
       "TGUAAAAAAAAAkqkMAAAAAAAAQDKVAQAAAAAAAEimMgAAAAAAAADJVAYAAAAAAAAgmcoAAAAAAAAA\n",
       "JFMZAAAAAAAAgGQqAwAAAAAAAJBMZQAAAAAAAACSqQwAAAAAAABAMpUBAAAAAAAASKYyAAAAAAAA\n",
       "AMlUBgAAAAAAACCZygAAAAAAAAAkUxkAAAAAAACAZCoDAAAAAAAAkExlAAAAAAAAAJKpDAAAAAAA\n",
       "AEAylQEAAAAAAABIpjIAAAAAAAAAyVQGAAAAAAAAIJnKAAAAAAAAACRTGQAAAAAAAIBkKgMAAAAA\n",
       "AACQTGUAAAAAAAAAkqkMAAAAAAAAQDKVAQAAAAAAAEimMgAAAAAAAADJVAYAAAAAAAAgmcoAAAAA\n",
       "AAAAJFMZAAAAAAAAgGQqAwAAAAAAAJBMZQAAAAAAAACSqQwAAAAAAABAMpUBAAAAAAAASKYyAAAA\n",
       "AAAAAMlUBgAAAAAAACCZygAAAAAAAAAkUxkAAAAAAACAZCoDAAAAAAAAkExlAAAAAAAAAJKpDAAA\n",
       "AAAAAEAylQEAAAAAAABIpjIAAAAAAAAAyVQGAAAAAAAAIJnKAAAAAAAAACRTGQAAAAAAAIBkKgMA\n",
       "AAAAAACQTGUAAAAAAAAAkqkMAAAAAAAAQDKVAQAAAAAAAEimMgAAAAAAAADJVAYAAAAAAAAgmcoA\n",
       "AAAAAAAAJFMZAAAAAAAAgGQqAwAAAAAAAJBMZQAAAAAAAACSqQwAAAAAAABAMpUBAAAAAAAASKYy\n",
       "AAAAAAAAAMlUBgAAAAAAACCZygAAAAAAAAAkUxkAAAAAAACAZCoDAAAAAAAAkExlAAAAAAAAAJKp\n",
       "DAAAAAAAAEAylQEAAAAAAABIpjIAAAAAAAAAyVQGAAAAAAAAIJnKAAAAAAAAACRTGQAAAAAAAIBk\n",
       "KgMAAAAAAACQTGUAAAAAAAAAkqkMAAAAAAAAQDKVAQAAAAAAAEimMgAAAAAAAADJVAYAAAAAAAAg\n",
       "mcoAAAAAAAAAJFMZAAAAAAAAgGQqAwAAAAAAAJBMZQAAAAAAAACSqQwAAAAAAABAMpUBAAAAAAAA\n",
       "SKYyAAAAAAAAAMlUBgAAAAAAACCZygAAAAAAAAAkUxkAAAAAAACAZCoDAAAAAAAAkExlAAAAAAAA\n",
       "AJKpDAAAAAAAAEAylQEAAAAAAABIpjIAAAAAAAAAyVQGAAAAAAAAIJnKAAAAAAAAACRTGQAAAAAA\n",
       "AIBkKgMAAAAAAACQTGUAAAAAAAAAkqkMAAAAAAAAQDKVAQAAAAAAAEimMgAAAAAAAADJVAYAAAAA\n",
       "AAAgmcoAAAAAAAAAJFMZAAAAAAAAgGQqAwAAAAAAAJBMZQAAAAAAAACSqQwAAAAAAABAMpUBAAAA\n",
       "AAAASKYyAAAAAAAAAMlUBgAAAAAAACCZygAAAAAAAAAkUxkAAAAAAACAZCoDAAAAAAAAkExlAAAA\n",
       "AAAAAJKpDAAAAAAAAEAylQEAAAAAAABIpjIAAAAAAAAAyVQGAAAAAAAAIJnKAAAAAAAAACRTGQAA\n",
       "AAAAAIBkKgMAAAAAAACQTGUAAAAAAAAAkqkMAAAAAAAAQDKVAQAAAAAAAEimMgAAAAAAAADJVAYA\n",
       "AAAAAAAgmcoAAAAAAAAAJFMZAAAAAAAAgGQqAwAAAAAAAJBMZQAAAAAAAACSqQwAAAAAAABAMpUB\n",
       "AAAAAAAASKYyAAAAAAAAAMlUBgAAAAAAACCZygAAAAAAAAAkUxkAAAAAAACAZCoDAAAAAAAAkExl\n",
       "AAAAAAAAAJKpDAAAAAAAAEAylQEAAAAAAABIpjIAAAAAAAAAyVQGAAAAAAAAIJnKAAAAAAAAACRT\n",
       "GQAAAAAAAIBkKgMAAAAAAACQTGUAAAAAAAAAkqkMAAAAAAAAQDKVAQAAAAAAAEimMgAAAAAAAADJ\n",
       "VAYAAAAAAAAgmcoAAAAAAAAAJFMZAAAAAAAAgGQqAwAAAAAAAJBMZQAAAAAAAACSqQwAAAAAAABA\n",
       "MpUBAAAAAAAASKYyAAAAAAAAAMlUBgAAAAAAACCZygAAAAAAAAAkUxkAAAAAAACAZCoDAAAAAAAA\n",
       "kExlAAAAAAAAAJKpDAAAAAAAAEAylQEAAAAAAABIpjIAAAAAAAAAyVQGAAAAAAAAIJnKAAAAAAAA\n",
       "ACRTGQAAAAAAAIBkKgMAAAAAAACQTGUAAAAAAAAAkqkMAAAAAAAAQDKVAQAAAAAAAEimMgAAAAAA\n",
       "AADJVAYAAAAAAAAgmcoAAAAAAAAAJFMZAAAAAAAAgGQqAwAAAAAAAJBMZQAAAAAAAACSqQwAAAAA\n",
       "AABAMpUBAAAAAAAASKYyAAAAAAAAAMlUBgAAAAAAACCZygAAAAAAAAAkUxkAAAAAAACAZCoDAAAA\n",
       "AAAAkExlAAAAAAAAAJKpDAAAAAAAAEAylQEAAAAAAABIpjIAAAAAAAAAyVQGAAAAAAAAIJnKAAAA\n",
       "AAAAACRTGQAAAAAAAIBkKgMAAAAAAACQTGUAAAAAAAAAkqkMAAAAAAAAQDKVAQAAAAAAAEimMgAA\n",
       "AAAAAADJVAYAAAAAAAAgmcoAAAAAAAAAJFMZAAAAAAAAgGQqAwAAAAAAAJBMZQAAAAAAAACSqQwA\n",
       "AAAAAABAMpUBAAAAAAAASKYyAAAAAAAAAMlUBgAAAAAAACCZygAAAAAAAAAkUxkAAAAAAACAZCoD\n",
       "AAAAAAAAkExlAAAAAAAAAJKpDAAAAAAAAEAylQEAAAAAAABIpjIAAAAAAAAAyVQGAAAAAAAAIJnK\n",
       "AAAAAAAAACRTGQAAAAAAAIBkKgMAAAAAAACQTGUAAAAAAAAAkqkMAAAAAAAAQDKVAQAAAAAAAEim\n",
       "MgAAAAAAAADJVAYAAAAAAAAgmcoAAAAAAAAAJFMZAAAAAAAAgGQqAwAAAAAAAJBMZQAAAAAAAACS\n",
       "qQwAAAAAAABAMpUBAAAAAAAASKYyAAAAAAAAAMlUBgAAAAAAACCZygAAAAAAAAAkUxkAAAAAAACA\n",
       "ZCoDAAAAAAAAkExlAAAAAAAAAJKpDAAAAAAAAEAylQEAAAAAAABIpjIAAAAAAAAAyVQGAAAAAAAA\n",
       "IJnKAAAAAAAAACRTGQAAAAAAAIBkKgMAAAAAAACQTGUAAAAAAAAAkqkMAAAAAAAAQDKVAQAAAAAA\n",
       "AEimMgAAAAAAAADJVAYAAAAAAAAgmcoAAAAAAAAAJFMZAAAAAAAAgGQqAwAAAAAAAJBMZQAAAAAA\n",
       "AACSqQwAAAAAAABAMpUBAAAAAAAASKYyAAAAAAAAAMlUBgAAAAAAACCZygAAAAAAAAAkUxkAAAAA\n",
       "AACAZCoDAAAAAAAAkExlAAAAAAAAAJKpDAAAAAAAAEAylQEAAAAAAABIpjIAAAAAAAAAyVQGAAAA\n",
       "AAAAIJnKAAAAAAAAACRTGQAAAAAAAIBkKgMAAAAAAACQTGUAAAAAAAAAkqkMAAAAAAAAQDKVAQAA\n",
       "AAAAAEimMgAAAAAAAADJVAYAAAAAAAAgmcoAAAAAAAAAJFMZAAAAAAAAgGQqAwAAAAAAAJBMZQAA\n",
       "AAAAAACSqQwAAAAAAABAMpUBAAAAAAAASKYyAAAAAAAAAMlUBgAAAAAAACCZygAAAAAAAAAkUxkA\n",
       "AAAAAACAZCoDAAAAAAAAkExlAAAAAAAAAJKpDAAAAAAAAEAylQEAAAAAAABIpjIAAAAAAAAAyVQG\n",
       "AAAAAAAAIJnKAAAAAAAAACRTGQAAAAAAAIBkKgMAAAAAAACQTGUAAAAAAAAAkqkMAAAAAAAAQDKV\n",
       "AQAAAAAAAEimMgAAAAAAAADJVAYAAAAAAAAgmcoAAAAAAAAAJFMZAAAAAAAAgGQqAwAAAAAAAJBM\n",
       "ZQAAAAAAAACSqQwAAAAAAABAMpUBAAAAAAAASKYyAAAAAAAAAMlUBgAAAAAAACCZygAAAAAAAAAk\n",
       "UxkAAAAAAACAZCoDAAAAAAAAkExlAAAAAAAAAJKpDAAAAAAAAEAylQEAAAAAAABIpjIAAAAAAAAA\n",
       "yVQGAAAAAAAAIJnKAAAAAAAAACRTGQAAAAAAAIBkKgMAAAAAAACQTGUAAAAAAAAAkqkMAAAAAAAA\n",
       "QDKVAQAAAAAAAEimMgAAAAAAAADJVAYAAAAAAAAgmcoAAAAAAAAAJFMZAAAAAAAAgGQqAwAAAAAA\n",
       "AJBMZQAAAAAAAACSqQwAAAAAAABAMpUBAAAAAAAASKYyAAAAAAAAAMlUBgAAAAAAACCZygAAAAAA\n",
       "AAAkUxkAAAAAAACAZCoDAAAAAAAAkExlAAAAAAAAAJKpDAAAAAAAAEAylQEAAAAAAABIpjIAAAAA\n",
       "AAAAyVQGAAAAAAAAIJnKAAAAAAAAACRTGQAAAAAAAIBkKgMAAAAAAACQTGUAAAAAAAAAkqkMAAAA\n",
       "AAAAQDKVAQAAAAAAAEimMgAAAAAAAADJVAYAAAAAAAAgmcoAAAAAAAAAJFMZAAAAAAAAgGQqAwAA\n",
       "AAAAAJBMZQAAAAAAAACSqQwAAAAAAABAMpUBAAAAAAAASKYyAAAAAAAAAMlUBgAAAAAAACCZygAA\n",
       "AAAAAAAkUxkAAAAAAACAZCoDAAAAAAAAkExlAAAAAAAAAJKpDAAAAAAAAEAylQEAAAAAAABIpjIA\n",
       "AAAAAAAAyVQGAAAAAAAAIJnKAAAAAAAAACRTGQAAAAAAAIBkKgMAAAAAAACQTGUAAAAAAAAAkqkM\n",
       "AAAAAAAAQDKVAQAAAAAAAEimMgAAAAAAAADJVAYAAAAAAAAgmcoAAAAAAAAAJFMZAAAAAAAAgGQq\n",
       "AwAAAAAAAJBMZQAAAAAAAACSqQwAAAAAAABAMpUBAAAAAAAASKYyAAAAAAAAAMlUBgAAAAAAACCZ\n",
       "ygAAAAAAAAAkUxkAAAAAAACAZCoDAAAAAAAAkExlAAAAAAAAAJKpDAAAAAAAAEAylQEAAAAAAABI\n",
       "pjIAAAAAAAAAyVQGAAAAAAAAIJnKAAAAAAAAACRTGQAAAAAAAIBkKgMAAAAAAACQTGUAAAAAAAAA\n",
       "kqkMAAAAAAAAQDKVAQAAAAAAAEimMgAAAAAAAADJVAYAAAAAAAAgmcoAAAAAAAAAJFMZAAAAAAAA\n",
       "gGQqAwAAAAAAAJBMZQAAAAAAAACSqQwAAAAAAABAMpUBAAAAAAAASKYyAAAAAAAAAMlUBgAAAAAA\n",
       "ACCZygAAAAAAAAAkUxkAAAAAAACAZCoDAAAAAAAAkExlAAAAAAAAAJKpDAAAAAAAAEAylQEAAAAA\n",
       "AABIpjIAAAAAAAAAyVQGAAAAAAAAIJnKAAAAAAAAACRTGQAAAAAAAIBkKgMAAAAAAACQTGUAAAAA\n",
       "AAAAkqkMAAAAAAAAQDKVAQAAAAAAAEimMgAAAAAAAADJVAYAAAAAAAAgmcoAAAAAAAAAJFMZAAAA\n",
       "AAAAgGQqAwAAAAAAAJBMZQAAAAAAAACSqQwAAAAAAABAMpUBAAAAAAAASKYyAAAAAAAAAMlUBgAA\n",
       "AAAAACCZygAAAAAAAAAkUxkAAAAAAACAZCoDAAAAAAAAkExlAAAAAAAAAJKpDAAAAAAAAEAylQEA\n",
       "AAAAAABIpjIAAAAAAAAAyVQGAAAAAAAAIJnKAAAAAAAAACRTGQAAAAAAAIBkKgMAAAAAAACQTGUA\n",
       "AAAAAAAAkqkMAAAAAAAAQDKVAQAAAAAAAEimMgAAAAAAAADJVAYAAAAAAAAgmcoAAAAAAAAAJFMZ\n",
       "AAAAAAAAgGQqAwAAAAAAAJBMZQAAAAAAAACSqQwAAAAAAABAMpUBAAAAAAAASKYyAAAAAAAAAMlU\n",
       "BgAAAAAAACCZygAAAAAAAAAkUxkAAAAAAACAZCoDAAAAAAAAkExlAAAAAAAAAJKpDAAAAAAAAEAy\n",
       "lQEAAAAAAABIpjIAAAAAAAAAyVQGAAAAAAAAIJnKAAAAAAAAACRTGQAAAAAAAIBkKgMAAAAAAACQ\n",
       "TGUAAAAAAAAAkqkMAAAAAAAAQDKVAQAAAAAAAEimMgAAAAAAAADJVAYAAAAAAAAgmcoAAAAAAAAA\n",
       "JFMZAAAAAAAAgGQqAwAAAAAAAJBMZQAAAAAAAACSqQwAAAAAAABAMpUBAAAAAAAASKYyAAAAAAAA\n",
       "AMlUBgAAAAAAACCZygAAAAAAAAAkUxkAeNm5g+W2sQOIokDi///iZJjFbJKUb9SueREo+Zw1igBJ\n",
       "2VX21WsAAAAAAEiiMgAAAAAAAABJVAYAAAAAAAAgicoAAAAAAAAAJFEZAAAAAAAAgCQqAwAAAAAA\n",
       "AJBEZQAAAAAAAACSqAwAAAAAAABAEpUBAAAAAAAASKIyAAAAAAAAAElUBgAAAAAAACCJygAAAAAA\n",
       "AAAkURkAAAAAAACAJCoDAAAAAAAAkERlAAAAAAAAAJKoDAAAAAAAAEASlQEAAAAAAABIojIAAAAA\n",
       "AAAASVQGAAAAAAAAIInKAAAAAAAAACRRGQAAAAAAAIAkKgMAAAAAAACQRGUAAAAAAAAAkqgMAAAA\n",
       "AAAAQBKVAQAAAAAAAEiiMgAAAAAAAABJVAYAAAAAAAAgicoAAAAAAAAAJFEZAAAAAAAAgCQqAwAA\n",
       "AAAAAJBEZQAAAAAAAACSqAwAAAAAAABAEpUBAAAAAAAASKIyAAAAAAAAAElUBgAAAAAAACCJygAA\n",
       "AAAAAAAkURkAAAAAAACAJCoDAAAAAAAAkERlAAAAAAAAAJKoDAAAAAAAAEASlQEAAAAAAABIojIA\n",
       "AAAAAAAASVQGAAAAAAAAIInKAAAAAAAAACRRGQAAAAAAAIAkKgMAAAAAAACQRGUAAAAAAAAAkqgM\n",
       "AAAAAAAAQBKVAQAAAAAAAEiiMgAAAAAAAABJVAYAAAAAAAAgicoAAAAAAAAAJFEZAAAAAAAAgCQq\n",
       "AwAAAAAAAJBEZQAAAAAAAACSqAwAAAAAAABAEpUBAAAAAAAASKIyAAAAAAAAAElUBgAAAAAAACCJ\n",
       "ygAAAAAAAAAkURkAAAAAAACAJCoDAAAAAAAAkERlAAAAAAAAAJKoDAAAAAAAAEASlQEAAAAAAABI\n",
       "ojIAAAAAAAAASVQGAAAAAAAAIInKAAAAAAAAACRRGQAAAAAAAIAkKgMAAAAAAACQRGUAAAAAAAAA\n",
       "kqgMAAAAAAAAQBKVAQAAAAAAAEiiMgAAAAAAAABJVAYAAAAAAAAgicoAAAAAAAAAJFEZAAAAAAAA\n",
       "gCQqAwAAAAAAAJBEZQAAAAAAAACSqAwAAAAAAABAEpUBAAAAAAAASKIyAAAAAAAAAElUBgAAAAAA\n",
       "ACCJygAAAAAAAAAkURkAAAAAAACAJCoDAAAAAAAAkERlAAAAAAAAAJKoDAAAAAAAAEASlQEAAAAA\n",
       "AABIojIAAAAAAAAASVQGAAAAAAAAIInKAAAAAAAAACRRGQAAAAAAAIAkKgMAAAAAAACQRGUAAAAA\n",
       "AAAAkqgMAAAAAAAAQBKVAQAAAAAAAEiiMgAAAAAAAABJVAYAAAAAAAAgicoAAAAAAAAAJFEZAAAA\n",
       "AAAAgCQqAwAAAAAAAJBEZQAAAAAAAACSqAwAAAAAAABAEpUBAAAAAAAASKIyAAAAAAAAAElUBgAA\n",
       "AAAAACCJygAAAAAAAAAkURkAAAAAAACAJCoDAAAAAAAAkERlAAAAAAAAAJKoDAAAAAAAAEASlQEA\n",
       "AAAAAABIojIAAAAAAAAASVQGAAAAAAAAIInKAAAAAAAAACRRGQAAAAAAAIAkKgMAAAAAAACQRGUA\n",
       "AAAAAAAAkqgMAAAAAAAAQBKVAQAAAAAAAEiiMgAAAAAAAABJVAYAAAAAAAAgicoAAAAAAAAAJFEZ\n",
       "AAAAAAAAgCQqAwAAAAAAAJBEZQAAAAAAAACSqAwAAAAAAABAEpUBAAAAAAAASKIyAAAAAAAAAElU\n",
       "BgAAAAAAACCJygAAAAAAAAAkURkAAAAAAACAJCoDAAAAAAAAkERlAAAAAAAAAJKoDAAAAAAAAEAS\n",
       "lQEAAAAAAABIojIAAAAAAAAASVQGAAAAAAAAIInKAAAAAAAAACRRGQAAAAAAAIAkKgMAAAAAAACQ\n",
       "RGUAAAAAAAAAkqgMAAAAAAAAQBKVAQAAAAAAAEiiMgAAAAAAAABJVAYAAAAAAAAgicoAAAAAAAAA\n",
       "JFEZAAAAAAAAgCQqAwAAAAAAAJBEZQAAAAAAAACSqAwAAAAAAABAEpUBAAAAAAAASKIyAAAAAAAA\n",
       "AElUBgAAAAAAACCJygAAAAAAAAAkURkAAAAAAACAJCoDAAAAAAAAkERlAAAAAAAAAJKoDAAAAAAA\n",
       "AEASlQEAAAAAAABIojIAAAAAAAAASVQGAAAAAAAAIInKAAAAAAAAACRRGQAAAAAAAIAkKgMAAAAA\n",
       "AACQRGUAAAAAAAAAkqgMAAAAAAAAQBKVAQAAAAAAAEiiMgAAAAAAAABJVAYAAAAAAAAgicoAAAAA\n",
       "AAAAJFEZAAAAAAAAgCQqAwAAAAAAAJBEZQAAAAAAAACSqAwAAAAAAABAEpUBAAAAAAAASKIyAAAA\n",
       "AAAAAElUBgAAAAAAACCJygAAAAAAAAAkURkAAAAAAACAJCoDAAAAAAAAkERlAAAAAAAAAJKoDAAA\n",
       "AAAAAEASlQEAAAAAAABIojIAAAAAAAAASVQGAAAAAAAAIInKAAAAAAAAACRRGQAAAAAAAIAkKgMA\n",
       "AAAAAACQRGUAAAAAAAAAkqgMAAAAAAAAQBKVAQAAAAAAAEiiMgAAAAAAAABJVAYAAAAAAAAgicoA\n",
       "AAAAAAAAJFEZAAAAAAAAgCQqAwAAAAAAAJBEZQAAAAAAAACSqAwAAAAAAABAEpUBAAAAAAAASKIy\n",
       "AAAAAAAAAElUBgAAAAAAACCJygAAAAAAAAAkURkAAAAAAACAJCoDAAAAAAAAkERlAAAAAAAAAJKo\n",
       "DAAAAAAAAEASlQEAAAAAAABIojIAAAAAAAAASVQGAAAAAAAAIInKAAAAAAAAACRRGQAAAAAAAIAk\n",
       "KgMAAAAAAACQRGUAAAAAAAAAkqgMAAAAAAAAQBKVAQAAAAAAAEiiMgAAAAAAAABJVAYAAAAAAAAg\n",
       "icoAAAAAAAAAJFEZAAAAAAAAgCQqAwAAAAAAAJBEZQAAAAAAAACSqAwAAAAAAABAEpUBAAAAAAAA\n",
       "SKIyAAAAAAAAAElUBgAAAAAAACCJygAAAAAAAAAkURkAAAAAAACAJCoDAAAAAAAAkERlAAAAAAAA\n",
       "AJKoDAAAAAAAAEASlQEAAAAAAABIojIAAAAAAAAASVQGAAAAAAAAIInKAAAAAAAAACRRGQAAAAAA\n",
       "AIAkKgMAAAAAAACQRGUAAAAAAAAAkqgMAAAAAAAAQBKVAQAAAAAAAEiiMgAAAAAAAABJVAYAAAAA\n",
       "AAAgicoAAAAAAAAAJFEZAAAAAAAAgCQqAwAAAAAAAJBEZQAAAAAAAACSqAwAAAAAAABAEpUBAAAA\n",
       "AAAASKIyAAAAAAAAAElUBgAAAAAAACCJygAAAAAAAAAkURkAAAAAAACAJCoDAAAAAAAAkERlAAAA\n",
       "AAAAAJKoDAAAAAAAAEASlQEAAAAAAABIojIAAAAAAAAASVQGAAAAAAAAIInKAAAAAAAAACRRGQAA\n",
       "AAAAAIAkKgMAAAAAAACQRGUAAAAAAAAAkqgMAAAAAAAAQBKVAQAAAAAAAEiiMgAAAAAAAABJVAYA\n",
       "AAAAAAAgicoAAAAAAAAAJFEZAAAAAAAAgCQqAwAAAAAAAJBEZQAAAAAAAACSqAwAAAAAAABAEpUB\n",
       "AAAAAAAASKIyAAAAAAAAAElUBgAAAAAAACCJygAAAAAAAAAkURkAAAAAAACAJCoDAAAAAAAAkERl\n",
       "AAAAAAAAAJKoDAAAAAAAAEASlQEAAAAAAABIojIAAAAAAAAASVQGAAAAAAAAIInKAAAAAAAAACRR\n",
       "GQAAAAAAAIAkKgMAAAAAAACQRGUAAAAAAAAAkqgMAAAAAAAAQBKVAQAAAAAAAEiiMgAAAAAAAABJ\n",
       "VAYAAAAAAAAgicoAAAAAAAAAJFEZAAAAAAAAgCQqAwAAAAAAAJBEZQAAAAAAAACSqAwAAAAAAABA\n",
       "EpUBAAAAAAAASKIyAAAAAAAAAElUBgAAAAAAACCJygAAAAAAAAAkURkAAAAAAACAJCoDAAAAAAAA\n",
       "kERlAAAAAAAAAJKoDAAAAAAAAEASlQEAAAAAAABIojIAAAAAAAAASVQGAAAAAAAAIInKAAAAAAAA\n",
       "ACRRGQAAAAAAAIAkKgMAAAAAAACQRGUAAAAAAAAAkqgMAAAAAAAAQBKVAQAAAAAAAEiiMgAAAAAA\n",
       "AABJVAYAAAAAAAAgicoAAAAAAAAAJFEZAOo/VMgAACAASURBVAAAAAAAgCQqAwAAAAAAAJBEZQAA\n",
       "AAAAAACSqAwAAAAAAABAEpUBAAAAAAAASKIyAAAAAAAAAElUBgAAAAAAACCJygAAAAAAAAAkURkA\n",
       "AAAAAACAJCoDAAAAAAAAkERlAAAAAAAAAJKoDAAAAAAAAEASlQEAAAAAAABIojIAAAAAAAAASVQG\n",
       "AAAAAAAAIInKAAAAAAAAACRRGQAAAAAAAIAkKgMAAAAAAACQRGUAAAAAAAAAkqgMAAAAAAAAQBKV\n",
       "AQAAAAAAAEiiMgAAAAAAAABJVAYAAAAAAAAgicoAAAAAAAAAJFEZAAAAAAAAgCQqAwAAAAAAAJBE\n",
       "ZQAAAAAAAACSqAwAAAAAAABAEpUBAAAAAAAASKIyAAAAAAAAAElUBgAAAAAAACCJygAAAAAAAAAk\n",
       "URkAAAAAAACAJCoDAAAAAAAAkERlAAAAAAAAAJKoDAAAAAAAAEASlQEAAAAAAABIojIAAAAAAAAA\n",
       "SVQGAAAAAAAAIInKAAAAAAAAACRRGQAAAAAAAIAkKgMAAAAAAACQRGUAAAAAAAAAkqgMAAAAAAAA\n",
       "QBKVAQAAAAAAAEiiMgAAAAAAAABJVAYAAAAAAAAgicoAAAAAAAAAJFEZAAAAAAAAgCQqAwAAAAAA\n",
       "AJBEZQAAAAAAAACSqAwAAAAAAABAEpUBAAAAAAAASKIyAAAAAAAAAElUBgAAAAAAACCJygAAAAAA\n",
       "AAAkURkAAAAAAACAJCoDAAAAAAAAkERlAAAAAAAAAJKoDAAAAAAAAEASlQEAAAAAAABIojIAAAAA\n",
       "AAAASVQGAAAAAAAAIInKAAAAAAAAACRRGQAAAAAAAIAkKgMAAAAAAACQRGUAAAAAAAAAkqgMAAAA\n",
       "AAAAQBKVAQAAAAAAAEiiMgAAAAAAAABJVAYAAAAAAAAgicoAAAAAAAAAJFEZAAAAAAAAgCQqAwAA\n",
       "AAAAAJBEZQAAAAAAAACSqAwAAAAAAABAEpUBAAAAAAAASKIyAAAAAAAAAElUBgAAAAAAACCJygAA\n",
       "AAAAAAAkURkAAAAAAACAJCoDAAAAAAAAkERlAAAAAAAAAJKoDAAAAAAAAEASlQEAAAAAAABIojIA\n",
       "AAAAAAAASVQGAAAAAAAAIInKAAAAAAAAACRRGQAAAAAAAIAkKgMAAAAAAACQRGUAAAAAAAAAkqgM\n",
       "AAAAAAAAQBKVAQAAAAAAAEiiMgAAAAAAAABJVAYAAAAAAAAgicoAAAAAAAAAJFEZAAAAAAAAgCQq\n",
       "AwAAAAAAAJBEZQAAAAAAAACSqAwAAAAAAABAEpUBAAAAAAAASKIyAAAAAAAAAElUBgAAAAAAACCJ\n",
       "ygAAAAAAAAAkURkAAAAAAACAJCoDAAAAAAAAkERlAAAAAAAAAJKoDAAAAAAAAEASlQEAAAAAAABI\n",
       "ojIAAAAAAAAASVQGAAAAAAAAIInKAAAAAAAAACRRGQAAAAAAAIAkKgMAAAAAAACQRGUAAAAAAAAA\n",
       "kqgMAAAAAAAAQBKVAQAAAAAAAEiiMgAAAAAAAABJVAYAAAAAAAAgicoAAAAAAAAAJFEZAAAAAAAA\n",
       "gCQqAwAAAAAAAJBEZQAAAAAAAACSqAwAAAAAAABAEpUBAAAAAAAASKIyAAAAAAAAAElUBgAAAAAA\n",
       "ACCJygAAAAAAAAAkURkAAAAAAACAJCoDAAAAAAAAkERlAAAAAAAAAJKoDAAAAAAAAEASlQEAAAAA\n",
       "AABIojIAAAAAAAAASVQGAAAAAAAAIInKAAAAAAAAACRRGQAAAAAAAIAkKgMAAAAAAACQRGUAAAAA\n",
       "AAAAkqgMAAAAAAAAQBKVAQAAAAAAAEiiMgAAAAAAAABJVAYAAAAAAAAgicoAAAAAAAAAJFEZAAAA\n",
       "AAAAgCQqAwAAAAAAAJBEZQAAAAAAAACSqAwAAAAAAABAEpUBAAAAAAAASKIyAAAAAAAAAElUBgAA\n",
       "AAAAACCJygAAAAAAAACkH08/AAAAALybe7zu9X99CgAAAHgPTioDAAAAAAAAkERlAAAAAAAAAJL5\n",
       "awAAAB6xTky/s3d+D6a5AQAAOMVJZQAAAAAAAACSqAwAAAAAAABAMn8NAADA7Ozc8zuPR39998EB\n",
       "bFPaAAAAvzcnlQEAAAAAAABIojIAAAAAAAAAyfw1AAAAvzBEbbL66zj3Xa1T2mayAQAAvicnlQEA\n",
       "AAAAAABIojIAAAAAAAAAyfw1AADAF3V2iNqsNf/L9vOxzmQvTGkDAAC8DyeVAQAAAAAAAEiiMgAA\n",
       "AAAAAADJ/DUAAMCbMWv93w6+hyc+juM7zu88DL18wNvzr1/VO38aAAAA34WTygAAAAAAAAAkURkA\n",
       "AAAAAACAZP4aAADgy3rXaevxud718U87/j7HF5x2oZ8YjzZsDQAA8NU4qQwAAAAAAABAclIZAADg\n",
       "k+wHVp84wvvE6eLf5ajyQ+7lpO/JU8+/dOFge7Z7uKczzwAAAH+Nk8oAAAAAAAAAJFEZAAAAAAAA\n",
       "gHRf1w8rUAAAAH/ROtT7+b7DrLWZ7P908p/xh/9LYHq5J/4bYrun/yABAAD4OSeVAQAAAAAAAEii\n",
       "MgAAAAAAAADpx9MPAAAA8M724eU3nbaeH+vk85u//m3dw4D0a/0+T45RrwP1ZrIBAAB+xkllAAAA\n",
       "AAAAAJKoDAAAAAAAAEAyfw0AAPB2xnng6bInpqjP3vN+62nuxdmx5Geml9e7LpPs42s9MpMNAADA\n",
       "zzipDAAAAAAAAEASlQEAAAAAAABI5q8BAIDf0j6C/MBc8nzLJ2ahP75un6teZ77NX/+7+7W+3sfX\n",
       "nR+OXl5x/d7XmeztsvGm41XbTQ1zAwAA34WTygAAAAAAAAAkURkAAAAAAACAZP4aAADgsxydcZ5v\n",
       "evS6adr6Xn9/+fBM9vRKn/8dvE6PIK+z0MN979cfh17pV5z+PIbvdJ4MBwAA4GecVAYAAAAAAAAg\n",
       "icoAAAAAAAAAJPPXAADAt7KPG5+eQT75eidnoddZ6/F3jqcJ7+219inq8bpH5sU/Nj/VPNG8XTfN\n",
       "bq8f7fhsr2ub0z5rebb1W1i/g/XP1cevZ5gbAAD4CpxUBgAAAAAAACCJygAAAAAAAAAk89cAAAAn\n",
       "TGu4h+eeh+vOzlpf1/K7yafveXYm+4mJ7HHg+D44a31tk9Xz9PK9zVrfr4+/+0cmssfP1hY1AADA\n",
       "zzmpDAAAAAAAAEByUhkAAPhmTp9EfeJk68ETvAdPIP95z+Gk8r3+/vJ4z8PvYbPe8+TR1vEE73AC\n",
       "+bqu7XTx6QO8wz3v1/bZ7p/sye/g9Pe+vJ7j0QAAwPtzUhkAAAAAAACAJCoDAAAAAAAAkMxfAwAA\n",
       "X8YTQ9T7TZcLD85aX9d1TTPT52atr+u67vvv5+45zmSvz7ZMfc+f7cEZ5Ne8Mb2+z20m+zXMTM/T\n",
       "4idnstcf79f4Pk/+zXCf3gMfbjleZyQbAAB4kpPKAAAAAAAAACRRGQAAAAAAAIBk/hoAAPhNnR7T\n",
       "Pjd/ffK6s7PW22T1fW2vda33PDinvc9fn7POX7+ube75Gq+7r38O9zxseMF5Dvz4n5fF6WczWg0A\n",
       "AHwPTioDAAAAAAAAkERlAAAAAAAAAJL5awAA4As5OHM7v9S5e87Ty/d23TILvUxC/9J1wz8j9ynt\n",
       "7bq/HZ3J/vz563UC+XVvs9Z/vD6etf7zrsN7fa0/k//Yrpv2r9fPY7vuHt7Dv9q5s91KkuxKoMfd\n",
       "70AyMrPU6v//wQZaKmVGkLyTez9QiYYgWdqOKovgtNbzgflgZgQuzc8eHrkd3lt2WVHaAADA26dT\n",
       "GQAAAAAAAIAmh8oAAAAAAAAANIm/BgAAXt1rBBKPlzxF+qTh979RZHUaHT0usnqesp+aaV0cpz0y\n",
       "DjyqygKJty2Ltd4qq8tivqvW4CmyK1YeWZ0UxdHRadxzUvf+I6bf/xMAAADvmU5lAAAAAAAAAJoc\n",
       "KgMAAAAAAADQJP4aAAD4YNKQ2LF1U1IXRy+ndf1Y6Dg6Oo6s3gc1Y+Ov87rgfQxfH/2w4S2Me163\n",
       "W1ZX16huZCR7GpMdjTY01jp7v1Mc3/0aYfwCqwEAgLdPpzIAAAAAAAAATQ6VAQAAAAAAAGgSfw0A\n",
       "ALwBAyNnh6fXjoxLDsdKY7KDujT+emQU9TIforGWgZHbVVVzEgceR4tnc7Ul8ddhePQ6hfHXW/YM\n",
       "t6QuzbVOo6ijuuyiW/od/JaM9/Njz+Ph4vTrwfcGAADwHXQqAwAAAAAAANDkUBkAAAAAAACAJvHX\n",
       "AADAJzU4Dnfq1+XRy2ldP+55Hhx/nURbL1MWf70L65ah8dfZ+xgbfx3GWod1t/AZqs79kvRT8zWN\n",
       "v+5HUa9RXHXVFGdz9x9im8KxtleKyQYAAHjjdCoDAAAAAAAA0KRTGQAA+GHSXr6xI469atqxGn2z\n",
       "O4UdyHFd0qmc/eybw27gpGt4Nx2jsdJO5V2FHc3BT9ykm/nFuE7UvAP5GtWl6yN7hrADOez0TTqV\n",
       "07Gm8L1tyd7b0u7/tCM7NfLvUXbVcbMOAADw/+lUBgAAAAAAAKDJoTIAAAAAAAAATeKvAQCATyqM\n",
       "pZ2yuiQmewq/653CiOYs/jqMtZ7DKOog2nofxl/v6y67Zhh/vdv6zzrHc5DN+xbFX2dxz9fpEtWl\n",
       "Ed5TtHbDuOc5rFv7z7pOWaz1tIXPGb3fcD7D/V7buHh0AACA90CnMgAAAAAAAABNDpUBAAAAAAAA\n",
       "aBJ/DQAA/EBpROxrDJcOlsZk97/ZnYKal7os9nee+j/pljD+ejcNjL+u+2isQxh/fdg+Sfx1+BP9\n",
       "HK6PZO1uUxhrHT7DFkRbr9N12FhVVVP167b0m/ote86hf4yGJ2mPiz0HAAD4k05lAAAAAAAAAJoc\n",
       "KgMAAAAAAADQJP4aAAD4YLIs2Ty8Nh0vqRsbf728Qvz1PoisPoax1sdtdPx18D7i+OtMEiJ8i+Ov\n",
       "w9jzeB31a0bGWldl0dbrdBk2VlVVbUH0fBxnPvbvRzaeKGoAAODt06kMAAAAAAAAQJNDZQAAAAAA\n",
       "AACaxF8DAADvSB5aPWqsNDY3+WY3jbWe47p+tPUSxlrvwsjqQxJ/HcZa34V1xyDWuqpqH7y3txx/\n",
       "fQlinKvy+OvEOmX3tlYWf30LIqtvYfz1HMdk9+d9C9/t6JjszMjVBgAA8GPoVAYAAAAAAACgyaEy\n",
       "AAAAAAAAAE3irwEAgH/IyPDX14i1rim9ZhiTPQXx1+F3vfOU/VQbGX+9r2NUl0RbH7dsrLutf/9V\n",
       "VXfh+9jP/fe7C+d9ZCDxNYxe3q1hRPOWRjT3724No7mTWOuqqut07tbMQc1LXTbvU/VjspP9WVW1\n",
       "he82/vsRjZfGWo9blQK3AQCA76VTGQAAAAAAAIAmh8oAAAAAAAAANIm/BgAAXt/QLO2xsdYVxuYm\n",
       "3+zO05KNFMb+LkH8dRprfah+rHVVFm19t2WR2/dz9px3c/beDnN/TtP462Coqqpag3zg65aFCJ/T\n",
       "aO4ssbq2oC6Nv76m8dfVj7a+TqdorFscA99fH2sYQR7v9zQme+QfN5nVAADAK9KpDAAAAAAAAECT\n",
       "Q2UAAAAAAAAAmsRfAwAA70g//zUPmw2jhtO6IDZ3SuOvw59quyD+eldZFPUhiLWuqjoG0db3YWzx\n",
       "fRhrfb9k30Mfg+F24QIZG3+dDba7pWsyk6Ru38Ko8suWxV+fp/54ybqtqrqG+yDZV8n+rKqawrna\n",
       "4r8f48aSaw0AALwmncoAAAAAAAAANDlUBgAAAAAAAKBJ/DUAAPDBjI21Tr/FnYK6OY2/DuOjlyDa\n",
       "el9ZrPUhjEG+C+7tbsme82GXvduHbLgo/nofflqdfoG9BjWXpKjyaO40yjm57PWWrbVzuD72U3+9\n",
       "ncNI9nQfJPsq2Z//OVpUlf79yKOtAQAA3jadygAAAAAAAAA06VQGAAD+Qe+9Ay/saJ7Sun635FxZ\n",
       "y+0y7aO6XdDxediyTuXjll3zbu4/w/2SvbO0A/lL+Mv1LupU3qKx5nB5r8FwlzUbLO1UTt22/oDX\n",
       "NZuE05qtj1Ow3k5T1qmc7oNkXyX786Uu7EAO3u3blt5/tl8AAICPT6cyAAAAAAAAAE0OlQEAAAAA\n",
       "AABoEn8NAAC8AWkUa1AXxtfGdeG3uFNQN03ZT7Cx8dfZWMcwHvhu6T/nQxp/Hf4i/bLLInjvg7rD\n",
       "vEZjpV9gJ6Od12y0JY1eDvdLEn99Ce/tecvWR7LedoPjr5N9lezPF2Fd/PcjqIujtEVWAwAAr0en\n",
       "MgAAAAAAAABNDpUBAAAAAAAAaBJ/DQAAfDBZROyU1oUxt9PU/2Z3DiOml8pif/fbwPjreVz89f3g\n",
       "WOtf9llk9cNy69Ycl58ff326pfHX2Rxs4d1dg1jlUxh/fbyF8ddrf70l67Yqj79O9lWyP1/qwv0e\n",
       "RlanUeUAAABvnU5lAAAAAAAAAJocKgMAAAAAAADQJP4aAAD4pNKY7Oxb3CSCd56yn2Bp/PUuqDuE\n",
       "P/uOc/acd0EK8kOWlFxfdlkU9a+7fqz1y3jXbs0xiMiuqpqnLJp7TSKmw2jxJUxKXrNbq8vav+5z\n",
       "OFfp+jis/fWWrNuqfB8k+yqNnk/3e/r3AwAA4KPQqQwAAAAAAABAk0NlAAAAAAAAAJrEXwMAAD/Q\n",
       "2IjYKRovvWZal32Lm8TmzhXGIIc/1fZbEH89pbHW2fu4T+Kvd1k+8y9hrPUv+8uwurulH5FdNTb+\n",
       "+vmWzecUXvMWxl+f1/7cP92yeU/Xx+HWv2aybquqljAuPtlXeaz16Pjrfl32d60qnPbomt8zGgAA\n",
       "QJVOZQAAAAAAAAD+gkNlAAAAAAAAAJrEXwMAAB9KGiVbU1Y3xXX9CN45jPPdVRYPvN/64x3mLHL7\n",
       "OA+Mv17CWOsw/vrX/TmrO/TrjrssSnuZ16juFkRMH67ZfE5hJHFyzaqq5yCK+nHJ1mS6Pg7BPtiv\n",
       "Y/dBsq+S/flSN/jvRxCPLogaAAB4D3QqAwAAAAAAANDkUBkAAAAAAACAJvHXAADAp5TGZE/ht7hJ\n",
       "3Rz+BFuCWOuqqn0FUcNhbPExSweuu6Uf1vtll0VHf9lnUdS/Hk5Z3d1zt+YYRmkPjb++HKKx0iDk\n",
       "y5pN1tOtX/f1ml3zuGTrKFlv+/D+030QxV8P3Mcvddn7EG0NAAB8FDqVAQAAAAAAAGhyqAwAAAAA\n",
       "AABAk/hrAADgx8kSYr+jMKkbOVZeN0/9b3aXIK66qmoX/lTbT/3xDoPjr++Xfiz0w+4ajfVLGEX9\n",
       "y7Efa11V9cv9Y7fm7phdc55vUd0aRDnvT9n72MKs5PMtWx+P137d/ZJN/DGsS9Zbsm6r8n2Q7Ktk\n",
       "f754jb8fg685BQtJLjcAAPCddCoDAAAAAAAA0KRTGQAA+C/i5uJ3L3vSKexwnJJuybBTedmyn2q7\n",
       "4DvhuFM5/OR4ZKfyl8MpqvvlLutU/vLQ71Q+3mdjzcFzVlWtt6BDfbmLxtrWbBJO131U93A5dGvu\n",
       "l2ys4zyuUzlZt1X5PpiDzudkf1bl+/2z/KVMn1LjMwAAfHw6lQEAAAAAAABocqgMAAAAAAAAQJP4\n",
       "awAA4GOZwljrNP56YEz2HP4EW8Ko3l3wrPvwU+LjkgXY3i23bs3D7hKN9eWYxV8/BLHWVVUPv37r\n",
       "1hwewvjrXf85q6rWa3+ulnSsMP76OYi1rqp6OPVjt++WbKzjkq3dfRJ/He7RZcv2QbKv8hj7sX8X\n",
       "or9HsqMBAIB3QKcyAAAAAAAAAE0OlQEAAAAAAABoEn8NAAC8H2FsbjbW2MIp+GZ3TmOtt+z7310Q\n",
       "NRzHX89ZBu99EOX8sD9HYz0csyjq+y9PUd1dEH+9/yUba9pdo7rt2v9ZPQeR4VVVt2CsqqqH536s\n",
       "dVXVw/6+W3O/y8ZK18fI+OtdGAee7Ktkf/5ZObIsirZO/66JyQYAAF6RTmUAAAAAAAAAmhwqAwAA\n",
       "AAAAANAk/hoAAPhg0lzaMNY6jKbN4q+z73qXsG5k/PVhXqO6uyDK+X5/yca6y+Kv7748RnWH3/rx\n",
       "17vfsrFGxl9P4bu9nfdR3d23fqx1VTYPyXxW5etjP/cXXLJuq6qWWxp/3a9L46/T/T767wwAAMBb\n",
       "p1MZAAAAAAAAgCaHygAAAAAAAAA0ib8GAAA+qcEx2UFdGn+d1u2CqN44/nrZorrj0o+Fvjuco7Hu\n",
       "7rP468MvWWT17m/9+Ovlb9k1K0uirroEUd9T9m4Pz4eo7u6PL1ldMA/JfFbl6yNZb8m6rRq7X5L9\n",
       "+Wfl2DoAAICPQacyAAAAAAAAAE0OlQEAAAAAAABoEn8NAAB8KONDbsP46ymI4N2y73qX8PvfJbi1\n",
       "Xfigh3mN6o7LrV+zz+KvD2H89e7XLP56+a0/3vS3MNf6ENad+/HXyxY+52P2nIe/Z+Ml85DMZ1W+\n",
       "PpL1lqzbqnwfJPsq2Z9V37Hfo6qsLgsWBwAAeF06lQEAAAAAAABocqgMAAAAAAAAQJP4awAA4L9I\n",
       "o1jT+Nf3L43D7dfN4Xe985RdcwnqdnM2o/sw3viwXPs1hyz+ev+QxTgvvzxFddNvS7/oX36LxtoO\n",
       "x+ya51O/Zv17NNbyNXvO9L0l85DMZ1W+PpL1lqzbqnwfJPsqjbX+TH/ZEqK5AQCAP+lUBgAAAAAA\n",
       "AKDJoTIAAAAAAAAATeKvAQCATyqNtU5H61dOafx1eNU5KNuFD7CfsqDbw25g/PV9Pzq6qmr+conq\n",
       "6rd+tPX62/+KhtqOd1HddOpHUc/XLGJ6/o/fo7r0vUXx18F8VuXrI1lvybqtyvdBsq/S+Os8/FpM\n",
       "NgAA8LnoVAYAAAAAAACgSacyAADAX5nyXuV+xdhuySUoXNIO03mN6vbLrT/WIessXu6yjub5S1RW\n",
       "2y/9TuXbb/+ajXV4iOqm42O/5px2ZGedyul7S+Yhmc+qfH0k620J99TIlIB4tHi/AwAAfC46lQEA\n",
       "AAAAAABocqgMAAAAAAAAQJP4awAAgJ9kbJxvNl4SkV1VtZuyeOPdHMRf76/RWHMY41wPx6hs/dKP\n",
       "v16/ZPHX6/HXqG4+/dEf6+lbNNYSPmf63pJ5SOazKl8fyXp7jX0AAADAP0enMgAAAAAAAABNDpUB\n",
       "AAAAAAAAaBJ/DQAAMEQSwjs2zncOCudpi8Za5rBu6cclL2n89fES1dX9Q1S2PvQjq28P/zsaazv2\n",
       "o7Srqrbl0K2ZH/4ejbXc30V18/ExGy+Yh2Q+q/L1kay3ZN1WfU+s9bi9BwAAwP9MpzIAAAAAAAAA\n",
       "TQ6VAQAAAAAAAGgSfw0AAHwoWUjv2zYNjAeOo7TDN7fMa3+sXRapPB2ymOztmMVCr3f9+Ovt7l+j\n",
       "sabD36K6ber/rF7v/k82Vvic0+H3qC6Zh2Q+q/L1MXJNpvvgLfsIf48AAACqdCoDAAAAAAAA8Bcc\n",
       "KgMAAAAAAADQJP4aAAD4cdLs1zTmdgsGjCNzw5tLrvk94/1kcZT2lN3/HNTNSxZ/XbvwnR0OUdl2\n",
       "/NKtSWOtl31Wlzxpcl9VFT9n+t6SeUjmsypfH283svoN7/f4mul4Y4cDAACo0qkMAAAAAAAAwF9w\n",
       "qAwAAAAAAABAk/hrAADgg8myX18n1Dq8t1eIr01Ti5MY5GkOo5KX8H3s9mHdXbdmXh6isZYli6ze\n",
       "1ku/Jrivl7rsOdP3lsxDHGsdVY0V74PwGaJrDq6TRQ0AAHwUOpUBAAAAAAAAaHKoDAAAAAAAAECT\n",
       "+GsAAOANeI2I2LFBt1tQN/opXyVYN4oaDu8s/cx5XqKybTl0a5b5GI21zP2xqqrWYLxrcF9VFT9n\n",
       "/nl4MA8Do6NTr7EPkv2Zj/Y9dSOJ0gYAAF6PTmUAAAAAAAAAmhwqAwAAAAAAANAk/hoAAPiB0rjW\n",
       "6edfcviASfx1GqU9zhYOFl9zGzhXqSm85hR8Nz1lEdNTMlY6XjzWK7zbcD7jXTBw8eY7b2Ak++g/\n",
       "IK+SWC0mGwAAGE+nMgAAAAAAAABNOpUBAIB/UNINN7rzcmBHYthSGXcXb2swVr/me665BmV5h2nY\n",
       "sZrUpd3Mo9tfgzmocA7ylttgvOi+vuOa8Xvrz8PQea/s1pJ1+zJWukeDvRfOQXrNfH2M7KIeSTcz\n",
       "AADwfXQqAwAAAAAAANDkUBkAAAAAAACAJvHXAADAp5THWo+LyY5jreO6oCaMLV7DqPJkvHUNv1++\n",
       "ZWV1u2Z166VbsgU1VVXrll0zGi+8Zvyc4XtL5uFV1kc0Ur4PRu69kfsdAADgI9GpDAAAAAAAAECT\n",
       "Q2UAAAAAAAAAmsRfAwAA70YSODvFsbRj67Yg1HedsuDfdQ3jr4OyW/iYtzWLN74FkcrbbYnG2q7Z\n",
       "d87TJYuPni7P3Zr19hSNdZuPUV0yXnJfL3XZc6bvLZmHZD5f6sL1Eay3cHnXGkZRr3N/X21bGrr9\n",
       "8/9+CNIGAADeA53KAAAAAAAAADQ5VAYAAAAAAACgSfw1AADwBoyMnB0daz0w/jqoeakbGX+dxRZf\n",
       "tzAGOYlUvoTx15cw/vp8iurm87duzfXyezTWdcqeYQ3G2wX3VVVV4XOm7y2Zh2Q+q75jfQTrLY6/\n",
       "TvdBsK+S/flS9xrx+aOvCQAAMJ5OZQAAAAAAAACaHCoDAAAAAAAA0CT+GgAA+IckQaxZ8PJYowNi\n",
       "49jcLYi/nm7RWLfwKW5bv+4WvpDrmn1zfE3ir6/ZT83ttI/qptNzVDc/fw3G+vdorGzWs/GS+3oZ\n",
       "K3vO9L0l85DMZ1W+PpL1lqzbqnwfrNXfV8n+rMr3e+qtBla/1fsCAADeLp3KAAAAAAAAADQ5VAYA\n",
       "AAAAAACgSfw1AADwjiShrVmw6xZG8FZYl8TmJjG9VVW3MIL3Gtzadc1CyK9bVne5BZHK5zCe+XSI\n",
       "6nZPT1Hd/PRHUPNv0Vjrds2u+fx7cM3+fVVV1VMWf3073Ud1yTwk81mVr49kvV3j+OtsH0Tx12ms\n",
       "dbrf078fA/9mAQAAvCadygAAAAAAAAA0OVQGAAAAAAAAoEn8NQAA8MGMjKXNY3PXkfHXU1i39p/h\n",
       "EsYWn9fsm+PzbelfM4y/Xp+y+Ovt6xxgaQAAF+VJREFUsR8xXVU1fwuiqL/932is6XbK6p6/BtfM\n",
       "7n97vER169PforpkHpL5rMrXxyXYVsm6rcr3QbKvkv1Z9R0x2YP/zgAAALx1OpUBAAAAAAAAaHKo\n",
       "DAAAAAAAAECT+GsAAOD1pQmxWZJzKIzD3cKY7C2J4A1jrcN7uwb3dgnTfC9x/HX/Z+T5ksVaX5+P\n",
       "Ud32LSqr+Y9+zPRy/2/ZNS/PUd30/NivCe6rqmoNnzN9b8k8JPNZla+PZL0l67Yq3wfJvkr250td\n",
       "+scojckeSJI2AADwinQqAwAAAAAAANCkUxkAAHhHgla9tLN4GtuRuAV1a12jsW5h3chO5dMtawM/\n",
       "JZ3K53001uXxLqpbv2adufMfX/s1d/8ejbWdwk7l01O/KLivqvw50/eWzEMyny912foY26mc7YNk\n",
       "XyX788/RElvaNhw9qxZkAADg7dOpDAAAAAAAAECTQ2UAAAAAAAAAmsRfAwAAP9DoWNckgndkLG0e\n",
       "c7ttt27NWv2aqqrrlNVdtn5Ubxp/fV6zb46fr0u/5nzIrvmUxT1fv95Hdcvv/Wjr6fD3aKzpGMRa\n",
       "V1WdTt2S7fdLNNT16y9RXfreknlI5rMqXx/JekvWbVW+D5J9lezPqtGx1i8jjvMa1wQAAHihUxkA\n",
       "AAAAAACAJofKAAAAAAAAADSJvwYAAD6pNNY6i+pdg7p1u0Zj3aas7rqOi78+rUm0eNXzrf8zMo2/\n",
       "Pj3dRXWXrw9R3e73x27NsstiradjP9a6qmo79V/w7fcsrjp9zvS9RfHXwXxW5esjWW/XcE/d5mwf\n",
       "JPsq2Z9V+X4XMQ0AAHw2OpUBAAAAAAAAaHKoDAAAAAAAAECT+GsAAOAd6UfObmEs7RTH14axuUHd\n",
       "WrdorGtdorpLcM3zmj3n6ZbGXy/dmqdLFn/99Hwf1Z3DWOj9f3zp1kxzNp/TIZur7bzv1lyD+6rK\n",
       "nzN9b8k8JPNZla+PZL0l67Yq3wfJvkr255+jZcL4/KhOlDYAAPD26VQGAAAAAAAAoMmhMgAAAAAA\n",
       "AABN4q8BAIAfJg11zYJ1x0pjsrctretH8K7bNRrrNqXx1/3x4vjrNZuFp1v/2+THaxp/fYzqntP4\n",
       "69+fuzXTFMajH7I5SOKvz79n8dfpc6bvLZmHZD6rqk5hKnQWfx3ugzT+OthXyf58qRsZa/063u6d\n",
       "AQAA75lOZQAAAAAAAACaHCoDAAAAAAAA0CT+GgAA+GDS8Ne0Lsv93YK6OP46jAe+Tv26Sxp/naUD\n",
       "h/HX2U/Nb6e77JqP91HdIYyZTiz7cK4u/Wc9hfeVPmf63pJ5iOOvw/WRrLdk3Vbl+yCKvw73cbrf\n",
       "x/+dAQAAeNt0KgMAAAAAAADQ5FAZAAAAAAAAgCbx1wAAwPuRJMlOA8eqqm3KCrctiL+uLEP4Wpeo\n",
       "7hLECJ+37Jqn2xLVPY+Mvz4fs7rHh6huf+i/t23LFsjI+Ounb9n9p8+ZvrdkHpL5rMrjr5P1lqzb\n",
       "qnwfJPsq2Z9VVVv8hyEr++ljAQAA/CA6lQEAAAAAAABocqgMAAAAAAAAQJP4awAA4B1JcmLTLNk0\n",
       "5jaMv64g/jqMol63MP66zt2acxj7e1qz53y69eOjv8Xx14eo7uvzXVS3/xbEX69h/PUum6vbtR8b\n",
       "/vh0H42VPmf63pJ5SOazKl8fyXq7TP11W5Xvg2RfJfvzpXDw34+hf7MAAABej05lAAAAAAAAAJoc\n",
       "KgMAAAAAAADQJP4aAAB4A9L41yyqd+w1s9jcLYngDeOvb5XF/l6DGOFzXaOxTrcsUjmJS368Zt8v\n",
       "f73uo7ov5zD++imYgzW7t2UJ5+rWj7/+dsru/2v4nOl7S+YheGVVVXW6hfHXwXpL1m1V1S2Mvx65\n",
       "99L9/jqR1WKyAQCA16NTGQAAAAAAAIAmncoAAMAHk3XzbXHX37i6Ne1U3rLu4kvSqTxl3Z7Pa9ah\n",
       "+Rx0vz7ewk7lS9Zx+3A+RnW7uf8Ma9qpPIdztQadyuH9/xHWpe8tmYfnbKnF6yNZb5dKO5Wzm8v2\n",
       "1di/C+P/fgAAALxtOpUBAAAAAAAAaHKoDAAAAAAAAECT+GsAAODVpQGx06tcNYzD3frxwFtlkcrr\n",
       "lkVW34IY4TT++hRGcz/d+j8jH6/ZTH279qOjq6r+COOed1N/Dm5h/HUSpV1VdQ3GewzvP33O9L0l\n",
       "8/CUTXu8PpL1lqzbqnwfJPsq2Z9/jja2bhxB2gAAwGvSqQwAAAAAAABAk0NlAAAAAAAAAJrEXwMA\n",
       "AB/L8CztMP66gvjrMEJ43a5R3bX68cDn6RSNdVqze3u+9Z/z8Zp9v/w1rLsLY6GXqT9X1y275hJE\n",
       "aVdV3YLxHq/ZT++v4XOm7+0xWEbJfFZ9R/z13F9vybqtyvdBsq+S/fln5VAyqwEAgA9CpzIAAAAA\n",
       "AAAATQ6VAQAAAAAAAGgSfw0AAHwwad5sWLel4yXx11kE7xpGDd+2c7fmEsZfn6cskvh5PXRrHm/Z\n",
       "98vfrlkG+XFZorp56sdHX9c0/jqb99vWf4anW3b/f1yzuvS9PQbL6HnN1mS6Pi7VX2/Juq3K90G0\n",
       "r8K9l+/30XUAAABvm05lAAAAAAAAAJocKgMAAAAAAADQJP4aAAB4R5Io2SwaeOw1s7qtsjjfdbtG\n",
       "dbetH0l8nbKo4VNY97zddWvSuOfHMMb5MGd1c/Wve1mzsUbGXz+HceBfL2GsdbY86unWf4bnMGI6\n",
       "XR/X6tcl67Yq3wfZvnrLcdUisgEAgLdPpzIAAAAAAAAATQ6VAQAAAAAAAGgSfw0AAHxSWeTsFkfT\n",
       "rv2xtn7NyzWzSOIkRvhSp2is85TVPa/9az7dsp+aj2FM9j6MyZ6m/nfTlyCuuqpqCVPUg4Tper5l\n",
       "g30Ln/MxWx71dOuvt+cwivo8Z+sjWW9p/HW6D5J9tQX786XuLcdkAwAAvB6dygAAAAAAAAA0OVQG\n",
       "AAAAAAAAoEn8NQAA8G4kgbNhavHgq6Z1WQTvumWxv+t27dbctnM01nl6jupOU3+85/UQjfV4zb5z\n",
       "3k3prPbrrms21hxeco3ir7OxvvWns6qqHq/Zmnxe+xdO5rOq6lzZ+kjWW7JuX+rCFxftq7cbay1I\n",
       "GwAAeA90KgMAAAAAAADQ5FAZAAAAAAAAgCbx1wAAwOeUZs5OYeHWr9vC+OvtFeKvL9MpqjsFdc/r\n",
       "MRrr6ZbGXy9RXRR/HU7nyPjrU5jinMZaP92yAZ+3S7fmNGfzfqmsbmT8dboPti3YV8H+/M/CoWUA\n",
       "AAAfhU5lAAAAAAAAAJp0KgMAAB/M6BbCsGU1um56bz+/U/laz1HdaerXPU930ViHLftJutyyOdiC\n",
       "76YvWzZW2hudzNT5lnYgZ53sT2EH7/PUn/tkPqvy9TGyUzndB2P3Xmpw5zMAAMAbp1MZAAAAAAAA\n",
       "gCaHygAAAAAAAAA0ib8GAAD4S1l87RbVZfHG25bW9eOBb2HU8DWMyb5E8denaKz9mv0kndc0/rrv\n",
       "GsZfz2Hs+Rpc9byG8ddrFvf8FM7V89yfh0sYa52uj2S9Jev2pS7cB8G+yvbnSyUAAAD/nU5lAAAA\n",
       "AAAAAJocKgMAAAAAAADQJP4aAAD4UNLw2izcePSV0yjtNP66HzW8bpdorJHx16fpKRprP4Xx11v2\n",
       "PfQWxExftyW7ZlSVBZqfw7jn5zCqPI0XT+ZhdPx1st6SdVuV74ORe280YdoAAMBHoVMZAAAAAAAA\n",
       "gCaHygAAAAAAAAA0ib8GAAD4K3GedlC4pXG+Yfz11K9bw6jh25rFG1+D6OVzEJFdVfU87aO6Kfwe\n",
       "etuS+Ovs3c5hQPoaLJBLhfHXUzYHz+H7PQfR1tcti9JO10ey3uJY63S/RHXhRpZXDQAA8D/SqQwA\n",
       "AAAAAABAk0NlAAAAAAAAAJrEXwMAAPylOP86GCkdK4y/3vqxymtQ81J3iequWz8G+TI9RWOdpuwn\n",
       "aRx/Hbzfa/gzeNqy+OstiD2/VBZBfgqixV/qsvd7qX5dMp9V+fpI1luybqvymOx8X2WjAQAA8N/p\n",
       "VAYAAAAAAACgyaEyAAAAAAAAAE3irwEAgE9qXKx1Pl56zawuiQdOo4bXLYtovgVxydcti3G+pPHX\n",
       "Uxp/3X8f19pHY81TNu9rFLmdRUefw/jrJNa6KpuHZD6r8vWRrLc01nrsfhkday0mGwAA+Fx0KgMA\n",
       "AAAAAADQ5FAZAAAAAAAAgCbx1wAAwKc0Ovx6qC29uyD+ugbHX6/9KOdrGOM81xLVVRp/PfXfx62y\n",
       "55zCmd8Gxl9fKoy/3p6juij+OpjPqrHx17WF8dfxPvj53u6dAQAA/Bg6lQEAAAAAAABocqgMAAAA\n",
       "AAAAQJP4awAAgBGSqN4pC83dgljrF/26KYy/3sJ443XrxyXf1izW+jqH8ddpFHUUf53FPU/hN9jJ\n",
       "XKWR20lc9ffU3dZztyaZz6p8fVSw3tL1ne+DYF+94ShtAACA90CnMgAAAAAAAABNOpUBAAD+Utrh\n",
       "mHTTpmOFdUH3ZdwVOmUdzWvQsXoLu1+nbXCnctI1PGU/g0d2KifvrCp/b9et34Gcjpfe2xZ3vAfr\n",
       "Le4aHl33s8cCAAD4OHQqAwAAAAAAANDkUBkAAAAAAACAJvHXAAAAb04awduPGo7jr5PY4qraqh+X\n",
       "vG7Z98u3NfzOOSxLnnUO456nKYzcDqKc1zA6Oo2/vq1Z/PUajLel8dfx+kjqsrFEUQMAALwdOpUB\n",
       "AAAAAAAAaHKoDAAAAAAAAECT+GsAAIC/kAbwRmHJQVTyy2Bh9HJwd1Mcf51FNK/Jt8lpxHT6nXOa\n",
       "ljz1C9dpyYbaxs1B+m5v4XtLYq1f6pKo8uze0mfIItkHx1qn+yoZathIAAAAH4tOZQAAAAAAAACa\n",
       "HCoDAAAAAAAA0CT+GgAAYIgkODeLVM5DeIO6MBp4C6Kjq6qm6scgb1v2/fJaWdxzLokDT2Ocx83V\n",
       "tmXvNomr/p66LLI6jL9OM8ij9TZwfccEWwMAAPwzdCoDAAAAAAAA0ORQGQAAAAAAAIAm8dcAAADv\n",
       "VhC9HMYWT2HccxblnEUqr3HEdGZL4q/DaO5pSt/HuDnI4qrHxl+n0dyVPkNUJ4oaAADgvdGpDAAA\n",
       "AAAAAECTQ2UAAAAAAAAAmsRfAwAADJAE+sZhz0Gkcj5gOFZ4zW0aF39dW/ZG0oDmKaic0m+rw3sb\n",
       "GUGeRlGnMdlbMA/pvcVrMlpvY9dkNNSwkQAAAD4nncoAAAAAAAAANDlUBgAAAAAAAKBJ/DUAAMBP\n",
       "k4bwxkHZw66ZxiBPyb2F0dHblMZkp+9t6Q818jmrahsY95zHWqeR1UldGLkdh5C/RtC0cGsAAIAf\n",
       "TacyAAAAAAAAAE0OlQEAAAAAAABoEn8NAADwXiWpv3GSdhghHEQqb1N20Sm9ZPoMUUx29m11fs2k\n",
       "KI2YTl/IwJjsKCL7ZbRhpFUDAAC8OzqVAQAAAAAAAGjSqQwAAPCTpA2acXPxK7R8Jt20U9j9mnYD\n",
       "5x3NyXfT2WDxNQdWpV3DUQdyOF7cHT20buy61fgMAADw4+lUBgAAAAAAAKDJoTIAAAAAAAAATeKv\n",
       "AQAA3pyBQdnDM7f7A6bxzHmsdVZXWxDNHT7oyEjl4RHTQ2OyB4dHDx1OsDUAAMBboVMZAAAAAAAA\n",
       "gCaHygAAAAAAAAA0ib8GAAB4Y8YmVr/dCOE0FnoK455r6r+RLc/5HiiNtc7qxsZpD47mHrje3u7K\n",
       "BQAA+Hx0KgMAAAAAAADQ5FAZAAAAAAAAgCbx1wAAAO9WEhAcxj3HmdsjQ4mzWOst/B56iuKj3278\n",
       "df5mwzjwkfHXQ7OoBVsDAAC8NzqVAQAAAAAAAGhyqAwAAAAAAABAk/hrAACAd2ps2HOcfx2POO6a\n",
       "aUz2uHtLRxobbD26bqRx1xR+DQAA8P7oVAYAAAAAAACgyaEyAAAAAAAAAE3irwEAAD60wbHWWzBe\n",
       "nEI9NmR65FivE9E8+qrBeMl8jr4mAAAA745OZQAAAAAAAACaHCoDAAAAAAAA0CT+GgAA4AMbHH4d\n",
       "XjS86puOyX7LwuccHm0dXPKnXxEAAICfQacyAAAAAAAAAE0OlQEAAAAAAABoEn8NAABAvUpQdnzJ\n",
       "1whVfsOR26+SMS3YGgAA4DPTqQwAAAAAAABA01S187kxAAAAkax/d2A383cJrvsatxb/6n6Nn+fZ\n",
       "Nf3jAAAA4HPTqQwAAAAAAABAk0NlAAAAAAAAAJp2r30DAAAAMEYQ0izHGQAAAL6bTmUAAAAAAAAA\n",
       "mhwqAwAAAAAAANAk/hoAAIBYkh49xRnT0z9zK3T150EaOAAAAAmdygAAAAAAAAA0OVQGAAAAAAAA\n",
       "oEn8NQAAAEPl4dejw5ffe5z22Pch2hoAAIBRdCoDAAAAAAAA0ORQGQAAAAAAAIAm8dcAAAC8ijwm\n",
       "e/SI79vneEoAAADeEp3KAAAAAAAAADQ5VAYAAAAAAACgSfw1AAAAb9rIuOc8SnsccdUAAAC8dzqV\n",
       "AQAAAAAAAGhyqAwAAAAAAABAk/hrAAAAPg1R1AAAAPD9dCoDAAAAAAAA0ORQGQAAAAAAAIAmh8oA\n",
       "AAAAAAAANDlUBgAAAAAAAKDJoTIAAAAAAAAATQ6VAQAAAAAAAGhyqAwAAAAAAABAk0NlAAAAAAAA\n",
       "AJocKgMAAAAAAADQ5FAZAAAAAAAAgCaHygAAAAAAAAA0OVQGAAAAAAAAoMmhMgAAAAAAAABNDpUB\n",
       "AAAAAAAAaHKoDAAAAAAAAECTQ2UAAAAAAAAAmhwqAwAAAAAAANDkUBkAAAAAAACAJofKAAAAAAAA\n",
       "ADQ5VAYAAAAAAACgyaEyAAAAAAAAAE0OlQEAAAAAAABocqgMAAAAAAAAQJNDZQAAAAAAAACaHCoD\n",
       "AAAAAAAA0ORQGQAAAAAAAIAmh8oAAAAAAAAANDlUBgAAAAAAAKDJoTIAAAAAAAAATQ6VAQAAAAAA\n",
       "AGhyqAwAAAAAAABAk0NlAAAAAAAAAJocKgMAAAAAAADQ5FAZAAAAAAAAgCaHygAAAAAAAAA0OVQG\n",
       "AAAAAAAAoMmhMgAAAAAAAABNDpUBAAAAAAAAaHKoDAAAAAAAAECTQ2UAAAAAAAAAmhwqAwAAAAAA\n",
       "ANDkUBkAAAAAAACAJofKAAAAAAAAADQ5VAYAAAAAAACgyaEyAAAAAAAAAE0OlQEAAAAAAABocqgM\n",
       "AAAAAAAAQJNDZQAAAAAAAACaHCoDAAAAAAAA0ORQGQAAAAAAAIAmh8oAAAAAAAAANDlUBgAAAAAA\n",
       "AKDJoTIAAAAAAAAATQ6VAQAAAAAAAGhyqAwAAAAAAABAk0NlAAAAAAAAAJocKgMAAAAAAADQ5FAZ\n",
       "AAAAAAAAgCaHygAAAAAAAAA0OVQGAAAAAAAAoMmhMgAAAAAAAABNDpUBAAAAAAAAaHKoDAAAAAAA\n",
       "AECTQ2UAAAAAAAAAmhwqAwAAAAAAANDkUBkAAAAAAACAJofKAAAAAAAAADQ5VAYAAAAAAACgyaEy\n",
       "AAAAAAAAAE0OlQEAAAAAAABocqgMAAAAAAAAQJNDZQAAAAAAAACaHCoDAAAAAAAA0ORQGQAAAAAA\n",
       "AIAmh8oAAAAAAAAANDlUBgAAAAAAAKDJoTIAAAAAAAAATQ6VAQAAAAAAAGhyqAwAAAAAAABAk0Nl\n",
       "AAAAAAAAAJocKgMAAAAAAADQ5FAZAAAAAAAAgCaHygAAAAAAAAA0OVQGAAAAAAAAoMmhMgAAAAAA\n",
       "AABNDpUBAAAAAAAAaHKoDAAAAAAAAECTQ2UAAAAAAAAAmhwqAwAAAAAAANDkUBkAAAAAAACAJofK\n",
       "AAAAAAAAADQ5VAYAAAAAAACgyaEyAAAAAAAAAE0OlQEAAAAAAABocqgMAAAAAAAAQJNDZQAAAAAA\n",
       "AACaHCoDAAAAAAAA0ORQGQAAAAAAAIAmh8oAAAAAAAAANDlUBgAAAAAAAKDJoTIAAAAAAAAATQ6V\n",
       "AQAAAAAAAGhyqAwAAAAAAABAk0NlAAAAAAAAAJocKgMAAAAAAADQ5FAZAAAAAAAAgCaHygAAAAAA\n",
       "AAA0OVQGAAAAAAAAoMmhMgAAAAAAAABNDpUBAAAAAAAAaHKoDAAAAAAAAECTQ2UAAAAAAAAAmhwq\n",
       "AwAAAAAAANDkUBkAAAAAAACAJofKAAAAAAAAADQ5VAYAAAAAAACgyaEyAAAAAAAAAE0OlQEAAAAA\n",
       "AABocqgMAAAAAAAAQJNDZQAAAAAAAACaHCoDAAAAAAAA0ORQGQAAAAAAAICm/wendG32Bd4fbwAA\n",
       "AABJRU5ErkJggg==\n",
       "\" transform=\"translate(172, 47)\"/>\n",
       "</g>\n",
       "<defs>\n",
       "  <clipPath id=\"clip643\">\n",
       "    <rect x=\"2160\" y=\"47\" width=\"73\" height=\"1440\"/>\n",
       "  </clipPath>\n",
       "</defs>\n",
       "<g clip-path=\"url(#clip643)\">\n",
       "<image width=\"72\" height=\"1439\" xlink:href=\"data:image/png;base64,\n",
       "iVBORw0KGgoAAAANSUhEUgAAAEgAAAWfCAYAAAAI7rB3AAAMWUlEQVR4nO3dwY0rRxAFwaZQ/lsh\n",
       "L6XfLQtUeSQPERYsEg8c9MyQ+/n3/v0O/+uvb/8Bv06gIFAQKAgU5r5/v/03/DQLCgIFgYJAQaAw\n",
       "7/359t/w0ywoCBQECgIFR41gQUGgIFAQKAgU5rmKrSwoCBQECgIFgcK86yq2saAgUBAoCBQcNYIF\n",
       "BYGCQEGgIFBwFQsWFAQKAgWBgvtBwYKCQEGgIFAQKMxx1FhZUBAoCBQECgIFN8yCBQWBgkBBoDDH\n",
       "DbOVBQWBgkBBoCBQmHP/+fbf8NMsKAgUBAoCBYGCxz7BgoJAQaAgUHDDLFhQECgIFAQKAgVXsWBB\n",
       "QaAgUBAouB8ULCgIFAQKAgWBwnwcNVYWFAQKAgWBgkBhzvWfWTYWFAQKAgWBgqNGsKAgUBAoCBQE\n",
       "Co4awYKCQEGgIFAQKHjDLFhQECgIFAQK83HUWFlQECgIFAQKAgXvSQcLCgIFgYJAwVEjWFAQKAgU\n",
       "BAoCBc/mgwUFgYJAQaAgUHAWCxYUBAoCBYGCo0awoCBQECgIFAQKjhrBgoJAQaAgUBAozLn323/D\n",
       "T7OgIFAQKAgUHDWCBQWBgkBBoCBQ8NgnWFAQKAgUBAo+pIMFBYGCQEGgIFCYj6caKwsKAgWBgkBB\n",
       "oOAsFiwoCBQECgIFL1AFCwoCBYGCQEGg4IZZsKAgUBAoCBTcDwoWFAQKAgWBgkDBDbNgQUGgIFAQ\n",
       "KAgUXMWCBQWBgkBBoOB788GCgkBBoCBQECg4agQLCgIFgYJAQaDgKhYsKAgUBAoCBR/SwYKCQEGg\n",
       "IFAQKLiKBQsKAgWBgkBhzvMhvbGgIFAQKAgUBAqOGsGCgkBBoCBQECi4igULCgIFgYJAwYd0sKAg\n",
       "UBAoCBQECnPu+/bf8NMsKAgUBAoCBYGCs1iwoCBQECgIFBw1ggUFgYJAQaAgUHDUCBYUBAoCBYGC\n",
       "o0awoCBQECgIFAQKc5w0VhYUBAoCBYGCQGHOcxbbWFAQKAgUBAqOGsGCgkBBoCBQECi4igULCgIF\n",
       "gYJAQaAwfohzZ0FBoCBQECg4agQLCgIFgYJAQaDgKhYsKAgUBAoChTn38+2/4adZUBAoCBQECgKF\n",
       "ec9VbGNBQaAgUBAoCBTcMAsWFAQKAgWBghtmwYKCQEGgIFAQKMy7Gm3UCQIFgYJAwVEjWFAQKAgU\n",
       "BAoChTmeza8sKAgUBAoCBYHCPGexlQUFgYJAQaAwx1ONlTpBoCBQECgIFBw1ggUFgYJAQaAgUPDY\n",
       "J1hQECgIFAQKXgMO6gSBgkBBoCBQ8J50sKAgUBAoCBQ81QgWFAQKAgWBgkBh3tNoo04QKAgUBAoC\n",
       "BTfMggUFgYJAQaDghlmwoCBQECgIFAQKc9wwW6kTBAoCBYGCQMFZLFhQECgIFAQKPqSDBQWBgkBB\n",
       "oCBQ8L35YEFBoCBQECj43nxQJwgUBAoCBYHCPEeNlQUFgYJAQaAgUPDYJ1hQECgIFAQK/jNLUCcI\n",
       "FAQKAgWBghtmwYKCQEGgIFAQKLhhFiwoCBQECgIFR41gQUGgIFAQKAgUvCcd1AkCBYGCQMFRI1hQ\n",
       "ECgIFAQKAgVPNYIFBYGCQEGgIFBwFgsWFAQKAgWBgn+fFSwoCBQECgIFgYJ/ZRzUCQIFgYJAQaDg\n",
       "hlmwoCBQECgIFDybDxYUBAoCBYGCQMFRI1hQECgIFAQKc31IrywoCBQECgIFgYLvzQd1gkBBoCBQ\n",
       "ECi4YRYsKAgUBAoCBR/SwYKCQEGgIFAQKHjDLFhQECgIFAQKjhrBgoJAQaAgUBAouIoFCwoCBYGC\n",
       "QEGg4NdfgjpBoCBQECjM9VRjZUFBoCBQECgIFNwwCxYUBAoCBYGCQMFVLFhQECgIFAQKPqSDBQWB\n",
       "gkBBoCBQ8BtmwYKCQEGgIFBw1AgWFAQKAgWBgkDBVSxYUBAoCBQECgIFX2YJ6gSBgkBBoODLLMGC\n",
       "gkBBoCBQECi4YRYsKAgUBAoCBYGCq1iwoCBQECgIFLwGHCwoCBQECgIFgYKjRrCgIFAQKAgU5h0f\n",
       "0hsLCgIFgYJAQaDghlmwoCBQECgIFAQKbpgFCwoCBYGCQMFRI1hQECgIFAQKAgVHjWBBQaAgUBAo\n",
       "CBScxYIFBYGCQEGg4KgRLCgIFAQKAgWBgqtYsKAgUBAoCBTm+jLLyoKCQEGgIFAQKDhqBAsKAgWB\n",
       "gkBBoODZfLCgIFAQKAgU5r1v/wm/zYKCQEGgIFAQKDhqBAsKAgWBgkDBD00GCwoCBYGCQEGg4KgR\n",
       "LCgIFAQKAgWBgjfMggUFgYJAQaDgyyzBgoJAQaAgUBAoeMMsWFAQKAgUBAoCBY99ggUFgYJAQaDg\n",
       "qUawoCBQECgIFAQKHvsECwoCBYGCQMH9oGBBQaAgUBAoCBQ8mw8WFAQKAgWBgkDBDbNgQUGgIFAQ\n",
       "KHg2HywoCBQECgIFgcLcb/8FP86CgkBBoCBQECg4iwULCgIFgYJAwRtmwYKCQEGgIFAQKLhhFiwo\n",
       "CBQECgIF94OCBQWBgkBBoCBQcNQIFhQECgIFgYJAwVksWFAQKAgUBAqezQcLCgIFgYJAQaAwfvxl\n",
       "Z0FBoCBQECgIFJzFggUFgYJAQaDg2XywoCBQECgIFAQKns0HCwoCBYGCQMFRI1hQECgIFAQKAgVH\n",
       "jWBBQaAgUBAoCBTmesVsZUFBoCBQECi4YRYsKAgUBAoCBYGCG2bBgoJAQaAgUHDUCBYUBAoCBYGC\n",
       "QGGepxorCwoCBYGCQEGgMPe4YbaxoCBQECgIFLxAFSwoCBQECgIFgYIfmgwWFAQKAgWBgkDBD00G\n",
       "CwoCBYGCQMGz+WBBQaAgUBAoCBS8Jx0sKAgUBAoCBd84DBYUBAoCBYGCQMFRI1hQECgIFAQKAgXv\n",
       "SQcLCgIFgYJAwWvAwYKCQEGgIFAQKDhqBAsKAgWBgkBBoOA96WBBQaAgUBAo+ImuYEFBoCBQECgI\n",
       "FNwwCxYUBAoCBYGCZ/PBgoJAQaAgUBAoOGoECwoCBYGCQEGg4CwWLCgIFAQKAgVHjWBBQaAgUBAo\n",
       "CBRcxYIFBYGCQEGgIFBwwyxYUBAoCBQECo4awYKCQEGgIFAQKDhqBAsKAgWBgkDBUSNYUBAoCBQE\n",
       "CgIFP9EVLCgIFAQKAgWBgv8vFiwoCBQECgIFN8yCBQWBgkBBoCBQmHdcxjYWFAQKAgWBgkDBWSxY\n",
       "UBAoCBQECp7NBwsKAgWBgkBBoODZfLCgIFAQKAgU3A8KFhQECgIFgYJAwbP5YEFBoCBQECgIFJzF\n",
       "ggUFgYJAQaDgJ7qCBQWBgkBBoCBQmOsVs5UFBYGCQEGg4AWqYEFBoCBQECgIFOY5aqwsKAgUBAoC\n",
       "BYGCs1iwoCBQECgIFDzVCBYUBAoCBYGCQMEbZsGCgkBBoCBQECjM9ZXMlQUFgYJAQaDghlmwoCBQ\n",
       "ECgIFAQKfv0lWFAQKAgUBApeoAoWFAQKAgWBgkDBU41gQUGgIFAQKAgU3DALFhQECgIFgcLc45bZ\n",
       "xoKCQEGgIFAQKLhhFiwoCBQECgIFgYKrWLCgIFAQKAgUPNUIFhQECgIFgYJAwWOfYEFBoCBQECjM\n",
       "/ThqbCwoCBQECgIFgYKjRrCgIFAQKAgUBArzXMVWFhQECgIFgYKjRrCgIFAQKAgUBApzP65iGwsK\n",
       "AgWBgkBBoOAsFiwoCBQECgIFTzWCBQWBgkBBoCBQcNQIFhQECgIFgYIP6WBBQaAgUBAoCBQ8mw8W\n",
       "FAQKAgWBgkBh3vnz7b/hp1lQECgIFAQKbpgFCwoCBYGCQEGg4A2zYEFBoCBQECjMfe4HbSwoCBQE\n",
       "CgIFgYKjRrCgIFAQKAgUBApzPZtfWVAQKAgUBAqOGsGCgkBBoCBQECg4agQLCgIFgYJAQaAw7zmL\n",
       "bSwoCBQECgIFN8yCBQWBgkBBoCBQ8J50sKAgUBAoCBQcNYIFBYGCQEGgIFCY56ixsqAgUBAoCBQE\n",
       "Cs5iwYKCQEGgIFCY6wWqlQUFgYJAQaAgUPCb9sGCgkBBoCBQECj4MkuwoCBQECgIFDzVCBYUBAoC\n",
       "BYGCQMFRI1hQECgIFAQKPqSDBQWBgkBBoCBQ8Gw+WFAQKAgUBAoCBWexYEFBoCBQECjM8Wx+ZUFB\n",
       "oCBQECgIFBw1ggUFgYJAQaAgUPCedLCgIFAQKAgU5jhqrCwoCBQECgIFgYI3zIIFBYGCQEGg4Nl8\n",
       "sKAgUBAoCBQECm6YBQsKAgWBgkBBoDDvvG//DT/NgoJAQaAgUHDDLFhQECgIFAQKAoU5jhorCwoC\n",
       "BYGCQOE/LrLuTX/wFc8AAAAASUVORK5CYII=\n",
       "\" transform=\"translate(2161, 47)\"/>\n",
       "</g>\n",
       "<path clip-path=\"url(#clip640)\" d=\"M2280.7 1215.04 Q2277.09 1215.04 2275.26 1218.61 Q2273.45 1222.15 2273.45 1229.28 Q2273.45 1236.39 2275.26 1239.95 Q2277.09 1243.49 2280.7 1243.49 Q2284.33 1243.49 2286.14 1239.95 Q2287.97 1236.39 2287.97 1229.28 Q2287.97 1222.15 2286.14 1218.61 Q2284.33 1215.04 2280.7 1215.04 M2280.7 1211.34 Q2286.51 1211.34 2289.57 1215.95 Q2292.64 1220.53 2292.64 1229.28 Q2292.64 1238.01 2289.57 1242.61 Q2286.51 1247.2 2280.7 1247.2 Q2274.89 1247.2 2271.81 1242.61 Q2268.76 1238.01 2268.76 1229.28 Q2268.76 1220.53 2271.81 1215.95 Q2274.89 1211.34 2280.7 1211.34 Z\" fill=\"#000000\" fill-rule=\"nonzero\" fill-opacity=\"1\" /><path clip-path=\"url(#clip640)\" d=\"M2300.86 1240.65 L2305.75 1240.65 L2305.75 1246.53 L2300.86 1246.53 L2300.86 1240.65 Z\" fill=\"#000000\" fill-rule=\"nonzero\" fill-opacity=\"1\" /><path clip-path=\"url(#clip640)\" d=\"M2316.74 1242.59 L2324.38 1242.59 L2324.38 1216.23 L2316.07 1217.89 L2316.07 1213.63 L2324.33 1211.97 L2329.01 1211.97 L2329.01 1242.59 L2336.65 1242.59 L2336.65 1246.53 L2316.74 1246.53 L2316.74 1242.59 Z\" fill=\"#000000\" fill-rule=\"nonzero\" fill-opacity=\"1\" /><polyline clip-path=\"url(#clip640)\" style=\"stroke:#000000; stroke-linecap:round; stroke-linejoin:round; stroke-width:4; stroke-opacity:1; fill:none\" points=\"2232.76,1232.88 2256.76,1232.88 \"/>\n",
       "<path clip-path=\"url(#clip640)\" d=\"M2280.7 961.472 Q2277.09 961.472 2275.26 965.037 Q2273.45 968.579 2273.45 975.708 Q2273.45 982.815 2275.26 986.379 Q2277.09 989.921 2280.7 989.921 Q2284.33 989.921 2286.14 986.379 Q2287.97 982.815 2287.97 975.708 Q2287.97 968.579 2286.14 965.037 Q2284.33 961.472 2280.7 961.472 M2280.7 957.769 Q2286.51 957.769 2289.57 962.375 Q2292.64 966.958 2292.64 975.708 Q2292.64 984.435 2289.57 989.041 Q2286.51 993.625 2280.7 993.625 Q2274.89 993.625 2271.81 989.041 Q2268.76 984.435 2268.76 975.708 Q2268.76 966.958 2271.81 962.375 Q2274.89 957.769 2280.7 957.769 Z\" fill=\"#000000\" fill-rule=\"nonzero\" fill-opacity=\"1\" /><path clip-path=\"url(#clip640)\" d=\"M2300.86 987.074 L2305.75 987.074 L2305.75 992.954 L2300.86 992.954 L2300.86 987.074 Z\" fill=\"#000000\" fill-rule=\"nonzero\" fill-opacity=\"1\" /><path clip-path=\"url(#clip640)\" d=\"M2319.96 989.018 L2336.28 989.018 L2336.28 992.954 L2314.33 992.954 L2314.33 989.018 Q2317 986.264 2321.58 981.634 Q2326.19 976.981 2327.37 975.639 Q2329.61 973.116 2330.49 971.38 Q2331.39 969.62 2331.39 967.93 Q2331.39 965.176 2329.45 963.44 Q2327.53 961.704 2324.43 961.704 Q2322.23 961.704 2319.77 962.468 Q2317.34 963.231 2314.57 964.782 L2314.57 960.06 Q2317.39 958.926 2319.84 958.347 Q2322.3 957.769 2324.33 957.769 Q2329.7 957.769 2332.9 960.454 Q2336.09 963.139 2336.09 967.63 Q2336.09 969.759 2335.28 971.68 Q2334.5 973.579 2332.39 976.171 Q2331.81 976.842 2328.71 980.06 Q2325.61 983.254 2319.96 989.018 Z\" fill=\"#000000\" fill-rule=\"nonzero\" fill-opacity=\"1\" /><polyline clip-path=\"url(#clip640)\" style=\"stroke:#000000; stroke-linecap:round; stroke-linejoin:round; stroke-width:4; stroke-opacity:1; fill:none\" points=\"2232.76,979.302 2256.76,979.302 \"/>\n",
       "<path clip-path=\"url(#clip640)\" d=\"M2280.7 707.899 Q2277.09 707.899 2275.26 711.464 Q2273.45 715.006 2273.45 722.135 Q2273.45 729.242 2275.26 732.807 Q2277.09 736.348 2280.7 736.348 Q2284.33 736.348 2286.14 732.807 Q2287.97 729.242 2287.97 722.135 Q2287.97 715.006 2286.14 711.464 Q2284.33 707.899 2280.7 707.899 M2280.7 704.196 Q2286.51 704.196 2289.57 708.802 Q2292.64 713.385 2292.64 722.135 Q2292.64 730.862 2289.57 735.469 Q2286.51 740.052 2280.7 740.052 Q2274.89 740.052 2271.81 735.469 Q2268.76 730.862 2268.76 722.135 Q2268.76 713.385 2271.81 708.802 Q2274.89 704.196 2280.7 704.196 Z\" fill=\"#000000\" fill-rule=\"nonzero\" fill-opacity=\"1\" /><path clip-path=\"url(#clip640)\" d=\"M2300.86 733.501 L2305.75 733.501 L2305.75 739.381 L2300.86 739.381 L2300.86 733.501 Z\" fill=\"#000000\" fill-rule=\"nonzero\" fill-opacity=\"1\" /><path clip-path=\"url(#clip640)\" d=\"M2330.1 720.747 Q2333.45 721.464 2335.33 723.733 Q2337.23 726.001 2337.23 729.334 Q2337.23 734.45 2333.71 737.251 Q2330.19 740.052 2323.71 740.052 Q2321.53 740.052 2319.22 739.612 Q2316.93 739.196 2314.47 738.339 L2314.47 733.825 Q2316.42 734.959 2318.73 735.538 Q2321.05 736.117 2323.57 736.117 Q2327.97 736.117 2330.26 734.381 Q2332.58 732.645 2332.58 729.334 Q2332.58 726.279 2330.42 724.566 Q2328.29 722.83 2324.47 722.83 L2320.45 722.83 L2320.45 718.987 L2324.66 718.987 Q2328.11 718.987 2329.94 717.622 Q2331.76 716.233 2331.76 713.64 Q2331.76 710.978 2329.87 709.566 Q2327.99 708.131 2324.47 708.131 Q2322.55 708.131 2320.35 708.548 Q2318.15 708.964 2315.51 709.844 L2315.51 705.677 Q2318.18 704.936 2320.49 704.566 Q2322.83 704.196 2324.89 704.196 Q2330.21 704.196 2333.32 706.626 Q2336.42 709.034 2336.42 713.154 Q2336.42 716.024 2334.77 718.015 Q2333.13 719.983 2330.1 720.747 Z\" fill=\"#000000\" fill-rule=\"nonzero\" fill-opacity=\"1\" /><polyline clip-path=\"url(#clip640)\" style=\"stroke:#000000; stroke-linecap:round; stroke-linejoin:round; stroke-width:4; stroke-opacity:1; fill:none\" points=\"2232.76,725.73 2256.76,725.73 \"/>\n",
       "<path clip-path=\"url(#clip640)\" d=\"M2280.7 454.327 Q2277.09 454.327 2275.26 457.891 Q2273.45 461.433 2273.45 468.563 Q2273.45 475.669 2275.26 479.234 Q2277.09 482.776 2280.7 482.776 Q2284.33 482.776 2286.14 479.234 Q2287.97 475.669 2287.97 468.563 Q2287.97 461.433 2286.14 457.891 Q2284.33 454.327 2280.7 454.327 M2280.7 450.623 Q2286.51 450.623 2289.57 455.229 Q2292.64 459.813 2292.64 468.563 Q2292.64 477.289 2289.57 481.896 Q2286.51 486.479 2280.7 486.479 Q2274.89 486.479 2271.81 481.896 Q2268.76 477.289 2268.76 468.563 Q2268.76 459.813 2271.81 455.229 Q2274.89 450.623 2280.7 450.623 Z\" fill=\"#000000\" fill-rule=\"nonzero\" fill-opacity=\"1\" /><path clip-path=\"url(#clip640)\" d=\"M2300.86 479.928 L2305.75 479.928 L2305.75 485.808 L2300.86 485.808 L2300.86 479.928 Z\" fill=\"#000000\" fill-rule=\"nonzero\" fill-opacity=\"1\" /><path clip-path=\"url(#clip640)\" d=\"M2328.78 455.322 L2316.97 473.771 L2328.78 473.771 L2328.78 455.322 M2327.55 451.248 L2333.43 451.248 L2333.43 473.771 L2338.36 473.771 L2338.36 477.66 L2333.43 477.66 L2333.43 485.808 L2328.78 485.808 L2328.78 477.66 L2313.18 477.66 L2313.18 473.146 L2327.55 451.248 Z\" fill=\"#000000\" fill-rule=\"nonzero\" fill-opacity=\"1\" /><polyline clip-path=\"url(#clip640)\" style=\"stroke:#000000; stroke-linecap:round; stroke-linejoin:round; stroke-width:4; stroke-opacity:1; fill:none\" points=\"2232.76,472.157 2256.76,472.157 \"/>\n",
       "<path clip-path=\"url(#clip640)\" d=\"M2280.7 200.754 Q2277.09 200.754 2275.26 204.319 Q2273.45 207.86 2273.45 214.99 Q2273.45 222.096 2275.26 225.661 Q2277.09 229.203 2280.7 229.203 Q2284.33 229.203 2286.14 225.661 Q2287.97 222.096 2287.97 214.99 Q2287.97 207.86 2286.14 204.319 Q2284.33 200.754 2280.7 200.754 M2280.7 197.05 Q2286.51 197.05 2289.57 201.657 Q2292.64 206.24 2292.64 214.99 Q2292.64 223.717 2289.57 228.323 Q2286.51 232.906 2280.7 232.906 Q2274.89 232.906 2271.81 228.323 Q2268.76 223.717 2268.76 214.99 Q2268.76 206.24 2271.81 201.657 Q2274.89 197.05 2280.7 197.05 Z\" fill=\"#000000\" fill-rule=\"nonzero\" fill-opacity=\"1\" /><path clip-path=\"url(#clip640)\" d=\"M2300.86 226.356 L2305.75 226.356 L2305.75 232.235 L2300.86 232.235 L2300.86 226.356 Z\" fill=\"#000000\" fill-rule=\"nonzero\" fill-opacity=\"1\" /><path clip-path=\"url(#clip640)\" d=\"M2315.98 197.675 L2334.33 197.675 L2334.33 201.61 L2320.26 201.61 L2320.26 210.083 Q2321.28 209.735 2322.3 209.573 Q2323.32 209.388 2324.33 209.388 Q2330.12 209.388 2333.5 212.559 Q2336.88 215.731 2336.88 221.147 Q2336.88 226.726 2333.41 229.828 Q2329.94 232.906 2323.62 232.906 Q2321.44 232.906 2319.17 232.536 Q2316.93 232.166 2314.52 231.425 L2314.52 226.726 Q2316.6 227.86 2318.83 228.416 Q2321.05 228.971 2323.52 228.971 Q2327.53 228.971 2329.87 226.865 Q2332.2 224.758 2332.2 221.147 Q2332.2 217.536 2329.87 215.43 Q2327.53 213.323 2323.52 213.323 Q2321.65 213.323 2319.77 213.74 Q2317.92 214.157 2315.98 215.036 L2315.98 197.675 Z\" fill=\"#000000\" fill-rule=\"nonzero\" fill-opacity=\"1\" /><polyline clip-path=\"url(#clip640)\" style=\"stroke:#000000; stroke-linecap:round; stroke-linejoin:round; stroke-width:4; stroke-opacity:1; fill:none\" points=\"2232.76,218.584 2256.76,218.584 \"/>\n",
       "<polyline clip-path=\"url(#clip640)\" style=\"stroke:#000000; stroke-linecap:round; stroke-linejoin:round; stroke-width:4; stroke-opacity:1; fill:none\" points=\"2232.76,1486.45 2232.76,47.2441 \"/>\n",
       "</svg>\n"
      ],
      "text/html": [
       "<img src=\"data:image/png;base64,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\" />"
      ]
     },
     "execution_count": 667,
     "metadata": {},
     "output_type": "execute_result"
    }
   ],
   "source": [
    "heatmap(AAAA2, format=:png)"
   ]
  },
  {
   "cell_type": "markdown",
   "metadata": {},
   "source": [
    "## Boundary Conditions: Periodic"
   ]
  },
  {
   "cell_type": "markdown",
   "metadata": {},
   "source": [
    "For the boundary conditions we will use periodic boundary conditions because that is what is usually done with the Split-Step Fourier Method in solving the Paraxial Wave Equation. \n",
    "\n",
    "To use periodic boundary conditions, one does not need to specify a new BC struct as is done in the documentation for the Dirichlet BCs. Instead, periodic BC are implemented when initializing a grid. For example, using the `StructuredMesh()` function we set `periodicity=true` to get periodic BC: \n",
    "\n",
    "```\n",
    "mesh = StructuredMesh(cells_per_dimension,\n",
    "                coordinates_min, coordinates_max,\n",
    "                periodicity=true) # set structured mes\n",
    "\n",
    "```"
   ]
  },
  {
   "cell_type": "code",
   "execution_count": 668,
   "metadata": {},
   "outputs": [
    {
     "data": {
      "text/plain": [
       "([0.0, 1.0], [-0.01, 0.01])"
      ]
     },
     "execution_count": 668,
     "metadata": {},
     "output_type": "execute_result"
    }
   ],
   "source": [
    "zdomainnorm, rdomainnorm"
   ]
  },
  {
   "cell_type": "code",
   "execution_count": 669,
   "metadata": {},
   "outputs": [
    {
     "data": {
      "text/plain": [
       "((0.0, -0.01), (1.0, 0.01))"
      ]
     },
     "execution_count": 669,
     "metadata": {},
     "output_type": "execute_result"
    }
   ],
   "source": [
    "coordinates_min = (zdomainnorm[1], rdomainnorm[1]) # minimum coordinates (min(x), min(y))\n",
    "coordinates_max = (zdomainnorm[2], rdomainnorm[2]) # maximum coordinates (max(x), max(y))\n",
    "\n",
    "# cells_per_dimension = (500, 200)\n",
    "coordinates_min, coordinates_max"
   ]
  },
  {
   "cell_type": "markdown",
   "metadata": {},
   "source": [
    "We use `TreeMesh()` because it is capable of using the `SemidiscretizationHyperbolicParabolic`"
   ]
  },
  {
   "cell_type": "code",
   "execution_count": 670,
   "metadata": {},
   "outputs": [
    {
     "data": {
      "text/plain": [
       "┌──────────────────────────────────────────────────────────────────────────────────────────────────┐\n",
       "│ TreeMesh{2, Trixi.SerialTree{2}}                                                                 │\n",
       "│ ════════════════════════════════                                                                 │\n",
       "│ center: …………………………………………………………… [0.5, 0.0]                                                       │\n",
       "│ length: …………………………………………………………… 1.0                                                              │\n",
       "│ periodicity: ……………………………………………… (true, true)                                                     │\n",
       "│ current #cells: ……………………………………… 341                                                              │\n",
       "│ #leaf-cells: ……………………………………………… 256                                                              │\n",
       "│ maximum #cells: ……………………………………… 30000                                                            │\n",
       "└──────────────────────────────────────────────────────────────────────────────────────────────────┘"
      ]
     },
     "execution_count": 670,
     "metadata": {},
     "output_type": "execute_result"
    }
   ],
   "source": [
    "# Create curved mesh with 16 x 16 elements\n",
    "# mesh = StructuredMesh(cells_per_dimension, coordinates_min, coordinates_max, periodicity=true)\n",
    "mesh = TreeMesh(coordinates_min, coordinates_max, \n",
    "                periodicity=true, \n",
    "                initial_refinement_level = 4,\n",
    "                n_cells_max = 30_000)"
   ]
  },
  {
   "cell_type": "code",
   "execution_count": 671,
   "metadata": {},
   "outputs": [
    {
     "data": {
      "text/plain": [
       "┌──────────────────────────────────────────────────────────────────────────────────────────────────┐\n",
       "│ DG{Float64}                                                                                      │\n",
       "│ ═══════════                                                                                      │\n",
       "│ basis: ……………………………………………………………… LobattoLegendreBasis{Float64}(polydeg=3)                         │\n",
       "│ mortar: …………………………………………………………… LobattoLegendreMortarL2{Float64}(polydeg=3)                      │\n",
       "│ surface integral: ………………………………… SurfaceIntegralWeakForm                                          │\n",
       "│ │ surface flux: ……………………………………… FluxLaxFriedrichs(max_abs_speed_naive)                           │\n",
       "│ volume integral: …………………………………… VolumeIntegralWeakForm                                           │\n",
       "└──────────────────────────────────────────────────────────────────────────────────────────────────┘"
      ]
     },
     "execution_count": 671,
     "metadata": {},
     "output_type": "execute_result"
    }
   ],
   "source": [
    "solver = DGSEM(polydeg=3, surface_flux=flux_lax_friedrichs)"
   ]
  },
  {
   "cell_type": "markdown",
   "metadata": {},
   "source": [
    "# Semidiscretization"
   ]
  },
  {
   "cell_type": "markdown",
   "metadata": {},
   "source": [
    "We semidescritize: descritize in space but not in time\n",
    "\n",
    "We use the `TreeMesh()` because it allows for the use of a hyperbolic-parabolic solver via `SemidiscretizationHyperbolicParabolic`"
   ]
  },
  {
   "cell_type": "code",
   "execution_count": 672,
   "metadata": {},
   "outputs": [
    {
     "data": {
      "text/plain": [
       "┌──────────────────────────────────────────────────────────────────────────────────────────────────┐\n",
       "│ SemidiscretizationHyperbolicParabolic                                                            │\n",
       "│ ═════════════════════════════════════                                                            │\n",
       "│ #spatial dimensions: ………………………… 2                                                                │\n",
       "│ mesh: ………………………………………………………………… TreeMesh{2, Trixi.SerialTree{2}} with length 341                 │\n",
       "│ hyperbolic equations: ……………………… LinearAdvectionEquation2v2D                                      │\n",
       "│ parabolic equations: ………………………… ConstantAnisotropicDiffusion2D                                   │\n",
       "│ initial condition: ……………………………… initial_condition_SVEA                                           │\n",
       "│ source terms: …………………………………………… nothing                                                          │\n",
       "│ solver: …………………………………………………………… DG                                                               │\n",
       "│ parabolic solver: ………………………………… ViscousFormulationBassiRebay1                                    │\n",
       "│ total #DOFs per field: …………………… 4096                                                             │\n",
       "└──────────────────────────────────────────────────────────────────────────────────────────────────┘"
      ]
     },
     "execution_count": 672,
     "metadata": {},
     "output_type": "execute_result"
    }
   ],
   "source": [
    "semi = SemidiscretizationHyperbolicParabolic(mesh,\n",
    "                                             (equations_hyperbolic, equations_parabolic),\n",
    "                                             initial_condition_SVEA, solver )\n",
    "                                             # boundary_conditions=(boundary_conditions_hyperbolic,\n",
    "                                             #                      boundary_conditions_parabolic))\n"
   ]
  },
  {
   "cell_type": "markdown",
   "metadata": {},
   "source": [
    "# ODE Solver"
   ]
  },
  {
   "cell_type": "code",
   "execution_count": 673,
   "metadata": {},
   "outputs": [
    {
     "data": {
      "text/plain": [
       "5.999999999999998"
      ]
     },
     "execution_count": 673,
     "metadata": {},
     "output_type": "execute_result"
    }
   ],
   "source": [
    "0.6/c/Tnorm"
   ]
  },
  {
   "cell_type": "code",
   "execution_count": 711,
   "metadata": {},
   "outputs": [
    {
     "data": {
      "text/plain": [
       "1.0e-9"
      ]
     },
     "execution_count": 711,
     "metadata": {},
     "output_type": "execute_result"
    }
   ],
   "source": [
    "tspan = (0.0, 0.05/c/Tnorm)\n",
    "ode = semidiscretize(semi, tspan)\n",
    "# callbacks = CallbackSet(SummaryCallback())\n",
    "time_int_tol = 1.0e-9"
   ]
  },
  {
   "cell_type": "code",
   "execution_count": 712,
   "metadata": {},
   "outputs": [],
   "source": [
    "summary_callback = SummaryCallback()\n",
    "alive_callback = AliveCallback(alive_interval = 10)\n",
    "analysis_interval = 100\n",
    "analysis_callback = AnalysisCallback(semi, interval = analysis_interval)\n",
    "save_solution = SaveSolutionCallback(interval = 20,\n",
    "                                     save_initial_solution = true,\n",
    "                                     save_final_solution = true)\n",
    "callbacks = CallbackSet(summary_callback, alive_callback, analysis_callback);#,save_solution);\n"
   ]
  },
  {
   "cell_type": "code",
   "execution_count": 713,
   "metadata": {},
   "outputs": [
    {
     "data": {
      "text/plain": [
       "0.05"
      ]
     },
     "execution_count": 713,
     "metadata": {},
     "output_type": "execute_result"
    }
   ],
   "source": [
    "tspan[2]/10.0"
   ]
  },
  {
   "cell_type": "code",
   "execution_count": 714,
   "metadata": {
    "scrolled": true
   },
   "outputs": [
    {
     "name": "stdout",
     "output_type": "stream",
     "text": [
      "\n",
      "████████╗██████╗ ██╗██╗  ██╗██╗\n",
      "╚══██╔══╝██╔══██╗██║╚██╗██╔╝██║\n",
      "   ██║   ██████╔╝██║ ╚███╔╝ ██║\n",
      "   ██║   ██╔══██╗██║ ██╔██╗ ██║\n",
      "   ██║   ██║  ██║██║██╔╝ ██╗██║\n",
      "   ╚═╝   ╚═╝  ╚═╝╚═╝╚═╝  ╚═╝╚═╝\n",
      "\n",
      "┌──────────────────────────────────────────────────────────────────────────────────────────────────┐\n",
      "│ SemidiscretizationHyperbolicParabolic                                                            │\n",
      "│ ═════════════════════════════════════                                                            │\n",
      "│ #spatial dimensions: ………………………… 2                                                                │\n",
      "│ mesh: ………………………………………………………………… TreeMesh{2, Trixi.SerialTree{2}} with length 341                 │\n",
      "│ hyperbolic equations: ……………………… LinearAdvectionEquation2v2D                                      │\n",
      "│ parabolic equations: ………………………… ConstantAnisotropicDiffusion2D                                   │\n",
      "│ initial condition: ……………………………… initial_condition_SVEA                                           │\n",
      "│ source terms: …………………………………………… nothing                                                          │\n",
      "│ solver: …………………………………………………………… DG                                                               │\n",
      "│ parabolic solver: ………………………………… ViscousFormulationBassiRebay1                                    │\n",
      "│ total #DOFs per field: …………………… 4096                                                             │\n",
      "└──────────────────────────────────────────────────────────────────────────────────────────────────┘\n",
      "\n",
      "┌──────────────────────────────────────────────────────────────────────────────────────────────────┐\n",
      "│ TreeMesh{2, Trixi.SerialTree{2}}                                                                 │\n",
      "│ ════════════════════════════════                                                                 │\n",
      "│ center: …………………………………………………………… [0.5, 0.0]                                                       │\n",
      "│ length: …………………………………………………………… 1.0                                                              │\n",
      "│ periodicity: ……………………………………………… (true, true)                                                     │\n",
      "│ current #cells: ……………………………………… 341                                                              │\n",
      "│ #leaf-cells: ……………………………………………… 256                                                              │\n",
      "│ maximum #cells: ……………………………………… 30000                                                            │\n",
      "└──────────────────────────────────────────────────────────────────────────────────────────────────┘\n",
      "\n",
      "┌──────────────────────────────────────────────────────────────────────────────────────────────────┐\n",
      "│ LinearAdvectionEquation2v2D                                                                      │\n",
      "│ ═══════════════════════════                                                                      │\n",
      "│ #variables: ………………………………………………… 2                                                                │\n",
      "│ │ variable 1: …………………………………………… Ar                                                               │\n",
      "│ │ variable 2: …………………………………………… Ai                                                               │\n",
      "└──────────────────────────────────────────────────────────────────────────────────────────────────┘\n",
      "\n",
      "┌──────────────────────────────────────────────────────────────────────────────────────────────────┐\n",
      "│ DG{Float64}                                                                                      │\n",
      "│ ═══════════                                                                                      │\n",
      "│ basis: ……………………………………………………………… LobattoLegendreBasis{Float64}(polydeg=3)                         │\n",
      "│ mortar: …………………………………………………………… LobattoLegendreMortarL2{Float64}(polydeg=3)                      │\n",
      "│ surface integral: ………………………………… SurfaceIntegralWeakForm                                          │\n",
      "│ │ surface flux: ……………………………………… FluxLaxFriedrichs(max_abs_speed_naive)                           │\n",
      "│ volume integral: …………………………………… VolumeIntegralWeakForm                                           │\n",
      "└──────────────────────────────────────────────────────────────────────────────────────────────────┘\n",
      "\n",
      "┌──────────────────────────────────────────────────────────────────────────────────────────────────┐\n",
      "│ AliveCallback                                                                                    │\n",
      "│ ═════════════                                                                                    │\n",
      "│ interval: ……………………………………………………… 10                                                               │\n",
      "└──────────────────────────────────────────────────────────────────────────────────────────────────┘\n",
      "\n",
      "┌──────────────────────────────────────────────────────────────────────────────────────────────────┐\n",
      "│ AnalysisCallback                                                                                 │\n",
      "│ ════════════════                                                                                 │\n",
      "│ interval: ……………………………………………………… 100                                                              │\n",
      "│ analyzer: ……………………………………………………… LobattoLegendreAnalyzer{Float64}(polydeg=6)                      │\n",
      "│ │ error 1: …………………………………………………… l2_error                                                         │\n",
      "│ │ error 2: …………………………………………………… linf_error                                                       │\n",
      "│ save analysis to file: …………………… no                                                               │\n",
      "└──────────────────────────────────────────────────────────────────────────────────────────────────┘\n",
      "\n",
      "┌──────────────────────────────────────────────────────────────────────────────────────────────────┐\n",
      "│ Time integration                                                                                 │\n",
      "│ ════════════════                                                                                 │\n",
      "│ Start time: ………………………………………………… 0.0                                                              │\n",
      "│ Final time: ………………………………………………… 0.5                                                              │\n",
      "│ time integrator: …………………………………… RDPK3SpFSAL49                                                    │\n",
      "│ adaptive: ……………………………………………………… true                                                             │\n",
      "│ abstol: …………………………………………………………… 1.0e-9                                                           │\n",
      "│ reltol: …………………………………………………………… 1.0e-9                                                           │\n",
      "│ controller: ………………………………………………… PIDController(beta=[0.38, -0.18,…iter=default_dt_factor_limiter) │\n",
      "└──────────────────────────────────────────────────────────────────────────────────────────────────┘\n",
      "┌──────────────────────────────────────────────────────────────────────────────────────────────────┐\n",
      "│ Environment information                                                                          │\n",
      "│ ═══════════════════════                                                                          │\n",
      "│ #threads: ……………………………………………………… 24                                                               │\n",
      "└──────────────────────────────────────────────────────────────────────────────────────────────────┘\n",
      "\n",
      "────────────────────────────────────────────────────────────────────────────────────────────────────\n",
      " Simulation running 'LinearAdvectionEquation2v2D' with DGSEM(polydeg=3)\n",
      "────────────────────────────────────────────────────────────────────────────────────────────────────\n",
      " #timesteps:                  0                run time:       8.43000000e-07 s\n",
      " Δt:             1.00000000e-08                └── GC time:    0.00000000e+00 s (0.000%)\n",
      " sim. time:      0.00000000e+00 (0.000%)       time/DOF/rhs!:  2.63661499e-07 s\n",
      "                                               PID:                   Inf s\n",
      " #DOFs per field:          4096                alloc'd memory:        270.032 MiB\n",
      " #elements:                 256\n",
      "\n",
      " Variable:       Ar               Ai            \n",
      " L2 error:       1.24635342e-02   1.06646604e-02\n",
      " Linf error:     3.21154856e-01   2.77250164e-01\n",
      "────────────────────────────────────────────────────────────────────────────────────────────────────\n",
      "\n",
      "#timesteps:     10 │ Δt: 1.8141e-05 │ sim. time: 3.3836e-05 (0.007%)   │ run time: 1.1672e-02 s\n",
      "#timesteps:     20 │ Δt: 1.1560e-03 │ sim. time: 4.6690e-03 (0.934%)   │ run time: 1.8692e-02 s\n",
      "#timesteps:     30 │ Δt: 3.0632e-03 │ sim. time: 2.6962e-02 (5.392%)   │ run time: 2.6726e-02 s\n",
      "#timesteps:     40 │ Δt: 3.5448e-03 │ sim. time: 6.1348e-02 (12.270%)  │ run time: 3.4432e-02 s\n",
      "#timesteps:     50 │ Δt: 3.8003e-03 │ sim. time: 9.8211e-02 (19.642%)  │ run time: 4.2794e-02 s\n",
      "#timesteps:     60 │ Δt: 3.6815e-03 │ sim. time: 1.3531e-01 (27.063%)  │ run time: 5.2065e-02 s\n",
      "#timesteps:     70 │ Δt: 3.7690e-03 │ sim. time: 1.7316e-01 (34.632%)  │ run time: 6.1721e-02 s\n",
      "#timesteps:     80 │ Δt: 3.7868e-03 │ sim. time: 2.1038e-01 (42.075%)  │ run time: 7.6504e-02 s\n",
      "#timesteps:     90 │ Δt: 3.7161e-03 │ sim. time: 2.4831e-01 (49.662%)  │ run time: 8.6078e-02 s\n",
      "#timesteps:    100 │ Δt: 3.8516e-03 │ sim. time: 2.8603e-01 (57.207%)  │ run time: 9.5529e-02 s\n",
      "\n",
      "────────────────────────────────────────────────────────────────────────────────────────────────────\n",
      " Simulation running 'LinearAdvectionEquation2v2D' with DGSEM(polydeg=3)\n",
      "────────────────────────────────────────────────────────────────────────────────────────────────────\n",
      " #timesteps:                100                run time:       9.56235240e-02 s\n",
      " Δt:             3.85157061e-03                └── GC time:    0.00000000e+00 s (0.000%)\n",
      " sim. time:      2.86033996e-01 (57.207%)      time/DOF/rhs!:  2.20050782e-08 s\n",
      "                                               PID:            2.53438760e-08 s\n",
      " #DOFs per field:          4096                alloc'd memory:        275.080 MiB\n",
      " #elements:                 256\n",
      "\n",
      " Variable:       Ar               Ai            \n",
      " L2 error:       1.38584188e-02   1.07582918e-02\n",
      " Linf error:     3.85586753e-01   2.72597228e-01\n",
      "────────────────────────────────────────────────────────────────────────────────────────────────────\n",
      "\n",
      "#timesteps:    110 │ Δt: 3.7337e-03 │ sim. time: 3.2370e-01 (64.741%)  │ run time: 1.0566e-01 s\n",
      "#timesteps:    120 │ Δt: 3.8088e-03 │ sim. time: 3.6191e-01 (72.383%)  │ run time: 1.1636e-01 s\n",
      "#timesteps:    130 │ Δt: 3.8239e-03 │ sim. time: 3.9959e-01 (79.918%)  │ run time: 1.2639e-01 s\n",
      "#timesteps:    140 │ Δt: 3.7596e-03 │ sim. time: 4.3784e-01 (87.569%)  │ run time: 1.3521e-01 s\n",
      "#timesteps:    150 │ Δt: 3.8743e-03 │ sim. time: 4.7596e-01 (95.192%)  │ run time: 1.4469e-01 s\n",
      "────────────────────────────────────────────────────────────────────────────────────────────────────\n",
      "Trixi.jl simulation finished.  Final time: 0.5  Time steps: 157 (accepted), 157 (total)\n",
      "────────────────────────────────────────────────────────────────────────────────────────────────────\n",
      "\n",
      "\n",
      "────────────────────────────────────────────────────────────────────────────────────────────────────\n",
      " Simulation running 'LinearAdvectionEquation2v2D' with DGSEM(polydeg=3)\n",
      "────────────────────────────────────────────────────────────────────────────────────────────────────\n",
      " #timesteps:                157                run time:       1.50928030e-01 s\n",
      " Δt:             1.10609707e-03                └── GC time:    0.00000000e+00 s (0.000%)\n",
      " sim. time:      5.00000000e-01 (100.000%)     time/DOF/rhs!:  1.99896188e-08 s\n",
      "                                               PID:            2.57588414e-08 s\n",
      " #DOFs per field:          4096                alloc'd memory:        277.935 MiB\n",
      " #elements:                 256\n",
      "\n",
      " Variable:       Ar               Ai            \n",
      " L2 error:       1.46607613e-02   1.08512396e-02\n",
      " Linf error:     4.72599909e-01   2.66468380e-01\n",
      "────────────────────────────────────────────────────────────────────────────────────────────────────\n",
      "\n",
      "\u001b[0m\u001b[1m ────────────────────────────────────────────────────────────────────────────────\u001b[22m\n",
      "\u001b[0m\u001b[1m            Trixi.jl           \u001b[22m         Time                    Allocations      \n",
      "                               ───────────────────────   ────────────────────────\n",
      "       Tot / % measured:            152ms /  81.8%           8.00MiB /  97.9%    \n",
      "\n",
      " Section               ncalls     time    %tot     avg     alloc    %tot      avg\n",
      " ────────────────────────────────────────────────────────────────────────────────\n",
      " parabolic rhs!         1.41k   88.9ms   71.4%  62.9μs   5.80MiB   74.1%  4.20KiB\n",
      "   calculate gradient   1.41k   41.3ms   33.1%  29.2μs   2.64MiB   33.7%  1.91KiB\n",
      "     volume integral    1.41k   12.0ms    9.6%  8.50μs    508KiB    6.3%     368B\n",
      "     ~calculate gra...  1.41k   7.48ms    6.0%  5.29μs   7.34KiB    0.1%    5.32B\n",
      "     reset gradients    1.41k   6.60ms    5.3%  4.67μs     0.00B    0.0%    0.00B\n",
      "     Jacobian           1.41k   5.16ms    4.1%  3.65μs    751KiB    9.4%     544B\n",
      "     surface integral   1.41k   4.12ms    3.3%  2.92μs    508KiB    6.3%     368B\n",
      "     prolong2interf...  1.41k   2.89ms    2.3%  2.05μs    464KiB    5.8%     336B\n",
      "     interface flux     1.41k   2.74ms    2.2%  1.94μs    464KiB    5.8%     336B\n",
      "     prolong2mortars    1.41k   74.5μs    0.1%  52.7ns     0.00B    0.0%    0.00B\n",
      "     prolong2bounda...  1.41k   68.3μs    0.1%  48.3ns     0.00B    0.0%    0.00B\n",
      "     mortar flux        1.41k   55.0μs    0.0%  38.9ns     0.00B    0.0%    0.00B\n",
      "     boundary flux      1.41k   31.8μs    0.0%  22.5ns     0.00B    0.0%    0.00B\n",
      "   ~parabolic rhs!~     1.41k   9.79ms    7.9%  6.93μs   10.8KiB    0.1%    7.82B\n",
      "   transform variables  1.41k   8.62ms    6.9%  6.10μs    376KiB    4.7%     272B\n",
      "   Jacobian             1.41k   6.02ms    4.8%  4.26μs    354KiB    4.4%     256B\n",
      "   calculate viscou...  1.41k   5.66ms    4.5%  4.01μs    619KiB    7.7%     448B\n",
      "   volume integral      1.41k   4.06ms    3.3%  2.87μs    464KiB    5.8%     336B\n",
      "   reset ∂u/∂t          1.41k   3.63ms    2.9%  2.57μs     0.00B    0.0%    0.00B\n",
      "   interface flux       1.41k   3.38ms    2.7%  2.39μs    464KiB    5.8%     336B\n",
      "   prolong2interfaces   1.41k   3.27ms    2.6%  2.31μs    552KiB    6.9%     400B\n",
      "   surface integral     1.41k   3.00ms    2.4%  2.12μs    398KiB    5.0%     288B\n",
      "   prolong2mortars      1.41k   84.0μs    0.1%  59.4ns     0.00B    0.0%    0.00B\n",
      "   prolong2boundaries   1.41k   67.0μs    0.1%  47.4ns     0.00B    0.0%    0.00B\n",
      "   mortar flux          1.41k   51.3μs    0.0%  36.2ns     0.00B    0.0%    0.00B\n",
      "   boundary flux        1.41k   33.4μs    0.0%  23.6ns     0.00B    0.0%    0.00B\n",
      " rhs!                   1.41k   31.3ms   25.1%  22.1μs   1.95MiB   24.9%  1.41KiB\n",
      "   ~rhs!~               1.41k   8.21ms    6.6%  5.81μs   9.33KiB    0.1%    6.76B\n",
      "   volume integral      1.41k   5.02ms    4.0%  3.55μs    398KiB    5.0%     288B\n",
      "   surface integral     1.41k   4.91ms    3.9%  3.47μs    376KiB    4.7%     272B\n",
      "   reset ∂u/∂t          1.41k   3.67ms    2.9%  2.59μs     0.00B    0.0%    0.00B\n",
      "   interface flux       1.41k   3.35ms    2.7%  2.37μs    464KiB    5.8%     336B\n",
      "   Jacobian             1.41k   3.33ms    2.7%  2.35μs    331KiB    4.1%     240B\n",
      "   prolong2interfaces   1.41k   2.51ms    2.0%  1.77μs    420KiB    5.2%     304B\n",
      "   prolong2mortars      1.41k   71.0μs    0.1%  50.2ns     0.00B    0.0%    0.00B\n",
      "   prolong2boundaries   1.41k   67.7μs    0.1%  47.8ns     0.00B    0.0%    0.00B\n",
      "   mortar flux          1.41k   66.1μs    0.1%  46.7ns     0.00B    0.0%    0.00B\n",
      "   source terms         1.41k   32.9μs    0.0%  23.3ns     0.00B    0.0%    0.00B\n",
      "   boundary flux        1.41k   32.0μs    0.0%  22.6ns     0.00B    0.0%    0.00B\n",
      " analyze solution           3   4.43ms    3.6%  1.48ms   76.6KiB    1.0%  25.5KiB\n",
      "\u001b[0m\u001b[1m ────────────────────────────────────────────────────────────────────────────────\u001b[22m\n",
      "\n"
     ]
    }
   ],
   "source": [
    "sol = solve(ode, RDPK3SpFSAL49(); abstol = time_int_tol, reltol = time_int_tol, dt = 1e-8,\n",
    "            ode_default_options()..., callback = callbacks)\n",
    "summary_callback() # print the timer summary"
   ]
  },
  {
   "cell_type": "code",
   "execution_count": 715,
   "metadata": {},
   "outputs": [
    {
     "data": {
      "image/png": "[encoded data removed]",
      "image/svg+xml": [
       "<?xml version=\"1.0\" encoding=\"utf-8\"?>\n",
       "<svg xmlns=\"http://www.w3.org/2000/svg\" xmlns:xlink=\"http://www.w3.org/1999/xlink\" width=\"600\" height=\"400\" viewBox=\"0 0 2400 1600\">\n",
       "<defs>\n",
       "  <clipPath id=\"clip240\">\n",
       "    <rect x=\"0\" y=\"0\" width=\"2400\" height=\"1600\"/>\n",
       "  </clipPath>\n",
       "</defs>\n",
       "<path clip-path=\"url(#clip240)\" d=\"M0 1600 L2400 1600 L2400 0 L0 0  Z\" fill=\"#ffffff\" fill-rule=\"evenodd\" fill-opacity=\"1\"/>\n",
       "<defs>\n",
       "  <clipPath id=\"clip241\">\n",
       "    <rect x=\"480\" y=\"0\" width=\"1681\" height=\"1600\"/>\n",
       "  </clipPath>\n",
       "</defs>\n",
       "<path clip-path=\"url(#clip240)\" d=\"M287.366 1086.02 L912.756 1086.02 L912.756 460.631 L287.366 460.631  Z\" fill=\"#ffffff\" fill-rule=\"evenodd\" fill-opacity=\"1\"/>\n",
       "<defs>\n",
       "  <clipPath id=\"clip242\">\n",
       "    <rect x=\"287\" y=\"460\" width=\"626\" height=\"626\"/>\n",
       "  </clipPath>\n",
       "</defs>\n",
       "<polyline clip-path=\"url(#clip242)\" style=\"stroke:#000000; stroke-linecap:round; stroke-linejoin:round; stroke-width:2; stroke-opacity:0.1; fill:none\" points=\"287.366,1086.02 287.366,460.631 \"/>\n",
       "<polyline clip-path=\"url(#clip242)\" style=\"stroke:#000000; stroke-linecap:round; stroke-linejoin:round; stroke-width:2; stroke-opacity:0.1; fill:none\" points=\"412.444,1086.02 412.444,460.631 \"/>\n",
       "<polyline clip-path=\"url(#clip242)\" style=\"stroke:#000000; stroke-linecap:round; stroke-linejoin:round; stroke-width:2; stroke-opacity:0.1; fill:none\" points=\"537.522,1086.02 537.522,460.631 \"/>\n",
       "<polyline clip-path=\"url(#clip242)\" style=\"stroke:#000000; stroke-linecap:round; stroke-linejoin:round; stroke-width:2; stroke-opacity:0.1; fill:none\" points=\"662.6,1086.02 662.6,460.631 \"/>\n",
       "<polyline clip-path=\"url(#clip242)\" style=\"stroke:#000000; stroke-linecap:round; stroke-linejoin:round; stroke-width:2; stroke-opacity:0.1; fill:none\" points=\"787.678,1086.02 787.678,460.631 \"/>\n",
       "<polyline clip-path=\"url(#clip242)\" style=\"stroke:#000000; stroke-linecap:round; stroke-linejoin:round; stroke-width:2; stroke-opacity:0.1; fill:none\" points=\"912.756,1086.02 912.756,460.631 \"/>\n",
       "<polyline clip-path=\"url(#clip242)\" style=\"stroke:#000000; stroke-linecap:round; stroke-linejoin:round; stroke-width:2; stroke-opacity:0.1; fill:none\" points=\"287.366,1086.02 912.756,1086.02 \"/>\n",
       "<polyline clip-path=\"url(#clip242)\" style=\"stroke:#000000; stroke-linecap:round; stroke-linejoin:round; stroke-width:2; stroke-opacity:0.1; fill:none\" points=\"287.366,929.673 912.756,929.673 \"/>\n",
       "<polyline clip-path=\"url(#clip242)\" style=\"stroke:#000000; stroke-linecap:round; stroke-linejoin:round; stroke-width:2; stroke-opacity:0.1; fill:none\" points=\"287.366,773.326 912.756,773.326 \"/>\n",
       "<polyline clip-path=\"url(#clip242)\" style=\"stroke:#000000; stroke-linecap:round; stroke-linejoin:round; stroke-width:2; stroke-opacity:0.1; fill:none\" points=\"287.366,616.978 912.756,616.978 \"/>\n",
       "<polyline clip-path=\"url(#clip242)\" style=\"stroke:#000000; stroke-linecap:round; stroke-linejoin:round; stroke-width:2; stroke-opacity:0.1; fill:none\" points=\"287.366,460.631 912.756,460.631 \"/>\n",
       "<polyline clip-path=\"url(#clip240)\" style=\"stroke:#000000; stroke-linecap:round; stroke-linejoin:round; stroke-width:4; stroke-opacity:1; fill:none\" points=\"287.366,1086.02 912.756,1086.02 \"/>\n",
       "<polyline clip-path=\"url(#clip240)\" style=\"stroke:#000000; stroke-linecap:round; stroke-linejoin:round; stroke-width:4; stroke-opacity:1; fill:none\" points=\"287.366,1086.02 287.366,1076.93 \"/>\n",
       "<polyline clip-path=\"url(#clip240)\" style=\"stroke:#000000; stroke-linecap:round; stroke-linejoin:round; stroke-width:4; stroke-opacity:1; fill:none\" points=\"412.444,1086.02 412.444,1076.93 \"/>\n",
       "<polyline clip-path=\"url(#clip240)\" style=\"stroke:#000000; stroke-linecap:round; stroke-linejoin:round; stroke-width:4; stroke-opacity:1; fill:none\" points=\"537.522,1086.02 537.522,1076.93 \"/>\n",
       "<polyline clip-path=\"url(#clip240)\" style=\"stroke:#000000; stroke-linecap:round; stroke-linejoin:round; stroke-width:4; stroke-opacity:1; fill:none\" points=\"662.6,1086.02 662.6,1076.93 \"/>\n",
       "<polyline clip-path=\"url(#clip240)\" style=\"stroke:#000000; stroke-linecap:round; stroke-linejoin:round; stroke-width:4; stroke-opacity:1; fill:none\" points=\"787.678,1086.02 787.678,1076.93 \"/>\n",
       "<polyline clip-path=\"url(#clip240)\" style=\"stroke:#000000; stroke-linecap:round; stroke-linejoin:round; stroke-width:4; stroke-opacity:1; fill:none\" points=\"912.756,1086.02 912.756,1076.93 \"/>\n",
       "<path clip-path=\"url(#clip240)\" d=\"M264.75 1116.94 Q261.139 1116.94 259.31 1120.5 Q257.505 1124.05 257.505 1131.18 Q257.505 1138.28 259.31 1141.85 Q261.139 1145.39 264.75 1145.39 Q268.385 1145.39 270.19 1141.85 Q272.019 1138.28 272.019 1131.18 Q272.019 1124.05 270.19 1120.5 Q268.385 1116.94 264.75 1116.94 M264.75 1113.24 Q270.56 1113.24 273.616 1117.84 Q276.695 1122.43 276.695 1131.18 Q276.695 1139.9 273.616 1144.51 Q270.56 1149.09 264.75 1149.09 Q258.94 1149.09 255.861 1144.51 Q252.806 1139.9 252.806 1131.18 Q252.806 1122.43 255.861 1117.84 Q258.94 1113.24 264.75 1113.24 Z\" fill=\"#000000\" fill-rule=\"nonzero\" fill-opacity=\"1\" /><path clip-path=\"url(#clip240)\" d=\"M284.912 1142.54 L289.796 1142.54 L289.796 1148.42 L284.912 1148.42 L284.912 1142.54 Z\" fill=\"#000000\" fill-rule=\"nonzero\" fill-opacity=\"1\" /><path clip-path=\"url(#clip240)\" d=\"M309.982 1116.94 Q306.37 1116.94 304.542 1120.5 Q302.736 1124.05 302.736 1131.18 Q302.736 1138.28 304.542 1141.85 Q306.37 1145.39 309.982 1145.39 Q313.616 1145.39 315.421 1141.85 Q317.25 1138.28 317.25 1131.18 Q317.25 1124.05 315.421 1120.5 Q313.616 1116.94 309.982 1116.94 M309.982 1113.24 Q315.792 1113.24 318.847 1117.84 Q321.926 1122.43 321.926 1131.18 Q321.926 1139.9 318.847 1144.51 Q315.792 1149.09 309.982 1149.09 Q304.171 1149.09 301.093 1144.51 Q298.037 1139.9 298.037 1131.18 Q298.037 1122.43 301.093 1117.84 Q304.171 1113.24 309.982 1113.24 Z\" fill=\"#000000\" fill-rule=\"nonzero\" fill-opacity=\"1\" /><path clip-path=\"url(#clip240)\" d=\"M390.627 1116.94 Q387.016 1116.94 385.187 1120.5 Q383.382 1124.05 383.382 1131.18 Q383.382 1138.28 385.187 1141.85 Q387.016 1145.39 390.627 1145.39 Q394.261 1145.39 396.067 1141.85 Q397.895 1138.28 397.895 1131.18 Q397.895 1124.05 396.067 1120.5 Q394.261 1116.94 390.627 1116.94 M390.627 1113.24 Q396.437 1113.24 399.493 1117.84 Q402.571 1122.43 402.571 1131.18 Q402.571 1139.9 399.493 1144.51 Q396.437 1149.09 390.627 1149.09 Q384.817 1149.09 381.738 1144.51 Q378.683 1139.9 378.683 1131.18 Q378.683 1122.43 381.738 1117.84 Q384.817 1113.24 390.627 1113.24 Z\" fill=\"#000000\" fill-rule=\"nonzero\" fill-opacity=\"1\" /><path clip-path=\"url(#clip240)\" d=\"M410.789 1142.54 L415.673 1142.54 L415.673 1148.42 L410.789 1148.42 L410.789 1142.54 Z\" fill=\"#000000\" fill-rule=\"nonzero\" fill-opacity=\"1\" /><path clip-path=\"url(#clip240)\" d=\"M429.886 1144.49 L446.205 1144.49 L446.205 1148.42 L424.261 1148.42 L424.261 1144.49 Q426.923 1141.73 431.506 1137.1 Q436.113 1132.45 437.293 1131.11 Q439.539 1128.58 440.418 1126.85 Q441.321 1125.09 441.321 1123.4 Q441.321 1120.64 439.377 1118.91 Q437.455 1117.17 434.354 1117.17 Q432.154 1117.17 429.701 1117.94 Q427.27 1118.7 424.492 1120.25 L424.492 1115.53 Q427.317 1114.39 429.77 1113.81 Q432.224 1113.24 434.261 1113.24 Q439.631 1113.24 442.826 1115.92 Q446.02 1118.61 446.02 1123.1 Q446.02 1125.23 445.21 1127.15 Q444.423 1129.05 442.316 1131.64 Q441.738 1132.31 438.636 1135.53 Q435.534 1138.72 429.886 1144.49 Z\" fill=\"#000000\" fill-rule=\"nonzero\" fill-opacity=\"1\" /><path clip-path=\"url(#clip240)\" d=\"M514.663 1116.94 Q511.052 1116.94 509.223 1120.5 Q507.418 1124.05 507.418 1131.18 Q507.418 1138.28 509.223 1141.85 Q511.052 1145.39 514.663 1145.39 Q518.297 1145.39 520.103 1141.85 Q521.932 1138.28 521.932 1131.18 Q521.932 1124.05 520.103 1120.5 Q518.297 1116.94 514.663 1116.94 M514.663 1113.24 Q520.473 1113.24 523.529 1117.84 Q526.608 1122.43 526.608 1131.18 Q526.608 1139.9 523.529 1144.51 Q520.473 1149.09 514.663 1149.09 Q508.853 1149.09 505.774 1144.51 Q502.719 1139.9 502.719 1131.18 Q502.719 1122.43 505.774 1117.84 Q508.853 1113.24 514.663 1113.24 Z\" fill=\"#000000\" fill-rule=\"nonzero\" fill-opacity=\"1\" /><path clip-path=\"url(#clip240)\" d=\"M534.825 1142.54 L539.709 1142.54 L539.709 1148.42 L534.825 1148.42 L534.825 1142.54 Z\" fill=\"#000000\" fill-rule=\"nonzero\" fill-opacity=\"1\" /><path clip-path=\"url(#clip240)\" d=\"M562.742 1117.94 L550.936 1136.38 L562.742 1136.38 L562.742 1117.94 M561.515 1113.86 L567.394 1113.86 L567.394 1136.38 L572.325 1136.38 L572.325 1140.27 L567.394 1140.27 L567.394 1148.42 L562.742 1148.42 L562.742 1140.27 L547.14 1140.27 L547.14 1135.76 L561.515 1113.86 Z\" fill=\"#000000\" fill-rule=\"nonzero\" fill-opacity=\"1\" /><path clip-path=\"url(#clip240)\" d=\"M639.903 1116.94 Q636.292 1116.94 634.463 1120.5 Q632.658 1124.05 632.658 1131.18 Q632.658 1138.28 634.463 1141.85 Q636.292 1145.39 639.903 1145.39 Q643.538 1145.39 645.343 1141.85 Q647.172 1138.28 647.172 1131.18 Q647.172 1124.05 645.343 1120.5 Q643.538 1116.94 639.903 1116.94 M639.903 1113.24 Q645.713 1113.24 648.769 1117.84 Q651.848 1122.43 651.848 1131.18 Q651.848 1139.9 648.769 1144.51 Q645.713 1149.09 639.903 1149.09 Q634.093 1149.09 631.014 1144.51 Q627.959 1139.9 627.959 1131.18 Q627.959 1122.43 631.014 1117.84 Q634.093 1113.24 639.903 1113.24 Z\" fill=\"#000000\" fill-rule=\"nonzero\" fill-opacity=\"1\" /><path clip-path=\"url(#clip240)\" d=\"M660.065 1142.54 L664.949 1142.54 L664.949 1148.42 L660.065 1148.42 L660.065 1142.54 Z\" fill=\"#000000\" fill-rule=\"nonzero\" fill-opacity=\"1\" /><path clip-path=\"url(#clip240)\" d=\"M685.713 1129.28 Q682.565 1129.28 680.713 1131.43 Q678.885 1133.58 678.885 1137.33 Q678.885 1141.06 680.713 1143.24 Q682.565 1145.39 685.713 1145.39 Q688.861 1145.39 690.69 1143.24 Q692.542 1141.06 692.542 1137.33 Q692.542 1133.58 690.69 1131.43 Q688.861 1129.28 685.713 1129.28 M694.996 1114.62 L694.996 1118.88 Q693.236 1118.05 691.431 1117.61 Q689.648 1117.17 687.889 1117.17 Q683.26 1117.17 680.806 1120.3 Q678.375 1123.42 678.028 1129.74 Q679.394 1127.73 681.454 1126.66 Q683.514 1125.57 685.991 1125.57 Q691.199 1125.57 694.209 1128.75 Q697.241 1131.89 697.241 1137.33 Q697.241 1142.66 694.093 1145.87 Q690.945 1149.09 685.713 1149.09 Q679.718 1149.09 676.547 1144.51 Q673.375 1139.9 673.375 1131.18 Q673.375 1122.98 677.264 1118.12 Q681.153 1113.24 687.704 1113.24 Q689.463 1113.24 691.246 1113.58 Q693.051 1113.93 694.996 1114.62 Z\" fill=\"#000000\" fill-rule=\"nonzero\" fill-opacity=\"1\" /><path clip-path=\"url(#clip240)\" d=\"M765.109 1116.94 Q761.497 1116.94 759.669 1120.5 Q757.863 1124.05 757.863 1131.18 Q757.863 1138.28 759.669 1141.85 Q761.497 1145.39 765.109 1145.39 Q768.743 1145.39 770.548 1141.85 Q772.377 1138.28 772.377 1131.18 Q772.377 1124.05 770.548 1120.5 Q768.743 1116.94 765.109 1116.94 M765.109 1113.24 Q770.919 1113.24 773.974 1117.84 Q777.053 1122.43 777.053 1131.18 Q777.053 1139.9 773.974 1144.51 Q770.919 1149.09 765.109 1149.09 Q759.298 1149.09 756.22 1144.51 Q753.164 1139.9 753.164 1131.18 Q753.164 1122.43 756.22 1117.84 Q759.298 1113.24 765.109 1113.24 Z\" fill=\"#000000\" fill-rule=\"nonzero\" fill-opacity=\"1\" /><path clip-path=\"url(#clip240)\" d=\"M785.271 1142.54 L790.155 1142.54 L790.155 1148.42 L785.271 1148.42 L785.271 1142.54 Z\" fill=\"#000000\" fill-rule=\"nonzero\" fill-opacity=\"1\" /><path clip-path=\"url(#clip240)\" d=\"M810.34 1132.01 Q807.007 1132.01 805.085 1133.79 Q803.187 1135.57 803.187 1138.7 Q803.187 1141.82 805.085 1143.61 Q807.007 1145.39 810.34 1145.39 Q813.673 1145.39 815.594 1143.61 Q817.516 1141.8 817.516 1138.7 Q817.516 1135.57 815.594 1133.79 Q813.696 1132.01 810.34 1132.01 M805.664 1130.02 Q802.655 1129.28 800.965 1127.22 Q799.298 1125.16 799.298 1122.19 Q799.298 1118.05 802.238 1115.64 Q805.201 1113.24 810.34 1113.24 Q815.502 1113.24 818.442 1115.64 Q821.381 1118.05 821.381 1122.19 Q821.381 1125.16 819.692 1127.22 Q818.025 1129.28 815.039 1130.02 Q818.418 1130.81 820.293 1133.1 Q822.192 1135.39 822.192 1138.7 Q822.192 1143.72 819.113 1146.41 Q816.057 1149.09 810.34 1149.09 Q804.622 1149.09 801.544 1146.41 Q798.488 1143.72 798.488 1138.7 Q798.488 1135.39 800.386 1133.1 Q802.284 1130.81 805.664 1130.02 M803.951 1122.63 Q803.951 1125.32 805.618 1126.82 Q807.307 1128.33 810.34 1128.33 Q813.349 1128.33 815.039 1126.82 Q816.752 1125.32 816.752 1122.63 Q816.752 1119.95 815.039 1118.44 Q813.349 1116.94 810.34 1116.94 Q807.307 1116.94 805.618 1118.44 Q803.951 1119.95 803.951 1122.63 Z\" fill=\"#000000\" fill-rule=\"nonzero\" fill-opacity=\"1\" /><path clip-path=\"url(#clip240)\" d=\"M879.909 1144.49 L887.548 1144.49 L887.548 1118.12 L879.238 1119.79 L879.238 1115.53 L887.501 1113.86 L892.177 1113.86 L892.177 1144.49 L899.816 1144.49 L899.816 1148.42 L879.909 1148.42 L879.909 1144.49 Z\" fill=\"#000000\" fill-rule=\"nonzero\" fill-opacity=\"1\" /><path clip-path=\"url(#clip240)\" d=\"M909.261 1142.54 L914.145 1142.54 L914.145 1148.42 L909.261 1148.42 L909.261 1142.54 Z\" fill=\"#000000\" fill-rule=\"nonzero\" fill-opacity=\"1\" /><path clip-path=\"url(#clip240)\" d=\"M934.33 1116.94 Q930.719 1116.94 928.89 1120.5 Q927.085 1124.05 927.085 1131.18 Q927.085 1138.28 928.89 1141.85 Q930.719 1145.39 934.33 1145.39 Q937.964 1145.39 939.77 1141.85 Q941.598 1138.28 941.598 1131.18 Q941.598 1124.05 939.77 1120.5 Q937.964 1116.94 934.33 1116.94 M934.33 1113.24 Q940.14 1113.24 943.196 1117.84 Q946.274 1122.43 946.274 1131.18 Q946.274 1139.9 943.196 1144.51 Q940.14 1149.09 934.33 1149.09 Q928.52 1149.09 925.441 1144.51 Q922.385 1139.9 922.385 1131.18 Q922.385 1122.43 925.441 1117.84 Q928.52 1113.24 934.33 1113.24 Z\" fill=\"#000000\" fill-rule=\"nonzero\" fill-opacity=\"1\" /><path clip-path=\"url(#clip240)\" d=\"M614.234 1191.64 Q614.234 1193.45 613.107 1194.48 Q611.98 1195.48 610.692 1195.48 Q609.468 1195.48 608.824 1194.77 Q608.18 1194.06 608.18 1193.16 Q608.18 1191.93 609.081 1190.87 Q609.983 1189.81 611.336 1189.58 Q610.015 1188.75 608.051 1188.75 Q606.763 1188.75 605.635 1189.42 Q604.54 1190.1 603.864 1190.97 Q603.22 1191.84 602.64 1193.09 Q602.093 1194.32 601.867 1195.06 Q601.674 1195.77 601.513 1196.54 L599.259 1205.56 Q598.164 1209.84 598.164 1211.35 Q598.164 1213.22 599.065 1214.48 Q599.967 1215.7 601.771 1215.7 Q602.479 1215.7 603.284 1215.51 Q604.089 1215.28 605.12 1214.7 Q606.183 1214.09 607.117 1213.19 Q608.083 1212.26 609.017 1210.68 Q609.951 1209.1 610.563 1207.07 Q610.756 1206.36 611.4 1206.36 Q612.205 1206.36 612.205 1207.01 Q612.205 1207.55 611.754 1208.71 Q611.336 1209.84 610.402 1211.32 Q609.5 1212.77 608.308 1214.09 Q607.117 1215.38 605.345 1216.28 Q603.574 1217.18 601.642 1217.18 Q598.872 1217.18 597.036 1215.7 Q595.201 1214.22 594.524 1212.16 Q594.363 1212.45 594.138 1212.84 Q593.912 1213.22 593.236 1214.09 Q592.592 1214.93 591.851 1215.57 Q591.111 1216.19 589.951 1216.67 Q588.824 1217.18 587.6 1217.18 Q586.054 1217.18 584.669 1216.73 Q583.317 1216.28 582.351 1215.25 Q581.384 1214.22 581.384 1212.8 Q581.384 1211.23 582.447 1210.13 Q583.542 1209 585.024 1209 Q585.958 1209 586.698 1209.55 Q587.471 1210.1 587.471 1211.29 Q587.471 1212.61 586.569 1213.61 Q585.668 1214.61 584.379 1214.87 Q585.7 1215.7 587.664 1215.7 Q589.79 1215.7 591.465 1213.83 Q593.139 1211.97 593.945 1208.84 Q595.941 1201.34 596.714 1197.99 Q597.487 1194.61 597.487 1193.16 Q597.487 1191.81 597.133 1190.87 Q596.779 1189.94 596.167 1189.52 Q595.587 1189.07 595.04 1188.91 Q594.524 1188.75 593.945 1188.75 Q592.978 1188.75 591.883 1189.13 Q590.821 1189.52 589.532 1190.42 Q588.276 1191.29 587.085 1193.09 Q585.893 1194.9 585.088 1197.38 Q584.927 1198.12 584.218 1198.12 Q583.446 1198.09 583.446 1197.44 Q583.446 1196.89 583.864 1195.77 Q584.315 1194.61 585.217 1193.16 Q586.151 1191.71 587.342 1190.42 Q588.566 1189.1 590.338 1188.2 Q592.141 1187.3 594.073 1187.3 Q594.943 1187.3 595.78 1187.49 Q596.65 1187.65 597.681 1188.13 Q598.743 1188.62 599.677 1189.68 Q600.611 1190.74 601.191 1192.29 Q601.577 1191.55 602.093 1190.84 Q602.64 1190.13 603.478 1189.26 Q604.347 1188.36 605.539 1187.84 Q606.763 1187.3 608.115 1187.3 Q609.436 1187.3 610.724 1187.65 Q612.012 1187.97 613.107 1189.04 Q614.234 1190.07 614.234 1191.64 Z\" fill=\"#000000\" fill-rule=\"nonzero\" fill-opacity=\"1\" /><polyline clip-path=\"url(#clip240)\" style=\"stroke:#000000; stroke-linecap:round; stroke-linejoin:round; stroke-width:4; stroke-opacity:1; fill:none\" points=\"287.366,1086.02 287.366,460.631 \"/>\n",
       "<polyline clip-path=\"url(#clip240)\" style=\"stroke:#000000; stroke-linecap:round; stroke-linejoin:round; stroke-width:4; stroke-opacity:1; fill:none\" points=\"287.366,1086.02 301.023,1086.02 \"/>\n",
       "<polyline clip-path=\"url(#clip240)\" style=\"stroke:#000000; stroke-linecap:round; stroke-linejoin:round; stroke-width:4; stroke-opacity:1; fill:none\" points=\"287.366,929.673 301.023,929.673 \"/>\n",
       "<polyline clip-path=\"url(#clip240)\" style=\"stroke:#000000; stroke-linecap:round; stroke-linejoin:round; stroke-width:4; stroke-opacity:1; fill:none\" points=\"287.366,773.326 301.023,773.326 \"/>\n",
       "<polyline clip-path=\"url(#clip240)\" style=\"stroke:#000000; stroke-linecap:round; stroke-linejoin:round; stroke-width:4; stroke-opacity:1; fill:none\" points=\"287.366,616.978 301.023,616.978 \"/>\n",
       "<polyline clip-path=\"url(#clip240)\" style=\"stroke:#000000; stroke-linecap:round; stroke-linejoin:round; stroke-width:4; stroke-opacity:1; fill:none\" points=\"287.366,460.631 301.023,460.631 \"/>\n",
       "<path clip-path=\"url(#clip240)\" d=\"M114.26 1086.47 L143.936 1086.47 L143.936 1090.41 L114.26 1090.41 L114.26 1086.47 Z\" fill=\"#000000\" fill-rule=\"nonzero\" fill-opacity=\"1\" /><path clip-path=\"url(#clip240)\" d=\"M164.028 1071.82 Q160.417 1071.82 158.589 1075.38 Q156.783 1078.93 156.783 1086.06 Q156.783 1093.16 158.589 1096.73 Q160.417 1100.27 164.028 1100.27 Q167.663 1100.27 169.468 1096.73 Q171.297 1093.16 171.297 1086.06 Q171.297 1078.93 169.468 1075.38 Q167.663 1071.82 164.028 1071.82 M164.028 1068.12 Q169.839 1068.12 172.894 1072.72 Q175.973 1077.31 175.973 1086.06 Q175.973 1094.78 172.894 1099.39 Q169.839 1103.97 164.028 1103.97 Q158.218 1103.97 155.14 1099.39 Q152.084 1094.78 152.084 1086.06 Q152.084 1077.31 155.14 1072.72 Q158.218 1068.12 164.028 1068.12 Z\" fill=\"#000000\" fill-rule=\"nonzero\" fill-opacity=\"1\" /><path clip-path=\"url(#clip240)\" d=\"M184.19 1097.42 L189.075 1097.42 L189.075 1103.3 L184.19 1103.3 L184.19 1097.42 Z\" fill=\"#000000\" fill-rule=\"nonzero\" fill-opacity=\"1\" /><path clip-path=\"url(#clip240)\" d=\"M199.306 1068.74 L217.662 1068.74 L217.662 1072.68 L203.588 1072.68 L203.588 1081.15 Q204.607 1080.8 205.625 1080.64 Q206.644 1080.45 207.662 1080.45 Q213.449 1080.45 216.829 1083.63 Q220.209 1086.8 220.209 1092.21 Q220.209 1097.79 216.736 1100.89 Q213.264 1103.97 206.945 1103.97 Q204.769 1103.97 202.5 1103.6 Q200.255 1103.23 197.848 1102.49 L197.848 1097.79 Q199.931 1098.93 202.153 1099.48 Q204.375 1100.04 206.852 1100.04 Q210.857 1100.04 213.195 1097.93 Q215.533 1095.82 215.533 1092.21 Q215.533 1088.6 213.195 1086.5 Q210.857 1084.39 206.852 1084.39 Q204.977 1084.39 203.102 1084.81 Q201.25 1085.22 199.306 1086.1 L199.306 1068.74 Z\" fill=\"#000000\" fill-rule=\"nonzero\" fill-opacity=\"1\" /><path clip-path=\"url(#clip240)\" d=\"M239.422 1071.82 Q235.81 1071.82 233.982 1075.38 Q232.176 1078.93 232.176 1086.06 Q232.176 1093.16 233.982 1096.73 Q235.81 1100.27 239.422 1100.27 Q243.056 1100.27 244.861 1096.73 Q246.69 1093.16 246.69 1086.06 Q246.69 1078.93 244.861 1075.38 Q243.056 1071.82 239.422 1071.82 M239.422 1068.12 Q245.232 1068.12 248.287 1072.72 Q251.366 1077.31 251.366 1086.06 Q251.366 1094.78 248.287 1099.39 Q245.232 1103.97 239.422 1103.97 Q233.611 1103.97 230.533 1099.39 Q227.477 1094.78 227.477 1086.06 Q227.477 1077.31 230.533 1072.72 Q233.611 1068.12 239.422 1068.12 Z\" fill=\"#000000\" fill-rule=\"nonzero\" fill-opacity=\"1\" /><path clip-path=\"url(#clip240)\" d=\"M115.256 930.125 L144.931 930.125 L144.931 934.06 L115.256 934.06 L115.256 930.125 Z\" fill=\"#000000\" fill-rule=\"nonzero\" fill-opacity=\"1\" /><path clip-path=\"url(#clip240)\" d=\"M165.024 915.472 Q161.413 915.472 159.584 919.037 Q157.778 922.579 157.778 929.708 Q157.778 936.815 159.584 940.379 Q161.413 943.921 165.024 943.921 Q168.658 943.921 170.464 940.379 Q172.292 936.815 172.292 929.708 Q172.292 922.579 170.464 919.037 Q168.658 915.472 165.024 915.472 M165.024 911.768 Q170.834 911.768 173.889 916.375 Q176.968 920.958 176.968 929.708 Q176.968 938.435 173.889 943.041 Q170.834 947.625 165.024 947.625 Q159.214 947.625 156.135 943.041 Q153.079 938.435 153.079 929.708 Q153.079 920.958 156.135 916.375 Q159.214 911.768 165.024 911.768 Z\" fill=\"#000000\" fill-rule=\"nonzero\" fill-opacity=\"1\" /><path clip-path=\"url(#clip240)\" d=\"M185.186 941.074 L190.07 941.074 L190.07 946.953 L185.186 946.953 L185.186 941.074 Z\" fill=\"#000000\" fill-rule=\"nonzero\" fill-opacity=\"1\" /><path clip-path=\"url(#clip240)\" d=\"M204.283 943.018 L220.602 943.018 L220.602 946.953 L198.658 946.953 L198.658 943.018 Q201.32 940.264 205.903 935.634 Q210.51 930.981 211.69 929.639 Q213.936 927.116 214.815 925.38 Q215.718 923.62 215.718 921.93 Q215.718 919.176 213.774 917.44 Q211.852 915.704 208.75 915.704 Q206.551 915.704 204.098 916.468 Q201.667 917.231 198.889 918.782 L198.889 914.06 Q201.713 912.926 204.167 912.347 Q206.621 911.768 208.658 911.768 Q214.028 911.768 217.223 914.454 Q220.417 917.139 220.417 921.63 Q220.417 923.759 219.607 925.68 Q218.82 927.579 216.713 930.171 Q216.135 930.842 213.033 934.06 Q209.931 937.254 204.283 943.018 Z\" fill=\"#000000\" fill-rule=\"nonzero\" fill-opacity=\"1\" /><path clip-path=\"url(#clip240)\" d=\"M230.463 912.393 L248.82 912.393 L248.82 916.329 L234.746 916.329 L234.746 924.801 Q235.764 924.454 236.783 924.292 Q237.801 924.106 238.82 924.106 Q244.607 924.106 247.986 927.278 Q251.366 930.449 251.366 935.866 Q251.366 941.444 247.894 944.546 Q244.421 947.625 238.102 947.625 Q235.926 947.625 233.658 947.254 Q231.412 946.884 229.005 946.143 L229.005 941.444 Q231.088 942.579 233.31 943.134 Q235.533 943.69 238.009 943.69 Q242.014 943.69 244.352 941.583 Q246.69 939.477 246.69 935.866 Q246.69 932.254 244.352 930.148 Q242.014 928.042 238.009 928.042 Q236.135 928.042 234.26 928.458 Q232.408 928.875 230.463 929.755 L230.463 912.393 Z\" fill=\"#000000\" fill-rule=\"nonzero\" fill-opacity=\"1\" /><path clip-path=\"url(#clip240)\" d=\"M164.028 759.125 Q160.417 759.125 158.589 762.689 Q156.783 766.231 156.783 773.361 Q156.783 780.467 158.589 784.032 Q160.417 787.574 164.028 787.574 Q167.663 787.574 169.468 784.032 Q171.297 780.467 171.297 773.361 Q171.297 766.231 169.468 762.689 Q167.663 759.125 164.028 759.125 M164.028 755.421 Q169.839 755.421 172.894 760.027 Q175.973 764.611 175.973 773.361 Q175.973 782.088 172.894 786.694 Q169.839 791.277 164.028 791.277 Q158.218 791.277 155.14 786.694 Q152.084 782.088 152.084 773.361 Q152.084 764.611 155.14 760.027 Q158.218 755.421 164.028 755.421 Z\" fill=\"#000000\" fill-rule=\"nonzero\" fill-opacity=\"1\" /><path clip-path=\"url(#clip240)\" d=\"M184.19 784.726 L189.075 784.726 L189.075 790.606 L184.19 790.606 L184.19 784.726 Z\" fill=\"#000000\" fill-rule=\"nonzero\" fill-opacity=\"1\" /><path clip-path=\"url(#clip240)\" d=\"M209.26 759.125 Q205.649 759.125 203.82 762.689 Q202.014 766.231 202.014 773.361 Q202.014 780.467 203.82 784.032 Q205.649 787.574 209.26 787.574 Q212.894 787.574 214.699 784.032 Q216.528 780.467 216.528 773.361 Q216.528 766.231 214.699 762.689 Q212.894 759.125 209.26 759.125 M209.26 755.421 Q215.07 755.421 218.125 760.027 Q221.204 764.611 221.204 773.361 Q221.204 782.088 218.125 786.694 Q215.07 791.277 209.26 791.277 Q203.449 791.277 200.371 786.694 Q197.315 782.088 197.315 773.361 Q197.315 764.611 200.371 760.027 Q203.449 755.421 209.26 755.421 Z\" fill=\"#000000\" fill-rule=\"nonzero\" fill-opacity=\"1\" /><path clip-path=\"url(#clip240)\" d=\"M239.422 759.125 Q235.81 759.125 233.982 762.689 Q232.176 766.231 232.176 773.361 Q232.176 780.467 233.982 784.032 Q235.81 787.574 239.422 787.574 Q243.056 787.574 244.861 784.032 Q246.69 780.467 246.69 773.361 Q246.69 766.231 244.861 762.689 Q243.056 759.125 239.422 759.125 M239.422 755.421 Q245.232 755.421 248.287 760.027 Q251.366 764.611 251.366 773.361 Q251.366 782.088 248.287 786.694 Q245.232 791.277 239.422 791.277 Q233.611 791.277 230.533 786.694 Q227.477 782.088 227.477 773.361 Q227.477 764.611 230.533 760.027 Q233.611 755.421 239.422 755.421 Z\" fill=\"#000000\" fill-rule=\"nonzero\" fill-opacity=\"1\" /><path clip-path=\"url(#clip240)\" d=\"M165.024 602.777 Q161.413 602.777 159.584 606.342 Q157.778 609.884 157.778 617.013 Q157.778 624.12 159.584 627.684 Q161.413 631.226 165.024 631.226 Q168.658 631.226 170.464 627.684 Q172.292 624.12 172.292 617.013 Q172.292 609.884 170.464 606.342 Q168.658 602.777 165.024 602.777 M165.024 599.073 Q170.834 599.073 173.889 603.68 Q176.968 608.263 176.968 617.013 Q176.968 625.74 173.889 630.346 Q170.834 634.93 165.024 634.93 Q159.214 634.93 156.135 630.346 Q153.079 625.74 153.079 617.013 Q153.079 608.263 156.135 603.68 Q159.214 599.073 165.024 599.073 Z\" fill=\"#000000\" fill-rule=\"nonzero\" fill-opacity=\"1\" /><path clip-path=\"url(#clip240)\" d=\"M185.186 628.379 L190.07 628.379 L190.07 634.258 L185.186 634.258 L185.186 628.379 Z\" fill=\"#000000\" fill-rule=\"nonzero\" fill-opacity=\"1\" /><path clip-path=\"url(#clip240)\" d=\"M204.283 630.323 L220.602 630.323 L220.602 634.258 L198.658 634.258 L198.658 630.323 Q201.32 627.569 205.903 622.939 Q210.51 618.286 211.69 616.944 Q213.936 614.421 214.815 612.685 Q215.718 610.925 215.718 609.235 Q215.718 606.481 213.774 604.745 Q211.852 603.009 208.75 603.009 Q206.551 603.009 204.098 603.773 Q201.667 604.536 198.889 606.087 L198.889 601.365 Q201.713 600.231 204.167 599.652 Q206.621 599.073 208.658 599.073 Q214.028 599.073 217.223 601.759 Q220.417 604.444 220.417 608.935 Q220.417 611.064 219.607 612.985 Q218.82 614.884 216.713 617.476 Q216.135 618.147 213.033 621.365 Q209.931 624.559 204.283 630.323 Z\" fill=\"#000000\" fill-rule=\"nonzero\" fill-opacity=\"1\" /><path clip-path=\"url(#clip240)\" d=\"M230.463 599.698 L248.82 599.698 L248.82 603.634 L234.746 603.634 L234.746 612.106 Q235.764 611.759 236.783 611.597 Q237.801 611.411 238.82 611.411 Q244.607 611.411 247.986 614.583 Q251.366 617.754 251.366 623.171 Q251.366 628.749 247.894 631.851 Q244.421 634.93 238.102 634.93 Q235.926 634.93 233.658 634.559 Q231.412 634.189 229.005 633.448 L229.005 628.749 Q231.088 629.884 233.31 630.439 Q235.533 630.995 238.009 630.995 Q242.014 630.995 244.352 628.888 Q246.69 626.782 246.69 623.171 Q246.69 619.559 244.352 617.453 Q242.014 615.347 238.009 615.347 Q236.135 615.347 234.26 615.763 Q232.408 616.18 230.463 617.06 L230.463 599.698 Z\" fill=\"#000000\" fill-rule=\"nonzero\" fill-opacity=\"1\" /><path clip-path=\"url(#clip240)\" d=\"M164.028 446.43 Q160.417 446.43 158.589 449.994 Q156.783 453.536 156.783 460.666 Q156.783 467.772 158.589 471.337 Q160.417 474.879 164.028 474.879 Q167.663 474.879 169.468 471.337 Q171.297 467.772 171.297 460.666 Q171.297 453.536 169.468 449.994 Q167.663 446.43 164.028 446.43 M164.028 442.726 Q169.839 442.726 172.894 447.332 Q175.973 451.916 175.973 460.666 Q175.973 469.393 172.894 473.999 Q169.839 478.582 164.028 478.582 Q158.218 478.582 155.14 473.999 Q152.084 469.393 152.084 460.666 Q152.084 451.916 155.14 447.332 Q158.218 442.726 164.028 442.726 Z\" fill=\"#000000\" fill-rule=\"nonzero\" fill-opacity=\"1\" /><path clip-path=\"url(#clip240)\" d=\"M184.19 472.031 L189.075 472.031 L189.075 477.911 L184.19 477.911 L184.19 472.031 Z\" fill=\"#000000\" fill-rule=\"nonzero\" fill-opacity=\"1\" /><path clip-path=\"url(#clip240)\" d=\"M199.306 443.351 L217.662 443.351 L217.662 447.286 L203.588 447.286 L203.588 455.758 Q204.607 455.411 205.625 455.249 Q206.644 455.064 207.662 455.064 Q213.449 455.064 216.829 458.235 Q220.209 461.406 220.209 466.823 Q220.209 472.402 216.736 475.504 Q213.264 478.582 206.945 478.582 Q204.769 478.582 202.5 478.212 Q200.255 477.842 197.848 477.101 L197.848 472.402 Q199.931 473.536 202.153 474.092 Q204.375 474.647 206.852 474.647 Q210.857 474.647 213.195 472.541 Q215.533 470.434 215.533 466.823 Q215.533 463.212 213.195 461.106 Q210.857 458.999 206.852 458.999 Q204.977 458.999 203.102 459.416 Q201.25 459.832 199.306 460.712 L199.306 443.351 Z\" fill=\"#000000\" fill-rule=\"nonzero\" fill-opacity=\"1\" /><path clip-path=\"url(#clip240)\" d=\"M239.422 446.43 Q235.81 446.43 233.982 449.994 Q232.176 453.536 232.176 460.666 Q232.176 467.772 233.982 471.337 Q235.81 474.879 239.422 474.879 Q243.056 474.879 244.861 471.337 Q246.69 467.772 246.69 460.666 Q246.69 453.536 244.861 449.994 Q243.056 446.43 239.422 446.43 M239.422 442.726 Q245.232 442.726 248.287 447.332 Q251.366 451.916 251.366 460.666 Q251.366 469.393 248.287 473.999 Q245.232 478.582 239.422 478.582 Q233.611 478.582 230.533 473.999 Q227.477 469.393 227.477 460.666 Q227.477 451.916 230.533 447.332 Q233.611 442.726 239.422 442.726 Z\" fill=\"#000000\" fill-rule=\"nonzero\" fill-opacity=\"1\" /><path clip-path=\"url(#clip240)\" d=\"M30.8561 758.889 Q31.307 758.889 32.3698 759.178 L57.5548 765.491 Q63.1586 766.876 67.0877 771.384 Q71.0168 775.861 71.0168 780.95 Q71.0168 784.009 69.3743 785.974 Q67.764 787.938 65.2842 787.938 Q63.0942 787.938 62.0314 786.779 Q61.0008 785.619 61.0008 784.235 Q61.0008 783.784 61.1296 783.301 Q61.2584 782.817 61.8059 782.302 Q62.3534 781.787 63.2874 781.787 Q64.8011 781.787 65.9927 783.107 Q66.5402 783.751 66.669 784.363 Q66.7978 784.943 66.7978 785.941 Q67.6996 785.555 68.3115 784.846 Q68.9234 784.138 69.1489 783.333 Q69.4065 782.528 69.4709 782.012 Q69.5675 781.465 69.5675 780.95 Q69.5675 776.827 65.413 773.671 Q64.157 772.737 62.9009 772.061 Q61.6771 771.352 60.1634 770.837 Q58.682 770.322 57.8768 770.096 Q57.0717 769.839 55.2359 769.388 Q58.2311 772.383 58.2311 776.054 Q58.2311 777.6 57.8124 778.985 Q57.3937 780.338 56.5242 781.529 Q55.6224 782.721 54.0443 783.429 Q52.4662 784.106 50.3728 784.106 Q48.1506 784.106 45.1233 783.236 Q42.0959 782.367 36.5243 780.273 Q33.4004 779.146 31.8867 779.146 Q31.146 779.146 30.6951 779.307 Q30.212 779.468 30.051 779.79 Q29.8577 780.112 29.8255 780.305 Q29.7933 780.466 29.7933 780.789 Q29.7933 782.689 31.7257 784.46 Q33.658 786.231 37.9736 787.455 Q38.7787 787.713 38.972 787.874 Q39.1652 788.035 39.1652 788.518 Q39.133 789.323 38.4889 789.323 Q38.2312 789.323 37.2329 789.033 Q36.2023 788.743 34.6886 788.067 Q33.1427 787.359 31.7579 786.392 Q30.3408 785.426 29.3424 783.912 Q28.344 782.367 28.344 780.595 Q28.344 778.18 29.9221 776.698 Q31.468 775.185 33.7546 775.185 Q34.6886 775.185 35.5259 775.442 Q36.3311 775.668 38.4889 776.505 Q47.1845 779.887 51.4356 779.887 Q52.4662 779.887 53.3358 779.726 Q54.1731 779.532 55.0105 779.114 Q55.8156 778.695 56.2987 777.858 Q56.7496 776.988 56.7496 775.797 Q56.7496 774.283 56.0411 772.866 Q55.3003 771.417 54.302 770.515 Q53.3036 769.581 52.4662 769.033 Q51.5967 768.454 51.1458 768.325 L39.294 765.362 L34.0123 764.041 Q31.146 763.43 30.4374 763.14 Q29.7611 762.753 29.4068 762.077 Q29.0526 761.401 29.0526 760.821 Q29.0526 760.016 29.5357 759.468 Q30.0187 758.889 30.8561 758.889 Z\" fill=\"#000000\" fill-rule=\"nonzero\" fill-opacity=\"1\" /><path clip-path=\"url(#clip240)\" d=\"M582.662 20.1573 L571.563 50.2555 L593.802 50.2555 L582.662 20.1573 M578.044 12.096 L587.321 12.096 L610.37 72.576 L601.864 72.576 L596.354 57.061 L569.092 57.061 L563.583 72.576 L554.954 72.576 L578.044 12.096 Z\" fill=\"#000000\" fill-rule=\"nonzero\" fill-opacity=\"1\" /><path clip-path=\"url(#clip240)\" d=\"M645.168 34.1734 Q643.912 33.4443 642.413 33.1202 Q640.955 32.7556 639.172 32.7556 Q632.853 32.7556 629.45 36.8875 Q626.088 40.9789 626.088 48.6757 L626.088 72.576 L618.594 72.576 L618.594 27.2059 L626.088 27.2059 L626.088 34.2544 Q628.437 30.1225 632.205 28.1376 Q635.972 26.1121 641.36 26.1121 Q642.13 26.1121 643.061 26.2337 Q643.993 26.3147 645.127 26.5172 L645.168 34.1734 Z\" fill=\"#000000\" fill-rule=\"nonzero\" fill-opacity=\"1\" /><g clip-path=\"url(#clip242)\">\n",
       "<image width=\"630\" height=\"630\" xlink:href=\"data:image/png;base64,\n",
       "iVBORw0KGgoAAAANSUhEUgAAAnYAAAJ2CAYAAADSVM/5AAASZElEQVR4nO3dW49k11mA4arqHo/t\n",
       "iZPYKBCIEq6iIIV/kB+Sfx24BgmhoCAgMsIYH2bcVZuLiIuu9Q2z1TN2e955nrtZ2nXq9uGd0vr2\n",
       "Ov762W+3AwAAb73TY78BAADeDGEHABAh7AAAIoQdAECEsAMAiBB2AAARwg4AIELYAQBECDsAgAhh\n",
       "BwAQIewAACKEHQBAhLADAIgQdgAAEcIOACBC2AEARAg7AIAIYQcAECHsAAAihB0AQISwAwCIEHYA\n",
       "ABHCDgAgQtgBAEQIOwCACGEHABAh7AAAIoQdAECEsAMAiBB2AAARwg4AIELYAQBECDsAgAhhBwAQ\n",
       "IewAACKEHQBAhLADAIgQdgAAEcIOACBC2AEARAg7AIAIYQcAECHsAAAihB0AQISwAwCIEHYAABHC\n",
       "DgAgQtgBAEQIOwCACGEHABAh7AAAIoQdAECEsAMAiBB2AAARwg4AIELYAQBECDsAgAhhBwAQIewA\n",
       "ACKEHQBAhLADAIgQdgAAEcIOACBC2AEARAg7AIAIYQcAECHsAAAihB0AQISwAwCIEHYAABHCDgAg\n",
       "QtgBAEQIOwCACGEHABAh7AAAIoQdAECEsAMAiBB2AAARwg4AIELYAQBECDsAgAhhBwAQIewAACKE\n",
       "HQBAhLADAIgQdgAAEcIOACBC2AEARAg7AIAIYQcAECHsAAAihB0AQISwAwCIEHYAABHCDgAgQtgB\n",
       "AEQIOwCACGEHABAh7AAAIoQdAECEsAMAiBB2AAARwg4AIELYAQBECDsAgAhhBwAQIewAACKEHQBA\n",
       "hLADAIgQdgAAEcIOACBC2AEARAg7AIAIYQcAECHsAAAihB0AQISwAwCIEHYAABHCDgAgQtgBAEQI\n",
       "OwCACGEHABAh7AAAIoQdAECEsAMAiBB2AAARwg4AIELYAQBECDsAgAhhBwAQIewAACKEHQBAhLAD\n",
       "AIgQdgAAEcIOACBC2AEARAg7AIAIYQcAECHsAAAihB0AQISwAwCIEHYAABHCDgAgQtgBAEQIOwCA\n",
       "CGEHABAh7AAAIoQdAECEsAMAiBB2AAARwg4AIELYAQBECDsAgAhhBwAQIewAACKEHQBAhLADAIgQ\n",
       "dgAAEcIOACBC2AEARAg7AIAIYQcAECHsAAAihB0AQISwAwCIEHYAABHCDgAgQtgBAEQIOwCACGEH\n",
       "ABAh7AAAIoQdAECEsAMAiBB2AAARwg4AIELYAQBECDsAgAhhBwAQIewAACKEHQBAhLADAIgQdgAA\n",
       "EcIOACBC2AEARAg7AIAIYQcAECHsAAAihB0AQISwAwCIEHYAABHCDgAgQtgBAEQIOwCACGEHABAh\n",
       "7AAAIoQdAECEsAMAiBB2AAARwg4AIELYAQBECDsAgAhhBwAQIewAACKEHQBAhLADAIgQdgAAEcIO\n",
       "ACBC2AEARAg7AIAIYQcAECHsAAAihB0AQISwAwCIEHYAABHCDgAgQtgBAEQIOwCACGEHABAh7AAA\n",
       "IoQdAECEsAMAiBB2AAARwg4AIELYAQBECDsAgAhhBwAQIewAACKEHQBAhLADAIgQdgAAEcIOACBC\n",
       "2AEARAg7AIAIYQcAECHsAAAihB0AQISwAwCIEHYAABHCDgAgQtgBAEQIOwCACGEHABAh7AAAIoQd\n",
       "AECEsAMAiBB2AAARwg4AIELYAQBECDsAgAhhBwAQIewAACKEHQBAhLADAIgQdgAAEcIOACBC2AEA\n",
       "RAg7AIAIYQcAECHsAAAihB0AQISwAwCIEHYAABHCDgAgQtgBAEQIOwCACGEHABAh7AAAIoQdAECE\n",
       "sAMAiBB2AAARwg4AIELYAQBECDsAgIjbx34DAPz/jq9x5fFq7bhNj3r1416+tn4/cNr72O3qva1v\n",
       "bXzcXsNHHVen67bhB3W5unIbn+syrE3X7VwbPv503ez6/fIu8I0dAECEsAMAiBB2AAARwg4AIMLw\n",
       "BMAjeZ2hiPmq9brTMqCwb9jhNFx3s02PHa4b14bXON5f2z10sazMpiGDdbRhHYo4HA6HyzY99v6j\n",
       "z+Pzr69wPq5r42tOgxfD+xgHNMYhi/uOO8cnDFm83XxjBwAQIewAACKEHQBAhLADAIgwPAHwSPZv\n",
       "Un/YSQOHw+FwPl7vql833u893WH/IMNDhyAefsrEfvtOnpjeyjqM8fBTLCYPPVHi9a6ixjd2AAAR\n",
       "wg4AIELYAQBECDsAgAjDEwCPZudG/vGR+04kuFydejCdbnA53C1r52ntOF33Ylm7275ZX2NYu36N\n",
       "bVuf/7JNZ0Xs/SlNp13cDGvr/wqntZvDk/t/Pj555TV/Wpuea3jNw/DeprXhBJB5OOV67XXGVb6L\n",
       "wRbeBN/YAQBECDsAgAhhBwAQIewAACIMTwC81Ld77/752XeeZjAOSpyXtesBhbvDOsRwd3i+rH2z\n",
       "TWtfrWuXL9e183rd+bKuXa5eYxsGLA7b+pn2ntAwnqgxDkq8t66dni5rN6f37/359vTBcs2Tae34\n",
       "/rJ2O60d1vdxOw1jTJ9hW4csjlff3Uzf5Gy7Byqmn7mBiu8j39gBAEQIOwCACGEHABBhjx3ASz10\n",
       "D9Hr7M2b9jxN++6G66Yb117dkPc0PNfN9PzjRx8+12l6v+t+r/Np3St2vty/ufF0E+Nt2GN3GPYX\n",
       "zr+r9ecx36B4fW+n07Df7Wrf3e1x3Ye3e23njYynGxRf753709rr3Hx4D/vp3ha+sQMAiBB2AAAR\n",
       "wg4AIELYAQBEGJ4AeOP2bTSf/2a977E3w3WnYeLhtF3fpHZ91Zvh5rY3w3W3w9qTYRjh9mZ9H+Pz\n",
       "XV12Og7vf1jbu41/upHxZZj/OG/r4rR2d7V2Nwxx3F2GteG687Q23GD6Mn2G4bHTZ92O2yuv2XtD\n",
       "bN4evrEDAIgQdgAAEcIOACBC2AEARBieAN458+b7N3dn/b3PPw07TKcKTAMP723rf77fH05QeHa6\n",
       "f91Ht+uww8frIQuHT56uW+j//P31ZIiffvDlsvYXP/h8Wfuzj/57Wfvhj+6vffij9XFPnn21rN28\n",
       "d7esTTv+756vH+zF/3y4rH3x2UfL2mef/XBZ+/Tz+2v/8eUPlmv++PX7u9Y+fbH+7j97sSwdPr9b\n",
       "ByW+PK+f/+ttXXtxtXY3DmcMa8dpoMLgxdvCN3YAABHCDgAgQtgBAEQIOwCACMMTAIfvYKBiOhVi\n",
       "56DEdDLEe8N/vq8HJQ6Hw+HHT+4/9ifrPv7DX36wbrz/+bN1KOKvf/yfy9ovfvaHZe2TX/5+WXv6\n",
       "qy+WtfMv/+ben5//4jfLNTcf/+36XE9/sqxt2zpk8PXX/7qs3f7x75a1j//575e1n//j79bn+4f7\n",
       "r/vpP/1sueYP//7TZe33//XJsvYvX6xDHP92s/7+njwf/nl4sV43zEUskwy7ByCGn+X0r8L0bEcD\n",
       "FY/ON3YAABHCDgAgQtgBAEQIOwCAiOOvn/3WvkbgneLkifucPPFtnzyx/l6+k5MnDk6eeBf5xg4A\n",
       "IELYAQBECDsAgAhhBwAQ4eQJ4J0zb/B+c9u+9z7/MDtxOByGu/4PvjmugwxfbV8va59d7v/9/fRi\n",
       "OMng+TpQcfP5et3t8F3Ak+M6jHB7fLY+3+Gvhuvu//l0HAZMhrW9Yy7Thv/L8Ms5b+vitHZ3tXY3\n",
       "/K7utnUY4e6w/q7Ow2PP43DD8BmGx27TwMPVmgGId4Nv7AAAIoQdAECEsAMAiBB2AAARhicA3rh9\n",
       "28/nMYl9G9ynTfXb8dUb8s+H9YSC87C5/+6wHoNwNwxnfLM9X687r9edh+vOl/uvcdnW97ENwwjz\n",
       "T24aqRhO8TiugyKn4cSO02k9teL29PT+n49PX3nNS687rM9/c1jfx83wv+nTYfgM2/pZj1c/k+s/\n",
       "/9/qq1devsr3j2/sAAAihB0AQISwAwCIEHYAABGGJwBe6jHuwb/3JIB9wxPb4f7wwWUcnpgGJdZh\n",
       "h2+m4YnLl+va+av1NS7r2uXqNbZheOIwDE/MJyispmGB83EYRjiugwynbR14uB7uuJyG93ba+c/M\n",
       "cKLGPMiwb23bMRjxeuMP0+cyUPF95Bs7AIAIYQcAECHsAAAi7LEDeKlvdw/RcdxPt/eGscPNd8dt\n",
       "UNf7rNab2043wZ1uqvve8cNl7Xz6aFm7u1n3yk03H76+WfK2rfv/Ltt0M+K9ex/Xn9x8g+Jp3926\n",
       "dn0D4ZvhxsZ7bzK8+8bDD7wZ8by295+tif10bwvf2AEARAg7AIAIYQcAECHsAAAiDE8APJqHb2af\n",
       "N8sPf1ffXv2M03ON1w3PNT9y7412rxeGZ3vje/Z33gB6WFxujLzte67tuG/YY++Nl/cOjzzG7bV5\n",
       "fL6xAwCIEHYAABHCDgAgQtgBAEQYngB4JG/6rv/TgMJpuz55YjixYnrccN3NcOLBeN24Np0CcX9t\n",
       "eh+7hi5eYhpGmM6xuEzXDYMRl6tHn8fnX1/hPKyNrzlcN32Gbbpu/KFcP9bQxbvAN3YAABHCDgAg\n",
       "QtgBAEQIOwCACMMTAI9k7yb142tser9cbao/bufhcevO+3EIYDgZYu8wxjgEsQx2rPaeijGZf2oP\n",
       "Py3ieuBh92DDeN3OteHjP/SECkMR7wbf2AEARAg7AIAIYQcAECHsAAAiDE8AfM/t3/S+Y0P+w2cR\n",
       "3rzv03uBCN/YAQBECDsAgAhhBwAQIewAACKEHQBAhLADAIgQdgAAEcIOACBC2AEARAg7AIAIYQcA\n",
       "ECHsAAAihB0AQISwAwCIEHYAABHCDgAgQtgBAEQIOwCACGEHABAh7AAAIoQdAECEsAMAiBB2AAAR\n",
       "wg4AIELYAQBECDsAgAhhBwAQIewAACKEHQBAhLADAIgQdgAAEcIOACBC2AEARAg7AIAIYQcAECHs\n",
       "AAAihB0AQISwAwCIEHYAABHCDgAgQtgBAEQIOwCACGEHABAh7AAAIoQdAECEsAMAiBB2AAARwg4A\n",
       "IELYAQBECDsAgAhhBwAQIewAACKEHQBAhLADAIgQdgAAEcIOACBC2AEARAg7AIAIYQcAECHsAAAi\n",
       "hB0AQISwAwCIEHYAABHCDgAgQtgBAEQIOwCACGEHABAh7AAAIoQdAECEsAMAiBB2AAARwg4AIELY\n",
       "AQBECDsAgAhhBwAQIewAACKEHQBAhLADAIgQdgAAEcIOACBC2AEARAg7AIAIYQcAECHsAAAihB0A\n",
       "QISwAwCIEHYAABHCDgAgQtgBAEQIOwCACGEHABAh7AAAIoQdAECEsAMAiBB2AAARwg4AIELYAQBE\n",
       "CDsAgAhhBwAQIewAACKEHQBAhLADAIgQdgAAEcIOACBC2AEARAg7AIAIYQcAECHsAAAihB0AQISw\n",
       "AwCIEHYAABHCDgAgQtgBAEQIOwCACGEHABAh7AAAIoQdAECEsAMAiBB2AAARwg4AIELYAQBECDsA\n",
       "gAhhBwAQIewAACKEHQBAhLADAIgQdgAAEcIOACBC2AEARAg7AIAIYQcAECHsAAAihB0AQISwAwCI\n",
       "EHYAABHCDgAgQtgBAEQIOwCACGEHABAh7AAAIoQdAECEsAMAiBB2AAARwg4AIELYAQBECDsAgAhh\n",
       "BwAQIewAACKEHQBAhLADAIgQdgAAEcIOACBC2AEARAg7AIAIYQcAECHsAAAihB0AQISwAwCIEHYA\n",
       "ABHCDgAgQtgBAEQIOwCACGEHABAh7AAAIoQdAECEsAMAiBB2AAARwg4AIELYAQBECDsAgAhhBwAQ\n",
       "IewAACKEHQBAhLADAIgQdgAAEcIOACBC2AEARAg7AIAIYQcAECHsAAAihB0AQISwAwCIEHYAABHC\n",
       "DgAgQtgBAEQIOwCACGEHABAh7AAAIoQdAECEsAMAiBB2AAARwg4AIELYAQBECDsAgAhhBwAQIewA\n",
       "ACKEHQBAhLADAIgQdgAAEcIOACBC2AEARAg7AIAIYQcAECHsAAAihB0AQISwAwCIEHYAABHCDgAg\n",
       "QtgBAEQIOwCACGEHABAh7AAAIoQdAECEsAMAiBB2AAARwg4AIELYAQBECDsAgAhhBwAQIewAACKE\n",
       "HQBAhLADAIgQdgAAEcIOACBC2AEARAg7AIAIYQcAECHsAAAihB0AQISwAwCIEHYAABHCDgAgQtgB\n",
       "AEQIOwCACGEHABAh7AAAIoQdAECEsAMAiBB2AAARwg4AIELYAQBECDsAgAhhBwAQIewAACKEHQBA\n",
       "hLADAIgQdgAAEcIOACBC2AEARAg7AIAIYQcAECHsAAAihB0AQISwAwCIEHYAABHCDgAgQtgBAEQI\n",
       "OwCACGEHABAh7AAAIoQdAECEsAMAiBB2AAARwg4AIELYAQBECDsAgAhhBwAQIewAACKEHQBAhLAD\n",
       "AIgQdgAAEcIOACDifwFmnGDwzbvXOAAAAABJRU5ErkJggg==\n",
       "\" transform=\"translate(285, 458)\"/>\n",
       "</g>\n",
       "<defs>\n",
       "  <clipPath id=\"clip243\">\n",
       "    <rect x=\"960\" y=\"460\" width=\"73\" height=\"626\"/>\n",
       "  </clipPath>\n",
       "</defs>\n",
       "<g clip-path=\"url(#clip243)\">\n",
       "<image width=\"72\" height=\"625\" xlink:href=\"data:image/png;base64,\n",
       "iVBORw0KGgoAAAANSUhEUgAAAEgAAAJxCAYAAADhB/QLAAAGI0lEQVR4nO3dwY3rRhBAwZHR+Ufh\n",
       "LO0/4wjc7ygdqiIQGo/NIaXFfv69f7/D//rr2x/g1xlQmPv+/fZn+GkKCvPen29/hp+moGBAwZIO\n",
       "CgrzFLRSUDCgMO+6xDYKCpZ0UFAwoOASCwoKbvNBQWGOHbRSUDCg4DYfFBTmuM2vFBQMKMy5/3z7\n",
       "M/w0BQUn6aCgYEDBOSgoKCgoKCgYUHAOCgoK87GkVwoKc66fAW8UFAwoWNJBQcGSDgoKBhS87ggK\n",
       "CvOxpFcKCgYUvDALCgqWdFBQMKDgYTUoKFjSQUHBDgoKCgYULOmgoDDn3m9/hp+moGBAwZIOCgpO\n",
       "0kFBwYCCSywoKMzHSXqloGBAwZIOCgpedwQFBbf5oKBgQMFtPigouM0HBQUDCi6xoKDge7GgoGBA\n",
       "wZIOCgoKCgoKCgoKCgYUXGJBQWHOU9BGQcGAgiUdFBQUFBQUDCi4xIKCwpz7vv0ZfpqCggEFSzoo\n",
       "KFjSQUHBDgoKCgYULOmgoDDHjl4pKBhQmPMs6Y2CgiUdFBQMKLjEgoLC+HnQTkHBgIIlHRQUFBQU\n",
       "FObcz7c/w09TUDCgMO+5xDYKCm7zQUHBgIJzUFBQmHfNaGM6wYCCJR0UFOZ4FlspKBhQmGdJrxQU\n",
       "5jhJr0wn2EFBQcGAgpN0UFDwwiyYTjCg4IVZUFBwkg4KCgYU5j0z2phOcJsPCgpu80FBwYDCHLf5\n",
       "lekESzooKBhQcIkFBQXfiwUFBQMKvjgMphP8SWZQUDCg4CQdFBT8DDiYTnCbDwoKBhTc5oOCgiUd\n",
       "FBQMKHhhFkwnWNJBQcGAgpN0UFCwpIOCggEFv7QPCgr+2ieYTnCbDwoKBhQ8iwUFBUs6KCgYUJjr\n",
       "ElspKPheLJhOMKDgHBQUFBQUFBQMKHjdERQULOmgoKCgoKBgQMFXz8F0wlwHxZWCggEF56CgoKCg\n",
       "oKBgQMElFhQU/HghKCjYQUFBwYCCSywoKHjlGkwnGFDwTjooKLjNBwUFAwousaCg4IVZUFAwoGBJ\n",
       "BwWFeUdBGwUFt/mgoGBAwW0+KChY0kFBwYCCJR0UFCzpoKBgQMGSDgoKCgoKCgYU5nonvVJQsKSD\n",
       "goJnsaCgYEBh3vv2R/htCgqWdFBQMKDg90FBQcGSDgoKBhS87ggKCl65BgUFAwpedwQFBSfpoKDg\n",
       "oBgUFAwoOEkHBQW3+aCgYEDBs1hQUHCbDwoKBhQ8rAYFhbnf/gQ/TkHBgIIlHRQUvO4ICgpu80FB\n",
       "wYCC23xQULCkg4KCAQVLOigoeBYLCgoGFMY3zzsFBUs6KCh4FgsKCgYUPIsFBQVLOigoGFCwpIOC\n",
       "wlyP8ysFBQMKzkFBQcFtPigoGFCwpIOCgj/JDAoK/iQzKCgYUPC6Iygo+PlLUFAwoOD3QUFBwbNY\n",
       "UFAwoOCFWVBQ8K1GUFAwoGBJBwUFL8yCgoIXZkFBwYCCJR0UFLwwCwoKBhT8uiMoKLjNBwUFAwoe\n",
       "VoOCgiUdFBQMKFjSQUHBkg4KCgoKCgoGFNzmg4KCJR0UFAwoWNJBQcGSDgoKBhT8uiMoKPgheVBQ\n",
       "cJsPCgoGFOYd19hGQcGSDgoKBhQ8iwUFBc9iQUHBgIJzUFBQ8CwWFBQMKFjSQUHBjxeCgsJcj/Mr\n",
       "BQUDCl53BAWFeZb0SkHBgIIlHRQUnKSDgoIBBa87goLCXN9qrBQUDCg4BwUFBV89BwUFT/NBQcGA\n",
       "gpN0UFBwmw8KCgYU5h4noY2Cgtt8UFAwoOASCwoKTtJBQcGAgpN0UFCY+7GkNwoKdlBQUDCgMM8l\n",
       "tlJQsKSDgoIBhbkfl9hGQcGSDgoKBhScpIOCgiUdFBQUFBQUDCh4FgsKCvPOn29/hp+moGBAwTko\n",
       "KCh4mg8KCgYU5j7noI2CgiUdFBQMKMz1sLpSULCkg4KCHRQUFAwozHuW9EZBwW0+KCgYUPDCLCgo\n",
       "WNJBQcGAwjxLeqWgYEkHBQUDCnO97lgpKPgRZ1BQ8Mo1KCgYUHCSDgoKlnRQUDCg4BILCgqexYKC\n",
       "ggEFSzooKMzxLLZSUDCgYEkHBQUvzIKCwhw7aKWgYEDB646goOBZLCgoGFBwDgoKCv7HYVBQMKDg\n",
       "HBQUFOZY0isFhf8AtXbn8YkHxogAAAAASUVORK5CYII=\n",
       "\" transform=\"translate(961, 461)\"/>\n",
       "</g>\n",
       "<path clip-path=\"url(#clip240)\" d=\"M1068.76 1060.95 L1098.43 1060.95 L1098.43 1064.89 L1068.76 1064.89 L1068.76 1060.95 Z\" fill=\"#000000\" fill-rule=\"nonzero\" fill-opacity=\"1\" /><path clip-path=\"url(#clip240)\" d=\"M1118.52 1046.3 Q1114.91 1046.3 1113.08 1049.86 Q1111.28 1053.4 1111.28 1060.53 Q1111.28 1067.64 1113.08 1071.2 Q1114.91 1074.75 1118.52 1074.75 Q1122.16 1074.75 1123.96 1071.2 Q1125.79 1067.64 1125.79 1060.53 Q1125.79 1053.4 1123.96 1049.86 Q1122.16 1046.3 1118.52 1046.3 M1118.52 1042.59 Q1124.33 1042.59 1127.39 1047.2 Q1130.47 1051.78 1130.47 1060.53 Q1130.47 1069.26 1127.39 1073.87 Q1124.33 1078.45 1118.52 1078.45 Q1112.71 1078.45 1109.64 1073.87 Q1106.58 1069.26 1106.58 1060.53 Q1106.58 1051.78 1109.64 1047.2 Q1112.71 1042.59 1118.52 1042.59 Z\" fill=\"#000000\" fill-rule=\"nonzero\" fill-opacity=\"1\" /><path clip-path=\"url(#clip240)\" d=\"M1138.69 1071.9 L1143.57 1071.9 L1143.57 1077.78 L1138.69 1077.78 L1138.69 1071.9 Z\" fill=\"#000000\" fill-rule=\"nonzero\" fill-opacity=\"1\" /><path clip-path=\"url(#clip240)\" d=\"M1163.76 1046.3 Q1160.14 1046.3 1158.32 1049.86 Q1156.51 1053.4 1156.51 1060.53 Q1156.51 1067.64 1158.32 1071.2 Q1160.14 1074.75 1163.76 1074.75 Q1167.39 1074.75 1169.2 1071.2 Q1171.02 1067.64 1171.02 1060.53 Q1171.02 1053.4 1169.2 1049.86 Q1167.39 1046.3 1163.76 1046.3 M1163.76 1042.59 Q1169.57 1042.59 1172.62 1047.2 Q1175.7 1051.78 1175.7 1060.53 Q1175.7 1069.26 1172.62 1073.87 Q1169.57 1078.45 1163.76 1078.45 Q1157.95 1078.45 1154.87 1073.87 Q1151.81 1069.26 1151.81 1060.53 Q1151.81 1051.78 1154.87 1047.2 Q1157.95 1042.59 1163.76 1042.59 Z\" fill=\"#000000\" fill-rule=\"nonzero\" fill-opacity=\"1\" /><path clip-path=\"url(#clip240)\" d=\"M1183.96 1043.22 L1202.32 1043.22 L1202.32 1047.15 L1188.25 1047.15 L1188.25 1055.63 Q1189.26 1055.28 1190.28 1055.12 Q1191.3 1054.93 1192.32 1054.93 Q1198.11 1054.93 1201.49 1058.1 Q1204.87 1061.27 1204.87 1066.69 Q1204.87 1072.27 1201.39 1075.37 Q1197.92 1078.45 1191.6 1078.45 Q1189.43 1078.45 1187.16 1078.08 Q1184.91 1077.71 1182.51 1076.97 L1182.51 1072.27 Q1184.59 1073.4 1186.81 1073.96 Q1189.03 1074.51 1191.51 1074.51 Q1195.51 1074.51 1197.85 1072.41 Q1200.19 1070.3 1200.19 1066.69 Q1200.19 1063.08 1197.85 1060.97 Q1195.51 1058.87 1191.51 1058.87 Q1189.63 1058.87 1187.76 1059.28 Q1185.91 1059.7 1183.96 1060.58 L1183.96 1043.22 Z\" fill=\"#000000\" fill-rule=\"nonzero\" fill-opacity=\"1\" /><polyline clip-path=\"url(#clip240)\" style=\"stroke:#000000; stroke-linecap:round; stroke-linejoin:round; stroke-width:4; stroke-opacity:1; fill:none\" points=\"1032.76,1064.13 1056.76,1064.13 \"/>\n",
       "<path clip-path=\"url(#clip240)\" d=\"M1080.7 975.139 Q1077.09 975.139 1075.26 978.704 Q1073.45 982.245 1073.45 989.375 Q1073.45 996.481 1075.26 1000.05 Q1077.09 1003.59 1080.7 1003.59 Q1084.33 1003.59 1086.14 1000.05 Q1087.97 996.481 1087.97 989.375 Q1087.97 982.245 1086.14 978.704 Q1084.33 975.139 1080.7 975.139 M1080.7 971.435 Q1086.51 971.435 1089.57 976.041 Q1092.64 980.625 1092.64 989.375 Q1092.64 998.102 1089.57 1002.71 Q1086.51 1007.29 1080.7 1007.29 Q1074.89 1007.29 1071.81 1002.71 Q1068.76 998.102 1068.76 989.375 Q1068.76 980.625 1071.81 976.041 Q1074.89 971.435 1080.7 971.435 Z\" fill=\"#000000\" fill-rule=\"nonzero\" fill-opacity=\"1\" /><polyline clip-path=\"url(#clip240)\" style=\"stroke:#000000; stroke-linecap:round; stroke-linejoin:round; stroke-width:4; stroke-opacity:1; fill:none\" points=\"1032.76,992.969 1056.76,992.969 \"/>\n",
       "<path clip-path=\"url(#clip240)\" d=\"M1080.7 903.98 Q1077.09 903.98 1075.26 907.545 Q1073.45 911.086 1073.45 918.216 Q1073.45 925.323 1075.26 928.887 Q1077.09 932.429 1080.7 932.429 Q1084.33 932.429 1086.14 928.887 Q1087.97 925.323 1087.97 918.216 Q1087.97 911.086 1086.14 907.545 Q1084.33 903.98 1080.7 903.98 M1080.7 900.276 Q1086.51 900.276 1089.57 904.883 Q1092.64 909.466 1092.64 918.216 Q1092.64 926.943 1089.57 931.549 Q1086.51 936.133 1080.7 936.133 Q1074.89 936.133 1071.81 931.549 Q1068.76 926.943 1068.76 918.216 Q1068.76 909.466 1071.81 904.883 Q1074.89 900.276 1080.7 900.276 Z\" fill=\"#000000\" fill-rule=\"nonzero\" fill-opacity=\"1\" /><path clip-path=\"url(#clip240)\" d=\"M1100.86 929.582 L1105.75 929.582 L1105.75 935.461 L1100.86 935.461 L1100.86 929.582 Z\" fill=\"#000000\" fill-rule=\"nonzero\" fill-opacity=\"1\" /><path clip-path=\"url(#clip240)\" d=\"M1125.93 903.98 Q1122.32 903.98 1120.49 907.545 Q1118.69 911.086 1118.69 918.216 Q1118.69 925.323 1120.49 928.887 Q1122.32 932.429 1125.93 932.429 Q1129.57 932.429 1131.37 928.887 Q1133.2 925.323 1133.2 918.216 Q1133.2 911.086 1131.37 907.545 Q1129.57 903.98 1125.93 903.98 M1125.93 900.276 Q1131.74 900.276 1134.8 904.883 Q1137.88 909.466 1137.88 918.216 Q1137.88 926.943 1134.8 931.549 Q1131.74 936.133 1125.93 936.133 Q1120.12 936.133 1117.04 931.549 Q1113.99 926.943 1113.99 918.216 Q1113.99 909.466 1117.04 904.883 Q1120.12 900.276 1125.93 900.276 Z\" fill=\"#000000\" fill-rule=\"nonzero\" fill-opacity=\"1\" /><path clip-path=\"url(#clip240)\" d=\"M1146.14 900.901 L1164.5 900.901 L1164.5 904.837 L1150.42 904.837 L1150.42 913.309 Q1151.44 912.961 1152.46 912.799 Q1153.48 912.614 1154.5 912.614 Q1160.28 912.614 1163.66 915.786 Q1167.04 918.957 1167.04 924.373 Q1167.04 929.952 1163.57 933.054 Q1160.1 936.133 1153.78 936.133 Q1151.6 936.133 1149.33 935.762 Q1147.09 935.392 1144.68 934.651 L1144.68 929.952 Q1146.76 931.086 1148.99 931.642 Q1151.21 932.197 1153.69 932.197 Q1157.69 932.197 1160.03 930.091 Q1162.37 927.985 1162.37 924.373 Q1162.37 920.762 1160.03 918.656 Q1157.69 916.549 1153.69 916.549 Q1151.81 916.549 1149.94 916.966 Q1148.08 917.383 1146.14 918.262 L1146.14 900.901 Z\" fill=\"#000000\" fill-rule=\"nonzero\" fill-opacity=\"1\" /><polyline clip-path=\"url(#clip240)\" style=\"stroke:#000000; stroke-linecap:round; stroke-linejoin:round; stroke-width:4; stroke-opacity:1; fill:none\" points=\"1032.76,921.81 1056.76,921.81 \"/>\n",
       "<path clip-path=\"url(#clip240)\" d=\"M1080.7 832.821 Q1077.09 832.821 1075.26 836.386 Q1073.45 839.928 1073.45 847.057 Q1073.45 854.164 1075.26 857.729 Q1077.09 861.27 1080.7 861.27 Q1084.33 861.27 1086.14 857.729 Q1087.97 854.164 1087.97 847.057 Q1087.97 839.928 1086.14 836.386 Q1084.33 832.821 1080.7 832.821 M1080.7 829.118 Q1086.51 829.118 1089.57 833.724 Q1092.64 838.307 1092.64 847.057 Q1092.64 855.784 1089.57 860.391 Q1086.51 864.974 1080.7 864.974 Q1074.89 864.974 1071.81 860.391 Q1068.76 855.784 1068.76 847.057 Q1068.76 838.307 1071.81 833.724 Q1074.89 829.118 1080.7 829.118 Z\" fill=\"#000000\" fill-rule=\"nonzero\" fill-opacity=\"1\" /><path clip-path=\"url(#clip240)\" d=\"M1100.86 858.423 L1105.75 858.423 L1105.75 864.303 L1100.86 864.303 L1100.86 858.423 Z\" fill=\"#000000\" fill-rule=\"nonzero\" fill-opacity=\"1\" /><path clip-path=\"url(#clip240)\" d=\"M1116.74 860.368 L1124.38 860.368 L1124.38 834.002 L1116.07 835.669 L1116.07 831.409 L1124.33 829.743 L1129.01 829.743 L1129.01 860.368 L1136.65 860.368 L1136.65 864.303 L1116.74 864.303 L1116.74 860.368 Z\" fill=\"#000000\" fill-rule=\"nonzero\" fill-opacity=\"1\" /><path clip-path=\"url(#clip240)\" d=\"M1156.09 832.821 Q1152.48 832.821 1150.65 836.386 Q1148.85 839.928 1148.85 847.057 Q1148.85 854.164 1150.65 857.729 Q1152.48 861.27 1156.09 861.27 Q1159.73 861.27 1161.53 857.729 Q1163.36 854.164 1163.36 847.057 Q1163.36 839.928 1161.53 836.386 Q1159.73 832.821 1156.09 832.821 M1156.09 829.118 Q1161.9 829.118 1164.96 833.724 Q1168.04 838.307 1168.04 847.057 Q1168.04 855.784 1164.96 860.391 Q1161.9 864.974 1156.09 864.974 Q1150.28 864.974 1147.2 860.391 Q1144.15 855.784 1144.15 847.057 Q1144.15 838.307 1147.2 833.724 Q1150.28 829.118 1156.09 829.118 Z\" fill=\"#000000\" fill-rule=\"nonzero\" fill-opacity=\"1\" /><polyline clip-path=\"url(#clip240)\" style=\"stroke:#000000; stroke-linecap:round; stroke-linejoin:round; stroke-width:4; stroke-opacity:1; fill:none\" points=\"1032.76,850.651 1056.76,850.651 \"/>\n",
       "<path clip-path=\"url(#clip240)\" d=\"M1080.7 761.663 Q1077.09 761.663 1075.26 765.227 Q1073.45 768.769 1073.45 775.899 Q1073.45 783.005 1075.26 786.57 Q1077.09 790.112 1080.7 790.112 Q1084.33 790.112 1086.14 786.57 Q1087.97 783.005 1087.97 775.899 Q1087.97 768.769 1086.14 765.227 Q1084.33 761.663 1080.7 761.663 M1080.7 757.959 Q1086.51 757.959 1089.57 762.565 Q1092.64 767.149 1092.64 775.899 Q1092.64 784.626 1089.57 789.232 Q1086.51 793.815 1080.7 793.815 Q1074.89 793.815 1071.81 789.232 Q1068.76 784.626 1068.76 775.899 Q1068.76 767.149 1071.81 762.565 Q1074.89 757.959 1080.7 757.959 Z\" fill=\"#000000\" fill-rule=\"nonzero\" fill-opacity=\"1\" /><path clip-path=\"url(#clip240)\" d=\"M1100.86 787.264 L1105.75 787.264 L1105.75 793.144 L1100.86 793.144 L1100.86 787.264 Z\" fill=\"#000000\" fill-rule=\"nonzero\" fill-opacity=\"1\" /><path clip-path=\"url(#clip240)\" d=\"M1116.74 789.209 L1124.38 789.209 L1124.38 762.843 L1116.07 764.51 L1116.07 760.251 L1124.33 758.584 L1129.01 758.584 L1129.01 789.209 L1136.65 789.209 L1136.65 793.144 L1116.74 793.144 L1116.74 789.209 Z\" fill=\"#000000\" fill-rule=\"nonzero\" fill-opacity=\"1\" /><path clip-path=\"url(#clip240)\" d=\"M1146.14 758.584 L1164.5 758.584 L1164.5 762.519 L1150.42 762.519 L1150.42 770.991 Q1151.44 770.644 1152.46 770.482 Q1153.48 770.297 1154.5 770.297 Q1160.28 770.297 1163.66 773.468 Q1167.04 776.639 1167.04 782.056 Q1167.04 787.635 1163.57 790.737 Q1160.1 793.815 1153.78 793.815 Q1151.6 793.815 1149.33 793.445 Q1147.09 793.075 1144.68 792.334 L1144.68 787.635 Q1146.76 788.769 1148.99 789.325 Q1151.21 789.88 1153.69 789.88 Q1157.69 789.88 1160.03 787.774 Q1162.37 785.667 1162.37 782.056 Q1162.37 778.445 1160.03 776.339 Q1157.69 774.232 1153.69 774.232 Q1151.81 774.232 1149.94 774.649 Q1148.08 775.065 1146.14 775.945 L1146.14 758.584 Z\" fill=\"#000000\" fill-rule=\"nonzero\" fill-opacity=\"1\" /><polyline clip-path=\"url(#clip240)\" style=\"stroke:#000000; stroke-linecap:round; stroke-linejoin:round; stroke-width:4; stroke-opacity:1; fill:none\" points=\"1032.76,779.493 1056.76,779.493 \"/>\n",
       "<path clip-path=\"url(#clip240)\" d=\"M1080.7 690.504 Q1077.09 690.504 1075.26 694.069 Q1073.45 697.61 1073.45 704.74 Q1073.45 711.847 1075.26 715.411 Q1077.09 718.953 1080.7 718.953 Q1084.33 718.953 1086.14 715.411 Q1087.97 711.847 1087.97 704.74 Q1087.97 697.61 1086.14 694.069 Q1084.33 690.504 1080.7 690.504 M1080.7 686.8 Q1086.51 686.8 1089.57 691.407 Q1092.64 695.99 1092.64 704.74 Q1092.64 713.467 1089.57 718.073 Q1086.51 722.657 1080.7 722.657 Q1074.89 722.657 1071.81 718.073 Q1068.76 713.467 1068.76 704.74 Q1068.76 695.99 1071.81 691.407 Q1074.89 686.8 1080.7 686.8 Z\" fill=\"#000000\" fill-rule=\"nonzero\" fill-opacity=\"1\" /><path clip-path=\"url(#clip240)\" d=\"M1100.86 716.106 L1105.75 716.106 L1105.75 721.985 L1100.86 721.985 L1100.86 716.106 Z\" fill=\"#000000\" fill-rule=\"nonzero\" fill-opacity=\"1\" /><path clip-path=\"url(#clip240)\" d=\"M1119.96 718.05 L1136.28 718.05 L1136.28 721.985 L1114.33 721.985 L1114.33 718.05 Q1117 715.296 1121.58 710.666 Q1126.19 706.013 1127.37 704.671 Q1129.61 702.147 1130.49 700.411 Q1131.39 698.652 1131.39 696.962 Q1131.39 694.208 1129.45 692.472 Q1127.53 690.736 1124.43 690.736 Q1122.23 690.736 1119.77 691.499 Q1117.34 692.263 1114.57 693.814 L1114.57 689.092 Q1117.39 687.958 1119.84 687.379 Q1122.3 686.8 1124.33 686.8 Q1129.7 686.8 1132.9 689.486 Q1136.09 692.171 1136.09 696.661 Q1136.09 698.791 1135.28 700.712 Q1134.5 702.61 1132.39 705.203 Q1131.81 705.874 1128.71 709.092 Q1125.61 712.286 1119.96 718.05 Z\" fill=\"#000000\" fill-rule=\"nonzero\" fill-opacity=\"1\" /><path clip-path=\"url(#clip240)\" d=\"M1156.09 690.504 Q1152.48 690.504 1150.65 694.069 Q1148.85 697.61 1148.85 704.74 Q1148.85 711.847 1150.65 715.411 Q1152.48 718.953 1156.09 718.953 Q1159.73 718.953 1161.53 715.411 Q1163.36 711.847 1163.36 704.74 Q1163.36 697.61 1161.53 694.069 Q1159.73 690.504 1156.09 690.504 M1156.09 686.8 Q1161.9 686.8 1164.96 691.407 Q1168.04 695.99 1168.04 704.74 Q1168.04 713.467 1164.96 718.073 Q1161.9 722.657 1156.09 722.657 Q1150.28 722.657 1147.2 718.073 Q1144.15 713.467 1144.15 704.74 Q1144.15 695.99 1147.2 691.407 Q1150.28 686.8 1156.09 686.8 Z\" fill=\"#000000\" fill-rule=\"nonzero\" fill-opacity=\"1\" /><polyline clip-path=\"url(#clip240)\" style=\"stroke:#000000; stroke-linecap:round; stroke-linejoin:round; stroke-width:4; stroke-opacity:1; fill:none\" points=\"1032.76,708.334 1056.76,708.334 \"/>\n",
       "<path clip-path=\"url(#clip240)\" d=\"M1080.7 619.345 Q1077.09 619.345 1075.26 622.91 Q1073.45 626.452 1073.45 633.581 Q1073.45 640.688 1075.26 644.253 Q1077.09 647.794 1080.7 647.794 Q1084.33 647.794 1086.14 644.253 Q1087.97 640.688 1087.97 633.581 Q1087.97 626.452 1086.14 622.91 Q1084.33 619.345 1080.7 619.345 M1080.7 615.642 Q1086.51 615.642 1089.57 620.248 Q1092.64 624.831 1092.64 633.581 Q1092.64 642.308 1089.57 646.915 Q1086.51 651.498 1080.7 651.498 Q1074.89 651.498 1071.81 646.915 Q1068.76 642.308 1068.76 633.581 Q1068.76 624.831 1071.81 620.248 Q1074.89 615.642 1080.7 615.642 Z\" fill=\"#000000\" fill-rule=\"nonzero\" fill-opacity=\"1\" /><path clip-path=\"url(#clip240)\" d=\"M1100.86 644.947 L1105.75 644.947 L1105.75 650.827 L1100.86 650.827 L1100.86 644.947 Z\" fill=\"#000000\" fill-rule=\"nonzero\" fill-opacity=\"1\" /><path clip-path=\"url(#clip240)\" d=\"M1119.96 646.892 L1136.28 646.892 L1136.28 650.827 L1114.33 650.827 L1114.33 646.892 Q1117 644.137 1121.58 639.507 Q1126.19 634.855 1127.37 633.512 Q1129.61 630.989 1130.49 629.253 Q1131.39 627.493 1131.39 625.804 Q1131.39 623.049 1129.45 621.313 Q1127.53 619.577 1124.43 619.577 Q1122.23 619.577 1119.77 620.341 Q1117.34 621.105 1114.57 622.656 L1114.57 617.933 Q1117.39 616.799 1119.84 616.22 Q1122.3 615.642 1124.33 615.642 Q1129.7 615.642 1132.9 618.327 Q1136.09 621.012 1136.09 625.503 Q1136.09 627.632 1135.28 629.554 Q1134.5 631.452 1132.39 634.044 Q1131.81 634.716 1128.71 637.933 Q1125.61 641.128 1119.96 646.892 Z\" fill=\"#000000\" fill-rule=\"nonzero\" fill-opacity=\"1\" /><path clip-path=\"url(#clip240)\" d=\"M1146.14 616.267 L1164.5 616.267 L1164.5 620.202 L1150.42 620.202 L1150.42 628.674 Q1151.44 628.327 1152.46 628.165 Q1153.48 627.98 1154.5 627.98 Q1160.28 627.98 1163.66 631.151 Q1167.04 634.322 1167.04 639.739 Q1167.04 645.317 1163.57 648.419 Q1160.1 651.498 1153.78 651.498 Q1151.6 651.498 1149.33 651.128 Q1147.09 650.757 1144.68 650.016 L1144.68 645.317 Q1146.76 646.452 1148.99 647.007 Q1151.21 647.563 1153.69 647.563 Q1157.69 647.563 1160.03 645.456 Q1162.37 643.35 1162.37 639.739 Q1162.37 636.128 1160.03 634.021 Q1157.69 631.915 1153.69 631.915 Q1151.81 631.915 1149.94 632.331 Q1148.08 632.748 1146.14 633.628 L1146.14 616.267 Z\" fill=\"#000000\" fill-rule=\"nonzero\" fill-opacity=\"1\" /><polyline clip-path=\"url(#clip240)\" style=\"stroke:#000000; stroke-linecap:round; stroke-linejoin:round; stroke-width:4; stroke-opacity:1; fill:none\" points=\"1032.76,637.175 1056.76,637.175 \"/>\n",
       "<path clip-path=\"url(#clip240)\" d=\"M1080.7 548.187 Q1077.09 548.187 1075.26 551.751 Q1073.45 555.293 1073.45 562.423 Q1073.45 569.529 1075.26 573.094 Q1077.09 576.636 1080.7 576.636 Q1084.33 576.636 1086.14 573.094 Q1087.97 569.529 1087.97 562.423 Q1087.97 555.293 1086.14 551.751 Q1084.33 548.187 1080.7 548.187 M1080.7 544.483 Q1086.51 544.483 1089.57 549.089 Q1092.64 553.673 1092.64 562.423 Q1092.64 571.15 1089.57 575.756 Q1086.51 580.339 1080.7 580.339 Q1074.89 580.339 1071.81 575.756 Q1068.76 571.15 1068.76 562.423 Q1068.76 553.673 1071.81 549.089 Q1074.89 544.483 1080.7 544.483 Z\" fill=\"#000000\" fill-rule=\"nonzero\" fill-opacity=\"1\" /><path clip-path=\"url(#clip240)\" d=\"M1100.86 573.788 L1105.75 573.788 L1105.75 579.668 L1100.86 579.668 L1100.86 573.788 Z\" fill=\"#000000\" fill-rule=\"nonzero\" fill-opacity=\"1\" /><path clip-path=\"url(#clip240)\" d=\"M1130.1 561.034 Q1133.45 561.751 1135.33 564.02 Q1137.23 566.288 1137.23 569.622 Q1137.23 574.737 1133.71 577.538 Q1130.19 580.339 1123.71 580.339 Q1121.53 580.339 1119.22 579.899 Q1116.93 579.483 1114.47 578.626 L1114.47 574.112 Q1116.42 575.247 1118.73 575.825 Q1121.05 576.404 1123.57 576.404 Q1127.97 576.404 1130.26 574.668 Q1132.58 572.932 1132.58 569.622 Q1132.58 566.566 1130.42 564.853 Q1128.29 563.117 1124.47 563.117 L1120.45 563.117 L1120.45 559.275 L1124.66 559.275 Q1128.11 559.275 1129.94 557.909 Q1131.76 556.52 1131.76 553.927 Q1131.76 551.265 1129.87 549.853 Q1127.99 548.418 1124.47 548.418 Q1122.55 548.418 1120.35 548.835 Q1118.15 549.251 1115.51 550.131 L1115.51 545.964 Q1118.18 545.224 1120.49 544.853 Q1122.83 544.483 1124.89 544.483 Q1130.21 544.483 1133.32 546.914 Q1136.42 549.321 1136.42 553.441 Q1136.42 556.312 1134.77 558.302 Q1133.13 560.27 1130.1 561.034 Z\" fill=\"#000000\" fill-rule=\"nonzero\" fill-opacity=\"1\" /><path clip-path=\"url(#clip240)\" d=\"M1156.09 548.187 Q1152.48 548.187 1150.65 551.751 Q1148.85 555.293 1148.85 562.423 Q1148.85 569.529 1150.65 573.094 Q1152.48 576.636 1156.09 576.636 Q1159.73 576.636 1161.53 573.094 Q1163.36 569.529 1163.36 562.423 Q1163.36 555.293 1161.53 551.751 Q1159.73 548.187 1156.09 548.187 M1156.09 544.483 Q1161.9 544.483 1164.96 549.089 Q1168.04 553.673 1168.04 562.423 Q1168.04 571.15 1164.96 575.756 Q1161.9 580.339 1156.09 580.339 Q1150.28 580.339 1147.2 575.756 Q1144.15 571.15 1144.15 562.423 Q1144.15 553.673 1147.2 549.089 Q1150.28 544.483 1156.09 544.483 Z\" fill=\"#000000\" fill-rule=\"nonzero\" fill-opacity=\"1\" /><polyline clip-path=\"url(#clip240)\" style=\"stroke:#000000; stroke-linecap:round; stroke-linejoin:round; stroke-width:4; stroke-opacity:1; fill:none\" points=\"1032.76,566.017 1056.76,566.017 \"/>\n",
       "<path clip-path=\"url(#clip240)\" d=\"M1080.7 477.028 Q1077.09 477.028 1075.26 480.593 Q1073.45 484.134 1073.45 491.264 Q1073.45 498.37 1075.26 501.935 Q1077.09 505.477 1080.7 505.477 Q1084.33 505.477 1086.14 501.935 Q1087.97 498.37 1087.97 491.264 Q1087.97 484.134 1086.14 480.593 Q1084.33 477.028 1080.7 477.028 M1080.7 473.324 Q1086.51 473.324 1089.57 477.931 Q1092.64 482.514 1092.64 491.264 Q1092.64 499.991 1089.57 504.597 Q1086.51 509.181 1080.7 509.181 Q1074.89 509.181 1071.81 504.597 Q1068.76 499.991 1068.76 491.264 Q1068.76 482.514 1071.81 477.931 Q1074.89 473.324 1080.7 473.324 Z\" fill=\"#000000\" fill-rule=\"nonzero\" fill-opacity=\"1\" /><path clip-path=\"url(#clip240)\" d=\"M1100.86 502.63 L1105.75 502.63 L1105.75 508.509 L1100.86 508.509 L1100.86 502.63 Z\" fill=\"#000000\" fill-rule=\"nonzero\" fill-opacity=\"1\" /><path clip-path=\"url(#clip240)\" d=\"M1130.1 489.875 Q1133.45 490.593 1135.33 492.861 Q1137.23 495.13 1137.23 498.463 Q1137.23 503.579 1133.71 506.38 Q1130.19 509.181 1123.71 509.181 Q1121.53 509.181 1119.22 508.741 Q1116.93 508.324 1114.47 507.468 L1114.47 502.954 Q1116.42 504.088 1118.73 504.667 Q1121.05 505.245 1123.57 505.245 Q1127.97 505.245 1130.26 503.509 Q1132.58 501.773 1132.58 498.463 Q1132.58 495.408 1130.42 493.695 Q1128.29 491.958 1124.47 491.958 L1120.45 491.958 L1120.45 488.116 L1124.66 488.116 Q1128.11 488.116 1129.94 486.75 Q1131.76 485.361 1131.76 482.769 Q1131.76 480.107 1129.87 478.695 Q1127.99 477.259 1124.47 477.259 Q1122.55 477.259 1120.35 477.676 Q1118.15 478.093 1115.51 478.972 L1115.51 474.806 Q1118.18 474.065 1120.49 473.695 Q1122.83 473.324 1124.89 473.324 Q1130.21 473.324 1133.32 475.755 Q1136.42 478.162 1136.42 482.283 Q1136.42 485.153 1134.77 487.144 Q1133.13 489.111 1130.1 489.875 Z\" fill=\"#000000\" fill-rule=\"nonzero\" fill-opacity=\"1\" /><path clip-path=\"url(#clip240)\" d=\"M1146.14 473.949 L1164.5 473.949 L1164.5 477.884 L1150.42 477.884 L1150.42 486.357 Q1151.44 486.009 1152.46 485.847 Q1153.48 485.662 1154.5 485.662 Q1160.28 485.662 1163.66 488.834 Q1167.04 492.005 1167.04 497.421 Q1167.04 503 1163.57 506.102 Q1160.1 509.181 1153.78 509.181 Q1151.6 509.181 1149.33 508.81 Q1147.09 508.44 1144.68 507.699 L1144.68 503 Q1146.76 504.134 1148.99 504.69 Q1151.21 505.245 1153.69 505.245 Q1157.69 505.245 1160.03 503.139 Q1162.37 501.033 1162.37 497.421 Q1162.37 493.81 1160.03 491.704 Q1157.69 489.597 1153.69 489.597 Q1151.81 489.597 1149.94 490.014 Q1148.08 490.431 1146.14 491.31 L1146.14 473.949 Z\" fill=\"#000000\" fill-rule=\"nonzero\" fill-opacity=\"1\" /><polyline clip-path=\"url(#clip240)\" style=\"stroke:#000000; stroke-linecap:round; stroke-linejoin:round; stroke-width:4; stroke-opacity:1; fill:none\" points=\"1032.76,494.858 1056.76,494.858 \"/>\n",
       "<polyline clip-path=\"url(#clip240)\" style=\"stroke:#000000; stroke-linecap:round; stroke-linejoin:round; stroke-width:4; stroke-opacity:1; fill:none\" points=\"1032.76,1086.02 1032.76,460.631 \"/>\n",
       "<path clip-path=\"url(#clip240)\" d=\"M1487.37 1086.02 L2112.76 1086.02 L2112.76 460.631 L1487.37 460.631  Z\" fill=\"#ffffff\" fill-rule=\"evenodd\" fill-opacity=\"1\"/>\n",
       "<defs>\n",
       "  <clipPath id=\"clip244\">\n",
       "    <rect x=\"1487\" y=\"460\" width=\"626\" height=\"626\"/>\n",
       "  </clipPath>\n",
       "</defs>\n",
       "<polyline clip-path=\"url(#clip244)\" style=\"stroke:#000000; stroke-linecap:round; stroke-linejoin:round; stroke-width:2; stroke-opacity:0.1; fill:none\" points=\"1487.37,1086.02 1487.37,460.631 \"/>\n",
       "<polyline clip-path=\"url(#clip244)\" style=\"stroke:#000000; stroke-linecap:round; stroke-linejoin:round; stroke-width:2; stroke-opacity:0.1; fill:none\" points=\"1612.44,1086.02 1612.44,460.631 \"/>\n",
       "<polyline clip-path=\"url(#clip244)\" style=\"stroke:#000000; stroke-linecap:round; stroke-linejoin:round; stroke-width:2; stroke-opacity:0.1; fill:none\" points=\"1737.52,1086.02 1737.52,460.631 \"/>\n",
       "<polyline clip-path=\"url(#clip244)\" style=\"stroke:#000000; stroke-linecap:round; stroke-linejoin:round; stroke-width:2; stroke-opacity:0.1; fill:none\" points=\"1862.6,1086.02 1862.6,460.631 \"/>\n",
       "<polyline clip-path=\"url(#clip244)\" style=\"stroke:#000000; stroke-linecap:round; stroke-linejoin:round; stroke-width:2; stroke-opacity:0.1; fill:none\" points=\"1987.68,1086.02 1987.68,460.631 \"/>\n",
       "<polyline clip-path=\"url(#clip244)\" style=\"stroke:#000000; stroke-linecap:round; stroke-linejoin:round; stroke-width:2; stroke-opacity:0.1; fill:none\" points=\"2112.76,1086.02 2112.76,460.631 \"/>\n",
       "<polyline clip-path=\"url(#clip244)\" style=\"stroke:#000000; stroke-linecap:round; stroke-linejoin:round; stroke-width:2; stroke-opacity:0.1; fill:none\" points=\"1487.37,1086.02 2112.76,1086.02 \"/>\n",
       "<polyline clip-path=\"url(#clip244)\" style=\"stroke:#000000; stroke-linecap:round; stroke-linejoin:round; stroke-width:2; stroke-opacity:0.1; fill:none\" points=\"1487.37,929.673 2112.76,929.673 \"/>\n",
       "<polyline clip-path=\"url(#clip244)\" style=\"stroke:#000000; stroke-linecap:round; stroke-linejoin:round; stroke-width:2; stroke-opacity:0.1; fill:none\" points=\"1487.37,773.326 2112.76,773.326 \"/>\n",
       "<polyline clip-path=\"url(#clip244)\" style=\"stroke:#000000; stroke-linecap:round; stroke-linejoin:round; stroke-width:2; stroke-opacity:0.1; fill:none\" points=\"1487.37,616.978 2112.76,616.978 \"/>\n",
       "<polyline clip-path=\"url(#clip244)\" style=\"stroke:#000000; stroke-linecap:round; stroke-linejoin:round; stroke-width:2; stroke-opacity:0.1; fill:none\" points=\"1487.37,460.631 2112.76,460.631 \"/>\n",
       "<polyline clip-path=\"url(#clip240)\" style=\"stroke:#000000; stroke-linecap:round; stroke-linejoin:round; stroke-width:4; stroke-opacity:1; fill:none\" points=\"1487.37,1086.02 2112.76,1086.02 \"/>\n",
       "<polyline clip-path=\"url(#clip240)\" style=\"stroke:#000000; stroke-linecap:round; stroke-linejoin:round; stroke-width:4; stroke-opacity:1; fill:none\" points=\"1487.37,1086.02 1487.37,1076.93 \"/>\n",
       "<polyline clip-path=\"url(#clip240)\" style=\"stroke:#000000; stroke-linecap:round; stroke-linejoin:round; stroke-width:4; stroke-opacity:1; fill:none\" points=\"1612.44,1086.02 1612.44,1076.93 \"/>\n",
       "<polyline clip-path=\"url(#clip240)\" style=\"stroke:#000000; stroke-linecap:round; stroke-linejoin:round; stroke-width:4; stroke-opacity:1; fill:none\" points=\"1737.52,1086.02 1737.52,1076.93 \"/>\n",
       "<polyline clip-path=\"url(#clip240)\" style=\"stroke:#000000; stroke-linecap:round; stroke-linejoin:round; stroke-width:4; stroke-opacity:1; fill:none\" points=\"1862.6,1086.02 1862.6,1076.93 \"/>\n",
       "<polyline clip-path=\"url(#clip240)\" style=\"stroke:#000000; stroke-linecap:round; stroke-linejoin:round; stroke-width:4; stroke-opacity:1; fill:none\" points=\"1987.68,1086.02 1987.68,1076.93 \"/>\n",
       "<polyline clip-path=\"url(#clip240)\" style=\"stroke:#000000; stroke-linecap:round; stroke-linejoin:round; stroke-width:4; stroke-opacity:1; fill:none\" points=\"2112.76,1086.02 2112.76,1076.93 \"/>\n",
       "<path clip-path=\"url(#clip240)\" d=\"M1464.75 1116.94 Q1461.14 1116.94 1459.31 1120.5 Q1457.5 1124.05 1457.5 1131.18 Q1457.5 1138.28 1459.31 1141.85 Q1461.14 1145.39 1464.75 1145.39 Q1468.38 1145.39 1470.19 1141.85 Q1472.02 1138.28 1472.02 1131.18 Q1472.02 1124.05 1470.19 1120.5 Q1468.38 1116.94 1464.75 1116.94 M1464.75 1113.24 Q1470.56 1113.24 1473.62 1117.84 Q1476.69 1122.43 1476.69 1131.18 Q1476.69 1139.9 1473.62 1144.51 Q1470.56 1149.09 1464.75 1149.09 Q1458.94 1149.09 1455.86 1144.51 Q1452.81 1139.9 1452.81 1131.18 Q1452.81 1122.43 1455.86 1117.84 Q1458.94 1113.24 1464.75 1113.24 Z\" fill=\"#000000\" fill-rule=\"nonzero\" fill-opacity=\"1\" /><path clip-path=\"url(#clip240)\" d=\"M1484.91 1142.54 L1489.8 1142.54 L1489.8 1148.42 L1484.91 1148.42 L1484.91 1142.54 Z\" fill=\"#000000\" fill-rule=\"nonzero\" fill-opacity=\"1\" /><path clip-path=\"url(#clip240)\" d=\"M1509.98 1116.94 Q1506.37 1116.94 1504.54 1120.5 Q1502.74 1124.05 1502.74 1131.18 Q1502.74 1138.28 1504.54 1141.85 Q1506.37 1145.39 1509.98 1145.39 Q1513.62 1145.39 1515.42 1141.85 Q1517.25 1138.28 1517.25 1131.18 Q1517.25 1124.05 1515.42 1120.5 Q1513.62 1116.94 1509.98 1116.94 M1509.98 1113.24 Q1515.79 1113.24 1518.85 1117.84 Q1521.93 1122.43 1521.93 1131.18 Q1521.93 1139.9 1518.85 1144.51 Q1515.79 1149.09 1509.98 1149.09 Q1504.17 1149.09 1501.09 1144.51 Q1498.04 1139.9 1498.04 1131.18 Q1498.04 1122.43 1501.09 1117.84 Q1504.17 1113.24 1509.98 1113.24 Z\" fill=\"#000000\" fill-rule=\"nonzero\" fill-opacity=\"1\" /><path clip-path=\"url(#clip240)\" d=\"M1590.63 1116.94 Q1587.02 1116.94 1585.19 1120.5 Q1583.38 1124.05 1583.38 1131.18 Q1583.38 1138.28 1585.19 1141.85 Q1587.02 1145.39 1590.63 1145.39 Q1594.26 1145.39 1596.07 1141.85 Q1597.9 1138.28 1597.9 1131.18 Q1597.9 1124.05 1596.07 1120.5 Q1594.26 1116.94 1590.63 1116.94 M1590.63 1113.24 Q1596.44 1113.24 1599.49 1117.84 Q1602.57 1122.43 1602.57 1131.18 Q1602.57 1139.9 1599.49 1144.51 Q1596.44 1149.09 1590.63 1149.09 Q1584.82 1149.09 1581.74 1144.51 Q1578.68 1139.9 1578.68 1131.18 Q1578.68 1122.43 1581.74 1117.84 Q1584.82 1113.24 1590.63 1113.24 Z\" fill=\"#000000\" fill-rule=\"nonzero\" fill-opacity=\"1\" /><path clip-path=\"url(#clip240)\" d=\"M1610.79 1142.54 L1615.67 1142.54 L1615.67 1148.42 L1610.79 1148.42 L1610.79 1142.54 Z\" fill=\"#000000\" fill-rule=\"nonzero\" fill-opacity=\"1\" /><path clip-path=\"url(#clip240)\" d=\"M1629.89 1144.49 L1646.21 1144.49 L1646.21 1148.42 L1624.26 1148.42 L1624.26 1144.49 Q1626.92 1141.73 1631.51 1137.1 Q1636.11 1132.45 1637.29 1131.11 Q1639.54 1128.58 1640.42 1126.85 Q1641.32 1125.09 1641.32 1123.4 Q1641.32 1120.64 1639.38 1118.91 Q1637.46 1117.17 1634.35 1117.17 Q1632.15 1117.17 1629.7 1117.94 Q1627.27 1118.7 1624.49 1120.25 L1624.49 1115.53 Q1627.32 1114.39 1629.77 1113.81 Q1632.22 1113.24 1634.26 1113.24 Q1639.63 1113.24 1642.83 1115.92 Q1646.02 1118.61 1646.02 1123.1 Q1646.02 1125.23 1645.21 1127.15 Q1644.42 1129.05 1642.32 1131.64 Q1641.74 1132.31 1638.64 1135.53 Q1635.53 1138.72 1629.89 1144.49 Z\" fill=\"#000000\" fill-rule=\"nonzero\" fill-opacity=\"1\" /><path clip-path=\"url(#clip240)\" d=\"M1714.66 1116.94 Q1711.05 1116.94 1709.22 1120.5 Q1707.42 1124.05 1707.42 1131.18 Q1707.42 1138.28 1709.22 1141.85 Q1711.05 1145.39 1714.66 1145.39 Q1718.3 1145.39 1720.1 1141.85 Q1721.93 1138.28 1721.93 1131.18 Q1721.93 1124.05 1720.1 1120.5 Q1718.3 1116.94 1714.66 1116.94 M1714.66 1113.24 Q1720.47 1113.24 1723.53 1117.84 Q1726.61 1122.43 1726.61 1131.18 Q1726.61 1139.9 1723.53 1144.51 Q1720.47 1149.09 1714.66 1149.09 Q1708.85 1149.09 1705.77 1144.51 Q1702.72 1139.9 1702.72 1131.18 Q1702.72 1122.43 1705.77 1117.84 Q1708.85 1113.24 1714.66 1113.24 Z\" fill=\"#000000\" fill-rule=\"nonzero\" fill-opacity=\"1\" /><path clip-path=\"url(#clip240)\" d=\"M1734.83 1142.54 L1739.71 1142.54 L1739.71 1148.42 L1734.83 1148.42 L1734.83 1142.54 Z\" fill=\"#000000\" fill-rule=\"nonzero\" fill-opacity=\"1\" /><path clip-path=\"url(#clip240)\" d=\"M1762.74 1117.94 L1750.94 1136.38 L1762.74 1136.38 L1762.74 1117.94 M1761.51 1113.86 L1767.39 1113.86 L1767.39 1136.38 L1772.32 1136.38 L1772.32 1140.27 L1767.39 1140.27 L1767.39 1148.42 L1762.74 1148.42 L1762.74 1140.27 L1747.14 1140.27 L1747.14 1135.76 L1761.51 1113.86 Z\" fill=\"#000000\" fill-rule=\"nonzero\" fill-opacity=\"1\" /><path clip-path=\"url(#clip240)\" d=\"M1839.9 1116.94 Q1836.29 1116.94 1834.46 1120.5 Q1832.66 1124.05 1832.66 1131.18 Q1832.66 1138.28 1834.46 1141.85 Q1836.29 1145.39 1839.9 1145.39 Q1843.54 1145.39 1845.34 1141.85 Q1847.17 1138.28 1847.17 1131.18 Q1847.17 1124.05 1845.34 1120.5 Q1843.54 1116.94 1839.9 1116.94 M1839.9 1113.24 Q1845.71 1113.24 1848.77 1117.84 Q1851.85 1122.43 1851.85 1131.18 Q1851.85 1139.9 1848.77 1144.51 Q1845.71 1149.09 1839.9 1149.09 Q1834.09 1149.09 1831.01 1144.51 Q1827.96 1139.9 1827.96 1131.18 Q1827.96 1122.43 1831.01 1117.84 Q1834.09 1113.24 1839.9 1113.24 Z\" fill=\"#000000\" fill-rule=\"nonzero\" fill-opacity=\"1\" /><path clip-path=\"url(#clip240)\" d=\"M1860.07 1142.54 L1864.95 1142.54 L1864.95 1148.42 L1860.07 1148.42 L1860.07 1142.54 Z\" fill=\"#000000\" fill-rule=\"nonzero\" fill-opacity=\"1\" /><path clip-path=\"url(#clip240)\" d=\"M1885.71 1129.28 Q1882.57 1129.28 1880.71 1131.43 Q1878.88 1133.58 1878.88 1137.33 Q1878.88 1141.06 1880.71 1143.24 Q1882.57 1145.39 1885.71 1145.39 Q1888.86 1145.39 1890.69 1143.24 Q1892.54 1141.06 1892.54 1137.33 Q1892.54 1133.58 1890.69 1131.43 Q1888.86 1129.28 1885.71 1129.28 M1895 1114.62 L1895 1118.88 Q1893.24 1118.05 1891.43 1117.61 Q1889.65 1117.17 1887.89 1117.17 Q1883.26 1117.17 1880.81 1120.3 Q1878.38 1123.42 1878.03 1129.74 Q1879.39 1127.73 1881.45 1126.66 Q1883.51 1125.57 1885.99 1125.57 Q1891.2 1125.57 1894.21 1128.75 Q1897.24 1131.89 1897.24 1137.33 Q1897.24 1142.66 1894.09 1145.87 Q1890.94 1149.09 1885.71 1149.09 Q1879.72 1149.09 1876.55 1144.51 Q1873.38 1139.9 1873.38 1131.18 Q1873.38 1122.98 1877.26 1118.12 Q1881.15 1113.24 1887.7 1113.24 Q1889.46 1113.24 1891.25 1113.58 Q1893.05 1113.93 1895 1114.62 Z\" fill=\"#000000\" fill-rule=\"nonzero\" fill-opacity=\"1\" /><path clip-path=\"url(#clip240)\" d=\"M1965.11 1116.94 Q1961.5 1116.94 1959.67 1120.5 Q1957.86 1124.05 1957.86 1131.18 Q1957.86 1138.28 1959.67 1141.85 Q1961.5 1145.39 1965.11 1145.39 Q1968.74 1145.39 1970.55 1141.85 Q1972.38 1138.28 1972.38 1131.18 Q1972.38 1124.05 1970.55 1120.5 Q1968.74 1116.94 1965.11 1116.94 M1965.11 1113.24 Q1970.92 1113.24 1973.97 1117.84 Q1977.05 1122.43 1977.05 1131.18 Q1977.05 1139.9 1973.97 1144.51 Q1970.92 1149.09 1965.11 1149.09 Q1959.3 1149.09 1956.22 1144.51 Q1953.16 1139.9 1953.16 1131.18 Q1953.16 1122.43 1956.22 1117.84 Q1959.3 1113.24 1965.11 1113.24 Z\" fill=\"#000000\" fill-rule=\"nonzero\" fill-opacity=\"1\" /><path clip-path=\"url(#clip240)\" d=\"M1985.27 1142.54 L1990.15 1142.54 L1990.15 1148.42 L1985.27 1148.42 L1985.27 1142.54 Z\" fill=\"#000000\" fill-rule=\"nonzero\" fill-opacity=\"1\" /><path clip-path=\"url(#clip240)\" d=\"M2010.34 1132.01 Q2007.01 1132.01 2005.09 1133.79 Q2003.19 1135.57 2003.19 1138.7 Q2003.19 1141.82 2005.09 1143.61 Q2007.01 1145.39 2010.34 1145.39 Q2013.67 1145.39 2015.59 1143.61 Q2017.52 1141.8 2017.52 1138.7 Q2017.52 1135.57 2015.59 1133.79 Q2013.7 1132.01 2010.34 1132.01 M2005.66 1130.02 Q2002.65 1129.28 2000.96 1127.22 Q1999.3 1125.16 1999.3 1122.19 Q1999.3 1118.05 2002.24 1115.64 Q2005.2 1113.24 2010.34 1113.24 Q2015.5 1113.24 2018.44 1115.64 Q2021.38 1118.05 2021.38 1122.19 Q2021.38 1125.16 2019.69 1127.22 Q2018.02 1129.28 2015.04 1130.02 Q2018.42 1130.81 2020.29 1133.1 Q2022.19 1135.39 2022.19 1138.7 Q2022.19 1143.72 2019.11 1146.41 Q2016.06 1149.09 2010.34 1149.09 Q2004.62 1149.09 2001.54 1146.41 Q1998.49 1143.72 1998.49 1138.7 Q1998.49 1135.39 2000.39 1133.1 Q2002.28 1130.81 2005.66 1130.02 M2003.95 1122.63 Q2003.95 1125.32 2005.62 1126.82 Q2007.31 1128.33 2010.34 1128.33 Q2013.35 1128.33 2015.04 1126.82 Q2016.75 1125.32 2016.75 1122.63 Q2016.75 1119.95 2015.04 1118.44 Q2013.35 1116.94 2010.34 1116.94 Q2007.31 1116.94 2005.62 1118.44 Q2003.95 1119.95 2003.95 1122.63 Z\" fill=\"#000000\" fill-rule=\"nonzero\" fill-opacity=\"1\" /><path clip-path=\"url(#clip240)\" d=\"M2079.91 1144.49 L2087.55 1144.49 L2087.55 1118.12 L2079.24 1119.79 L2079.24 1115.53 L2087.5 1113.86 L2092.18 1113.86 L2092.18 1144.49 L2099.82 1144.49 L2099.82 1148.42 L2079.91 1148.42 L2079.91 1144.49 Z\" fill=\"#000000\" fill-rule=\"nonzero\" fill-opacity=\"1\" /><path clip-path=\"url(#clip240)\" d=\"M2109.26 1142.54 L2114.14 1142.54 L2114.14 1148.42 L2109.26 1148.42 L2109.26 1142.54 Z\" fill=\"#000000\" fill-rule=\"nonzero\" fill-opacity=\"1\" /><path clip-path=\"url(#clip240)\" d=\"M2134.33 1116.94 Q2130.72 1116.94 2128.89 1120.5 Q2127.08 1124.05 2127.08 1131.18 Q2127.08 1138.28 2128.89 1141.85 Q2130.72 1145.39 2134.33 1145.39 Q2137.96 1145.39 2139.77 1141.85 Q2141.6 1138.28 2141.6 1131.18 Q2141.6 1124.05 2139.77 1120.5 Q2137.96 1116.94 2134.33 1116.94 M2134.33 1113.24 Q2140.14 1113.24 2143.2 1117.84 Q2146.27 1122.43 2146.27 1131.18 Q2146.27 1139.9 2143.2 1144.51 Q2140.14 1149.09 2134.33 1149.09 Q2128.52 1149.09 2125.44 1144.51 Q2122.39 1139.9 2122.39 1131.18 Q2122.39 1122.43 2125.44 1117.84 Q2128.52 1113.24 2134.33 1113.24 Z\" fill=\"#000000\" fill-rule=\"nonzero\" fill-opacity=\"1\" /><path clip-path=\"url(#clip240)\" d=\"M1814.23 1191.64 Q1814.23 1193.45 1813.11 1194.48 Q1811.98 1195.48 1810.69 1195.48 Q1809.47 1195.48 1808.82 1194.77 Q1808.18 1194.06 1808.18 1193.16 Q1808.18 1191.93 1809.08 1190.87 Q1809.98 1189.81 1811.34 1189.58 Q1810.02 1188.75 1808.05 1188.75 Q1806.76 1188.75 1805.64 1189.42 Q1804.54 1190.1 1803.86 1190.97 Q1803.22 1191.84 1802.64 1193.09 Q1802.09 1194.32 1801.87 1195.06 Q1801.67 1195.77 1801.51 1196.54 L1799.26 1205.56 Q1798.16 1209.84 1798.16 1211.35 Q1798.16 1213.22 1799.07 1214.48 Q1799.97 1215.7 1801.77 1215.7 Q1802.48 1215.7 1803.28 1215.51 Q1804.09 1215.28 1805.12 1214.7 Q1806.18 1214.09 1807.12 1213.19 Q1808.08 1212.26 1809.02 1210.68 Q1809.95 1209.1 1810.56 1207.07 Q1810.76 1206.36 1811.4 1206.36 Q1812.21 1206.36 1812.21 1207.01 Q1812.21 1207.55 1811.75 1208.71 Q1811.34 1209.84 1810.4 1211.32 Q1809.5 1212.77 1808.31 1214.09 Q1807.12 1215.38 1805.35 1216.28 Q1803.57 1217.18 1801.64 1217.18 Q1798.87 1217.18 1797.04 1215.7 Q1795.2 1214.22 1794.52 1212.16 Q1794.36 1212.45 1794.14 1212.84 Q1793.91 1213.22 1793.24 1214.09 Q1792.59 1214.93 1791.85 1215.57 Q1791.11 1216.19 1789.95 1216.67 Q1788.82 1217.18 1787.6 1217.18 Q1786.05 1217.18 1784.67 1216.73 Q1783.32 1216.28 1782.35 1215.25 Q1781.38 1214.22 1781.38 1212.8 Q1781.38 1211.23 1782.45 1210.13 Q1783.54 1209 1785.02 1209 Q1785.96 1209 1786.7 1209.55 Q1787.47 1210.1 1787.47 1211.29 Q1787.47 1212.61 1786.57 1213.61 Q1785.67 1214.61 1784.38 1214.87 Q1785.7 1215.7 1787.66 1215.7 Q1789.79 1215.7 1791.46 1213.83 Q1793.14 1211.97 1793.94 1208.84 Q1795.94 1201.34 1796.71 1197.99 Q1797.49 1194.61 1797.49 1193.16 Q1797.49 1191.81 1797.13 1190.87 Q1796.78 1189.94 1796.17 1189.52 Q1795.59 1189.07 1795.04 1188.91 Q1794.52 1188.75 1793.94 1188.75 Q1792.98 1188.75 1791.88 1189.13 Q1790.82 1189.52 1789.53 1190.42 Q1788.28 1191.29 1787.08 1193.09 Q1785.89 1194.9 1785.09 1197.38 Q1784.93 1198.12 1784.22 1198.12 Q1783.45 1198.09 1783.45 1197.44 Q1783.45 1196.89 1783.86 1195.77 Q1784.32 1194.61 1785.22 1193.16 Q1786.15 1191.71 1787.34 1190.42 Q1788.57 1189.1 1790.34 1188.2 Q1792.14 1187.3 1794.07 1187.3 Q1794.94 1187.3 1795.78 1187.49 Q1796.65 1187.65 1797.68 1188.13 Q1798.74 1188.62 1799.68 1189.68 Q1800.61 1190.74 1801.19 1192.29 Q1801.58 1191.55 1802.09 1190.84 Q1802.64 1190.13 1803.48 1189.26 Q1804.35 1188.36 1805.54 1187.84 Q1806.76 1187.3 1808.12 1187.3 Q1809.44 1187.3 1810.72 1187.65 Q1812.01 1187.97 1813.11 1189.04 Q1814.23 1190.07 1814.23 1191.64 Z\" fill=\"#000000\" fill-rule=\"nonzero\" fill-opacity=\"1\" /><polyline clip-path=\"url(#clip240)\" style=\"stroke:#000000; stroke-linecap:round; stroke-linejoin:round; stroke-width:4; stroke-opacity:1; fill:none\" points=\"1487.37,1086.02 1487.37,460.631 \"/>\n",
       "<polyline clip-path=\"url(#clip240)\" style=\"stroke:#000000; stroke-linecap:round; stroke-linejoin:round; stroke-width:4; stroke-opacity:1; fill:none\" points=\"1487.37,1086.02 1501.02,1086.02 \"/>\n",
       "<polyline clip-path=\"url(#clip240)\" style=\"stroke:#000000; stroke-linecap:round; stroke-linejoin:round; stroke-width:4; stroke-opacity:1; fill:none\" points=\"1487.37,929.673 1501.02,929.673 \"/>\n",
       "<polyline clip-path=\"url(#clip240)\" style=\"stroke:#000000; stroke-linecap:round; stroke-linejoin:round; stroke-width:4; stroke-opacity:1; fill:none\" points=\"1487.37,773.326 1501.02,773.326 \"/>\n",
       "<polyline clip-path=\"url(#clip240)\" style=\"stroke:#000000; stroke-linecap:round; stroke-linejoin:round; stroke-width:4; stroke-opacity:1; fill:none\" points=\"1487.37,616.978 1501.02,616.978 \"/>\n",
       "<polyline clip-path=\"url(#clip240)\" style=\"stroke:#000000; stroke-linecap:round; stroke-linejoin:round; stroke-width:4; stroke-opacity:1; fill:none\" points=\"1487.37,460.631 1501.02,460.631 \"/>\n",
       "<path clip-path=\"url(#clip240)\" d=\"M1314.26 1086.47 L1343.94 1086.47 L1343.94 1090.41 L1314.26 1090.41 L1314.26 1086.47 Z\" fill=\"#000000\" fill-rule=\"nonzero\" fill-opacity=\"1\" /><path clip-path=\"url(#clip240)\" d=\"M1364.03 1071.82 Q1360.42 1071.82 1358.59 1075.38 Q1356.78 1078.93 1356.78 1086.06 Q1356.78 1093.16 1358.59 1096.73 Q1360.42 1100.27 1364.03 1100.27 Q1367.66 1100.27 1369.47 1096.73 Q1371.3 1093.16 1371.3 1086.06 Q1371.3 1078.93 1369.47 1075.38 Q1367.66 1071.82 1364.03 1071.82 M1364.03 1068.12 Q1369.84 1068.12 1372.89 1072.72 Q1375.97 1077.31 1375.97 1086.06 Q1375.97 1094.78 1372.89 1099.39 Q1369.84 1103.97 1364.03 1103.97 Q1358.22 1103.97 1355.14 1099.39 Q1352.08 1094.78 1352.08 1086.06 Q1352.08 1077.31 1355.14 1072.72 Q1358.22 1068.12 1364.03 1068.12 Z\" fill=\"#000000\" fill-rule=\"nonzero\" fill-opacity=\"1\" /><path clip-path=\"url(#clip240)\" d=\"M1384.19 1097.42 L1389.07 1097.42 L1389.07 1103.3 L1384.19 1103.3 L1384.19 1097.42 Z\" fill=\"#000000\" fill-rule=\"nonzero\" fill-opacity=\"1\" /><path clip-path=\"url(#clip240)\" d=\"M1399.31 1068.74 L1417.66 1068.74 L1417.66 1072.68 L1403.59 1072.68 L1403.59 1081.15 Q1404.61 1080.8 1405.63 1080.64 Q1406.64 1080.45 1407.66 1080.45 Q1413.45 1080.45 1416.83 1083.63 Q1420.21 1086.8 1420.21 1092.21 Q1420.21 1097.79 1416.74 1100.89 Q1413.26 1103.97 1406.94 1103.97 Q1404.77 1103.97 1402.5 1103.6 Q1400.26 1103.23 1397.85 1102.49 L1397.85 1097.79 Q1399.93 1098.93 1402.15 1099.48 Q1404.38 1100.04 1406.85 1100.04 Q1410.86 1100.04 1413.19 1097.93 Q1415.53 1095.82 1415.53 1092.21 Q1415.53 1088.6 1413.19 1086.5 Q1410.86 1084.39 1406.85 1084.39 Q1404.98 1084.39 1403.1 1084.81 Q1401.25 1085.22 1399.31 1086.1 L1399.31 1068.74 Z\" fill=\"#000000\" fill-rule=\"nonzero\" fill-opacity=\"1\" /><path clip-path=\"url(#clip240)\" d=\"M1439.42 1071.82 Q1435.81 1071.82 1433.98 1075.38 Q1432.18 1078.93 1432.18 1086.06 Q1432.18 1093.16 1433.98 1096.73 Q1435.81 1100.27 1439.42 1100.27 Q1443.06 1100.27 1444.86 1096.73 Q1446.69 1093.16 1446.69 1086.06 Q1446.69 1078.93 1444.86 1075.38 Q1443.06 1071.82 1439.42 1071.82 M1439.42 1068.12 Q1445.23 1068.12 1448.29 1072.72 Q1451.37 1077.31 1451.37 1086.06 Q1451.37 1094.78 1448.29 1099.39 Q1445.23 1103.97 1439.42 1103.97 Q1433.61 1103.97 1430.53 1099.39 Q1427.48 1094.78 1427.48 1086.06 Q1427.48 1077.31 1430.53 1072.72 Q1433.61 1068.12 1439.42 1068.12 Z\" fill=\"#000000\" fill-rule=\"nonzero\" fill-opacity=\"1\" /><path clip-path=\"url(#clip240)\" d=\"M1315.26 930.125 L1344.93 930.125 L1344.93 934.06 L1315.26 934.06 L1315.26 930.125 Z\" fill=\"#000000\" fill-rule=\"nonzero\" fill-opacity=\"1\" /><path clip-path=\"url(#clip240)\" d=\"M1365.02 915.472 Q1361.41 915.472 1359.58 919.037 Q1357.78 922.579 1357.78 929.708 Q1357.78 936.815 1359.58 940.379 Q1361.41 943.921 1365.02 943.921 Q1368.66 943.921 1370.46 940.379 Q1372.29 936.815 1372.29 929.708 Q1372.29 922.579 1370.46 919.037 Q1368.66 915.472 1365.02 915.472 M1365.02 911.768 Q1370.83 911.768 1373.89 916.375 Q1376.97 920.958 1376.97 929.708 Q1376.97 938.435 1373.89 943.041 Q1370.83 947.625 1365.02 947.625 Q1359.21 947.625 1356.13 943.041 Q1353.08 938.435 1353.08 929.708 Q1353.08 920.958 1356.13 916.375 Q1359.21 911.768 1365.02 911.768 Z\" fill=\"#000000\" fill-rule=\"nonzero\" fill-opacity=\"1\" /><path clip-path=\"url(#clip240)\" d=\"M1385.19 941.074 L1390.07 941.074 L1390.07 946.953 L1385.19 946.953 L1385.19 941.074 Z\" fill=\"#000000\" fill-rule=\"nonzero\" fill-opacity=\"1\" /><path clip-path=\"url(#clip240)\" d=\"M1404.28 943.018 L1420.6 943.018 L1420.6 946.953 L1398.66 946.953 L1398.66 943.018 Q1401.32 940.264 1405.9 935.634 Q1410.51 930.981 1411.69 929.639 Q1413.94 927.116 1414.82 925.38 Q1415.72 923.62 1415.72 921.93 Q1415.72 919.176 1413.77 917.44 Q1411.85 915.704 1408.75 915.704 Q1406.55 915.704 1404.1 916.468 Q1401.67 917.231 1398.89 918.782 L1398.89 914.06 Q1401.71 912.926 1404.17 912.347 Q1406.62 911.768 1408.66 911.768 Q1414.03 911.768 1417.22 914.454 Q1420.42 917.139 1420.42 921.63 Q1420.42 923.759 1419.61 925.68 Q1418.82 927.579 1416.71 930.171 Q1416.13 930.842 1413.03 934.06 Q1409.93 937.254 1404.28 943.018 Z\" fill=\"#000000\" fill-rule=\"nonzero\" fill-opacity=\"1\" /><path clip-path=\"url(#clip240)\" d=\"M1430.46 912.393 L1448.82 912.393 L1448.82 916.329 L1434.75 916.329 L1434.75 924.801 Q1435.76 924.454 1436.78 924.292 Q1437.8 924.106 1438.82 924.106 Q1444.61 924.106 1447.99 927.278 Q1451.37 930.449 1451.37 935.866 Q1451.37 941.444 1447.89 944.546 Q1444.42 947.625 1438.1 947.625 Q1435.93 947.625 1433.66 947.254 Q1431.41 946.884 1429 946.143 L1429 941.444 Q1431.09 942.579 1433.31 943.134 Q1435.53 943.69 1438.01 943.69 Q1442.01 943.69 1444.35 941.583 Q1446.69 939.477 1446.69 935.866 Q1446.69 932.254 1444.35 930.148 Q1442.01 928.042 1438.01 928.042 Q1436.13 928.042 1434.26 928.458 Q1432.41 928.875 1430.46 929.755 L1430.46 912.393 Z\" fill=\"#000000\" fill-rule=\"nonzero\" fill-opacity=\"1\" /><path clip-path=\"url(#clip240)\" d=\"M1364.03 759.125 Q1360.42 759.125 1358.59 762.689 Q1356.78 766.231 1356.78 773.361 Q1356.78 780.467 1358.59 784.032 Q1360.42 787.574 1364.03 787.574 Q1367.66 787.574 1369.47 784.032 Q1371.3 780.467 1371.3 773.361 Q1371.3 766.231 1369.47 762.689 Q1367.66 759.125 1364.03 759.125 M1364.03 755.421 Q1369.84 755.421 1372.89 760.027 Q1375.97 764.611 1375.97 773.361 Q1375.97 782.088 1372.89 786.694 Q1369.84 791.277 1364.03 791.277 Q1358.22 791.277 1355.14 786.694 Q1352.08 782.088 1352.08 773.361 Q1352.08 764.611 1355.14 760.027 Q1358.22 755.421 1364.03 755.421 Z\" fill=\"#000000\" fill-rule=\"nonzero\" fill-opacity=\"1\" /><path clip-path=\"url(#clip240)\" d=\"M1384.19 784.726 L1389.07 784.726 L1389.07 790.606 L1384.19 790.606 L1384.19 784.726 Z\" fill=\"#000000\" fill-rule=\"nonzero\" fill-opacity=\"1\" /><path clip-path=\"url(#clip240)\" d=\"M1409.26 759.125 Q1405.65 759.125 1403.82 762.689 Q1402.01 766.231 1402.01 773.361 Q1402.01 780.467 1403.82 784.032 Q1405.65 787.574 1409.26 787.574 Q1412.89 787.574 1414.7 784.032 Q1416.53 780.467 1416.53 773.361 Q1416.53 766.231 1414.7 762.689 Q1412.89 759.125 1409.26 759.125 M1409.26 755.421 Q1415.07 755.421 1418.13 760.027 Q1421.2 764.611 1421.2 773.361 Q1421.2 782.088 1418.13 786.694 Q1415.07 791.277 1409.26 791.277 Q1403.45 791.277 1400.37 786.694 Q1397.32 782.088 1397.32 773.361 Q1397.32 764.611 1400.37 760.027 Q1403.45 755.421 1409.26 755.421 Z\" fill=\"#000000\" fill-rule=\"nonzero\" fill-opacity=\"1\" /><path clip-path=\"url(#clip240)\" d=\"M1439.42 759.125 Q1435.81 759.125 1433.98 762.689 Q1432.18 766.231 1432.18 773.361 Q1432.18 780.467 1433.98 784.032 Q1435.81 787.574 1439.42 787.574 Q1443.06 787.574 1444.86 784.032 Q1446.69 780.467 1446.69 773.361 Q1446.69 766.231 1444.86 762.689 Q1443.06 759.125 1439.42 759.125 M1439.42 755.421 Q1445.23 755.421 1448.29 760.027 Q1451.37 764.611 1451.37 773.361 Q1451.37 782.088 1448.29 786.694 Q1445.23 791.277 1439.42 791.277 Q1433.61 791.277 1430.53 786.694 Q1427.48 782.088 1427.48 773.361 Q1427.48 764.611 1430.53 760.027 Q1433.61 755.421 1439.42 755.421 Z\" fill=\"#000000\" fill-rule=\"nonzero\" fill-opacity=\"1\" /><path clip-path=\"url(#clip240)\" d=\"M1365.02 602.777 Q1361.41 602.777 1359.58 606.342 Q1357.78 609.884 1357.78 617.013 Q1357.78 624.12 1359.58 627.684 Q1361.41 631.226 1365.02 631.226 Q1368.66 631.226 1370.46 627.684 Q1372.29 624.12 1372.29 617.013 Q1372.29 609.884 1370.46 606.342 Q1368.66 602.777 1365.02 602.777 M1365.02 599.073 Q1370.83 599.073 1373.89 603.68 Q1376.97 608.263 1376.97 617.013 Q1376.97 625.74 1373.89 630.346 Q1370.83 634.93 1365.02 634.93 Q1359.21 634.93 1356.13 630.346 Q1353.08 625.74 1353.08 617.013 Q1353.08 608.263 1356.13 603.68 Q1359.21 599.073 1365.02 599.073 Z\" fill=\"#000000\" fill-rule=\"nonzero\" fill-opacity=\"1\" /><path clip-path=\"url(#clip240)\" d=\"M1385.19 628.379 L1390.07 628.379 L1390.07 634.258 L1385.19 634.258 L1385.19 628.379 Z\" fill=\"#000000\" fill-rule=\"nonzero\" fill-opacity=\"1\" /><path clip-path=\"url(#clip240)\" d=\"M1404.28 630.323 L1420.6 630.323 L1420.6 634.258 L1398.66 634.258 L1398.66 630.323 Q1401.32 627.569 1405.9 622.939 Q1410.51 618.286 1411.69 616.944 Q1413.94 614.421 1414.82 612.685 Q1415.72 610.925 1415.72 609.235 Q1415.72 606.481 1413.77 604.745 Q1411.85 603.009 1408.75 603.009 Q1406.55 603.009 1404.1 603.773 Q1401.67 604.536 1398.89 606.087 L1398.89 601.365 Q1401.71 600.231 1404.17 599.652 Q1406.62 599.073 1408.66 599.073 Q1414.03 599.073 1417.22 601.759 Q1420.42 604.444 1420.42 608.935 Q1420.42 611.064 1419.61 612.985 Q1418.82 614.884 1416.71 617.476 Q1416.13 618.147 1413.03 621.365 Q1409.93 624.559 1404.28 630.323 Z\" fill=\"#000000\" fill-rule=\"nonzero\" fill-opacity=\"1\" /><path clip-path=\"url(#clip240)\" d=\"M1430.46 599.698 L1448.82 599.698 L1448.82 603.634 L1434.75 603.634 L1434.75 612.106 Q1435.76 611.759 1436.78 611.597 Q1437.8 611.411 1438.82 611.411 Q1444.61 611.411 1447.99 614.583 Q1451.37 617.754 1451.37 623.171 Q1451.37 628.749 1447.89 631.851 Q1444.42 634.93 1438.1 634.93 Q1435.93 634.93 1433.66 634.559 Q1431.41 634.189 1429 633.448 L1429 628.749 Q1431.09 629.884 1433.31 630.439 Q1435.53 630.995 1438.01 630.995 Q1442.01 630.995 1444.35 628.888 Q1446.69 626.782 1446.69 623.171 Q1446.69 619.559 1444.35 617.453 Q1442.01 615.347 1438.01 615.347 Q1436.13 615.347 1434.26 615.763 Q1432.41 616.18 1430.46 617.06 L1430.46 599.698 Z\" fill=\"#000000\" fill-rule=\"nonzero\" fill-opacity=\"1\" /><path clip-path=\"url(#clip240)\" d=\"M1364.03 446.43 Q1360.42 446.43 1358.59 449.994 Q1356.78 453.536 1356.78 460.666 Q1356.78 467.772 1358.59 471.337 Q1360.42 474.879 1364.03 474.879 Q1367.66 474.879 1369.47 471.337 Q1371.3 467.772 1371.3 460.666 Q1371.3 453.536 1369.47 449.994 Q1367.66 446.43 1364.03 446.43 M1364.03 442.726 Q1369.84 442.726 1372.89 447.332 Q1375.97 451.916 1375.97 460.666 Q1375.97 469.393 1372.89 473.999 Q1369.84 478.582 1364.03 478.582 Q1358.22 478.582 1355.14 473.999 Q1352.08 469.393 1352.08 460.666 Q1352.08 451.916 1355.14 447.332 Q1358.22 442.726 1364.03 442.726 Z\" fill=\"#000000\" fill-rule=\"nonzero\" fill-opacity=\"1\" /><path clip-path=\"url(#clip240)\" d=\"M1384.19 472.031 L1389.07 472.031 L1389.07 477.911 L1384.19 477.911 L1384.19 472.031 Z\" fill=\"#000000\" fill-rule=\"nonzero\" fill-opacity=\"1\" /><path clip-path=\"url(#clip240)\" d=\"M1399.31 443.351 L1417.66 443.351 L1417.66 447.286 L1403.59 447.286 L1403.59 455.758 Q1404.61 455.411 1405.63 455.249 Q1406.64 455.064 1407.66 455.064 Q1413.45 455.064 1416.83 458.235 Q1420.21 461.406 1420.21 466.823 Q1420.21 472.402 1416.74 475.504 Q1413.26 478.582 1406.94 478.582 Q1404.77 478.582 1402.5 478.212 Q1400.26 477.842 1397.85 477.101 L1397.85 472.402 Q1399.93 473.536 1402.15 474.092 Q1404.38 474.647 1406.85 474.647 Q1410.86 474.647 1413.19 472.541 Q1415.53 470.434 1415.53 466.823 Q1415.53 463.212 1413.19 461.106 Q1410.86 458.999 1406.85 458.999 Q1404.98 458.999 1403.1 459.416 Q1401.25 459.832 1399.31 460.712 L1399.31 443.351 Z\" fill=\"#000000\" fill-rule=\"nonzero\" fill-opacity=\"1\" /><path clip-path=\"url(#clip240)\" d=\"M1439.42 446.43 Q1435.81 446.43 1433.98 449.994 Q1432.18 453.536 1432.18 460.666 Q1432.18 467.772 1433.98 471.337 Q1435.81 474.879 1439.42 474.879 Q1443.06 474.879 1444.86 471.337 Q1446.69 467.772 1446.69 460.666 Q1446.69 453.536 1444.86 449.994 Q1443.06 446.43 1439.42 446.43 M1439.42 442.726 Q1445.23 442.726 1448.29 447.332 Q1451.37 451.916 1451.37 460.666 Q1451.37 469.393 1448.29 473.999 Q1445.23 478.582 1439.42 478.582 Q1433.61 478.582 1430.53 473.999 Q1427.48 469.393 1427.48 460.666 Q1427.48 451.916 1430.53 447.332 Q1433.61 442.726 1439.42 442.726 Z\" fill=\"#000000\" fill-rule=\"nonzero\" fill-opacity=\"1\" /><path clip-path=\"url(#clip240)\" d=\"M1230.86 758.889 Q1231.31 758.889 1232.37 759.178 L1257.55 765.491 Q1263.16 766.876 1267.09 771.384 Q1271.02 775.861 1271.02 780.95 Q1271.02 784.009 1269.37 785.974 Q1267.76 787.938 1265.28 787.938 Q1263.09 787.938 1262.03 786.779 Q1261 785.619 1261 784.235 Q1261 783.784 1261.13 783.301 Q1261.26 782.817 1261.81 782.302 Q1262.35 781.787 1263.29 781.787 Q1264.8 781.787 1265.99 783.107 Q1266.54 783.751 1266.67 784.363 Q1266.8 784.943 1266.8 785.941 Q1267.7 785.555 1268.31 784.846 Q1268.92 784.138 1269.15 783.333 Q1269.41 782.528 1269.47 782.012 Q1269.57 781.465 1269.57 780.95 Q1269.57 776.827 1265.41 773.671 Q1264.16 772.737 1262.9 772.061 Q1261.68 771.352 1260.16 770.837 Q1258.68 770.322 1257.88 770.096 Q1257.07 769.839 1255.24 769.388 Q1258.23 772.383 1258.23 776.054 Q1258.23 777.6 1257.81 778.985 Q1257.39 780.338 1256.52 781.529 Q1255.62 782.721 1254.04 783.429 Q1252.47 784.106 1250.37 784.106 Q1248.15 784.106 1245.12 783.236 Q1242.1 782.367 1236.52 780.273 Q1233.4 779.146 1231.89 779.146 Q1231.15 779.146 1230.7 779.307 Q1230.21 779.468 1230.05 779.79 Q1229.86 780.112 1229.83 780.305 Q1229.79 780.466 1229.79 780.789 Q1229.79 782.689 1231.73 784.46 Q1233.66 786.231 1237.97 787.455 Q1238.78 787.713 1238.97 787.874 Q1239.17 788.035 1239.17 788.518 Q1239.13 789.323 1238.49 789.323 Q1238.23 789.323 1237.23 789.033 Q1236.2 788.743 1234.69 788.067 Q1233.14 787.359 1231.76 786.392 Q1230.34 785.426 1229.34 783.912 Q1228.34 782.367 1228.34 780.595 Q1228.34 778.18 1229.92 776.698 Q1231.47 775.185 1233.75 775.185 Q1234.69 775.185 1235.53 775.442 Q1236.33 775.668 1238.49 776.505 Q1247.18 779.887 1251.44 779.887 Q1252.47 779.887 1253.34 779.726 Q1254.17 779.532 1255.01 779.114 Q1255.82 778.695 1256.3 777.858 Q1256.75 776.988 1256.75 775.797 Q1256.75 774.283 1256.04 772.866 Q1255.3 771.417 1254.3 770.515 Q1253.3 769.581 1252.47 769.033 Q1251.6 768.454 1251.15 768.325 L1239.29 765.362 L1234.01 764.041 Q1231.15 763.43 1230.44 763.14 Q1229.76 762.753 1229.41 762.077 Q1229.05 761.401 1229.05 760.821 Q1229.05 760.016 1229.54 759.468 Q1230.02 758.889 1230.86 758.889 Z\" fill=\"#000000\" fill-rule=\"nonzero\" fill-opacity=\"1\" /><path clip-path=\"url(#clip240)\" d=\"M1792.08 20.1573 L1780.98 50.2555 L1803.22 50.2555 L1792.08 20.1573 M1787.46 12.096 L1796.74 12.096 L1819.79 72.576 L1811.28 72.576 L1805.77 57.061 L1778.51 57.061 L1773 72.576 L1764.37 72.576 L1787.46 12.096 Z\" fill=\"#000000\" fill-rule=\"nonzero\" fill-opacity=\"1\" /><path clip-path=\"url(#clip240)\" d=\"M1828.3 27.2059 L1835.75 27.2059 L1835.75 72.576 L1828.3 72.576 L1828.3 27.2059 M1828.3 9.54393 L1835.75 9.54393 L1835.75 18.9825 L1828.3 18.9825 L1828.3 9.54393 Z\" fill=\"#000000\" fill-rule=\"nonzero\" fill-opacity=\"1\" /><g clip-path=\"url(#clip244)\">\n",
       "<image width=\"630\" height=\"630\" xlink:href=\"data:image/png;base64,\n",
       "iVBORw0KGgoAAAANSUhEUgAAAnYAAAJ2CAYAAADSVM/5AAAS8klEQVR4nO3d3W4d13mA4b1JipZs\n",
       "2Y7rJkWBAkXhoDfRi89tFEV6FBQtnPo//pHIzZ2DHHGvT+5UFE3y9fOccWE4HFKU9Xow36z91R9+\n",
       "f9wBAPDknT30BQAA8G4IOwCACGEHABAh7AAAIoQdAECEsAMAiBB2AAARwg4AIELYAQBECDsAgAhh\n",
       "BwAQIewAACKEHQBAhLADAIgQdgAAEcIOACBC2AEARAg7AIAIYQcAECHsAAAihB0AQISwAwCIEHYA\n",
       "ABHCDgAgQtgBAEQIOwCACGEHABAh7AAAIoQdAECEsAMAiBB2AAARwg4AIELYAQBECDsAgAhhBwAQ\n",
       "IewAACKEHQBAhLADAIgQdgAAEcIOACBC2AEARAg7AIAIYQcAECHsAAAihB0AQISwAwCIEHYAABHC\n",
       "DgAgQtgBAEQIOwCACGEHABAh7AAAIoQdAECEsAMAiBB2AAARwg4AIELYAQBECDsAgAhhBwAQIewA\n",
       "ACKEHQBAhLADAIgQdgAAEcIOACBC2AEARAg7AIAIYQcAECHsAAAihB0AQISwAwCIEHYAABHCDgAg\n",
       "QtgBAEQIOwCACGEHABAh7AAAIoQdAECEsAMAiBB2AAARwg4AIELYAQBECDsAgAhhBwAQIewAACKE\n",
       "HQBAhLADAIgQdgAAEcIOACBC2AEARAg7AIAIYQcAECHsAAAihB0AQISwAwCIEHYAABHCDgAgQtgB\n",
       "AEQIOwCACGEHABAh7AAAIoQdAECEsAMAiBB2AAARwg4AIELYAQBECDsAgAhhBwAQIewAACKEHQBA\n",
       "hLADAIgQdgAAEcIOACBC2AEARAg7AIAIYQcAECHsAAAihB0AQISwAwCIEHYAABHCDgAgQtgBAEQI\n",
       "OwCACGEHABAh7AAAIoQdAECEsAMAiBB2AAARwg4AIELYAQBECDsAgAhhBwAQIewAACKEHQBAhLAD\n",
       "AIgQdgAAEcIOACBC2AEARAg7AIAIYQcAECHsAAAihB0AQISwAwCIEHYAABHCDgAgQtgBAEQIOwCA\n",
       "CGEHABAh7AAAIoQdAECEsAMAiBB2AAARwg4AIELYAQBECDsAgAhhBwAQIewAACKEHQBAhLADAIgQ\n",
       "dgAAEcIOACBC2AEARAg7AIAIYQcAECHsAAAihB0AQISwAwCIEHYAABHCDgAgQtgBAEQIOwCACGEH\n",
       "ABAh7AAAIoQdAECEsAMAiBB2AAARwg4AIELYAQBECDsAgAhhBwAQIewAACKEHQBAhLADAIgQdgAA\n",
       "EcIOACBC2AEARAg7AIAIYQcAECHsAAAihB0AQISwAwCIEHYAABHCDgAgQtgBAEQIOwCACGEHABAh\n",
       "7AAAIoQdAECEsAMAiBB2AAARwg4AIELYAQBECDsAgAhhBwAQIewAACKEHQBAhLADAIgQdgAAEcIO\n",
       "ACBC2AEARAg7AIAIYQcAECHsAAAihB0AQISwAwCIEHYAABHCDgAgQtgBAEQIOwCACGEHABAh7AAA\n",
       "IoQdAECEsAMAiBB2AAARwg4AIELYAQBECDsAgAhhBwAQIewAACKEHQBAhLADAIgQdgAAEcIOACBC\n",
       "2AEARAg7AIAIYQcAECHsAAAihB0AQISwAwCIEHYAABHCDgAgQtgBAEQIOwCACGEHABAh7AAAIoQd\n",
       "AECEsAMAiBB2AAARwg4AIELYAQBECDsAgAhhBwAQIewAACKEHQBAhLADAIgQdgAAEcIOACBC2AEA\n",
       "RAg7AIAIYQcAECHsAAAihB0AQISwAwCIEHYAABHCDgAgQtgBAEQIOwCACGEHABAh7AAAIi4e+gIA\n",
       "eMKOD30Bj8z+oS+AXzt37AAAIoQdAECEsAMAiBB2AAARhicAHsovMnhw/NkP/7Y2LI5rN9uOu9l2\n",
       "3P70uK3nn9buYj9MPGxZ26/3Ro5n0+cN91CmtfFzp2mMrde74fPuwqDIo+SOHQBAhLADAIgQdgAA\n",
       "EcIOACDC8ATAmzy5XRU2DBpsHXbYuLY/HNbj3nZt83XcYaBinEUYFs+m4YaTtfP1mP35+fp509rZ\n",
       "unYczjcdt3nwYst0wzicsdH0IzdQ8eDcsQMAiBB2AAARwg4AIELYAQBEGJ4AeJPH/CD4OCuwZbeE\n",
       "4dOmQYHx/OvicfOuFRvONw5AbD3XO7ZlqGDrjhVvvVPEmz5343Hv0mP+u8At7tgBAEQIOwCACGEH\n",
       "ABAh7AAAIgxPAOx2uyf3dPhwucctD/OPOyoMuyBMOx5cPFuPG9cuh7X3/s/jxmPO13PtztZ/usbr\n",
       "HeyP004W1+txh6th7fXthevX6zHXr4a16bjp/OvatGPHuNvHcVg73aFj+t4H+627eGz25LZwedLc\n",
       "sQMAiBB2AAARwg4AIELYAQBEGJ4AeII2DUrsdutgxPkwKDENOzxb124uX6zHvfdyPe75R8NxH6/X\n",
       "dvnJrQ/PLtdjLs7X85+fP1/WzvbrEMc4YDIMGRwO68DD4fD9unb93e1zvf56/ZKvvlmv7dW3w3F/\n",
       "WY97/cN63NV6bdPQxu56GADZnaxNMwynAxa73e44/WrdaaBiGkwyUHFf3LEDAIgQdgAAEcIOACDC\n",
       "M3YAT9H4zNP4UNntj2+Gl9Qehuezhuf1zvbrvYCb6bjh+amb4SXAx+ufbl/G1fos2uHi/fXaztcX\n",
       "Ge+GZ+ymRw6PN9OLfNdn1o6HH9fzXd9+Bu7s9foc3v5qWHu9nutsWBtfZLz1pcXTn+vpn/34OzOs\n",
       "eUHxk+aOHQBAhLADAIgQdgAAEcIOACDC8ATAbncPD4zfr+mVr7thQGF3ffJQ/fCQ/X56GH9Ym16C\n",
       "u7seHu6/Go67Ws93vDq5luvhz2C4jONhmopYl97wpt116Xz45PU9zsu/mPuL4d7Is2lt+Kf2YuPa\n",
       "+bp2HF4yvTsbvu7p2jRNMv0mjcfdwTs+HT/PHTsAgAhhBwAQIewAACKEHQBAhOEJ4IE9xJPVGwcl\n",
       "7n2gYut1DGvTDgrDIMP+p9u7O+y+X3c8OH67nuvqq3XHh9dffLys/eXzT5a1r774u2Xtz9/8Zln7\n",
       "/PsPbx/z0/PlmC9frTtKfHu93pN4NW0oMfzcLoe5g5cX64G/ebYOgPz981e3Pv7tix/WY16uu2d8\n",
       "+snXy9qHn361rL349Jtl7dkn3y1r5x+/Wtb2L4dv7MXJz/O9dceO47P157ubhjOGXUfGIYtxu491\n",
       "6d79igc23LEDAIgQdgAAEcIOACBC2AEARBieAH5Bj+SJ5nGXgnHxnq9jOP/WLzntIHE17ALx4+0H\n",
       "7cdBiT9/uKz9+D+fLmtf/vdvl7U/ff4Py9p/frV+7n9892JZ++N3t7+HPx6+WI75r+O/L2vfvvrT\n",
       "snY4rIMHx+GHeXa2Xsf7l/+4rP3u4l+XtX+5+adbH3/2wcvlmM8+XAdHPvtqHYD456//d/2a365r\n",
       "H/2w/kyev14HL84P6yDH2e5kcGYYbNgPa+Ov4LQTxzRQMXqAv/fTN/FI/vNz39yxAwCIEHYAABHC\n",
       "DgAgQtgBAEQYngB+QY/kiebxSz7AG/On65jWpus4W/+/fNpFYP/i9m4D+2Ho4tlufbh/f7EOWVy8\n",
       "WHc8eP/l98va775Yd1r4/aadJz5ajvny1b8ta49n54n1+3zUO09cXi6HHC+GDNi688TmX+AH8Egu\n",
       "4yG4YwcAECHsAAAihB0AQISwAwCI2F/94ff3/XgwwONX+C/huJPFybDEMDyxO6yTB/thbXe9DhTs\n",
       "rofdLq6G467W8x2vTq7lerj+4TKOh42DLsfhuP164P58+ORpp4WTOYP9xXBv5Nm0NgwoTEML4yDD\n",
       "unachhuGYZplbdhlYpwyGI+7g1/xIMNDcMcOACBC2AEARAg7AIAIYQcAEGHnCYDd7t0/MH7PxlmP\n",
       "sw0P1U87VgwP6O8u1l0sjs/eW9ZuLp+vx12+Pxz3wXC+D372479dx3qu/fl6Hbv9sOvGNGNxM21R\n",
       "8Xo97vDjer7rH25//HrddWN/Nay9Xs91Nqztr4cdJa7Xa5uGWMZhl9Pv9XSQZrd7w8DNMGCyHvX/\n",
       "UJhMejrcsQMAiBB2AAARwg4AIELYAQBEGJ4AeIqmyYBxY4GTxWmHgml3g2F44mYYnjgOQxE3zz9a\n",
       "j3vv4/XrXn5y+zIu12POz18Oa+vAxtkwPDH9PI7HdcjgcFiHFg6HdQjicP3drY9vLr5ev+Sry+Ha\n",
       "1qGWYYxhdzYNGUyDDMPacTzu9Kts3LFj+j2ahiw2G094h/Pxc9yxAwCIEHYAABHCDgAgwjN2AE/Q\n",
       "+JzVdODyQt5tz2ztDutLcM+vr9avOb1898dv1uMuPh/WLk8+Xp/huz5fn1m7PhueCZxezjxYnzvb\n",
       "7XY30wt/1+/1/HDysuDh5cFbXzK8H36W09fcDS8eHl9GPDw7uLs5+XOdvvfB+PtwJ56n+yW5YwcA\n",
       "ECHsAAAihB0AQISwAwCIMDwBsNvtntwD3sPlbnrofXrwfjc83D+eatsLdOe1Decbr3/rud6x6QXQ\n",
       "W44ZP2/jceOXvMNx79I9n553xx07AIAIYQcAECHsAAAihB0AQIThCYA3eWLzFJuGG6YBhZtpN4Zt\n",
       "a+MuCG+7tvk6Ng5sTMbZhmHxbLjvcbp2PhxzPuyAMa0NO2Ucp/NNO2rsp+O2DGhsHfYYbP27YMji\n",
       "wbljBwAQIewAACKEHQBAhLADAIgwPAHwJvf9IPg7H87YskvBNCgwfd70gP46yHCcBgOmgYdhuGF/\n",
       "etxx2+dtHpTYausOEqdrw8/ouPVn+dYDELvd2+9k8Y5/oQ1KPEru2AEARAg7AIAIYQcAECHsAAAi\n",
       "DE8APJRf5OHz0wf+73Ihw6DEHeYYntzGHlsYKOCBuWMHABAh7AAAIoQdAECEsAMAiDA8AcDbMywA\n",
       "j4o7dgAAEcIOACBC2AEARAg7AIAIYQcAECHsAAAihB0AQISwAwCIEHYAABHCDgAgQtgBAEQIOwCA\n",
       "CGEHABAh7AAAIoQdAECEsAMAiBB2AAARwg4AIELYAQBECDsAgAhhBwAQIewAACKEHQBAhLADAIgQ\n",
       "dgAAEcIOACBC2AEARAg7AIAIYQcAECHsAAAihB0AQISwAwCIEHYAABHCDgAgQtgBAEQIOwCACGEH\n",
       "ABAh7AAAIoQdAECEsAMAiBB2AAARwg4AIELYAQBECDsAgAhhBwAQIewAACKEHQBAhLADAIgQdgAA\n",
       "EcIOACBC2AEARAg7AIAIYQcAECHsAAAihB0AQISwAwCIEHYAABHCDgAgQtgBAEQIOwCACGEHABAh\n",
       "7AAAIoQdAECEsAMAiBB2AAARwg4AIELYAQBECDsAgAhhBwAQIewAACKEHQBAhLADAIgQdgAAEcIO\n",
       "ACBC2AEARAg7AIAIYQcAECHsAAAihB0AQISwAwCIEHYAABHCDgAgQtgBAEQIOwCACGEHABAh7AAA\n",
       "IoQdAECEsAMAiBB2AAARwg4AIELYAQBECDsAgAhhBwAQIewAACKEHQBAhLADAIgQdgAAEcIOACBC\n",
       "2AEARAg7AIAIYQcAECHsAAAihB0AQISwAwCIEHYAABHCDgAgQtgBAEQIOwCACGEHABAh7AAAIoQd\n",
       "AECEsAMAiBB2AAARwg4AIELYAQBECDsAgAhhBwAQIewAACKEHQBAhLADAIgQdgAAEcIOACBC2AEA\n",
       "RAg7AIAIYQcAECHsAAAihB0AQISwAwCIEHYAABHCDgAgQtgBAEQIOwCACGEHABAh7AAAIoQdAECE\n",
       "sAMAiBB2AAARwg4AIELYAQBECDsAgAhhBwAQIewAACKEHQBAhLADAIgQdgAAEcIOACBC2AEARAg7\n",
       "AIAIYQcAECHsAAAihB0AQISwAwCIEHYAABHCDgAgQtgBAEQIOwCACGEHABAh7AAAIoQdAECEsAMA\n",
       "iBB2AAARwg4AIELYAQBECDsAgAhhBwAQIewAACKEHQBAhLADAIgQdgAAEcIOACBC2AEARAg7AIAI\n",
       "YQcAECHsAAAihB0AQISwAwCIEHYAABHCDgAgQtgBAEQIOwCACGEHABAh7AAAIoQdAECEsAMAiBB2\n",
       "AAARwg4AIELYAQBECDsAgAhhBwAQIewAACKEHQBAhLADAIgQdgAAEcIOACBC2AEARAg7AIAIYQcA\n",
       "ECHsAAAihB0AQISwAwCIEHYAABHCDgAgQtgBAEQIOwCACGEHABAh7AAAIoQdAECEsAMAiBB2AAAR\n",
       "wg4AIELYAQBECDsAgAhhBwAQIewAACKEHQBAhLADAIgQdgAAEcIOACBC2AEARAg7AIAIYQcAECHs\n",
       "AAAihB0AQISwAwCIEHYAABHCDgAgQtgBAEQIOwCACGEHABAh7AAAIoQdAECEsAMAiBB2AAARwg4A\n",
       "IELYAQBECDsAgAhhBwAQIewAACKEHQBAhLADAIgQdgAAEcIOACBC2AEARAg7AIAIYQcAECHsAAAi\n",
       "hB0AQISwAwCIEHYAABHCDgAgQtgBAEQIOwCACGEHABAh7AAAIoQdAECEsAMAiBB2AAARwg4AIELY\n",
       "AQBECDsAgAhhBwAQIewAACKEHQBAhLADAIgQdgAAEcIOACBC2AEARPwVKXF1j0a7E2oAAAAASUVO\n",
       "RK5CYII=\n",
       "\" transform=\"translate(1485, 458)\"/>\n",
       "</g>\n",
       "<defs>\n",
       "  <clipPath id=\"clip245\">\n",
       "    <rect x=\"2160\" y=\"460\" width=\"73\" height=\"626\"/>\n",
       "  </clipPath>\n",
       "</defs>\n",
       "<g clip-path=\"url(#clip245)\">\n",
       "<image width=\"72\" height=\"625\" xlink:href=\"data:image/png;base64,\n",
       "iVBORw0KGgoAAAANSUhEUgAAAEgAAAJxCAYAAADhB/QLAAAGI0lEQVR4nO3dwY3rRhBAwZHR+Ufh\n",
       "LO0/4wjc7ygdqiIQGo/NIaXFfv69f7/D//rr2x/g1xlQmPv+/fZn+GkKCvPen29/hp+moGBAwZIO\n",
       "CgrzFLRSUDCgMO+6xDYKCpZ0UFAwoOASCwoKbvNBQWGOHbRSUDCg4DYfFBTmuM2vFBQMKMy5/3z7\n",
       "M/w0BQUn6aCgYEDBOSgoKCgoKCgYUHAOCgoK87GkVwoKc66fAW8UFAwoWNJBQcGSDgoKBhS87ggK\n",
       "CvOxpFcKCgYUvDALCgqWdFBQMKDgYTUoKFjSQUHBDgoKCgYULOmgoDDn3m9/hp+moGBAwZIOCgpO\n",
       "0kFBwYCCSywoKMzHSXqloGBAwZIOCgpedwQFBbf5oKBgQMFtPigouM0HBQUDCi6xoKDge7GgoGBA\n",
       "wZIOCgoKCgoKCgoKCgYUXGJBQWHOU9BGQcGAgiUdFBQUFBQUDCi4xIKCwpz7vv0ZfpqCggEFSzoo\n",
       "KFjSQUHBDgoKCgYULOmgoDDHjl4pKBhQmPMs6Y2CgiUdFBQMKLjEgoLC+HnQTkHBgIIlHRQUFBQU\n",
       "FObcz7c/w09TUDCgMO+5xDYKCm7zQUHBgIJzUFBQmHfNaGM6wYCCJR0UFOZ4FlspKBhQmGdJrxQU\n",
       "5jhJr0wn2EFBQcGAgpN0UFDwwiyYTjCg4IVZUFBwkg4KCgYU5j0z2phOcJsPCgpu80FBwYDCHLf5\n",
       "lekESzooKBhQcIkFBQXfiwUFBQMKvjgMphP8SWZQUDCg4CQdFBT8DDiYTnCbDwoKBhTc5oOCgiUd\n",
       "FBQMKHhhFkwnWNJBQcGAgpN0UFCwpIOCggEFv7QPCgr+2ieYTnCbDwoKBhQ8iwUFBUs6KCgYUJjr\n",
       "ElspKPheLJhOMKDgHBQUFBQUFBQMKHjdERQULOmgoKCgoKBgQMFXz8F0wlwHxZWCggEF56CgoKCg\n",
       "oKBgQMElFhQU/HghKCjYQUFBwYCCSywoKHjlGkwnGFDwTjooKLjNBwUFAwousaCg4IVZUFAwoGBJ\n",
       "BwWFeUdBGwUFt/mgoGBAwW0+KChY0kFBwYCCJR0UFCzpoKBgQMGSDgoKCgoKCgYU5nonvVJQsKSD\n",
       "goJnsaCgYEBh3vv2R/htCgqWdFBQMKDg90FBQcGSDgoKBhS87ggKCl65BgUFAwpedwQFBSfpoKDg\n",
       "oBgUFAwoOEkHBQW3+aCgYEDBs1hQUHCbDwoKBhQ8rAYFhbnf/gQ/TkHBgIIlHRQUvO4ICgpu80FB\n",
       "wYCC23xQULCkg4KCAQVLOigoeBYLCgoGFMY3zzsFBUs6KCh4FgsKCgYUPIsFBQVLOigoGFCwpIOC\n",
       "wlyP8ysFBQMKzkFBQcFtPigoGFCwpIOCgj/JDAoK/iQzKCgYUPC6Iygo+PlLUFAwoOD3QUFBwbNY\n",
       "UFAwoOCFWVBQ8K1GUFAwoGBJBwUFL8yCgoIXZkFBwYCCJR0UFLwwCwoKBhT8uiMoKLjNBwUFAwoe\n",
       "VoOCgiUdFBQMKFjSQUHBkg4KCgoKCgoGFNzmg4KCJR0UFAwoWNJBQcGSDgoKBhT8uiMoKPgheVBQ\n",
       "cJsPCgoGFOYd19hGQcGSDgoKBhQ8iwUFBc9iQUHBgIJzUFBQ8CwWFBQMKFjSQUHBjxeCgsJcj/Mr\n",
       "BQUDCl53BAWFeZb0SkHBgIIlHRQUnKSDgoIBBa87goLCXN9qrBQUDCg4BwUFBV89BwUFT/NBQcGA\n",
       "gpN0UFBwmw8KCgYU5h4noY2Cgtt8UFAwoOASCwoKTtJBQcGAgpN0UFCY+7GkNwoKdlBQUDCgMM8l\n",
       "tlJQsKSDgoIBhbkfl9hGQcGSDgoKBhScpIOCgiUdFBQUFBQUDCh4FgsKCvPOn29/hp+moGBAwTko\n",
       "KCh4mg8KCgYU5j7noI2CgiUdFBQMKMz1sLpSULCkg4KCHRQUFAwozHuW9EZBwW0+KCgYUPDCLCgo\n",
       "WNJBQcGAwjxLeqWgYEkHBQUDCnO97lgpKPgRZ1BQ8Mo1KCgYUHCSDgoKlnRQUDCg4BILCgqexYKC\n",
       "ggEFSzooKMzxLLZSUDCgYEkHBQUvzIKCwhw7aKWgYEDB646goOBZLCgoGFBwDgoKCv7HYVBQMKDg\n",
       "HBQUFOZY0isFhf8AtXbn8YkHxogAAAAASUVORK5CYII=\n",
       "\" transform=\"translate(2161, 461)\"/>\n",
       "</g>\n",
       "<path clip-path=\"url(#clip240)\" d=\"M2268.76 1048.47 L2298.43 1048.47 L2298.43 1052.4 L2268.76 1052.4 L2268.76 1048.47 Z\" fill=\"#000000\" fill-rule=\"nonzero\" fill-opacity=\"1\" /><path clip-path=\"url(#clip240)\" d=\"M2318.52 1033.81 Q2314.91 1033.81 2313.08 1037.38 Q2311.28 1040.92 2311.28 1048.05 Q2311.28 1055.16 2313.08 1058.72 Q2314.91 1062.26 2318.52 1062.26 Q2322.16 1062.26 2323.96 1058.72 Q2325.79 1055.16 2325.79 1048.05 Q2325.79 1040.92 2323.96 1037.38 Q2322.16 1033.81 2318.52 1033.81 M2318.52 1030.11 Q2324.33 1030.11 2327.39 1034.72 Q2330.47 1039.3 2330.47 1048.05 Q2330.47 1056.78 2327.39 1061.38 Q2324.33 1065.97 2318.52 1065.97 Q2312.71 1065.97 2309.64 1061.38 Q2306.58 1056.78 2306.58 1048.05 Q2306.58 1039.3 2309.64 1034.72 Q2312.71 1030.11 2318.52 1030.11 Z\" fill=\"#000000\" fill-rule=\"nonzero\" fill-opacity=\"1\" /><path clip-path=\"url(#clip240)\" d=\"M2338.69 1059.41 L2343.57 1059.41 L2343.57 1065.29 L2338.69 1065.29 L2338.69 1059.41 Z\" fill=\"#000000\" fill-rule=\"nonzero\" fill-opacity=\"1\" /><path clip-path=\"url(#clip240)\" d=\"M2367.92 1046.66 Q2371.28 1047.38 2373.15 1049.65 Q2375.05 1051.91 2375.05 1055.25 Q2375.05 1060.36 2371.53 1063.16 Q2368.01 1065.97 2361.53 1065.97 Q2359.36 1065.97 2357.04 1065.53 Q2354.75 1065.11 2352.3 1064.25 L2352.3 1059.74 Q2354.24 1060.87 2356.56 1061.45 Q2358.87 1062.03 2361.39 1062.03 Q2365.79 1062.03 2368.08 1060.29 Q2370.4 1058.56 2370.4 1055.25 Q2370.4 1052.19 2368.25 1050.48 Q2366.12 1048.74 2362.3 1048.74 L2358.27 1048.74 L2358.27 1044.9 L2362.48 1044.9 Q2365.93 1044.9 2367.76 1043.54 Q2369.59 1042.15 2369.59 1039.55 Q2369.59 1036.89 2367.69 1035.48 Q2365.82 1034.04 2362.3 1034.04 Q2360.38 1034.04 2358.18 1034.46 Q2355.98 1034.88 2353.34 1035.76 L2353.34 1031.59 Q2356 1030.85 2358.32 1030.48 Q2360.65 1030.11 2362.71 1030.11 Q2368.04 1030.11 2371.14 1032.54 Q2374.24 1034.95 2374.24 1039.07 Q2374.24 1041.94 2372.6 1043.93 Q2370.95 1045.9 2367.92 1046.66 Z\" fill=\"#000000\" fill-rule=\"nonzero\" fill-opacity=\"1\" /><path clip-path=\"url(#clip240)\" d=\"M2393.92 1033.81 Q2390.31 1033.81 2388.48 1037.38 Q2386.67 1040.92 2386.67 1048.05 Q2386.67 1055.16 2388.48 1058.72 Q2390.31 1062.26 2393.92 1062.26 Q2397.55 1062.26 2399.36 1058.72 Q2401.19 1055.16 2401.19 1048.05 Q2401.19 1040.92 2399.36 1037.38 Q2397.55 1033.81 2393.92 1033.81 M2393.92 1030.11 Q2399.73 1030.11 2402.78 1034.72 Q2405.86 1039.3 2405.86 1048.05 Q2405.86 1056.78 2402.78 1061.38 Q2399.73 1065.97 2393.92 1065.97 Q2388.11 1065.97 2385.03 1061.38 Q2381.97 1056.78 2381.97 1048.05 Q2381.97 1039.3 2385.03 1034.72 Q2388.11 1030.11 2393.92 1030.11 Z\" fill=\"#000000\" fill-rule=\"nonzero\" fill-opacity=\"1\" /><polyline clip-path=\"url(#clip240)\" style=\"stroke:#000000; stroke-linecap:round; stroke-linejoin:round; stroke-width:4; stroke-opacity:1; fill:none\" points=\"2232.76,1051.64 2256.76,1051.64 \"/>\n",
       "<path clip-path=\"url(#clip240)\" d=\"M2268.76 965.302 L2298.43 965.302 L2298.43 969.238 L2268.76 969.238 L2268.76 965.302 Z\" fill=\"#000000\" fill-rule=\"nonzero\" fill-opacity=\"1\" /><path clip-path=\"url(#clip240)\" d=\"M2318.52 950.65 Q2314.91 950.65 2313.08 954.214 Q2311.28 957.756 2311.28 964.886 Q2311.28 971.992 2313.08 975.557 Q2314.91 979.099 2318.52 979.099 Q2322.16 979.099 2323.96 975.557 Q2325.79 971.992 2325.79 964.886 Q2325.79 957.756 2323.96 954.214 Q2322.16 950.65 2318.52 950.65 M2318.52 946.946 Q2324.33 946.946 2327.39 951.552 Q2330.47 956.136 2330.47 964.886 Q2330.47 973.613 2327.39 978.219 Q2324.33 982.802 2318.52 982.802 Q2312.71 982.802 2309.64 978.219 Q2306.58 973.613 2306.58 964.886 Q2306.58 956.136 2309.64 951.552 Q2312.71 946.946 2318.52 946.946 Z\" fill=\"#000000\" fill-rule=\"nonzero\" fill-opacity=\"1\" /><path clip-path=\"url(#clip240)\" d=\"M2338.69 976.251 L2343.57 976.251 L2343.57 982.131 L2338.69 982.131 L2338.69 976.251 Z\" fill=\"#000000\" fill-rule=\"nonzero\" fill-opacity=\"1\" /><path clip-path=\"url(#clip240)\" d=\"M2357.78 978.196 L2374.1 978.196 L2374.1 982.131 L2352.16 982.131 L2352.16 978.196 Q2354.82 975.441 2359.4 970.812 Q2364.01 966.159 2365.19 964.816 Q2367.44 962.293 2368.32 960.557 Q2369.22 958.798 2369.22 957.108 Q2369.22 954.353 2367.27 952.617 Q2365.35 950.881 2362.25 950.881 Q2360.05 950.881 2357.6 951.645 Q2355.17 952.409 2352.39 953.96 L2352.39 949.238 Q2355.21 948.103 2357.67 947.525 Q2360.12 946.946 2362.16 946.946 Q2367.53 946.946 2370.72 949.631 Q2373.92 952.316 2373.92 956.807 Q2373.92 958.937 2373.11 960.858 Q2372.32 962.756 2370.21 965.349 Q2369.63 966.02 2366.53 969.238 Q2363.43 972.432 2357.78 978.196 Z\" fill=\"#000000\" fill-rule=\"nonzero\" fill-opacity=\"1\" /><path clip-path=\"url(#clip240)\" d=\"M2383.96 947.571 L2402.32 947.571 L2402.32 951.506 L2388.25 951.506 L2388.25 959.978 Q2389.26 959.631 2390.28 959.469 Q2391.3 959.284 2392.32 959.284 Q2398.11 959.284 2401.49 962.455 Q2404.87 965.626 2404.87 971.043 Q2404.87 976.622 2401.39 979.724 Q2397.92 982.802 2391.6 982.802 Q2389.43 982.802 2387.16 982.432 Q2384.91 982.062 2382.51 981.321 L2382.51 976.622 Q2384.59 977.756 2386.81 978.312 Q2389.03 978.867 2391.51 978.867 Q2395.51 978.867 2397.85 976.761 Q2400.19 974.654 2400.19 971.043 Q2400.19 967.432 2397.85 965.326 Q2395.51 963.219 2391.51 963.219 Q2389.63 963.219 2387.76 963.636 Q2385.91 964.052 2383.96 964.932 L2383.96 947.571 Z\" fill=\"#000000\" fill-rule=\"nonzero\" fill-opacity=\"1\" /><polyline clip-path=\"url(#clip240)\" style=\"stroke:#000000; stroke-linecap:round; stroke-linejoin:round; stroke-width:4; stroke-opacity:1; fill:none\" points=\"2232.76,968.48 2256.76,968.48 \"/>\n",
       "<path clip-path=\"url(#clip240)\" d=\"M2268.76 882.139 L2298.43 882.139 L2298.43 886.074 L2268.76 886.074 L2268.76 882.139 Z\" fill=\"#000000\" fill-rule=\"nonzero\" fill-opacity=\"1\" /><path clip-path=\"url(#clip240)\" d=\"M2318.52 867.486 Q2314.91 867.486 2313.08 871.051 Q2311.28 874.593 2311.28 881.722 Q2311.28 888.829 2313.08 892.394 Q2314.91 895.935 2318.52 895.935 Q2322.16 895.935 2323.96 892.394 Q2325.79 888.829 2325.79 881.722 Q2325.79 874.593 2323.96 871.051 Q2322.16 867.486 2318.52 867.486 M2318.52 863.783 Q2324.33 863.783 2327.39 868.389 Q2330.47 872.972 2330.47 881.722 Q2330.47 890.449 2327.39 895.056 Q2324.33 899.639 2318.52 899.639 Q2312.71 899.639 2309.64 895.056 Q2306.58 890.449 2306.58 881.722 Q2306.58 872.972 2309.64 868.389 Q2312.71 863.783 2318.52 863.783 Z\" fill=\"#000000\" fill-rule=\"nonzero\" fill-opacity=\"1\" /><path clip-path=\"url(#clip240)\" d=\"M2338.69 893.088 L2343.57 893.088 L2343.57 898.968 L2338.69 898.968 L2338.69 893.088 Z\" fill=\"#000000\" fill-rule=\"nonzero\" fill-opacity=\"1\" /><path clip-path=\"url(#clip240)\" d=\"M2357.78 895.032 L2374.1 895.032 L2374.1 898.968 L2352.16 898.968 L2352.16 895.032 Q2354.82 892.278 2359.4 887.648 Q2364.01 882.995 2365.19 881.653 Q2367.44 879.13 2368.32 877.394 Q2369.22 875.634 2369.22 873.945 Q2369.22 871.19 2367.27 869.454 Q2365.35 867.718 2362.25 867.718 Q2360.05 867.718 2357.6 868.482 Q2355.17 869.245 2352.39 870.796 L2352.39 866.074 Q2355.21 864.94 2357.67 864.361 Q2360.12 863.783 2362.16 863.783 Q2367.53 863.783 2370.72 866.468 Q2373.92 869.153 2373.92 873.644 Q2373.92 875.773 2373.11 877.695 Q2372.32 879.593 2370.21 882.185 Q2369.63 882.857 2366.53 886.074 Q2363.43 889.269 2357.78 895.032 Z\" fill=\"#000000\" fill-rule=\"nonzero\" fill-opacity=\"1\" /><path clip-path=\"url(#clip240)\" d=\"M2393.92 867.486 Q2390.31 867.486 2388.48 871.051 Q2386.67 874.593 2386.67 881.722 Q2386.67 888.829 2388.48 892.394 Q2390.31 895.935 2393.92 895.935 Q2397.55 895.935 2399.36 892.394 Q2401.19 888.829 2401.19 881.722 Q2401.19 874.593 2399.36 871.051 Q2397.55 867.486 2393.92 867.486 M2393.92 863.783 Q2399.73 863.783 2402.78 868.389 Q2405.86 872.972 2405.86 881.722 Q2405.86 890.449 2402.78 895.056 Q2399.73 899.639 2393.92 899.639 Q2388.11 899.639 2385.03 895.056 Q2381.97 890.449 2381.97 881.722 Q2381.97 872.972 2385.03 868.389 Q2388.11 863.783 2393.92 863.783 Z\" fill=\"#000000\" fill-rule=\"nonzero\" fill-opacity=\"1\" /><polyline clip-path=\"url(#clip240)\" style=\"stroke:#000000; stroke-linecap:round; stroke-linejoin:round; stroke-width:4; stroke-opacity:1; fill:none\" points=\"2232.76,885.316 2256.76,885.316 \"/>\n",
       "<path clip-path=\"url(#clip240)\" d=\"M2268.76 798.976 L2298.43 798.976 L2298.43 802.911 L2268.76 802.911 L2268.76 798.976 Z\" fill=\"#000000\" fill-rule=\"nonzero\" fill-opacity=\"1\" /><path clip-path=\"url(#clip240)\" d=\"M2318.52 784.323 Q2314.91 784.323 2313.08 787.888 Q2311.28 791.429 2311.28 798.559 Q2311.28 805.665 2313.08 809.23 Q2314.91 812.772 2318.52 812.772 Q2322.16 812.772 2323.96 809.23 Q2325.79 805.665 2325.79 798.559 Q2325.79 791.429 2323.96 787.888 Q2322.16 784.323 2318.52 784.323 M2318.52 780.619 Q2324.33 780.619 2327.39 785.226 Q2330.47 789.809 2330.47 798.559 Q2330.47 807.286 2327.39 811.892 Q2324.33 816.475 2318.52 816.475 Q2312.71 816.475 2309.64 811.892 Q2306.58 807.286 2306.58 798.559 Q2306.58 789.809 2309.64 785.226 Q2312.71 780.619 2318.52 780.619 Z\" fill=\"#000000\" fill-rule=\"nonzero\" fill-opacity=\"1\" /><path clip-path=\"url(#clip240)\" d=\"M2338.69 809.925 L2343.57 809.925 L2343.57 815.804 L2338.69 815.804 L2338.69 809.925 Z\" fill=\"#000000\" fill-rule=\"nonzero\" fill-opacity=\"1\" /><path clip-path=\"url(#clip240)\" d=\"M2354.57 811.869 L2362.2 811.869 L2362.2 785.503 L2353.89 787.17 L2353.89 782.911 L2362.16 781.244 L2366.83 781.244 L2366.83 811.869 L2374.47 811.869 L2374.47 815.804 L2354.57 815.804 L2354.57 811.869 Z\" fill=\"#000000\" fill-rule=\"nonzero\" fill-opacity=\"1\" /><path clip-path=\"url(#clip240)\" d=\"M2383.96 781.244 L2402.32 781.244 L2402.32 785.179 L2388.25 785.179 L2388.25 793.651 Q2389.26 793.304 2390.28 793.142 Q2391.3 792.957 2392.32 792.957 Q2398.11 792.957 2401.49 796.128 Q2404.87 799.3 2404.87 804.716 Q2404.87 810.295 2401.39 813.397 Q2397.92 816.475 2391.6 816.475 Q2389.43 816.475 2387.16 816.105 Q2384.91 815.735 2382.51 814.994 L2382.51 810.295 Q2384.59 811.429 2386.81 811.985 Q2389.03 812.54 2391.51 812.54 Q2395.51 812.54 2397.85 810.434 Q2400.19 808.327 2400.19 804.716 Q2400.19 801.105 2397.85 798.999 Q2395.51 796.892 2391.51 796.892 Q2389.63 796.892 2387.76 797.309 Q2385.91 797.726 2383.96 798.605 L2383.96 781.244 Z\" fill=\"#000000\" fill-rule=\"nonzero\" fill-opacity=\"1\" /><polyline clip-path=\"url(#clip240)\" style=\"stroke:#000000; stroke-linecap:round; stroke-linejoin:round; stroke-width:4; stroke-opacity:1; fill:none\" points=\"2232.76,802.153 2256.76,802.153 \"/>\n",
       "<path clip-path=\"url(#clip240)\" d=\"M2268.76 715.812 L2298.43 715.812 L2298.43 719.747 L2268.76 719.747 L2268.76 715.812 Z\" fill=\"#000000\" fill-rule=\"nonzero\" fill-opacity=\"1\" /><path clip-path=\"url(#clip240)\" d=\"M2318.52 701.159 Q2314.91 701.159 2313.08 704.724 Q2311.28 708.266 2311.28 715.395 Q2311.28 722.502 2313.08 726.067 Q2314.91 729.608 2318.52 729.608 Q2322.16 729.608 2323.96 726.067 Q2325.79 722.502 2325.79 715.395 Q2325.79 708.266 2323.96 704.724 Q2322.16 701.159 2318.52 701.159 M2318.52 697.456 Q2324.33 697.456 2327.39 702.062 Q2330.47 706.646 2330.47 715.395 Q2330.47 724.122 2327.39 728.729 Q2324.33 733.312 2318.52 733.312 Q2312.71 733.312 2309.64 728.729 Q2306.58 724.122 2306.58 715.395 Q2306.58 706.646 2309.64 702.062 Q2312.71 697.456 2318.52 697.456 Z\" fill=\"#000000\" fill-rule=\"nonzero\" fill-opacity=\"1\" /><path clip-path=\"url(#clip240)\" d=\"M2338.69 726.761 L2343.57 726.761 L2343.57 732.641 L2338.69 732.641 L2338.69 726.761 Z\" fill=\"#000000\" fill-rule=\"nonzero\" fill-opacity=\"1\" /><path clip-path=\"url(#clip240)\" d=\"M2354.57 728.706 L2362.2 728.706 L2362.2 702.34 L2353.89 704.007 L2353.89 699.747 L2362.16 698.081 L2366.83 698.081 L2366.83 728.706 L2374.47 728.706 L2374.47 732.641 L2354.57 732.641 L2354.57 728.706 Z\" fill=\"#000000\" fill-rule=\"nonzero\" fill-opacity=\"1\" /><path clip-path=\"url(#clip240)\" d=\"M2393.92 701.159 Q2390.31 701.159 2388.48 704.724 Q2386.67 708.266 2386.67 715.395 Q2386.67 722.502 2388.48 726.067 Q2390.31 729.608 2393.92 729.608 Q2397.55 729.608 2399.36 726.067 Q2401.19 722.502 2401.19 715.395 Q2401.19 708.266 2399.36 704.724 Q2397.55 701.159 2393.92 701.159 M2393.92 697.456 Q2399.73 697.456 2402.78 702.062 Q2405.86 706.646 2405.86 715.395 Q2405.86 724.122 2402.78 728.729 Q2399.73 733.312 2393.92 733.312 Q2388.11 733.312 2385.03 728.729 Q2381.97 724.122 2381.97 715.395 Q2381.97 706.646 2385.03 702.062 Q2388.11 697.456 2393.92 697.456 Z\" fill=\"#000000\" fill-rule=\"nonzero\" fill-opacity=\"1\" /><polyline clip-path=\"url(#clip240)\" style=\"stroke:#000000; stroke-linecap:round; stroke-linejoin:round; stroke-width:4; stroke-opacity:1; fill:none\" points=\"2232.76,718.99 2256.76,718.99 \"/>\n",
       "<path clip-path=\"url(#clip240)\" d=\"M2268.76 632.649 L2298.43 632.649 L2298.43 636.584 L2268.76 636.584 L2268.76 632.649 Z\" fill=\"#000000\" fill-rule=\"nonzero\" fill-opacity=\"1\" /><path clip-path=\"url(#clip240)\" d=\"M2318.52 617.996 Q2314.91 617.996 2313.08 621.561 Q2311.28 625.102 2311.28 632.232 Q2311.28 639.338 2313.08 642.903 Q2314.91 646.445 2318.52 646.445 Q2322.16 646.445 2323.96 642.903 Q2325.79 639.338 2325.79 632.232 Q2325.79 625.102 2323.96 621.561 Q2322.16 617.996 2318.52 617.996 M2318.52 614.292 Q2324.33 614.292 2327.39 618.899 Q2330.47 623.482 2330.47 632.232 Q2330.47 640.959 2327.39 645.565 Q2324.33 650.149 2318.52 650.149 Q2312.71 650.149 2309.64 645.565 Q2306.58 640.959 2306.58 632.232 Q2306.58 623.482 2309.64 618.899 Q2312.71 614.292 2318.52 614.292 Z\" fill=\"#000000\" fill-rule=\"nonzero\" fill-opacity=\"1\" /><path clip-path=\"url(#clip240)\" d=\"M2338.69 643.598 L2343.57 643.598 L2343.57 649.477 L2338.69 649.477 L2338.69 643.598 Z\" fill=\"#000000\" fill-rule=\"nonzero\" fill-opacity=\"1\" /><path clip-path=\"url(#clip240)\" d=\"M2363.76 617.996 Q2360.14 617.996 2358.32 621.561 Q2356.51 625.102 2356.51 632.232 Q2356.51 639.338 2358.32 642.903 Q2360.14 646.445 2363.76 646.445 Q2367.39 646.445 2369.2 642.903 Q2371.02 639.338 2371.02 632.232 Q2371.02 625.102 2369.2 621.561 Q2367.39 617.996 2363.76 617.996 M2363.76 614.292 Q2369.57 614.292 2372.62 618.899 Q2375.7 623.482 2375.7 632.232 Q2375.7 640.959 2372.62 645.565 Q2369.57 650.149 2363.76 650.149 Q2357.95 650.149 2354.87 645.565 Q2351.81 640.959 2351.81 632.232 Q2351.81 623.482 2354.87 618.899 Q2357.95 614.292 2363.76 614.292 Z\" fill=\"#000000\" fill-rule=\"nonzero\" fill-opacity=\"1\" /><path clip-path=\"url(#clip240)\" d=\"M2383.96 614.917 L2402.32 614.917 L2402.32 618.852 L2388.25 618.852 L2388.25 627.325 Q2389.26 626.977 2390.28 626.815 Q2391.3 626.63 2392.32 626.63 Q2398.11 626.63 2401.49 629.801 Q2404.87 632.973 2404.87 638.389 Q2404.87 643.968 2401.39 647.07 Q2397.92 650.149 2391.6 650.149 Q2389.43 650.149 2387.16 649.778 Q2384.91 649.408 2382.51 648.667 L2382.51 643.968 Q2384.59 645.102 2386.81 645.658 Q2389.03 646.213 2391.51 646.213 Q2395.51 646.213 2397.85 644.107 Q2400.19 642.001 2400.19 638.389 Q2400.19 634.778 2397.85 632.672 Q2395.51 630.565 2391.51 630.565 Q2389.63 630.565 2387.76 630.982 Q2385.91 631.399 2383.96 632.278 L2383.96 614.917 Z\" fill=\"#000000\" fill-rule=\"nonzero\" fill-opacity=\"1\" /><polyline clip-path=\"url(#clip240)\" style=\"stroke:#000000; stroke-linecap:round; stroke-linejoin:round; stroke-width:4; stroke-opacity:1; fill:none\" points=\"2232.76,635.826 2256.76,635.826 \"/>\n",
       "<path clip-path=\"url(#clip240)\" d=\"M2280.7 534.833 Q2277.09 534.833 2275.26 538.397 Q2273.45 541.939 2273.45 549.069 Q2273.45 556.175 2275.26 559.74 Q2277.09 563.282 2280.7 563.282 Q2284.33 563.282 2286.14 559.74 Q2287.97 556.175 2287.97 549.069 Q2287.97 541.939 2286.14 538.397 Q2284.33 534.833 2280.7 534.833 M2280.7 531.129 Q2286.51 531.129 2289.57 535.735 Q2292.64 540.319 2292.64 549.069 Q2292.64 557.795 2289.57 562.402 Q2286.51 566.985 2280.7 566.985 Q2274.89 566.985 2271.81 562.402 Q2268.76 557.795 2268.76 549.069 Q2268.76 540.319 2271.81 535.735 Q2274.89 531.129 2280.7 531.129 Z\" fill=\"#000000\" fill-rule=\"nonzero\" fill-opacity=\"1\" /><polyline clip-path=\"url(#clip240)\" style=\"stroke:#000000; stroke-linecap:round; stroke-linejoin:round; stroke-width:4; stroke-opacity:1; fill:none\" points=\"2232.76,552.663 2256.76,552.663 \"/>\n",
       "<path clip-path=\"url(#clip240)\" d=\"M2280.7 451.669 Q2277.09 451.669 2275.26 455.234 Q2273.45 458.776 2273.45 465.905 Q2273.45 473.012 2275.26 476.576 Q2277.09 480.118 2280.7 480.118 Q2284.33 480.118 2286.14 476.576 Q2287.97 473.012 2287.97 465.905 Q2287.97 458.776 2286.14 455.234 Q2284.33 451.669 2280.7 451.669 M2280.7 447.965 Q2286.51 447.965 2289.57 452.572 Q2292.64 457.155 2292.64 465.905 Q2292.64 474.632 2289.57 479.238 Q2286.51 483.822 2280.7 483.822 Q2274.89 483.822 2271.81 479.238 Q2268.76 474.632 2268.76 465.905 Q2268.76 457.155 2271.81 452.572 Q2274.89 447.965 2280.7 447.965 Z\" fill=\"#000000\" fill-rule=\"nonzero\" fill-opacity=\"1\" /><path clip-path=\"url(#clip240)\" d=\"M2300.86 477.271 L2305.75 477.271 L2305.75 483.15 L2300.86 483.15 L2300.86 477.271 Z\" fill=\"#000000\" fill-rule=\"nonzero\" fill-opacity=\"1\" /><path clip-path=\"url(#clip240)\" d=\"M2325.93 451.669 Q2322.32 451.669 2320.49 455.234 Q2318.69 458.776 2318.69 465.905 Q2318.69 473.012 2320.49 476.576 Q2322.32 480.118 2325.93 480.118 Q2329.57 480.118 2331.37 476.576 Q2333.2 473.012 2333.2 465.905 Q2333.2 458.776 2331.37 455.234 Q2329.57 451.669 2325.93 451.669 M2325.93 447.965 Q2331.74 447.965 2334.8 452.572 Q2337.88 457.155 2337.88 465.905 Q2337.88 474.632 2334.8 479.238 Q2331.74 483.822 2325.93 483.822 Q2320.12 483.822 2317.04 479.238 Q2313.99 474.632 2313.99 465.905 Q2313.99 457.155 2317.04 452.572 Q2320.12 447.965 2325.93 447.965 Z\" fill=\"#000000\" fill-rule=\"nonzero\" fill-opacity=\"1\" /><path clip-path=\"url(#clip240)\" d=\"M2346.14 448.59 L2364.5 448.59 L2364.5 452.526 L2350.42 452.526 L2350.42 460.998 Q2351.44 460.651 2352.46 460.489 Q2353.48 460.303 2354.5 460.303 Q2360.28 460.303 2363.66 463.475 Q2367.04 466.646 2367.04 472.063 Q2367.04 477.641 2363.57 480.743 Q2360.1 483.822 2353.78 483.822 Q2351.6 483.822 2349.33 483.451 Q2347.09 483.081 2344.68 482.34 L2344.68 477.641 Q2346.76 478.776 2348.99 479.331 Q2351.21 479.887 2353.69 479.887 Q2357.69 479.887 2360.03 477.78 Q2362.37 475.674 2362.37 472.063 Q2362.37 468.451 2360.03 466.345 Q2357.69 464.239 2353.69 464.239 Q2351.81 464.239 2349.94 464.655 Q2348.08 465.072 2346.14 465.952 L2346.14 448.59 Z\" fill=\"#000000\" fill-rule=\"nonzero\" fill-opacity=\"1\" /><polyline clip-path=\"url(#clip240)\" style=\"stroke:#000000; stroke-linecap:round; stroke-linejoin:round; stroke-width:4; stroke-opacity:1; fill:none\" points=\"2232.76,469.499 2256.76,469.499 \"/>\n",
       "<polyline clip-path=\"url(#clip240)\" style=\"stroke:#000000; stroke-linecap:round; stroke-linejoin:round; stroke-width:4; stroke-opacity:1; fill:none\" points=\"2232.76,1086.02 2232.76,460.631 \"/>\n",
       "</svg>\n"
      ],
      "text/html": [
       "<img src=\"data:image/png;base64,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\" />"
      ]
     },
     "execution_count": 715,
     "metadata": {},
     "output_type": "execute_result"
    }
   ],
   "source": [
    "plot(sol, format=:png)"
   ]
  },
  {
   "cell_type": "markdown",
   "metadata": {},
   "source": [
    "Now no one really understands what the heck is being plotted or how so we need to find a better, more straightforard way to take a look at the data for the solution. \n",
    "\n",
    "We use the `Trixi.jl` funciton `PlotData2D` which converts the output of `DifferentialEquations.jl` funciton `sol` into usable data such as 2D matrices for the variables along with x,y coordinates"
   ]
  },
  {
   "cell_type": "code",
   "execution_count": 716,
   "metadata": {},
   "outputs": [
    {
     "data": {
      "text/plain": [
       "PlotData2DCartesian{Vector{Float64},Vector{Matrix{Float64}},SVector{2, String},Vector{Float64}}(<x>, <y>, <data>, <variable_names>, <mesh_vertices_x>, <mesh_vertices_y>)"
      ]
     },
     "execution_count": 716,
     "metadata": {},
     "output_type": "execute_result"
    }
   ],
   "source": [
    "pd = PlotData2D(sol)"
   ]
  },
  {
   "cell_type": "markdown",
   "metadata": {},
   "source": [
    "Let's get the variable names"
   ]
  },
  {
   "cell_type": "code",
   "execution_count": 717,
   "metadata": {},
   "outputs": [
    {
     "data": {
      "text/plain": [
       "2-element SVector{2, String} with indices SOneTo(2):\n",
       " \"Ar\"\n",
       " \"Ai\""
      ]
     },
     "execution_count": 717,
     "metadata": {},
     "output_type": "execute_result"
    }
   ],
   "source": [
    "pd.variable_names"
   ]
  },
  {
   "cell_type": "code",
   "execution_count": 718,
   "metadata": {},
   "outputs": [
    {
     "data": {
      "text/plain": [
       "2-element Vector{Matrix{Float64}}:\n",
       " [4.7130103818584885e-34 1.018828383768831e-34 … 8.53864921014158e-34 4.7130103818584885e-34; 4.763032617505825e-34 1.0283080280423945e-34 … 8.632898794154995e-34 4.763032617505825e-34; … ; 4.763032617505983e-34 1.0283080280424507e-34 … 8.632898794155176e-34 4.763032617505983e-34; 4.7130103818584885e-34 1.018828383768831e-34 … 8.53864921014158e-34 4.7130103818584885e-34]\n",
       " [3.0692466456449232e-34 4.892018378300114e-35 … 6.0340372443743965e-34 3.0692466456449232e-34; 3.0504457525615992e-34 4.841561383384078e-35 … 6.002640958303142e-34 3.0504457525615992e-34; … ; 3.050445752561702e-34 4.841561383384699e-35 … 6.002640958303222e-34 3.050445752561702e-34; 3.0692466456449232e-34 4.892018378300114e-35 … 6.0340372443743965e-34 3.0692466456449232e-34]"
      ]
     },
     "execution_count": 718,
     "metadata": {},
     "output_type": "execute_result"
    }
   ],
   "source": [
    "pd.data"
   ]
  },
  {
   "cell_type": "markdown",
   "metadata": {},
   "source": [
    "Now let's actually get the full intensity by adding the real and imaginary parts: $A = A_{r} + i A_{i}$\n",
    "\n",
    "And squaring the magnitude"
   ]
  },
  {
   "cell_type": "code",
   "execution_count": 719,
   "metadata": {},
   "outputs": [],
   "source": [
    "Amp = @. pd.data[1] + 1.0im*pd.data[2];\n",
    "Amp2 = abs2.(Amp);"
   ]
  },
  {
   "cell_type": "markdown",
   "metadata": {},
   "source": [
    "We can get the coordinates of the data points by using the `PlotData2D` structure's data of `x` and `y`"
   ]
  },
  {
   "cell_type": "code",
   "execution_count": 720,
   "metadata": {},
   "outputs": [
    {
     "data": {
      "image/png": "[encoded data removed]",
      "image/svg+xml": [
       "<?xml version=\"1.0\" encoding=\"utf-8\"?>\n",
       "<svg xmlns=\"http://www.w3.org/2000/svg\" xmlns:xlink=\"http://www.w3.org/1999/xlink\" width=\"600\" height=\"400\" viewBox=\"0 0 2400 1600\">\n",
       "<defs>\n",
       "  <clipPath id=\"clip300\">\n",
       "    <rect x=\"0\" y=\"0\" width=\"2400\" height=\"1600\"/>\n",
       "  </clipPath>\n",
       "</defs>\n",
       "<path clip-path=\"url(#clip300)\" d=\"M0 1600 L2400 1600 L2400 0 L0 0  Z\" fill=\"#ffffff\" fill-rule=\"evenodd\" fill-opacity=\"1\"/>\n",
       "<defs>\n",
       "  <clipPath id=\"clip301\">\n",
       "    <rect x=\"480\" y=\"0\" width=\"1681\" height=\"1600\"/>\n",
       "  </clipPath>\n",
       "</defs>\n",
       "<path clip-path=\"url(#clip300)\" d=\"M194.422 1486.45 L2112.76 1486.45 L2112.76 47.2441 L194.422 47.2441  Z\" fill=\"#ffffff\" fill-rule=\"evenodd\" fill-opacity=\"1\"/>\n",
       "<defs>\n",
       "  <clipPath id=\"clip302\">\n",
       "    <rect x=\"194\" y=\"47\" width=\"1919\" height=\"1440\"/>\n",
       "  </clipPath>\n",
       "</defs>\n",
       "<polyline clip-path=\"url(#clip302)\" style=\"stroke:#000000; stroke-linecap:round; stroke-linejoin:round; stroke-width:2; stroke-opacity:0.1; fill:none\" points=\"201.858,1486.45 201.858,47.2441 \"/>\n",
       "<polyline clip-path=\"url(#clip302)\" style=\"stroke:#000000; stroke-linecap:round; stroke-linejoin:round; stroke-width:2; stroke-opacity:0.1; fill:none\" points=\"677.723,1486.45 677.723,47.2441 \"/>\n",
       "<polyline clip-path=\"url(#clip302)\" style=\"stroke:#000000; stroke-linecap:round; stroke-linejoin:round; stroke-width:2; stroke-opacity:0.1; fill:none\" points=\"1153.59,1486.45 1153.59,47.2441 \"/>\n",
       "<polyline clip-path=\"url(#clip302)\" style=\"stroke:#000000; stroke-linecap:round; stroke-linejoin:round; stroke-width:2; stroke-opacity:0.1; fill:none\" points=\"1629.45,1486.45 1629.45,47.2441 \"/>\n",
       "<polyline clip-path=\"url(#clip302)\" style=\"stroke:#000000; stroke-linecap:round; stroke-linejoin:round; stroke-width:2; stroke-opacity:0.1; fill:none\" points=\"2105.32,1486.45 2105.32,47.2441 \"/>\n",
       "<polyline clip-path=\"url(#clip302)\" style=\"stroke:#000000; stroke-linecap:round; stroke-linejoin:round; stroke-width:2; stroke-opacity:0.1; fill:none\" points=\"194.422,1338.06 2112.76,1338.06 \"/>\n",
       "<polyline clip-path=\"url(#clip302)\" style=\"stroke:#000000; stroke-linecap:round; stroke-linejoin:round; stroke-width:2; stroke-opacity:0.1; fill:none\" points=\"194.422,1052.46 2112.76,1052.46 \"/>\n",
       "<polyline clip-path=\"url(#clip302)\" style=\"stroke:#000000; stroke-linecap:round; stroke-linejoin:round; stroke-width:2; stroke-opacity:0.1; fill:none\" points=\"194.422,766.846 2112.76,766.846 \"/>\n",
       "<polyline clip-path=\"url(#clip302)\" style=\"stroke:#000000; stroke-linecap:round; stroke-linejoin:round; stroke-width:2; stroke-opacity:0.1; fill:none\" points=\"194.422,481.237 2112.76,481.237 \"/>\n",
       "<polyline clip-path=\"url(#clip302)\" style=\"stroke:#000000; stroke-linecap:round; stroke-linejoin:round; stroke-width:2; stroke-opacity:0.1; fill:none\" points=\"194.422,195.627 2112.76,195.627 \"/>\n",
       "<polyline clip-path=\"url(#clip300)\" style=\"stroke:#000000; stroke-linecap:round; stroke-linejoin:round; stroke-width:4; stroke-opacity:1; fill:none\" points=\"194.422,1486.45 2112.76,1486.45 \"/>\n",
       "<polyline clip-path=\"url(#clip300)\" style=\"stroke:#000000; stroke-linecap:round; stroke-linejoin:round; stroke-width:4; stroke-opacity:1; fill:none\" points=\"201.858,1486.45 201.858,1467.55 \"/>\n",
       "<polyline clip-path=\"url(#clip300)\" style=\"stroke:#000000; stroke-linecap:round; stroke-linejoin:round; stroke-width:4; stroke-opacity:1; fill:none\" points=\"677.723,1486.45 677.723,1467.55 \"/>\n",
       "<polyline clip-path=\"url(#clip300)\" style=\"stroke:#000000; stroke-linecap:round; stroke-linejoin:round; stroke-width:4; stroke-opacity:1; fill:none\" points=\"1153.59,1486.45 1153.59,1467.55 \"/>\n",
       "<polyline clip-path=\"url(#clip300)\" style=\"stroke:#000000; stroke-linecap:round; stroke-linejoin:round; stroke-width:4; stroke-opacity:1; fill:none\" points=\"1629.45,1486.45 1629.45,1467.55 \"/>\n",
       "<polyline clip-path=\"url(#clip300)\" style=\"stroke:#000000; stroke-linecap:round; stroke-linejoin:round; stroke-width:4; stroke-opacity:1; fill:none\" points=\"2105.32,1486.45 2105.32,1467.55 \"/>\n",
       "<path clip-path=\"url(#clip300)\" d=\"M164.161 1517.37 Q160.55 1517.37 158.721 1520.93 Q156.916 1524.47 156.916 1531.6 Q156.916 1538.71 158.721 1542.27 Q160.55 1545.82 164.161 1545.82 Q167.795 1545.82 169.601 1542.27 Q171.429 1538.71 171.429 1531.6 Q171.429 1524.47 169.601 1520.93 Q167.795 1517.37 164.161 1517.37 M164.161 1513.66 Q169.971 1513.66 173.027 1518.27 Q176.105 1522.85 176.105 1531.6 Q176.105 1540.33 173.027 1544.94 Q169.971 1549.52 164.161 1549.52 Q158.351 1549.52 155.272 1544.94 Q152.217 1540.33 152.217 1531.6 Q152.217 1522.85 155.272 1518.27 Q158.351 1513.66 164.161 1513.66 Z\" fill=\"#000000\" fill-rule=\"nonzero\" fill-opacity=\"1\" /><path clip-path=\"url(#clip300)\" d=\"M184.323 1542.97 L189.207 1542.97 L189.207 1548.85 L184.323 1548.85 L184.323 1542.97 Z\" fill=\"#000000\" fill-rule=\"nonzero\" fill-opacity=\"1\" /><path clip-path=\"url(#clip300)\" d=\"M209.392 1517.37 Q205.781 1517.37 203.952 1520.93 Q202.147 1524.47 202.147 1531.6 Q202.147 1538.71 203.952 1542.27 Q205.781 1545.82 209.392 1545.82 Q213.026 1545.82 214.832 1542.27 Q216.661 1538.71 216.661 1531.6 Q216.661 1524.47 214.832 1520.93 Q213.026 1517.37 209.392 1517.37 M209.392 1513.66 Q215.202 1513.66 218.258 1518.27 Q221.337 1522.85 221.337 1531.6 Q221.337 1540.33 218.258 1544.94 Q215.202 1549.52 209.392 1549.52 Q203.582 1549.52 200.503 1544.94 Q197.448 1540.33 197.448 1531.6 Q197.448 1522.85 200.503 1518.27 Q203.582 1513.66 209.392 1513.66 Z\" fill=\"#000000\" fill-rule=\"nonzero\" fill-opacity=\"1\" /><path clip-path=\"url(#clip300)\" d=\"M239.554 1517.37 Q235.943 1517.37 234.114 1520.93 Q232.309 1524.47 232.309 1531.6 Q232.309 1538.71 234.114 1542.27 Q235.943 1545.82 239.554 1545.82 Q243.188 1545.82 244.994 1542.27 Q246.823 1538.71 246.823 1531.6 Q246.823 1524.47 244.994 1520.93 Q243.188 1517.37 239.554 1517.37 M239.554 1513.66 Q245.364 1513.66 248.42 1518.27 Q251.498 1522.85 251.498 1531.6 Q251.498 1540.33 248.42 1544.94 Q245.364 1549.52 239.554 1549.52 Q233.744 1549.52 230.665 1544.94 Q227.61 1540.33 227.61 1531.6 Q227.61 1522.85 230.665 1518.27 Q233.744 1513.66 239.554 1513.66 Z\" fill=\"#000000\" fill-rule=\"nonzero\" fill-opacity=\"1\" /><path clip-path=\"url(#clip300)\" d=\"M640.524 1517.37 Q636.913 1517.37 635.085 1520.93 Q633.279 1524.47 633.279 1531.6 Q633.279 1538.71 635.085 1542.27 Q636.913 1545.82 640.524 1545.82 Q644.159 1545.82 645.964 1542.27 Q647.793 1538.71 647.793 1531.6 Q647.793 1524.47 645.964 1520.93 Q644.159 1517.37 640.524 1517.37 M640.524 1513.66 Q646.335 1513.66 649.39 1518.27 Q652.469 1522.85 652.469 1531.6 Q652.469 1540.33 649.39 1544.94 Q646.335 1549.52 640.524 1549.52 Q634.714 1549.52 631.636 1544.94 Q628.58 1540.33 628.58 1531.6 Q628.58 1522.85 631.636 1518.27 Q634.714 1513.66 640.524 1513.66 Z\" fill=\"#000000\" fill-rule=\"nonzero\" fill-opacity=\"1\" /><path clip-path=\"url(#clip300)\" d=\"M660.686 1542.97 L665.571 1542.97 L665.571 1548.85 L660.686 1548.85 L660.686 1542.97 Z\" fill=\"#000000\" fill-rule=\"nonzero\" fill-opacity=\"1\" /><path clip-path=\"url(#clip300)\" d=\"M679.783 1544.91 L696.103 1544.91 L696.103 1548.85 L674.158 1548.85 L674.158 1544.91 Q676.82 1542.16 681.404 1537.53 Q686.01 1532.88 687.191 1531.53 Q689.436 1529.01 690.316 1527.27 Q691.219 1525.51 691.219 1523.82 Q691.219 1521.07 689.274 1519.33 Q687.353 1517.6 684.251 1517.6 Q682.052 1517.6 679.598 1518.36 Q677.168 1519.13 674.39 1520.68 L674.39 1515.95 Q677.214 1514.82 679.668 1514.24 Q682.121 1513.66 684.158 1513.66 Q689.529 1513.66 692.723 1516.35 Q695.918 1519.03 695.918 1523.52 Q695.918 1525.65 695.107 1527.57 Q694.32 1529.47 692.214 1532.07 Q691.635 1532.74 688.533 1535.95 Q685.432 1539.15 679.783 1544.91 Z\" fill=\"#000000\" fill-rule=\"nonzero\" fill-opacity=\"1\" /><path clip-path=\"url(#clip300)\" d=\"M705.964 1514.29 L724.32 1514.29 L724.32 1518.22 L710.246 1518.22 L710.246 1526.7 Q711.265 1526.35 712.283 1526.19 Q713.302 1526 714.32 1526 Q720.107 1526 723.487 1529.17 Q726.867 1532.34 726.867 1537.76 Q726.867 1543.34 723.394 1546.44 Q719.922 1549.52 713.603 1549.52 Q711.427 1549.52 709.158 1549.15 Q706.913 1548.78 704.506 1548.04 L704.506 1543.34 Q706.589 1544.47 708.811 1545.03 Q711.033 1545.58 713.51 1545.58 Q717.515 1545.58 719.853 1543.48 Q722.191 1541.37 722.191 1537.76 Q722.191 1534.15 719.853 1532.04 Q717.515 1529.94 713.51 1529.94 Q711.635 1529.94 709.76 1530.35 Q707.908 1530.77 705.964 1531.65 L705.964 1514.29 Z\" fill=\"#000000\" fill-rule=\"nonzero\" fill-opacity=\"1\" /><path clip-path=\"url(#clip300)\" d=\"M1115.89 1517.37 Q1112.28 1517.37 1110.45 1520.93 Q1108.65 1524.47 1108.65 1531.6 Q1108.65 1538.71 1110.45 1542.27 Q1112.28 1545.82 1115.89 1545.82 Q1119.53 1545.82 1121.33 1542.27 Q1123.16 1538.71 1123.16 1531.6 Q1123.16 1524.47 1121.33 1520.93 Q1119.53 1517.37 1115.89 1517.37 M1115.89 1513.66 Q1121.7 1513.66 1124.76 1518.27 Q1127.84 1522.85 1127.84 1531.6 Q1127.84 1540.33 1124.76 1544.94 Q1121.7 1549.52 1115.89 1549.52 Q1110.08 1549.52 1107 1544.94 Q1103.95 1540.33 1103.95 1531.6 Q1103.95 1522.85 1107 1518.27 Q1110.08 1513.66 1115.89 1513.66 Z\" fill=\"#000000\" fill-rule=\"nonzero\" fill-opacity=\"1\" /><path clip-path=\"url(#clip300)\" d=\"M1136.05 1542.97 L1140.94 1542.97 L1140.94 1548.85 L1136.05 1548.85 L1136.05 1542.97 Z\" fill=\"#000000\" fill-rule=\"nonzero\" fill-opacity=\"1\" /><path clip-path=\"url(#clip300)\" d=\"M1151.17 1514.29 L1169.53 1514.29 L1169.53 1518.22 L1155.45 1518.22 L1155.45 1526.7 Q1156.47 1526.35 1157.49 1526.19 Q1158.51 1526 1159.53 1526 Q1165.31 1526 1168.69 1529.17 Q1172.07 1532.34 1172.07 1537.76 Q1172.07 1543.34 1168.6 1546.44 Q1165.13 1549.52 1158.81 1549.52 Q1156.63 1549.52 1154.36 1549.15 Q1152.12 1548.78 1149.71 1548.04 L1149.71 1543.34 Q1151.8 1544.47 1154.02 1545.03 Q1156.24 1545.58 1158.72 1545.58 Q1162.72 1545.58 1165.06 1543.48 Q1167.4 1541.37 1167.4 1537.76 Q1167.4 1534.15 1165.06 1532.04 Q1162.72 1529.94 1158.72 1529.94 Q1156.84 1529.94 1154.97 1530.35 Q1153.11 1530.77 1151.17 1531.65 L1151.17 1514.29 Z\" fill=\"#000000\" fill-rule=\"nonzero\" fill-opacity=\"1\" /><path clip-path=\"url(#clip300)\" d=\"M1191.29 1517.37 Q1187.67 1517.37 1185.85 1520.93 Q1184.04 1524.47 1184.04 1531.6 Q1184.04 1538.71 1185.85 1542.27 Q1187.67 1545.82 1191.29 1545.82 Q1194.92 1545.82 1196.73 1542.27 Q1198.55 1538.71 1198.55 1531.6 Q1198.55 1524.47 1196.73 1520.93 Q1194.92 1517.37 1191.29 1517.37 M1191.29 1513.66 Q1197.1 1513.66 1200.15 1518.27 Q1203.23 1522.85 1203.23 1531.6 Q1203.23 1540.33 1200.15 1544.94 Q1197.1 1549.52 1191.29 1549.52 Q1185.48 1549.52 1182.4 1544.94 Q1179.34 1540.33 1179.34 1531.6 Q1179.34 1522.85 1182.4 1518.27 Q1185.48 1513.66 1191.29 1513.66 Z\" fill=\"#000000\" fill-rule=\"nonzero\" fill-opacity=\"1\" /><path clip-path=\"url(#clip300)\" d=\"M1592.26 1517.37 Q1588.64 1517.37 1586.82 1520.93 Q1585.01 1524.47 1585.01 1531.6 Q1585.01 1538.71 1586.82 1542.27 Q1588.64 1545.82 1592.26 1545.82 Q1595.89 1545.82 1597.7 1542.27 Q1599.52 1538.71 1599.52 1531.6 Q1599.52 1524.47 1597.7 1520.93 Q1595.89 1517.37 1592.26 1517.37 M1592.26 1513.66 Q1598.07 1513.66 1601.12 1518.27 Q1604.2 1522.85 1604.2 1531.6 Q1604.2 1540.33 1601.12 1544.94 Q1598.07 1549.52 1592.26 1549.52 Q1586.45 1549.52 1583.37 1544.94 Q1580.31 1540.33 1580.31 1531.6 Q1580.31 1522.85 1583.37 1518.27 Q1586.45 1513.66 1592.26 1513.66 Z\" fill=\"#000000\" fill-rule=\"nonzero\" fill-opacity=\"1\" /><path clip-path=\"url(#clip300)\" d=\"M1612.42 1542.97 L1617.3 1542.97 L1617.3 1548.85 L1612.42 1548.85 L1612.42 1542.97 Z\" fill=\"#000000\" fill-rule=\"nonzero\" fill-opacity=\"1\" /><path clip-path=\"url(#clip300)\" d=\"M1626.31 1514.29 L1648.53 1514.29 L1648.53 1516.28 L1635.98 1548.85 L1631.1 1548.85 L1642.9 1518.22 L1626.31 1518.22 L1626.31 1514.29 Z\" fill=\"#000000\" fill-rule=\"nonzero\" fill-opacity=\"1\" /><path clip-path=\"url(#clip300)\" d=\"M1657.7 1514.29 L1676.05 1514.29 L1676.05 1518.22 L1661.98 1518.22 L1661.98 1526.7 Q1663 1526.35 1664.01 1526.19 Q1665.03 1526 1666.05 1526 Q1671.84 1526 1675.22 1529.17 Q1678.6 1532.34 1678.6 1537.76 Q1678.6 1543.34 1675.13 1546.44 Q1671.65 1549.52 1665.33 1549.52 Q1663.16 1549.52 1660.89 1549.15 Q1658.64 1548.78 1656.24 1548.04 L1656.24 1543.34 Q1658.32 1544.47 1660.54 1545.03 Q1662.76 1545.58 1665.24 1545.58 Q1669.25 1545.58 1671.58 1543.48 Q1673.92 1541.37 1673.92 1537.76 Q1673.92 1534.15 1671.58 1532.04 Q1669.25 1529.94 1665.24 1529.94 Q1663.37 1529.94 1661.49 1530.35 Q1659.64 1530.77 1657.7 1531.65 L1657.7 1514.29 Z\" fill=\"#000000\" fill-rule=\"nonzero\" fill-opacity=\"1\" /><path clip-path=\"url(#clip300)\" d=\"M2057.39 1544.91 L2065.03 1544.91 L2065.03 1518.55 L2056.72 1520.21 L2056.72 1515.95 L2064.99 1514.29 L2069.66 1514.29 L2069.66 1544.91 L2077.3 1544.91 L2077.3 1548.85 L2057.39 1548.85 L2057.39 1544.91 Z\" fill=\"#000000\" fill-rule=\"nonzero\" fill-opacity=\"1\" /><path clip-path=\"url(#clip300)\" d=\"M2086.74 1542.97 L2091.63 1542.97 L2091.63 1548.85 L2086.74 1548.85 L2086.74 1542.97 Z\" fill=\"#000000\" fill-rule=\"nonzero\" fill-opacity=\"1\" /><path clip-path=\"url(#clip300)\" d=\"M2111.81 1517.37 Q2108.2 1517.37 2106.37 1520.93 Q2104.57 1524.47 2104.57 1531.6 Q2104.57 1538.71 2106.37 1542.27 Q2108.2 1545.82 2111.81 1545.82 Q2115.45 1545.82 2117.25 1542.27 Q2119.08 1538.71 2119.08 1531.6 Q2119.08 1524.47 2117.25 1520.93 Q2115.45 1517.37 2111.81 1517.37 M2111.81 1513.66 Q2117.62 1513.66 2120.68 1518.27 Q2123.76 1522.85 2123.76 1531.6 Q2123.76 1540.33 2120.68 1544.94 Q2117.62 1549.52 2111.81 1549.52 Q2106 1549.52 2102.92 1544.94 Q2099.87 1540.33 2099.87 1531.6 Q2099.87 1522.85 2102.92 1518.27 Q2106 1513.66 2111.81 1513.66 Z\" fill=\"#000000\" fill-rule=\"nonzero\" fill-opacity=\"1\" /><path clip-path=\"url(#clip300)\" d=\"M2141.98 1517.37 Q2138.36 1517.37 2136.54 1520.93 Q2134.73 1524.47 2134.73 1531.6 Q2134.73 1538.71 2136.54 1542.27 Q2138.36 1545.82 2141.98 1545.82 Q2145.61 1545.82 2147.42 1542.27 Q2149.24 1538.71 2149.24 1531.6 Q2149.24 1524.47 2147.42 1520.93 Q2145.61 1517.37 2141.98 1517.37 M2141.98 1513.66 Q2147.79 1513.66 2150.84 1518.27 Q2153.92 1522.85 2153.92 1531.6 Q2153.92 1540.33 2150.84 1544.94 Q2147.79 1549.52 2141.98 1549.52 Q2136.17 1549.52 2133.09 1544.94 Q2130.03 1540.33 2130.03 1531.6 Q2130.03 1522.85 2133.09 1518.27 Q2136.17 1513.66 2141.98 1513.66 Z\" fill=\"#000000\" fill-rule=\"nonzero\" fill-opacity=\"1\" /><polyline clip-path=\"url(#clip300)\" style=\"stroke:#000000; stroke-linecap:round; stroke-linejoin:round; stroke-width:4; stroke-opacity:1; fill:none\" points=\"194.422,1486.45 194.422,47.2441 \"/>\n",
       "<polyline clip-path=\"url(#clip300)\" style=\"stroke:#000000; stroke-linecap:round; stroke-linejoin:round; stroke-width:4; stroke-opacity:1; fill:none\" points=\"194.422,1338.06 211.218,1338.06 \"/>\n",
       "<polyline clip-path=\"url(#clip300)\" style=\"stroke:#000000; stroke-linecap:round; stroke-linejoin:round; stroke-width:4; stroke-opacity:1; fill:none\" points=\"194.422,1052.46 211.218,1052.46 \"/>\n",
       "<polyline clip-path=\"url(#clip300)\" style=\"stroke:#000000; stroke-linecap:round; stroke-linejoin:round; stroke-width:4; stroke-opacity:1; fill:none\" points=\"194.422,766.846 211.218,766.846 \"/>\n",
       "<polyline clip-path=\"url(#clip300)\" style=\"stroke:#000000; stroke-linecap:round; stroke-linejoin:round; stroke-width:4; stroke-opacity:1; fill:none\" points=\"194.422,481.237 211.218,481.237 \"/>\n",
       "<polyline clip-path=\"url(#clip300)\" style=\"stroke:#000000; stroke-linecap:round; stroke-linejoin:round; stroke-width:4; stroke-opacity:1; fill:none\" points=\"194.422,195.627 211.218,195.627 \"/>\n",
       "<path clip-path=\"url(#clip300)\" d=\"M50.9921 1338.52 L80.6679 1338.52 L80.6679 1342.45 L50.9921 1342.45 L50.9921 1338.52 Z\" fill=\"#000000\" fill-rule=\"nonzero\" fill-opacity=\"1\" /><path clip-path=\"url(#clip300)\" d=\"M100.76 1323.86 Q97.1493 1323.86 95.3206 1327.43 Q93.515 1330.97 93.515 1338.1 Q93.515 1345.21 95.3206 1348.77 Q97.1493 1352.31 100.76 1352.31 Q104.395 1352.31 106.2 1348.77 Q108.029 1345.21 108.029 1338.1 Q108.029 1330.97 106.2 1327.43 Q104.395 1323.86 100.76 1323.86 M100.76 1320.16 Q106.571 1320.16 109.626 1324.77 Q112.705 1329.35 112.705 1338.1 Q112.705 1346.83 109.626 1351.43 Q106.571 1356.02 100.76 1356.02 Q94.9502 1356.02 91.8715 1351.43 Q88.816 1346.83 88.816 1338.1 Q88.816 1329.35 91.8715 1324.77 Q94.9502 1320.16 100.76 1320.16 Z\" fill=\"#000000\" fill-rule=\"nonzero\" fill-opacity=\"1\" /><path clip-path=\"url(#clip300)\" d=\"M120.922 1349.47 L125.807 1349.47 L125.807 1355.34 L120.922 1355.34 L120.922 1349.47 Z\" fill=\"#000000\" fill-rule=\"nonzero\" fill-opacity=\"1\" /><path clip-path=\"url(#clip300)\" d=\"M148.839 1324.86 L137.033 1343.31 L148.839 1343.31 L148.839 1324.86 M147.612 1320.78 L153.492 1320.78 L153.492 1343.31 L158.422 1343.31 L158.422 1347.2 L153.492 1347.2 L153.492 1355.34 L148.839 1355.34 L148.839 1347.2 L133.237 1347.2 L133.237 1342.68 L147.612 1320.78 Z\" fill=\"#000000\" fill-rule=\"nonzero\" fill-opacity=\"1\" /><path clip-path=\"url(#clip300)\" d=\"M53.0754 1052.91 L82.7512 1052.91 L82.7512 1056.84 L53.0754 1056.84 L53.0754 1052.91 Z\" fill=\"#000000\" fill-rule=\"nonzero\" fill-opacity=\"1\" /><path clip-path=\"url(#clip300)\" d=\"M102.844 1038.25 Q99.2326 1038.25 97.4039 1041.82 Q95.5984 1045.36 95.5984 1052.49 Q95.5984 1059.6 97.4039 1063.16 Q99.2326 1066.7 102.844 1066.7 Q106.478 1066.7 108.283 1063.16 Q110.112 1059.6 110.112 1052.49 Q110.112 1045.36 108.283 1041.82 Q106.478 1038.25 102.844 1038.25 M102.844 1034.55 Q108.654 1034.55 111.709 1039.16 Q114.788 1043.74 114.788 1052.49 Q114.788 1061.22 111.709 1065.82 Q108.654 1070.41 102.844 1070.41 Q97.0335 1070.41 93.9549 1065.82 Q90.8993 1061.22 90.8993 1052.49 Q90.8993 1043.74 93.9549 1039.16 Q97.0335 1034.55 102.844 1034.55 Z\" fill=\"#000000\" fill-rule=\"nonzero\" fill-opacity=\"1\" /><path clip-path=\"url(#clip300)\" d=\"M123.006 1063.86 L127.89 1063.86 L127.89 1069.74 L123.006 1069.74 L123.006 1063.86 Z\" fill=\"#000000\" fill-rule=\"nonzero\" fill-opacity=\"1\" /><path clip-path=\"url(#clip300)\" d=\"M142.103 1065.8 L158.422 1065.8 L158.422 1069.74 L136.478 1069.74 L136.478 1065.8 Q139.14 1063.05 143.723 1058.42 Q148.33 1053.76 149.51 1052.42 Q151.755 1049.9 152.635 1048.16 Q153.538 1046.4 153.538 1044.71 Q153.538 1041.96 151.593 1040.22 Q149.672 1038.49 146.57 1038.49 Q144.371 1038.49 141.918 1039.25 Q139.487 1040.01 136.709 1041.56 L136.709 1036.84 Q139.533 1035.71 141.987 1035.13 Q144.441 1034.55 146.478 1034.55 Q151.848 1034.55 155.042 1037.24 Q158.237 1039.92 158.237 1044.41 Q158.237 1046.54 157.427 1048.46 Q156.64 1050.36 154.533 1052.95 Q153.955 1053.62 150.853 1056.84 Q147.751 1060.04 142.103 1065.8 Z\" fill=\"#000000\" fill-rule=\"nonzero\" fill-opacity=\"1\" /><path clip-path=\"url(#clip300)\" d=\"M101.246 752.645 Q97.6354 752.645 95.8067 756.209 Q94.0012 759.751 94.0012 766.881 Q94.0012 773.987 95.8067 777.552 Q97.6354 781.094 101.246 781.094 Q104.881 781.094 106.686 777.552 Q108.515 773.987 108.515 766.881 Q108.515 759.751 106.686 756.209 Q104.881 752.645 101.246 752.645 M101.246 748.941 Q107.057 748.941 110.112 753.547 Q113.191 758.131 113.191 766.881 Q113.191 775.608 110.112 780.214 Q107.057 784.797 101.246 784.797 Q95.4363 784.797 92.3576 780.214 Q89.3021 775.608 89.3021 766.881 Q89.3021 758.131 92.3576 753.547 Q95.4363 748.941 101.246 748.941 Z\" fill=\"#000000\" fill-rule=\"nonzero\" fill-opacity=\"1\" /><path clip-path=\"url(#clip300)\" d=\"M121.408 778.246 L126.293 778.246 L126.293 784.126 L121.408 784.126 L121.408 778.246 Z\" fill=\"#000000\" fill-rule=\"nonzero\" fill-opacity=\"1\" /><path clip-path=\"url(#clip300)\" d=\"M146.478 752.645 Q142.867 752.645 141.038 756.209 Q139.232 759.751 139.232 766.881 Q139.232 773.987 141.038 777.552 Q142.867 781.094 146.478 781.094 Q150.112 781.094 151.918 777.552 Q153.746 773.987 153.746 766.881 Q153.746 759.751 151.918 756.209 Q150.112 752.645 146.478 752.645 M146.478 748.941 Q152.288 748.941 155.343 753.547 Q158.422 758.131 158.422 766.881 Q158.422 775.608 155.343 780.214 Q152.288 784.797 146.478 784.797 Q140.668 784.797 137.589 780.214 Q134.533 775.608 134.533 766.881 Q134.533 758.131 137.589 753.547 Q140.668 748.941 146.478 748.941 Z\" fill=\"#000000\" fill-rule=\"nonzero\" fill-opacity=\"1\" /><path clip-path=\"url(#clip300)\" d=\"M102.844 467.035 Q99.2326 467.035 97.4039 470.6 Q95.5984 474.142 95.5984 481.271 Q95.5984 488.378 97.4039 491.943 Q99.2326 495.484 102.844 495.484 Q106.478 495.484 108.283 491.943 Q110.112 488.378 110.112 481.271 Q110.112 474.142 108.283 470.6 Q106.478 467.035 102.844 467.035 M102.844 463.332 Q108.654 463.332 111.709 467.938 Q114.788 472.521 114.788 481.271 Q114.788 489.998 111.709 494.605 Q108.654 499.188 102.844 499.188 Q97.0335 499.188 93.9549 494.605 Q90.8993 489.998 90.8993 481.271 Q90.8993 472.521 93.9549 467.938 Q97.0335 463.332 102.844 463.332 Z\" fill=\"#000000\" fill-rule=\"nonzero\" fill-opacity=\"1\" /><path clip-path=\"url(#clip300)\" d=\"M123.006 492.637 L127.89 492.637 L127.89 498.517 L123.006 498.517 L123.006 492.637 Z\" fill=\"#000000\" fill-rule=\"nonzero\" fill-opacity=\"1\" /><path clip-path=\"url(#clip300)\" d=\"M142.103 494.581 L158.422 494.581 L158.422 498.517 L136.478 498.517 L136.478 494.581 Q139.14 491.827 143.723 487.197 Q148.33 482.544 149.51 481.202 Q151.755 478.679 152.635 476.943 Q153.538 475.183 153.538 473.494 Q153.538 470.739 151.593 469.003 Q149.672 467.267 146.57 467.267 Q144.371 467.267 141.918 468.031 Q139.487 468.794 136.709 470.345 L136.709 465.623 Q139.533 464.489 141.987 463.91 Q144.441 463.332 146.478 463.332 Q151.848 463.332 155.042 466.017 Q158.237 468.702 158.237 473.193 Q158.237 475.322 157.427 477.244 Q156.64 479.142 154.533 481.734 Q153.955 482.406 150.853 485.623 Q147.751 488.818 142.103 494.581 Z\" fill=\"#000000\" fill-rule=\"nonzero\" fill-opacity=\"1\" /><path clip-path=\"url(#clip300)\" d=\"M100.76 181.426 Q97.1493 181.426 95.3206 184.991 Q93.515 188.532 93.515 195.662 Q93.515 202.768 95.3206 206.333 Q97.1493 209.875 100.76 209.875 Q104.395 209.875 106.2 206.333 Q108.029 202.768 108.029 195.662 Q108.029 188.532 106.2 184.991 Q104.395 181.426 100.76 181.426 M100.76 177.722 Q106.571 177.722 109.626 182.329 Q112.705 186.912 112.705 195.662 Q112.705 204.389 109.626 208.995 Q106.571 213.578 100.76 213.578 Q94.9502 213.578 91.8715 208.995 Q88.816 204.389 88.816 195.662 Q88.816 186.912 91.8715 182.329 Q94.9502 177.722 100.76 177.722 Z\" fill=\"#000000\" fill-rule=\"nonzero\" fill-opacity=\"1\" /><path clip-path=\"url(#clip300)\" d=\"M120.922 207.028 L125.807 207.028 L125.807 212.907 L120.922 212.907 L120.922 207.028 Z\" fill=\"#000000\" fill-rule=\"nonzero\" fill-opacity=\"1\" /><path clip-path=\"url(#clip300)\" d=\"M148.839 182.421 L137.033 200.87 L148.839 200.87 L148.839 182.421 M147.612 178.347 L153.492 178.347 L153.492 200.87 L158.422 200.87 L158.422 204.759 L153.492 204.759 L153.492 212.907 L148.839 212.907 L148.839 204.759 L133.237 204.759 L133.237 200.245 L147.612 178.347 Z\" fill=\"#000000\" fill-rule=\"nonzero\" fill-opacity=\"1\" /><g clip-path=\"url(#clip302)\">\n",
       "<image width=\"1918\" height=\"1439\" xlink:href=\"data:image/png;base64,\n",
       "iVBORw0KGgoAAAANSUhEUgAAB34AAAWfCAYAAABEOFeLAAAgAElEQVR4nOzZwQ3AIBDAsKNi/5Vh\n",
       "iD5QJHuC/LNm9hkAAAAAAAAAsr7XAQAAAAAAAAD8Y/wCAAAAAAAAxBm/AAAAAAAAAHHGLwAAAAAA\n",
       "AECc8QsAAAAAAAAQZ/wCAAAAAAAAxBm/AAAAAAAAAHHGLwAAAAAAAECc8QsAAAAAAAAQZ/wCAAAA\n",
       "AAAAxBm/AAAAAAAAAHHGLwAAAAAAAECc8QsAAAAAAAAQZ/wCAAAAAAAAxBm/AAAAAAAAAHHGLwAA\n",
       "AAAAAECc8QsAAAAAAAAQZ/wCAAAAAAAAxBm/AAAAAAAAAHHGLwAAAAAAAECc8QsAAAAAAAAQZ/wC\n",
       "AAAAAAAAxBm/AAAAAAAAAHHGLwAAAAAAAECc8QsAAAAAAAAQZ/wCAAAAAAAAxBm/AAAAAAAAAHHG\n",
       "LwAAAAAAAECc8QsAAAAAAAAQZ/wCAAAAAAAAxBm/AAAAAAAAAHHGLwAAAAAAAECc8QsAAAAAAAAQ\n",
       "Z/wCAAAAAAAAxBm/AAAAAAAAAHHGLwAAAAAAAECc8QsAAAAAAAAQZ/wCAAAAAAAAxBm/AAAAAAAA\n",
       "AHHGLwAAAAAAAECc8QsAAAAAAAAQZ/wCAAAAAAAAxBm/AAAAAAAAAHHGLwAAAAAAAECc8QsAAAAA\n",
       "AAAQZ/wCAAAAAAAAxBm/AAAAAAAAAHHGLwAAAAAAAECc8QsAAAAAAAAQZ/wCAAAAAAAAxBm/AAAA\n",
       "AAAAAHHGLwAAAAAAAECc8QsAAAAAAAAQZ/wCAAAAAAAAxBm/AAAAAAAAAHHGLwAAAAAAAECc8QsA\n",
       "AAAAAAAQZ/wCAAAAAAAAxBm/AAAAAAAAAHHGLwAAAAAAAECc8QsAAAAAAAAQZ/wCAAAAAAAAxBm/\n",
       "AAAAAAAAAHHGLwAAAAAAAECc8QsAAAAAAAAQZ/wCAAAAAAAAxBm/AAAAAAAAAHHGLwAAAAAAAECc\n",
       "8QsAAAAAAAAQZ/wCAAAAAAAAxBm/AAAAAAAAAHHGLwAAAAAAAECc8QsAAAAAAAAQZ/wCAAAAAAAA\n",
       "xBm/AAAAAAAAAHHGLwAAAAAAAECc8QsAAAAAAAAQZ/wCAAAAAAAAxBm/AAAAAAAAAHHGLwAAAAAA\n",
       "AECc8QsAAAAAAAAQZ/wCAAAAAAAAxBm/AAAAAAAAAHHGLwAAAAAAAECc8QsAAAAAAAAQZ/wCAAAA\n",
       "AAAAxBm/AAAAAAAAAHHGLwAAAAAAAECc8QsAAAAAAAAQZ/wCAAAAAAAAxBm/AAAAAAAAAHHGLwAA\n",
       "AAAAAECc8QsAAAAAAAAQZ/wCAAAAAAAAxBm/AAAAAAAAAHHGLwAAAAAAAECc8QsAAAAAAAAQZ/wC\n",
       "AAAAAAAAxBm/AAAAAAAAAHHGLwAAAAAAAECc8QsAAAAAAAAQZ/wCAAAAAAAAxBm/AAAAAAAAAHHG\n",
       "LwAAAAAAAECc8QsAAAAAAAAQZ/wCAAAAAAAAxBm/AAAAAAAAAHHGLwAAAAAAAECc8QsAAAAAAAAQ\n",
       "Z/wCAAAAAAAAxBm/AAAAAAAAAHHGLwAAAAAAAECc8QsAAAAAAAAQZ/wCAAAAAAAAxBm/AAAAAAAA\n",
       "AHHGLwAAAAAAAECc8QsAAAAAAAAQZ/wCAAAAAAAAxBm/AAAAAAAAAHHGLwAAAAAAAECc8QsAAAAA\n",
       "AAAQZ/wCAAAAAAAAxBm/AAAAAAAAAHHGLwAAAAAAAECc8QsAAAAAAAAQZ/wCAAAAAAAAxBm/AAAA\n",
       "AAAAAHHGLwAAAAAAAECc8QsAAAAAAAAQZ/wCAAAAAAAAxBm/AAAAAAAAAHHGLwAAAAAAAECc8QsA\n",
       "AAAAAAAQZ/wCAAAAAAAAxBm/AAAAAAAAAHHGLwAAAAAAAECc8QsAAAAAAAAQZ/wCAAAAAAAAxBm/\n",
       "AAAAAAAAAHHGLwAAAAAAAECc8QsAAAAAAAAQZ/wCAAAAAAAAxBm/AAAAAAAAAHHGLwAAAAAAAECc\n",
       "8QsAAAAAAAAQZ/wCAAAAAAAAxBm/AAAAAAAAAHHGLwAAAAAAAECc8QsAAAAAAAAQZ/wCAAAAAAAA\n",
       "xBm/AAAAAAAAAHHGLwAAAAAAAECc8QsAAAAAAAAQZ/wCAAAAAAAAxBm/AAAAAAAAAHHGLwAAAAAA\n",
       "AECc8QsAAAAAAAAQZ/wCAAAAAAAAxBm/AAAAAAAAAHHGLwAAAAAAAECc8QsAAAAAAAAQZ/wCAAAA\n",
       "AAAAxBm/AAAAAAAAAHHGLwAAAAAAAECc8QsAAAAAAAAQZ/wCAAAAAAAAxBm/AAAAAAAAAHHGLwAA\n",
       "AAAAAECc8QsAAAAAAAAQZ/wCAAAAAAAAxBm/AAAAAAAAAHHGLwAAAAAAAECc8QsAAAAAAAAQZ/wC\n",
       "AAAAAAAAxBm/AAAAAAAAAHHGLwAAAAAAAECc8QsAAAAAAAAQZ/wCAAAAAAAAxBm/AAAAAAAAAHHG\n",
       "LwAAAAAAAECc8QsAAAAAAAAQZ/wCAAAAAAAAxBm/AAAAAAAAAHHGLwAAAAAAAECc8QsAAAAAAAAQ\n",
       "Z/wCAAAAAAAAxBm/AAAAAAAAAHHGLwAAAAAAAECc8QsAAAAAAAAQZ/wCAAAAAAAAxBm/AAAAAAAA\n",
       "AHHGLwAAAAAAAECc8QsAAAAAAAAQZ/wCAAAAAAAAxBm/AAAAAAAAAHHGLwAAAAAAAECc8QsAAAAA\n",
       "AAAQZ/wCAAAAAAAAxBm/AAAAAAAAAHHGLwAAAAAAAECc8QsAAAAAAAAQZ/wCAAAAAAAAxBm/AAAA\n",
       "AAAAAHHGLwAAAAAAAECc8QsAAAAAAAAQZ/wCAAAAAAAAxBm/AAAAAAAAAHHGLwAAAAAAAECc8QsA\n",
       "AAAAAAAQZ/wCAAAAAAAAxBm/AAAAAAAAAHHGLwAAAAAAAECc8QsAAAAAAAAQZ/wCAAAAAAAAxBm/\n",
       "AAAAAAAAAHHGLwAAAAAAAECc8QsAAAAAAAAQZ/wCAAAAAAAAxBm/AAAAAAAAAHHGLwAAAAAAAECc\n",
       "8QsAAAAAAAAQZ/wCAAAAAAAAxBm/AAAAAAAAAHHGLwAAAAAAAECc8QsAAAAAAAAQZ/wCAAAAAAAA\n",
       "xBm/AAAAAAAAAHHGLwAAAAAAAECc8QsAAAAAAAAQZ/wCAAAAAAAAxBm/AAAAAAAAAHHGLwAAAAAA\n",
       "AECc8QsAAAAAAAAQZ/wCAAAAAAAAxBm/AAAAAAAAAHHGLwAAAAAAAECc8QsAAAAAAAAQZ/wCAAAA\n",
       "AAAAxBm/AAAAAAAAAHHGLwAAAAAAAECc8QsAAAAAAAAQZ/wCAAAAAAAAxBm/AAAAAAAAAHHGLwAA\n",
       "AAAAAECc8QsAAAAAAAAQZ/wCAAAAAAAAxBm/AAAAAAAAAHHGLwAAAAAAAECc8QsAAAAAAAAQZ/wC\n",
       "AAAAAAAAxBm/AAAAAAAAAHHGLwAAAAAAAECc8QsAAAAAAAAQZ/wCAAAAAAAAxBm/AAAAAAAAAHHG\n",
       "LwAAAAAAAECc8QsAAAAAAAAQZ/wCAAAAAAAAxBm/AAAAAAAAAHHGLwAAAAAAAECc8QsAAAAAAAAQ\n",
       "Z/wCAAAAAAAAxBm/AAAAAAAAAHHGLwAAAAAAAECc8QsAAAAAAAAQZ/wCAAAAAAAAxBm/AAAAAAAA\n",
       "AHHGLwAAAAAAAECc8QsAAAAAAAAQZ/wCAAAAAAAAxBm/AAAAAAAAAHHGLwAAAAAAAECc8QsAAAAA\n",
       "AAAQZ/wCAAAAAAAAxBm/AAAAAAAAAHHGLwAAAAAAAECc8QsAAAAAAAAQZ/wCAAAAAAAAxBm/AAAA\n",
       "AAAAAHHGLwAAAAAAAECc8QsAAAAAAAAQZ/wCAAAAAAAAxBm/AAAAAAAAAHHGLwAAAAAAAECc8QsA\n",
       "AAAAAAAQZ/wCAAAAAAAAxBm/AAAAAAAAAHHGLwAAAAAAAECc8QsAAAAAAAAQZ/wCAAAAAAAAxBm/\n",
       "AAAAAAAAAHHGLwAAAAAAAECc8QsAAAAAAAAQZ/wCAAAAAAAAxBm/AAAAAAAAAHHGLwAAAAAAAECc\n",
       "8QsAAAAAAAAQZ/wCAAAAAAAAxBm/AAAAAAAAAHHGLwAAAAAAAECc8QsAAAAAAAAQZ/wCAAAAAAAA\n",
       "xBm/AAAAAAAAAHHGLwAAAAAAAECc8QsAAAAAAAAQZ/wCAAAAAAAAxBm/AAAAAAAAAHHGLwAAAAAA\n",
       "AECc8QsAAAAAAAAQZ/wCAAAAAAAAxBm/AAAAAAAAAHHGLwAAAAAAAECc8QsAAAAAAAAQZ/wCAAAA\n",
       "AAAAxBm/AAAAAAAAAHHGLwAAAAAAAECc8QsAAAAAAAAQZ/wCAAAAAAAAxBm/AAAAAAAAAHHGLwAA\n",
       "AAAAAECc8QsAAAAAAAAQZ/wCAAAAAAAAxBm/AAAAAAAAAHHGLwAAAAAAAECc8QsAAAAAAAAQZ/wC\n",
       "AAAAAAAAxBm/AAAAAAAAAHHGLwAAAAAAAECc8QsAAAAAAAAQZ/wCAAAAAAAAxBm/AAAAAAAAAHHG\n",
       "LwAAAAAAAECc8QsAAAAAAAAQZ/wCAAAAAAAAxBm/AAAAAAAAAHHGLwAAAAAAAECc8QsAAAAAAAAQ\n",
       "Z/wCAAAAAAAAxBm/AAAAAAAAAHHGLwAAAAAAAECc8QsAAAAAAAAQZ/wCAAAAAAAAxBm/AAAAAAAA\n",
       "AHHGLwAAAAAAAECc8QsAAAAAAAAQZ/wCAAAAAAAAxBm/AAAAAAAAAHHGLwAAAAAAAECc8QsAAAAA\n",
       "AAAQZ/wCAAAAAAAAxBm/AAAAAAAAAHHGLwAAAAAAAECc8QsAAAAAAAAQZ/wCAAAAAAAAxBm/AAAA\n",
       "AAAAAHHGLwAAAAAAAECc8QsAAAAAAAAQZ/wCAAAAAAAAxBm/AAAAAAAAAHHGLwAAAAAAAECc8QsA\n",
       "AAAAAAAQZ/wCAAAAAAAAxBm/AAAAAAAAAHHGLwAAAAAAAECc8QsAAAAAAAAQZ/wCAAAAAAAAxBm/\n",
       "AAAAAAAAAHHGLwAAAAAAAECc8QsAAAAAAAAQZ/wCAAAAAAAAxBm/AAAAAAAAAHHGLwAAAAAAAECc\n",
       "8QsAAAAAAAAQZ/wCAAAAAAAAxBm/AAAAAAAAAHHGLwAAAAAAAECc8QsAAAAAAAAQZ/wCAAAAAAAA\n",
       "xBm/AAAAAAAAAHHGLwAAAAAAAECc8QsAAAAAAAAQZ/wCAAAAAAAAxBm/AAAAAAAAAHHGLwAAAAAA\n",
       "AECc8QsAAAAAAAAQZ/wCAAAAAAAAxBm/AAAAAAAAAHHGLwAAAAAAAECc8QsAAAAAAAAQZ/wCAAAA\n",
       "AAAAxBm/AAAAAAAAAHHGLwAAAAAAAECc8QsAAAAAAAAQZ/wCAAAAAAAAxBm/AAAAAAAAAHHGLwAA\n",
       "AAAAAECc8QsAAAAAAAAQZ/wCAAAAAAAAxBm/AAAAAAAAAHHGLwAAAAAAAECc8QsAAAAAAAAQZ/wC\n",
       "AAAAAAAAxBm/AAAAAAAAAHHGLwAAAAAAAECc8QsAAAAAAAAQZ/wCAAAAAAAAxBm/AAAAAAAAAHHG\n",
       "LwAAAAAAAECc8QsAAAAAAAAQZ/wCAAAAAAAAxBm/AAAAAAAAAHHGLwAAAAAAAECc8QsAAAAAAAAQ\n",
       "Z/wCAAAAAAAAxBm/AAAAAAAAAHHGLwAAAAAAAECc8QsAAAAAAAAQZ/wCAAAAAAAAxBm/AAAAAAAA\n",
       "AHHGLwAAAAAAAECc8QsAAAAAAAAQZ/wCAAAAAAAAxBm/AAAAAAAAAHHGLwAAAAAAAECc8QsAAAAA\n",
       "AAAQZ/wCAAAAAAAAxBm/AAAAAAAAAHHGLwAAAAAAAECc8QsAAAAAAAAQZ/wCAAAAAAAAxBm/AAAA\n",
       "AAAAAHHGLwAAAAAAAECc8QsAAAAAAAAQZ/wCAAAAAAAAxBm/AAAAAAAAAHHGLwAAAAAAAECc8QsA\n",
       "AAAAAAAQZ/wCAAAAAAAAxBm/AAAAAAAAAHHGLwAAAAAAAECc8QsAAAAAAAAQZ/wCAAAAAAAAxBm/\n",
       "AAAAAAAAAHHGLwAAAAAAAECc8QsAAAAAAAAQZ/wCAAAAAAAAxBm/AAAAAAAAAHHGLwAAAAAAAECc\n",
       "8QsAAAAAAAAQZ/wCAAAAAAAAxBm/AAAAAAAAAHHGLwAAAAAAAECc8QsAAAAAAAAQZ/wCAAAAAAAA\n",
       "xBm/AAAAAAAAAHHGLwAAAAAAAECc8QsAAAAAAAAQZ/wCAAAAAAAAxBm/AAAAAAAAAHHGLwAAAAAA\n",
       "AECc8QsAAAAAAAAQZ/wCAAAAAAAAxBm/AAAAAAAAAHHGLwAAAAAAAECc8QsAAAAAAAAQZ/wCAAAA\n",
       "AAAAxBm/AAAAAAAAAHHGLwAAAAAAAECc8QsAAAAAAAAQZ/wCAAAAAAAAxBm/AAAAAAAAAHHGLwAA\n",
       "AAAAAECc8QsAAAAAAAAQZ/wCAAAAAAAAxBm/AAAAAAAAAHHGLwAAAAAAAECc8QsAAAAAAAAQZ/wC\n",
       "AAAAAAAAxBm/AAAAAAAAAHHGLwAAAAAAAECc8QsAAAAAAAAQZ/wCAAAAAAAAxBm/AAAAAAAAAHHG\n",
       "LwAAAAAAAECc8QsAAAAAAAAQZ/wCAAAAAAAAxBm/AAAAAAAAAHHGLwAAAAAAAECc8QsAAAAAAAAQ\n",
       "Z/wCAAAAAAAAxBm/AAAAAAAAAHHGLwAAAAAAAECc8QsAAAAAAAAQZ/wCAAAAAAAAxBm/AAAAAAAA\n",
       "AHHGLwAAAAAAAECc8QsAAAAAAAAQZ/wCAAAAAAAAxBm/AAAAAAAAAHHGLwAAAAAAAECc8QsAAAAA\n",
       "AAAQZ/wCAAAAAAAAxBm/AAAAAAAAAHHGLwAAAAAAAECc8QsAAAAAAAAQZ/wCAAAAAAAAxBm/AAAA\n",
       "AAAAAHHGLwAAAAAAAECc8QsAAAAAAAAQZ/wCAAAAAAAAxBm/AAAAAAAAAHHGLwAAAAAAAECc8QsA\n",
       "AAAAAAAQZ/wCAAAAAAAAxBm/AAAAAAAAAHHGLwAAAAAAAECc8QsAAAAAAAAQZ/wCAAAAAAAAxBm/\n",
       "AAAAAAAAAHHGLwAAAAAAAECc8QsAAAAAAAAQZ/wCAAAAAAAAxBm/AAAAAAAAAHHGLwAAAAAAAECc\n",
       "8QsAAAAAAAAQZ/wCAAAAAAAAxBm/AAAAAAAAAHHGLwAAAAAAAECc8QsAAAAAAAAQZ/wCAAAAAAAA\n",
       "xBm/AAAAAAAAAHHGLwAAAAAAAECc8QsAAAAAAAAQZ/wCAAAAAAAAxBm/AAAAAAAAAHHGLwAAAAAA\n",
       "AECc8QsAAAAAAAAQZ/wCAAAAAAAAxBm/AAAAAAAAAHHGLwAAAAAAAECc8QsAAAAAAAAQZ/wCAAAA\n",
       "AAAAxBm/AAAAAAAAAHHGLwAAAAAAAECc8QsAAAAAAHDZt59Wva46DMN75bwnTQex1VqbSEeCIgXB\n",
       "kSD6Bfy+fgVxIk6caMWBA2tbAi212Pw5OduJ0yD5bZvNnVzX/GGt7CYdvDcLIE74BQAAAAAAAIgT\n",
       "fgEAAAAAAADihF8AAAAAAACAOOEXAAAAAAAAIE74BQAAAAAAAIgTfgEAAAAAAADihF8AAAAAAACA\n",
       "OOEXAAAAAAAAIE74BQAAAAAAAIgTfgEAAAAAAADihF8AAAAAAACAOOEXAAAAAAAAIE74BQAAAAAA\n",
       "AIgTfgEAAAAAAADihF8AAAAAAACAOOEXAAAAAAAAIE74BQAAAAAAAIgTfgEAAAAAAADihF8AAAAA\n",
       "AACAOOEXAAAAAAAAIE74BQAAAAAAAIgTfgEAAAAAAADihF8AAAAAAACAOOEXAAAAAAAAIE74BQAA\n",
       "AAAAAIgTfgEAAAAAAADihF8AAAAAAACAOOEXAAAAAAAAIE74BQAAAAAAAIgTfgEAAAAAAADihF8A\n",
       "AAAAAACAOOEXAAAAAAAAIE74BQAAAAAAAIgTfgEAAAAAAADihF8AAAAAAACAOOEXAAAAAAAAIE74\n",
       "BQAAAAAAAIgTfgEAAAAAAADihF8AAAAAAACAOOEXAAAAAAAAIE74BQAAAAAAAIgTfgEAAAAAAADi\n",
       "hF8AAAAAAACAOOEXAAAAAAAAIE74BQAAAAAAAIgTfgEAAAAAAADihF8AAAAAAACAOOEXAAAAAAAA\n",
       "IE74BQAAAAAAAIgTfgEAAAAAAADihF8AAAAAAACAOOEXAAAAAAAAIE74BQAAAAAAAIgTfgEAAAAA\n",
       "AADihF8AAAAAAACAOOEXAAAAAAAAIE74BQAAAAAAAIgTfgEAAAAAAADihF8AAAAAAACAOOEXAAAA\n",
       "AAAAIE74BQAAAAAAAIgTfgEAAAAAAADihF8AAAAAAACAOOEXAAAAAAAAIE74BQAAAAAAAIgTfgEA\n",
       "AAAAAADihF8AAAAAAACAOOEXAAAAAAAAIE74BQAAAAAAAIgTfgEAAAAAAADihF8AAAAAAACAOOEX\n",
       "AAAAAAAAIE74BQAAAAAAAIgTfgEAAAAAAADihF8AAAAAAACAOOEXAAAAAAAAIE74BQAAAAAAAIgT\n",
       "fgEAAAAAAADihF8AAAAAAACAOOEXAAAAAAAAIE74BQAAAAAAAIgTfgEAAAAAAADihF8AAAAAAACA\n",
       "OOEXAAAAAAAAIE74BQAAAAAAAIgTfgEAAAAAAADihF8AAAAAAACAOOEXAAAAAAAAIE74BQAAAAAA\n",
       "AIgTfgEAAAAAAADiLmdfAAAAAAB4sXXimm/bfsISAHhdefELAAAAAAAAECf8AgAAAAAAAMQJvwAA\n",
       "AAAAAABxwi8AAAAAAABAnPALAAAAAAAAECf8AgAAAAAAAMQJvwAAAAAAAABxwi8AAAAAAABAnPAL\n",
       "AAAAAAAAECf8AgAAAAAAAMRdzr4AAAAAAPBi+4lrAAA6vPgFAAAAAAAAiBN+AQAAAAAAAOKEXwAA\n",
       "AAAAAIA44RcAAAAAAAAgTvgFAAAAAAAAiBN+AQAAAAAAAOKEXwAAAAAAAIA44RcAAAAAAAAgTvgF\n",
       "AAAAAAAAiBN+AQAAAAAAAOKEXwAAAAAAAIC4y9kXAAAAAICKta2zr/ByVuy+27Zth77x/n+7xSux\n",
       "n3Xf+bmxLwwAbxQvfgEAAAAAAADihF8AAAAAAACAOOEXAAAAAAAAIE74BQAAAAAAAIgTfgEAAAAA\n",
       "AADihF8AAAAAAACAOOEXAAAAAAAAIE74BQAAAAAAAIgTfgEAAAAAAADihF8AAAAAAACAuMvZFwAA\n",
       "AADgzbTOWq8jJ0/fUczfX6x15O3GgXOPvBk59I2PbPcD09l2327nZ675dt+fz889cOd1wjf+7/gV\n",
       "rgCgyYtfAAAAAAAAgDjhFwAAAAAAACBO+AUAAAAAAACIE34BAAAAAAAA4oRfAAAAAAAAgDjhFwAA\n",
       "AAAAACBO+AUAAAAAAACIE34BAAAAAAAA4oRfAAAAAAAAgDjhFwAAAAAAACBubdtlP/sSAAAAAPAy\n",
       "1lnrNd0eufE523Xanc8y+5l0H+6OnHl4u/fu7EdsAPjfvPgFAAAAAAAAiBN+AQAAAAAAAOKEXwAA\n",
       "AAAAAIA44RcAAAAAAAAgTvgFAAAAAAAAiBN+AQAAAAAAAOKEXwAAAAAAAIA44RcAAAAAAAAgTvgF\n",
       "AAAAAAAAiBN+AQAAAAAAAOIuZ18AAAAAAF7WfmC7jqzH0wNnrjXfbvPtkW985NzzHPsTv/Iz9zPu\n",
       "u21H7nzWjQHgTeHFLwAAAAAAAECc8AsAAAAAAAAQJ/wCAAAAAAAAxAm/AAAAAAAAAHHCLwAAAAAA\n",
       "AECc8AsAAAAAAAAQJ/wCAAAAAAAAxAm/AAAAAAAAAHHCLwAAAAAAAECc8AsAAAAAAAAQdzn7AgAA\n",
       "AAAct7Z1YDx/G7DW3fH26s7b4+3dq3fG2/vXD8bb9/cPR7uH27vjMx/eux5vP7g3nm7vvXUz3t6/\n",
       "nm8vax9vn93O/y5/9Wz2U+mjJ1fjMz97PJ5unz5+Ot+uL8bbR+uT8fbrm8/H2yc3X452z2+/GZ+5\n",
       "7/NvvO238+02387/9QDwOvDiFwAAAAAAACBO+AUAAAAAAACIE34BAAAAAAAA4oRfAAAAAAAAgDjh\n",
       "FwAAAAAAACBO+AUAAAAAAACIE34BAAAAAAAA4oRfAAAAAAAAgDjhFwAAAAAAACBO+AUAAAAAAACI\n",
       "W9t22c++BAAAAADbtrZ1YHw1nt5Zb423l6vvjLf37z4Yb3+4/3i8/end98bbn3/3drT7xQ8+G5/5\n",
       "s4/+PN5+71cfj7fPfvnr8fb2R78Zb+/dezjefvPvv4+31x//drS787s/js/8/Pcfjbd/+stPxts/\n",
       "PPr+/Nwv52+J/vr0i/H2H+tvo92/nv1zfObT51+Nt7e3j8fbbbuZT/fZ/6O2bduEAoA+L34BAAAA\n",
       "AAAA4oRfAAAAAAAAgDjhFwAAAAAAACBO+AUAAAAAAACIE34BAAAAAAAA4oRfAAAAAAAAgDjhFwAA\n",
       "AAAAACBO+AUAAAAAAACIE34BAAAAAAAA4oRfAAAAAAAAgDjhFwAAAAAAACBubdtlP/sSAAAAAByz\n",
       "tnVgPH8bsNbd8fbqztvj7d2rd8bb+9cPxtv39w9Hu4fbu+MzH967Hm8/uDeebu+9dTPe3r+eby9r\n",
       "/nPls9v53+Wvnl1Gu0dPrsZnfvZ4PN0+ffx0vl1fjLeP1ifj7dc3n4+3T26+HO2e334zPnPf5994\n",
       "22/n222+9WM/wJvNi18AAAAAAACAOOEXAAAAAAAAIE74BQAAAAAAAIgTfgEAAAAAAADihF8AAAAA\n",
       "AACAOOEXAAAAAAAAIE74BQAAAAAAAIgTfgEAAAAAAADihF8AAAAAAACAOOEXAAAAAAAAIG5t22U/\n",
       "+xIAAAAA8KqsE9ezI4+cecJ9Tz33iDN+Jj1w5n7Wz7rzc/0QDQDfLi9+AQAAAAAAAOKEXwAAAAAA\n",
       "AIA44RcAAAAAAAAgTvgFAAAAAAAAiBN+AQAAAAAAAOKEXwAAAAAAAIA44RcAAAAAAAAgTvgFAAAA\n",
       "AAAAiBN+AQAAAAAAAOKEXwAAAAAAAIC4y9kXAAAAAICXtc5ar+n2yI3P2a7T7nyWfbia7Y6cuW3b\n",
       "tq0D2/3InefWgT/vOTcGgBYvfgEAAAAAAADihF8AAAAAAACAOOEXAAAAAAAAIE74BQAAAAAAAIgT\n",
       "fgEAAAAAAADihF8AAAAAAACAOOEXAAAAAAAAIE74BQAAAAAAAIgTfgEAAAAAAADihF8AAAAAAACA\n",
       "uMvZFwAAAADgzbTOWq8jJ0/fUczfX6x15LKkYKEAABotSURBVO3GgXOPvBk59I2PbPcD0+n2dn7m\n",
       "ge2+P58fu47c+YAD/3nWcHzgSADI8eIXAAAAAAAAIE74BQAAAAAAAIgTfgEAAAAAAADihF8AAAAA\n",
       "AACAOOEXAAAAAAAAIE74BQAAAAAAAIgTfgEAAAAAAADihF8AAAAAAACAOOEXAAAAAAAAIE74BQAA\n",
       "AAAAAIhb23bZz74EAAAAABSsbZ19hZezYvfdtm079I1jP3XuZ913fm7sCwPAG8WLXwAAAAAAAIA4\n",
       "4RcAAAAAAAAgTvgFAAAAAAAAiBN+AQAAAAAAAOKEXwAAAAAAAIA44RcAAAAAAAAgTvgFAAAAAAAA\n",
       "iBN+AQAAAAAAAOKEXwAAAAAAAIA44RcAAAAAAAAg7nL2BQAAAACgYt/2s6/wcvbYfQEAGPPiFwAA\n",
       "AAAAACBO+AUAAAAAAACIE34BAAAAAAAA4oRfAAAAAAAAgDjhFwAAAAAAACBO+AUAAAAAAACIE34B\n",
       "AAAAAAAA4oRfAAAAAAAAgDjhFwAAAAAAACBO+AUAAAAAAACIE34BAAAAAAAA4i5nXwAAAAAAeLF1\n",
       "4ppv237CEgB4XXnxCwAAAAAAABAn/AIAAAAAAADECb8AAAAAAAAAccIvAAAAAAAAQJzwCwAAAAAA\n",
       "ABAn/AIAAAAAAADECb8AAAAAAAAAccIvAAAAAAAAQJzwCwAAAAAAABAn/AIAAAAAAADEXc6+AAAA\n",
       "AADwYvuJawAAOrz4BQAAAAAAAIgTfgEAAAAAAADihF8AAAAAAACAOOEXAAAAAAAAIE74BQAAAAAA\n",
       "AIgTfgEAAAAAAADihF8AAAAAAACAOOEXAAAAAAAAIE74BQAAAAAAAIgTfgEAAAAAAADihF8AAAAA\n",
       "AACAOOEXAAAAAAAAIE74BQAAAAAAAIgTfgEAAAAAAADihF8AAAAAAACAOOEXAAAAAAAAIE74BQAA\n",
       "AAAAAIgTfgEAAAAAAADihF8AAAAAAACAOOEXAAAAAAAAIE74BQAAAAAAAIgTfgEAAAAAAADihF8A\n",
       "AAAAAACAOOEXAAAAAAAAIE74BQAAAAAAAIgTfgEAAAAAAADihF8AAAAAAACAOOEXAAAAAAAAIE74\n",
       "BQAAAAAAAIgTfgEAAAAAAADihF8AAAAAAACAOOEXAAAAAAAAIE74BQAAAAAAAIgTfgEAAAAAAADi\n",
       "hF8AAAAAAACAOOEXAAAAAAAAIE74BQAAAAAAAIgTfgEAAAAAAADihF8AAAAAAACAOOEXAAAAAAAA\n",
       "IE74BQAAAAAAAIgTfgEAAAAAAADihF8AAAAAAACAOOEXAAAAAAAAIE74BQAAAAAAAIgTfgEAAAAA\n",
       "AADihF8AAAAAAACAOOEXAAAAAAAAIE74BQAAAAAAAIgTfgEAAAAAAADihF8AAAAAAACAOOEXAAAA\n",
       "AAAAIE74BQAAAAAAAIgTfgEAAAAAAADihF8AAAAAAACAOOEXAAAAAAAAIE74BQAAAAAAAIgTfgEA\n",
       "AAAAAADihF8AAAAAAACAOOEXAAAAAAAAIE74BQAAAAAAAIgTfgEAAAAAAADihF8AAAAAAACAOOEX\n",
       "AAAAAAAAIE74BQAAAAAAAIgTfgEAAAAAAADihF8AAAAAAACAOOEXAAAAAAAAIE74BQAAAAAAAIgT\n",
       "fgEAAAAAAADihF8AAAAAAACAOOEXAAAAAAAAIE74BQAAAAAAAIgTfgEAAAAAAADihF8AAAAAAACA\n",
       "OOEXAAAAAAAAIE74BQAAAAAAAIgTfgEAAAAAAADihF8AAAAAAACAOOEXAAAAAAAAIE74BQAAAAAA\n",
       "AIgTfgEAAAAAAADihF8AAAAAAACAOOEXAAAAAAAAIE74BQAAAAAAAIgTfgEAAAAAAADihF8AAAAA\n",
       "AACAOOEXAAAAAAAAIE74BQAAAAAAAIgTfgEAAAAAAADihF8AAAAAAACAOOEXAAAAAAAAIE74BQAA\n",
       "AAAAAIgTfgEAAAAAAADihF8AAAAAAACAOOEXAAAAAAAAIE74BQAAAAAAAIgTfgEAAAAAAADihF8A\n",
       "AAAAAACAOOEXAAAAAAAAIE74BQAAAAAAAIgTfgEAAAAAAADihF8AAAAAAACAOOEXAAAAAAAAIE74\n",
       "BQAAAAAAAIgTfgEAAAAAAADihF8AAAAAAACAOOEXAAAAAAAAIE74BQAAAAAAAIgTfgEAAAAAAADi\n",
       "hF8AAAAAAACAOOEXAAAAAAAAIE74BQAAAAAAAIgTfgEAAAAAAADihF8AAAAAAACAOOEXAAAAAAAA\n",
       "IE74BQAAAAAAAIgTfgEAAAAAAADihF8AAAAAAACAOOEXAAAAAAAAIE74BQAAAAAAAIgTfgEAAAAA\n",
       "AADihF8AAAAAAACAOOEXAAAAAAAAIE74BQAAAAAAAIgTfgEAAAAAAADihF8AAAAAAACAOOEXAAAA\n",
       "AAAAIE74BQAAAAAAAIgTfgEAAAAAAADihF8AAAAAAACAOOEXAAAAAAAAIE74BQAAAAAAAIgTfgEA\n",
       "AAAAAADihF8AAAAAAACAOOEXAAAAAAAAIE74BQAAAAAAAIgTfgEAAAAAAADihF8AAAAAAACAOOEX\n",
       "AAAAAAAAIE74BQAAAAAAAIgTfgEAAAAAAADihF8AAAAAAACAOOEXAAAAAAAAIE74BQAAAAAAAIgT\n",
       "fgEAAAAAAADihF8AAAAAAACAOOEXAAAAAAAAIE74BQAAAAAAAIgTfgEAAAAAAADihF8AAAAAAACA\n",
       "OOEXAAAAAAAAIE74BQAAAAAAAIgTfgEAAAAAAADihF8AAAAAAACAOOEXAAAAAAAAIE74BQAAAAAA\n",
       "AIgTfgEAAAAAAADihF8AAAAAAACAOOEXAAAAAAAAIE74BQAAAAAAAIgTfgEAAAAAAADihF8AAAAA\n",
       "AACAOOEXAAAAAAAAIE74BQAAAAAAAIgTfgEAAAAAAADihF8AAAAAAACAOOEXAAAAAAAAIE74BQAA\n",
       "AAAAAIgTfgEAAAAAAADihF8AAAAAAACAOOEXAAAAAAAAIE74BQAAAAAAAIgTfgEAAAAAAADihF8A\n",
       "AAAAAACAOOEXAAAAAAAAIE74BQAAAAAAAIgTfgEAAAAAAADihF8AAAAAAACAOOEXAAAAAAAAIE74\n",
       "BQAAAAAAAIgTfgEAAAAAAADihF8AAAAAAACAOOEXAAAAAAAAIE74BQAAAAAAAIgTfgEAAAAAAADi\n",
       "hF8AAAAAAACAOOEXAAAAAAAAIE74BQAAAAAAAIgTfgEAAAAAAADihF8AAAAAAACAOOEXAAAAAAAA\n",
       "IE74BQAAAAAAAIgTfgEAAAAAAADihF8AAAAAAACAOOEXAAAAAAAAIE74BQAAAAAAAIgTfgEAAAAA\n",
       "AADihF8AAAAAAACAOOEXAAAAAAAAIE74BQAAAAAAAIgTfgEAAAAAAADihF8AAAAAAACAOOEXAAAA\n",
       "AAAAIE74BQAAAAAAAIgTfgEAAAAAAADihF8AAAAAAACAOOEXAAAAAAAAIE74BQAAAAAAAIgTfgEA\n",
       "AAAAAADihF8AAAAAAACAOOEXAAAAAAAAIE74BQAAAAAAAIgTfgEAAAAAAADihF8AAAAAAACAOOEX\n",
       "AAAAAAAAIE74BQAAAAAAAIgTfgEAAAAAAADihF8AAAAAAACAOOEXAAAAAAAAIE74BQAAAAAAAIgT\n",
       "fgEAAAAAAADihF8AAAAAAACAOOEXAAAAAAAAIE74BQAAAAAAAIgTfgEAAAAAAADihF8AAAAAAACA\n",
       "OOEXAAAAAAAAIE74BQAAAAAAAIgTfgEAAAAAAADihF8AAAAAAACAOOEXAAAAAAAAIE74BQAAAAAA\n",
       "AIgTfgEAAAAAAADihF8AAAAAAACAOOEXAAAAAAAAIE74BQAAAAAAAIgTfgEAAAAAAADihF8AAAAA\n",
       "AACAOOEXAAAAAAAAIE74BQAAAAAAAIgTfgEAAAAAAADihF8AAAAAAACAOOEXAAAAAAAAIE74BQAA\n",
       "AAAAAIgTfgEAAAAAAADihF8AAAAAAACAOOEXAAAAAAAAIE74BQAAAAAAAIgTfgEAAAAAAADihF8A\n",
       "AAAAAACAOOEXAAAAAAAAIE74BQAAAAAAAIgTfgEAAAAAAADihF8AAAAAAACAOOEXAAAAAAAAIE74\n",
       "BQAAAAAAAIgTfgEAAAAAAADihF8AAAAAAACAOOEXAAAAAAAAIE74BQAAAAAAAIgTfgEAAAAAAADi\n",
       "hF8AAAAAAACAOOEXAAAAAAAAIE74BQAAAAAAAIgTfgEAAAAAAADihF8AAAAAAACAOOEXAAAAAAAA\n",
       "IE74BQAAAAAAAIgTfgEAAAAAAADihF8AAAD4T3t2QAIAAAAg6P/rdgR6QwAAAJgTvwAAAAAAAABz\n",
       "4hcAAAAAAABgTvwCAAAAAAAAzIlfAAAAAAAAgDnxCwAAAAAAADAnfgEAAAAAAADmxC8AAAAAAADA\n",
       "nPgFAAAAAAAAmBO/AAAAAAAAAHPiFwAAAAAAAGBO/AIAAAAAAADMiV8AAAAAAACAOfELAAAAAAAA\n",
       "MCd+AQAAAAAAAObELwAAAAAAAMCc+AUAAAAAAACYE78AAAAAAAAAc+IXAAAAAAAAYE78AgAAAAAA\n",
       "AMyJXwAAAAAAAIA58QsAAAAAAAAwJ34BAAAAAAAA5sQvAAAAAAAAwJz4BQAAAAAAAJgTvwAAAAAA\n",
       "AABz4hcAAAAAAABgTvwCAAAAAAAAzIlfAAAAAAAAgDnxCwAAAAAAADAnfgEAAAAAAADmxC8AAAAA\n",
       "AADAnPgFAAAAAAAAmBO/AAAAAAAAAHPiFwAAAAAAAGBO/AIAAAAAAADMiV8AAAAAAACAOfELAAAA\n",
       "AAAAMCd+AQAAAAAAAObELwAAAAAAAMCc+AUAAAAAAACYE78AAAAAAAAAc+IXAAAAAAAAYE78AgAA\n",
       "AAAAAMyJXwAAAAAAAIA58QsAAAAAAAAwJ34BAAAAAAAA5sQvAAAAAAAAwJz4BQAAAAAAAJgTvwAA\n",
       "AAAAAABz4hcAAAAAAABgTvwCAAAAAAAAzIlfAAAAAAAAgDnxCwAAAAAAADAnfgEAAAAAAADmxC8A\n",
       "AAAAAADAnPgFAAAAAAAAmBO/AAAAAAAAAHPiFwAAAAAAAGBO/AIAAAAAAADMiV8AAAAAAACAOfEL\n",
       "AAAAAAAAMCd+AQAAAAAAAObELwAAAAAAAMCc+AUAAAAAAACYE78AAAAAAAAAc+IXAAAAAAAAYE78\n",
       "AgAAAAAAAMyJXwAAAAAAAIA58QsAAAAAAAAwJ34BAAAAAAAA5sQvAAAAAAAAwJz4BQAAAAAAAJgT\n",
       "vwAAAAAAAABz4hcAAAAAAABgTvwCAAAAAAAAzIlfAAAAAAAAgDnxCwAAAAAAADAnfgEAAAAAAADm\n",
       "xC8AAAAAAADAnPgFAAAAAAAAmBO/AAAAAAAAAHPiFwAAAAAAAGBO/AIAAAAAAADMiV8AAAAAAACA\n",
       "OfELAAAAAAAAMCd+AQAAAAAAAObELwAAAAAAAMCc+AUAAAAAAACYE78AAAAAAAAAc+IXAAAAAAAA\n",
       "YE78AgAAAAAAAMyJXwAAAAAAAIA58QsAAAAAAAAwJ34BAAAAAAAA5sQvAAAAAAAAwJz4BQAAAAAA\n",
       "AJgTvwAAAAAAAABz4hcAAAAAAABgTvwCAAAAAAAAzIlfAAAAAAAAgDnxCwAAAAAAADAnfgEAAAAA\n",
       "AADmxC8AAAAAAADAnPgFAAAAAAAAmBO/AAAAAAAAAHPiFwAAAAAAAGBO/AIAAAAAAADMiV8AAAAA\n",
       "AACAOfELAAAAAAAAMCd+AQAAAAAAAObELwAAAAAAAMCc+AUAAAAAAACYE78AAAAAAAAAc+IXAAAA\n",
       "AAAAYE78AgAAAAAAAMyJXwAAAAAAAIA58QsAAAAAAAAwJ34BAAAAAAAA5sQvAAAAAAAAwJz4BQAA\n",
       "AAAAAJgTvwAAAAAAAABz4hcAAAAAAABgTvwCAAAAAAAAzIlfAAAAAAAAgDnxCwAAAAAAADAnfgEA\n",
       "AAAAAADmxC8AAAAAAADAnPgFAAAAAAAAmBO/AAAAAAAAAHPiFwAAAAAAAGBO/AIAAAAAAADMiV8A\n",
       "AAAAAACAOfELAAAAAAAAMCd+AQAAAAAAAObELwAAAAAAAMCc+AUAAAAAAACYE78AAAAAAAAAc+IX\n",
       "AAAAAAAAYE78AgAAAAAAAMyJXwAAAAAAAIA58QsAAAAAAAAwJ34BAAAAAAAA5sQvAAAAAAAAwJz4\n",
       "BQAAAAAAAJgTvwAAAAAAAABz4hcAAAAAAABgTvwCAAAAAAAAzIlfAAAAAAAAgDnxCwAAAAAAADAn\n",
       "fgEAAAAAAADmxC8AAAAAAADAnPgFAAAAAAAAmBO/AAAAAAAAAHPiFwAAAAAAAGBO/AIAAAAAAADM\n",
       "iV8AAAAAAACAOfELAAAAAAAAMCd+AQAAAAAAAObELwAAAAAAAMCc+AUAAAAAAACYE78AAAAAAAAA\n",
       "c+IXAAAAAAAAYE78AgAAAAAAAMyJXwAAAAAAAIA58QsAAAAAAAAwJ34BAAAAAAAA5sQvAAAAAAAA\n",
       "wJz4BQAAAAAAAJgTvwAAAAAAAABz4hcAAAAAAABgTvwCAAAAAAAAzIlfAAAAAAAAgDnxCwAAAAAA\n",
       "ADAnfgEAAAAAAADmxC8AAAAAAADAnPgFAAAAAAAAmBO/AAAAAAAAAHPiFwAAAAAAAGBO/AIAAAAA\n",
       "AADMiV8AAAAAAACAOfELAAAAAAAAMCd+AQAAAAAAAObELwAAAAAAAMCc+AUAAAAAAACYE78AAAAA\n",
       "AAAAc+IXAAAAAAAAYE78AgAAAAAAAMyJXwAAAAAAAIA58QsAAAAAAAAwJ34BAAAAAAAA5sQvAAAA\n",
       "AAAAwJz4BQAAAAAAAJgTvwAAAAAAAABz4hcAAAAAAABgTvwCAAAAAAAAzIlfAAAAAAAAgDnxCwAA\n",
       "AAAAADAnfgEAAAAAAADmxC8AAAAAAADAnPgFAAAAAAAAmBO/AAAAAAAAAHPiFwAAAAAAAGBO/AIA\n",
       "AAAAAADMiV8AAAAAAACAOfELAAAAAAAAMCd+AQAAAAAAAObELwAAAAAAAMCc+AUAAAAAAACYE78A\n",
       "AAAAAAAAc+IXAAAAAAAAYE78AgAAAAAAAMyJXwAAAAAAAIA58QsAAAAAAAAwJ34BAAAAAAAA5sQv\n",
       "AAAAAAAAwJz4BQAAAAAAAJgTvwAAAAAAAABz4hcAAAAAAABgTvwCAAAAAAAAzIlfAAAAAAAAgDnx\n",
       "CwAAAAAAADAnfgEAAAAAAADmxC8AAAAAAADAnPgFAAAAAAAAmBO/AAAAAAAAAHPiFwAAAAAAAGBO\n",
       "/AIAAAAAAADMiV8AAAAAAACAOfELAAAAAAAAMCd+AQAAAAAAAObELwAAAAAAAMCc+AUAAAAAAACY\n",
       "E78AAAAAAAAAc+IXAAAAAAAAYE78AgAAAAAAAMyJXwAAAAAAAIA58QsAAAAAAAAwJ34BAAAAAAAA\n",
       "5sQvAAAAAAAAwJz4BQAAAAAAAJgTvwAAAAAAAABz4hcAAAAAAABgTvwCAAAAAAAAzIlfAAAAAAAA\n",
       "gDnxCwAAAAAAADAnfgEAAAAAAADmxC8AAAAAAADAnPgFAAAAAAAAmBO/AAAAAAAAAHPiFwAAAAAA\n",
       "AGBO/AIAAAAAAADMiV8AAAAAAACAOfELAAAAAAAAMCd+AQAAAAAAAObELwAAAAAAAMCc+AUAAAAA\n",
       "AACYE78AAAAAAAAAc+IXAAAAAAAAYE78AgAAAAAAAMyJXwAAAAAAAIA58QsAAAAAAAAwJ34BAAAA\n",
       "AAAA5sQvAAAAAAAAwJz4BQAAAAAAAJgTvwAAAAAAAABz4hcAAAAAAABgTvwCAAAAAAAAzIlfAAAA\n",
       "AAAAgDnxCwAAAAAAADAnfgEAAAAAAADmxC8AAAAAAADAnPgFAAAAAAAAmBO/AAAAAAAAAHPiFwAA\n",
       "AAAAAGBO/AIAAAAAAADMiV8AAAAAAACAOfELAAAAAAAAMCd+AQAAAAAAAObELwAAAAAAAMCc+AUA\n",
       "AAAAAACYE78AAAAAAAAAc+IXAAAAAAAAYE78AgAAAAAAAMyJXwAAAAAAAIA58QsAAAAAAAAwJ34B\n",
       "AAAAAAAA5sQvAAAAAAAAwJz4BQAAAAAAAJgTvwAAAAAAAABz4hcAAAAAAABgTvwCAAAAAAAAzIlf\n",
       "AAAAAAAAgDnxCwAAAAAAADAnfgEAAAAAAADmxC8AAAAAAADAnPgFAAAAAAAAmBO/AAAAAAAAAHPi\n",
       "FwAAAAAAAGBO/AIAAAAAAADMiV8AAAAAAACAOfELAAAAAAAAMCd+AQAAAAAAAObELwAAAAAAAMCc\n",
       "+AUAAAAAAACYE78AAAAAAAAAc+IXAAAAAAAAYE78AgAAAAAAAMyJXwAAAAAAAIA58QsAAAAAAAAw\n",
       "J34BAAAAAAAA5sQvAAAAAAAAwJz4BQAAAAAAAJgTvwAAAAAAAABz4hcAAAAAAABgTvwCAAAAAAAA\n",
       "zIlfAAAAAAAAgDnxCwAAAAAAADAnfgEAAAAAAADmxC8AAAAAAADAnPgFAAAAAAAAmBO/AAAAAAAA\n",
       "AHPiFwAAAAAAAGBO/AIAAAAAAADMiV8AAAAAAACAOfELAAAAAAAAMCd+AQAAAAAAAObELwAAAAAA\n",
       "AMCc+AUAAAAAAACYE78AAAAAAAAAc+IXAAAAAAAAYE78AgAAAAAAAMyJXwAAAAAAAIA58QsAAAAA\n",
       "AAAwJ34BAAAAAAAA5sQvAAAAAAAAwJz4BQAAAAAAAJgTvwAAAAAAAABz4hcAAAAAAABgTvwCAAAA\n",
       "AAAAzIlfAAAAAAAAgDnxCwAAAAAAADAnfgEAAAAAAADmxC8AAAAAAADAnPgFAAAAAAAAmBO/AAAA\n",
       "AAAAAHPiFwAAAAAAAGBO/AIAAAAAAADMiV8AAAAAAACAOfELAAAAAAAAMCd+AQAAAAAAAObELwAA\n",
       "AAAAAMCc+AUAAAAAAACYE78AAAAAAAAAc+IXAAAAAAAAYE78AgAAAAAAAMyJXwAAAAAAAIA58QsA\n",
       "AAAAAAAwJ34BAAAAAAAA5sQvAAAAAAAAwJz4BQAAAAAAAJgTvwAAAAAAAABz4hcAAAAAAABgTvwC\n",
       "AAAAAAAAzAUc0NRdJXonoQAAAABJRU5ErkJggg==\n",
       "\" transform=\"translate(194, 47)\"/>\n",
       "</g>\n",
       "<defs>\n",
       "  <clipPath id=\"clip303\">\n",
       "    <rect x=\"2160\" y=\"47\" width=\"73\" height=\"1440\"/>\n",
       "  </clipPath>\n",
       "</defs>\n",
       "<g clip-path=\"url(#clip303)\">\n",
       "<image width=\"72\" height=\"1439\" xlink:href=\"data:image/png;base64,\n",
       "iVBORw0KGgoAAAANSUhEUgAAAEgAAAWfCAYAAAAI7rB3AAAMWUlEQVR4nO3dwY0rRxAFwaZQ/lsh\n",
       "L6XfLQtUeSQPERYsEg8c9MyQ+/n3/v0O/+uvb/8Bv06gIFAQKAgU5r5/v/03/DQLCgIFgYJAQaAw\n",
       "7/359t/w0ywoCBQECgIFR41gQUGgIFAQKAgU5rmKrSwoCBQECgIFgcK86yq2saAgUBAoCBQcNYIF\n",
       "BYGCQEGgIFBwFQsWFAQKAgWBgvtBwYKCQEGgIFAQKMxx1FhZUBAoCBQECgIFN8yCBQWBgkBBoDDH\n",
       "DbOVBQWBgkBBoCBQmHP/+fbf8NMsKAgUBAoCBYGCxz7BgoJAQaAgUHDDLFhQECgIFAQKAgVXsWBB\n",
       "QaAgUBAouB8ULCgIFAQKAgWBwnwcNVYWFAQKAgWBgkBhzvWfWTYWFAQKAgWBgqNGsKAgUBAoCBQE\n",
       "Co4awYKCQEGgIFAQKHjDLFhQECgIFAQK83HUWFlQECgIFAQKAgXvSQcLCgIFgYJAwVEjWFAQKAgU\n",
       "BAoCBc/mgwUFgYJAQaAgUHAWCxYUBAoCBYGCo0awoCBQECgIFAQKjhrBgoJAQaAgUBAozLn323/D\n",
       "T7OgIFAQKAgUHDWCBQWBgkBBoCBQ8NgnWFAQKAgUBAo+pIMFBYGCQEGgIFCYj6caKwsKAgWBgkBB\n",
       "oOAsFiwoCBQECgIFL1AFCwoCBYGCQEGg4IZZsKAgUBAoCBTcDwoWFAQKAgWBgkDBDbNgQUGgIFAQ\n",
       "KAgUXMWCBQWBgkBBoOB788GCgkBBoCBQECg4agQLCgIFgYJAQaDgKhYsKAgUBAoCBR/SwYKCQEGg\n",
       "IFAQKLiKBQsKAgWBgkBhzvMhvbGgIFAQKAgUBAqOGsGCgkBBoCBQECi4igULCgIFgYJAwYd0sKAg\n",
       "UBAoCBQECnPu+/bf8NMsKAgUBAoCBYGCs1iwoCBQECgIFBw1ggUFgYJAQaAgUHDUCBYUBAoCBYGC\n",
       "o0awoCBQECgIFAQKc5w0VhYUBAoCBYGCQGHOcxbbWFAQKAgUBAqOGsGCgkBBoCBQECi4igULCgIF\n",
       "gYJAQaAwfohzZ0FBoCBQECg4agQLCgIFgYJAQaDgKhYsKAgUBAoChTn38+2/4adZUBAoCBQECgKF\n",
       "ec9VbGNBQaAgUBAoCBTcMAsWFAQKAgWBghtmwYKCQEGgIFAQKMy7Gm3UCQIFgYJAwVEjWFAQKAgU\n",
       "BAoChTmeza8sKAgUBAoCBYHCPGexlQUFgYJAQaAwx1ONlTpBoCBQECgIFBw1ggUFgYJAQaAgUPDY\n",
       "J1hQECgIFAQKXgMO6gSBgkBBoCBQ8J50sKAgUBAoCBQ81QgWFAQKAgWBgkBh3tNoo04QKAgUBAoC\n",
       "BTfMggUFgYJAQaDghlmwoCBQECgIFAQKc9wwW6kTBAoCBYGCQMFZLFhQECgIFAQKPqSDBQWBgkBB\n",
       "oCBQ8L35YEFBoCBQECj43nxQJwgUBAoCBYHCPEeNlQUFgYJAQaAgUPDYJ1hQECgIFAQK/jNLUCcI\n",
       "FAQKAgWBghtmwYKCQEGgIFAQKLhhFiwoCBQECgIFR41gQUGgIFAQKAgUvCcd1AkCBYGCQMFRI1hQ\n",
       "ECgIFAQKAgVPNYIFBYGCQEGgIFBwFgsWFAQKAgWBgn+fFSwoCBQECgIFgYJ/ZRzUCQIFgYJAQaDg\n",
       "hlmwoCBQECgIFDybDxYUBAoCBYGCQMFRI1hQECgIFAQKc31IrywoCBQECgIFgYLvzQd1gkBBoCBQ\n",
       "ECi4YRYsKAgUBAoCBR/SwYKCQEGgIFAQKHjDLFhQECgIFAQKjhrBgoJAQaAgUBAouIoFCwoCBYGC\n",
       "QEGg4NdfgjpBoCBQECjM9VRjZUFBoCBQECgIFNwwCxYUBAoCBYGCQMFVLFhQECgIFAQKPqSDBQWB\n",
       "gkBBoCBQ8BtmwYKCQEGgIFBw1AgWFAQKAgWBgkDBVSxYUBAoCBQECgIFX2YJ6gSBgkBBoODLLMGC\n",
       "gkBBoCBQECi4YRYsKAgUBAoCBYGCq1iwoCBQECgIFLwGHCwoCBQECgIFgYKjRrCgIFAQKAgU5h0f\n",
       "0hsLCgIFgYJAQaDghlmwoCBQECgIFAQKbpgFCwoCBYGCQMFRI1hQECgIFAQKAgVHjWBBQaAgUBAo\n",
       "CBScxYIFBYGCQEGg4KgRLCgIFAQKAgWBgqtYsKAgUBAoCBTm+jLLyoKCQEGgIFAQKDhqBAsKAgWB\n",
       "gkBBoODZfLCgIFAQKAgU5r1v/wm/zYKCQEGgIFAQKDhqBAsKAgWBgkDBD00GCwoCBYGCQEGg4KgR\n",
       "LCgIFAQKAgWBgjfMggUFgYJAQaDgyyzBgoJAQaAgUBAoeMMsWFAQKAgUBAoCBY99ggUFgYJAQaDg\n",
       "qUawoCBQECgIFAQKHvsECwoCBYGCQMH9oGBBQaAgUBAoCBQ8mw8WFAQKAgWBgkDBDbNgQUGgIFAQ\n",
       "KHg2HywoCBQECgIFgcLcb/8FP86CgkBBoCBQECg4iwULCgIFgYJAwRtmwYKCQEGgIFAQKLhhFiwo\n",
       "CBQECgIF94OCBQWBgkBBoCBQcNQIFhQECgIFgYJAwVksWFAQKAgUBAqezQcLCgIFgYJAQaAwfvxl\n",
       "Z0FBoCBQECgIFJzFggUFgYJAQaDg2XywoCBQECgIFAQKns0HCwoCBYGCQMFRI1hQECgIFAQKAgVH\n",
       "jWBBQaAgUBAoCBTmesVsZUFBoCBQECi4YRYsKAgUBAoCBYGCG2bBgoJAQaAgUHDUCBYUBAoCBYGC\n",
       "QGGepxorCwoCBYGCQEGgMPe4YbaxoCBQECgIFLxAFSwoCBQECgIFgYIfmgwWFAQKAgWBgkDBD00G\n",
       "CwoCBYGCQMGz+WBBQaAgUBAoCBS8Jx0sKAgUBAoCBd84DBYUBAoCBYGCQMFRI1hQECgIFAQKAgXv\n",
       "SQcLCgIFgYJAwWvAwYKCQEGgIFAQKDhqBAsKAgWBgkBBoOA96WBBQaAgUBAo+ImuYEFBoCBQECgI\n",
       "FNwwCxYUBAoCBYGCZ/PBgoJAQaAgUBAoOGoECwoCBYGCQEGg4CwWLCgIFAQKAgVHjWBBQaAgUBAo\n",
       "CBRcxYIFBYGCQEGgIFBwwyxYUBAoCBQECo4awYKCQEGgIFAQKDhqBAsKAgWBgkDBUSNYUBAoCBQE\n",
       "CgIFP9EVLCgIFAQKAgWBgv8vFiwoCBQECgIFN8yCBQWBgkBBoCBQmHdcxjYWFAQKAgWBgkDBWSxY\n",
       "UBAoCBQECp7NBwsKAgWBgkBBoODZfLCgIFAQKAgU3A8KFhQECgIFgYJAwbP5YEFBoCBQECgIFJzF\n",
       "ggUFgYJAQaDgJ7qCBQWBgkBBoCBQmOsVs5UFBYGCQEGg4AWqYEFBoCBQECgIFOY5aqwsKAgUBAoC\n",
       "BYGCs1iwoCBQECgIFDzVCBYUBAoCBYGCQMEbZsGCgkBBoCBQECjM9ZXMlQUFgYJAQaDghlmwoCBQ\n",
       "ECgIFAQKfv0lWFAQKAgUBApeoAoWFAQKAgWBgkDBU41gQUGgIFAQKAgU3DALFhQECgIFgcLc45bZ\n",
       "xoKCQEGgIFAQKLhhFiwoCBQECgIFgYKrWLCgIFAQKAgUPNUIFhQECgIFgYJAwWOfYEFBoCBQECjM\n",
       "/ThqbCwoCBQECgIFgYKjRrCgIFAQKAgUBArzXMVWFhQECgIFgYKjRrCgIFAQKAgUBApzP65iGwsK\n",
       "AgWBgkBBoOAsFiwoCBQECgIFTzWCBQWBgkBBoCBQcNQIFhQECgIFgYIP6WBBQaAgUBAoCBQ8mw8W\n",
       "FAQKAgWBgkBh3vnz7b/hp1lQECgIFAQKbpgFCwoCBYGCQEGg4A2zYEFBoCBQECjMfe4HbSwoCBQE\n",
       "CgIFgYKjRrCgIFAQKAgUBApzPZtfWVAQKAgUBAqOGsGCgkBBoCBQECg4agQLCgIFgYJAQaAw7zmL\n",
       "bSwoCBQECgIFN8yCBQWBgkBBoCBQ8J50sKAgUBAoCBQcNYIFBYGCQEGgIFCY56ixsqAgUBAoCBQE\n",
       "Cs5iwYKCQEGgIFCY6wWqlQUFgYJAQaAgUPCb9sGCgkBBoCBQECj4MkuwoCBQECgIFDzVCBYUBAoC\n",
       "BYGCQMFRI1hQECgIFAQKPqSDBQWBgkBBoCBQ8Gw+WFAQKAgUBAoCBWexYEFBoCBQECjM8Wx+ZUFB\n",
       "oCBQECgIFBw1ggUFgYJAQaAgUPCedLCgIFAQKAgU5jhqrCwoCBQECgIFgYI3zIIFBYGCQEGg4Nl8\n",
       "sKAgUBAoCBQECm6YBQsKAgWBgkBBoDDvvG//DT/NgoJAQaAgUHDDLFhQECgIFAQKAoU5jhorCwoC\n",
       "BYGCQOE/LrLuTX/wFc8AAAAASUVORK5CYII=\n",
       "\" transform=\"translate(2161, 47)\"/>\n",
       "</g>\n",
       "<path clip-path=\"url(#clip300)\" d=\"M2280.7 1319.24 Q2277.09 1319.24 2275.26 1322.8 Q2273.45 1326.34 2273.45 1333.47 Q2273.45 1340.58 2275.26 1344.15 Q2277.09 1347.69 2280.7 1347.69 Q2284.33 1347.69 2286.14 1344.15 Q2287.97 1340.58 2287.97 1333.47 Q2287.97 1326.34 2286.14 1322.8 Q2284.33 1319.24 2280.7 1319.24 M2280.7 1315.53 Q2286.51 1315.53 2289.57 1320.14 Q2292.64 1324.72 2292.64 1333.47 Q2292.64 1342.2 2289.57 1346.81 Q2286.51 1351.39 2280.7 1351.39 Q2274.89 1351.39 2271.81 1346.81 Q2268.76 1342.2 2268.76 1333.47 Q2268.76 1324.72 2271.81 1320.14 Q2274.89 1315.53 2280.7 1315.53 Z\" fill=\"#000000\" fill-rule=\"nonzero\" fill-opacity=\"1\" /><path clip-path=\"url(#clip300)\" d=\"M2300.86 1344.84 L2305.75 1344.84 L2305.75 1350.72 L2300.86 1350.72 L2300.86 1344.84 Z\" fill=\"#000000\" fill-rule=\"nonzero\" fill-opacity=\"1\" /><path clip-path=\"url(#clip300)\" d=\"M2325.93 1319.24 Q2322.32 1319.24 2320.49 1322.8 Q2318.69 1326.34 2318.69 1333.47 Q2318.69 1340.58 2320.49 1344.15 Q2322.32 1347.69 2325.93 1347.69 Q2329.57 1347.69 2331.37 1344.15 Q2333.2 1340.58 2333.2 1333.47 Q2333.2 1326.34 2331.37 1322.8 Q2329.57 1319.24 2325.93 1319.24 M2325.93 1315.53 Q2331.74 1315.53 2334.8 1320.14 Q2337.88 1324.72 2337.88 1333.47 Q2337.88 1342.2 2334.8 1346.81 Q2331.74 1351.39 2325.93 1351.39 Q2320.12 1351.39 2317.04 1346.81 Q2313.99 1342.2 2313.99 1333.47 Q2313.99 1324.72 2317.04 1320.14 Q2320.12 1315.53 2325.93 1315.53 Z\" fill=\"#000000\" fill-rule=\"nonzero\" fill-opacity=\"1\" /><path clip-path=\"url(#clip300)\" d=\"M2350.12 1346.78 L2366.44 1346.78 L2366.44 1350.72 L2344.5 1350.72 L2344.5 1346.78 Q2347.16 1344.03 2351.74 1339.4 Q2356.35 1334.75 2357.53 1333.4 Q2359.77 1330.88 2360.65 1329.15 Q2361.56 1327.39 2361.56 1325.7 Q2361.56 1322.94 2359.61 1321.21 Q2357.69 1319.47 2354.59 1319.47 Q2352.39 1319.47 2349.94 1320.23 Q2347.51 1321 2344.73 1322.55 L2344.73 1317.83 Q2347.55 1316.69 2350.01 1316.11 Q2352.46 1315.53 2354.5 1315.53 Q2359.87 1315.53 2363.06 1318.22 Q2366.26 1320.91 2366.26 1325.4 Q2366.26 1327.53 2365.45 1329.45 Q2364.66 1331.34 2362.55 1333.94 Q2361.97 1334.61 2358.87 1337.83 Q2355.77 1341.02 2350.12 1346.78 Z\" fill=\"#000000\" fill-rule=\"nonzero\" fill-opacity=\"1\" /><path clip-path=\"url(#clip300)\" d=\"M2376.3 1316.16 L2394.66 1316.16 L2394.66 1320.09 L2380.58 1320.09 L2380.58 1328.57 Q2381.6 1328.22 2382.62 1328.06 Q2383.64 1327.87 2384.66 1327.87 Q2390.45 1327.87 2393.82 1331.04 Q2397.2 1334.22 2397.2 1339.63 Q2397.2 1345.21 2393.73 1348.31 Q2390.26 1351.39 2383.94 1351.39 Q2381.76 1351.39 2379.5 1351.02 Q2377.25 1350.65 2374.84 1349.91 L2374.84 1345.21 Q2376.93 1346.34 2379.15 1346.9 Q2381.37 1347.46 2383.85 1347.46 Q2387.85 1347.46 2390.19 1345.35 Q2392.53 1343.24 2392.53 1339.63 Q2392.53 1336.02 2390.19 1333.91 Q2387.85 1331.81 2383.85 1331.81 Q2381.97 1331.81 2380.1 1332.22 Q2378.25 1332.64 2376.3 1333.52 L2376.3 1316.16 Z\" fill=\"#000000\" fill-rule=\"nonzero\" fill-opacity=\"1\" /><polyline clip-path=\"url(#clip300)\" style=\"stroke:#000000; stroke-linecap:round; stroke-linejoin:round; stroke-width:4; stroke-opacity:1; fill:none\" points=\"2232.76,1337.07 2256.76,1337.07 \"/>\n",
       "<path clip-path=\"url(#clip300)\" d=\"M2280.7 1169.86 Q2277.09 1169.86 2275.26 1173.42 Q2273.45 1176.97 2273.45 1184.09 Q2273.45 1191.2 2275.26 1194.77 Q2277.09 1198.31 2280.7 1198.31 Q2284.33 1198.31 2286.14 1194.77 Q2287.97 1191.2 2287.97 1184.09 Q2287.97 1176.97 2286.14 1173.42 Q2284.33 1169.86 2280.7 1169.86 M2280.7 1166.16 Q2286.51 1166.16 2289.57 1170.76 Q2292.64 1175.35 2292.64 1184.09 Q2292.64 1192.82 2289.57 1197.43 Q2286.51 1202.01 2280.7 1202.01 Q2274.89 1202.01 2271.81 1197.43 Q2268.76 1192.82 2268.76 1184.09 Q2268.76 1175.35 2271.81 1170.76 Q2274.89 1166.16 2280.7 1166.16 Z\" fill=\"#000000\" fill-rule=\"nonzero\" fill-opacity=\"1\" /><path clip-path=\"url(#clip300)\" d=\"M2300.86 1195.46 L2305.75 1195.46 L2305.75 1201.34 L2300.86 1201.34 L2300.86 1195.46 Z\" fill=\"#000000\" fill-rule=\"nonzero\" fill-opacity=\"1\" /><path clip-path=\"url(#clip300)\" d=\"M2325.93 1169.86 Q2322.32 1169.86 2320.49 1173.42 Q2318.69 1176.97 2318.69 1184.09 Q2318.69 1191.2 2320.49 1194.77 Q2322.32 1198.31 2325.93 1198.31 Q2329.57 1198.31 2331.37 1194.77 Q2333.2 1191.2 2333.2 1184.09 Q2333.2 1176.97 2331.37 1173.42 Q2329.57 1169.86 2325.93 1169.86 M2325.93 1166.16 Q2331.74 1166.16 2334.8 1170.76 Q2337.88 1175.35 2337.88 1184.09 Q2337.88 1192.82 2334.8 1197.43 Q2331.74 1202.01 2325.93 1202.01 Q2320.12 1202.01 2317.04 1197.43 Q2313.99 1192.82 2313.99 1184.09 Q2313.99 1175.35 2317.04 1170.76 Q2320.12 1166.16 2325.93 1166.16 Z\" fill=\"#000000\" fill-rule=\"nonzero\" fill-opacity=\"1\" /><path clip-path=\"url(#clip300)\" d=\"M2346.14 1166.78 L2364.5 1166.78 L2364.5 1170.72 L2350.42 1170.72 L2350.42 1179.19 Q2351.44 1178.84 2352.46 1178.68 Q2353.48 1178.49 2354.5 1178.49 Q2360.28 1178.49 2363.66 1181.66 Q2367.04 1184.84 2367.04 1190.25 Q2367.04 1195.83 2363.57 1198.93 Q2360.1 1202.01 2353.78 1202.01 Q2351.6 1202.01 2349.33 1201.64 Q2347.09 1201.27 2344.68 1200.53 L2344.68 1195.83 Q2346.76 1196.97 2348.99 1197.52 Q2351.21 1198.08 2353.69 1198.08 Q2357.69 1198.08 2360.03 1195.97 Q2362.37 1193.86 2362.37 1190.25 Q2362.37 1186.64 2360.03 1184.53 Q2357.69 1182.43 2353.69 1182.43 Q2351.81 1182.43 2349.94 1182.84 Q2348.08 1183.26 2346.14 1184.14 L2346.14 1166.78 Z\" fill=\"#000000\" fill-rule=\"nonzero\" fill-opacity=\"1\" /><path clip-path=\"url(#clip300)\" d=\"M2386.26 1169.86 Q2382.64 1169.86 2380.82 1173.42 Q2379.01 1176.97 2379.01 1184.09 Q2379.01 1191.2 2380.82 1194.77 Q2382.64 1198.31 2386.26 1198.31 Q2389.89 1198.31 2391.7 1194.77 Q2393.52 1191.2 2393.52 1184.09 Q2393.52 1176.97 2391.7 1173.42 Q2389.89 1169.86 2386.26 1169.86 M2386.26 1166.16 Q2392.07 1166.16 2395.12 1170.76 Q2398.2 1175.35 2398.2 1184.09 Q2398.2 1192.82 2395.12 1197.43 Q2392.07 1202.01 2386.26 1202.01 Q2380.45 1202.01 2377.37 1197.43 Q2374.31 1192.82 2374.31 1184.09 Q2374.31 1175.35 2377.37 1170.76 Q2380.45 1166.16 2386.26 1166.16 Z\" fill=\"#000000\" fill-rule=\"nonzero\" fill-opacity=\"1\" /><polyline clip-path=\"url(#clip300)\" style=\"stroke:#000000; stroke-linecap:round; stroke-linejoin:round; stroke-width:4; stroke-opacity:1; fill:none\" points=\"2232.76,1187.69 2256.76,1187.69 \"/>\n",
       "<path clip-path=\"url(#clip300)\" d=\"M2280.7 1020.48 Q2277.09 1020.48 2275.26 1024.04 Q2273.45 1027.59 2273.45 1034.72 Q2273.45 1041.82 2275.26 1045.39 Q2277.09 1048.93 2280.7 1048.93 Q2284.33 1048.93 2286.14 1045.39 Q2287.97 1041.82 2287.97 1034.72 Q2287.97 1027.59 2286.14 1024.04 Q2284.33 1020.48 2280.7 1020.48 M2280.7 1016.78 Q2286.51 1016.78 2289.57 1021.38 Q2292.64 1025.97 2292.64 1034.72 Q2292.64 1043.44 2289.57 1048.05 Q2286.51 1052.63 2280.7 1052.63 Q2274.89 1052.63 2271.81 1048.05 Q2268.76 1043.44 2268.76 1034.72 Q2268.76 1025.97 2271.81 1021.38 Q2274.89 1016.78 2280.7 1016.78 Z\" fill=\"#000000\" fill-rule=\"nonzero\" fill-opacity=\"1\" /><path clip-path=\"url(#clip300)\" d=\"M2300.86 1046.08 L2305.75 1046.08 L2305.75 1051.96 L2300.86 1051.96 L2300.86 1046.08 Z\" fill=\"#000000\" fill-rule=\"nonzero\" fill-opacity=\"1\" /><path clip-path=\"url(#clip300)\" d=\"M2325.93 1020.48 Q2322.32 1020.48 2320.49 1024.04 Q2318.69 1027.59 2318.69 1034.72 Q2318.69 1041.82 2320.49 1045.39 Q2322.32 1048.93 2325.93 1048.93 Q2329.57 1048.93 2331.37 1045.39 Q2333.2 1041.82 2333.2 1034.72 Q2333.2 1027.59 2331.37 1024.04 Q2329.57 1020.48 2325.93 1020.48 M2325.93 1016.78 Q2331.74 1016.78 2334.8 1021.38 Q2337.88 1025.97 2337.88 1034.72 Q2337.88 1043.44 2334.8 1048.05 Q2331.74 1052.63 2325.93 1052.63 Q2320.12 1052.63 2317.04 1048.05 Q2313.99 1043.44 2313.99 1034.72 Q2313.99 1025.97 2317.04 1021.38 Q2320.12 1016.78 2325.93 1016.78 Z\" fill=\"#000000\" fill-rule=\"nonzero\" fill-opacity=\"1\" /><path clip-path=\"url(#clip300)\" d=\"M2344.91 1017.4 L2367.14 1017.4 L2367.14 1019.39 L2354.59 1051.96 L2349.7 1051.96 L2361.51 1021.34 L2344.91 1021.34 L2344.91 1017.4 Z\" fill=\"#000000\" fill-rule=\"nonzero\" fill-opacity=\"1\" /><path clip-path=\"url(#clip300)\" d=\"M2376.3 1017.4 L2394.66 1017.4 L2394.66 1021.34 L2380.58 1021.34 L2380.58 1029.81 Q2381.6 1029.46 2382.62 1029.3 Q2383.64 1029.11 2384.66 1029.11 Q2390.45 1029.11 2393.82 1032.29 Q2397.2 1035.46 2397.2 1040.87 Q2397.2 1046.45 2393.73 1049.55 Q2390.26 1052.63 2383.94 1052.63 Q2381.76 1052.63 2379.5 1052.26 Q2377.25 1051.89 2374.84 1051.15 L2374.84 1046.45 Q2376.93 1047.59 2379.15 1048.14 Q2381.37 1048.7 2383.85 1048.7 Q2387.85 1048.7 2390.19 1046.59 Q2392.53 1044.48 2392.53 1040.87 Q2392.53 1037.26 2390.19 1035.16 Q2387.85 1033.05 2383.85 1033.05 Q2381.97 1033.05 2380.1 1033.47 Q2378.25 1033.88 2376.3 1034.76 L2376.3 1017.4 Z\" fill=\"#000000\" fill-rule=\"nonzero\" fill-opacity=\"1\" /><polyline clip-path=\"url(#clip300)\" style=\"stroke:#000000; stroke-linecap:round; stroke-linejoin:round; stroke-width:4; stroke-opacity:1; fill:none\" points=\"2232.76,1038.31 2256.76,1038.31 \"/>\n",
       "<path clip-path=\"url(#clip300)\" d=\"M2280.7 871.1 Q2277.09 871.1 2275.26 874.665 Q2273.45 878.207 2273.45 885.336 Q2273.45 892.443 2275.26 896.007 Q2277.09 899.549 2280.7 899.549 Q2284.33 899.549 2286.14 896.007 Q2287.97 892.443 2287.97 885.336 Q2287.97 878.207 2286.14 874.665 Q2284.33 871.1 2280.7 871.1 M2280.7 867.396 Q2286.51 867.396 2289.57 872.003 Q2292.64 876.586 2292.64 885.336 Q2292.64 894.063 2289.57 898.669 Q2286.51 903.253 2280.7 903.253 Q2274.89 903.253 2271.81 898.669 Q2268.76 894.063 2268.76 885.336 Q2268.76 876.586 2271.81 872.003 Q2274.89 867.396 2280.7 867.396 Z\" fill=\"#000000\" fill-rule=\"nonzero\" fill-opacity=\"1\" /><path clip-path=\"url(#clip300)\" d=\"M2300.86 896.702 L2305.75 896.702 L2305.75 902.581 L2300.86 902.581 L2300.86 896.702 Z\" fill=\"#000000\" fill-rule=\"nonzero\" fill-opacity=\"1\" /><path clip-path=\"url(#clip300)\" d=\"M2316.74 898.646 L2324.38 898.646 L2324.38 872.281 L2316.07 873.947 L2316.07 869.688 L2324.33 868.021 L2329.01 868.021 L2329.01 898.646 L2336.65 898.646 L2336.65 902.581 L2316.74 902.581 L2316.74 898.646 Z\" fill=\"#000000\" fill-rule=\"nonzero\" fill-opacity=\"1\" /><path clip-path=\"url(#clip300)\" d=\"M2356.09 871.1 Q2352.48 871.1 2350.65 874.665 Q2348.85 878.207 2348.85 885.336 Q2348.85 892.443 2350.65 896.007 Q2352.48 899.549 2356.09 899.549 Q2359.73 899.549 2361.53 896.007 Q2363.36 892.443 2363.36 885.336 Q2363.36 878.207 2361.53 874.665 Q2359.73 871.1 2356.09 871.1 M2356.09 867.396 Q2361.9 867.396 2364.96 872.003 Q2368.04 876.586 2368.04 885.336 Q2368.04 894.063 2364.96 898.669 Q2361.9 903.253 2356.09 903.253 Q2350.28 903.253 2347.2 898.669 Q2344.15 894.063 2344.15 885.336 Q2344.15 876.586 2347.2 872.003 Q2350.28 867.396 2356.09 867.396 Z\" fill=\"#000000\" fill-rule=\"nonzero\" fill-opacity=\"1\" /><path clip-path=\"url(#clip300)\" d=\"M2386.26 871.1 Q2382.64 871.1 2380.82 874.665 Q2379.01 878.207 2379.01 885.336 Q2379.01 892.443 2380.82 896.007 Q2382.64 899.549 2386.26 899.549 Q2389.89 899.549 2391.7 896.007 Q2393.52 892.443 2393.52 885.336 Q2393.52 878.207 2391.7 874.665 Q2389.89 871.1 2386.26 871.1 M2386.26 867.396 Q2392.07 867.396 2395.12 872.003 Q2398.2 876.586 2398.2 885.336 Q2398.2 894.063 2395.12 898.669 Q2392.07 903.253 2386.26 903.253 Q2380.45 903.253 2377.37 898.669 Q2374.31 894.063 2374.31 885.336 Q2374.31 876.586 2377.37 872.003 Q2380.45 867.396 2386.26 867.396 Z\" fill=\"#000000\" fill-rule=\"nonzero\" fill-opacity=\"1\" /><polyline clip-path=\"url(#clip300)\" style=\"stroke:#000000; stroke-linecap:round; stroke-linejoin:round; stroke-width:4; stroke-opacity:1; fill:none\" points=\"2232.76,888.93 2256.76,888.93 \"/>\n",
       "<path clip-path=\"url(#clip300)\" d=\"M2280.7 721.721 Q2277.09 721.721 2275.26 725.286 Q2273.45 728.827 2273.45 735.957 Q2273.45 743.063 2275.26 746.628 Q2277.09 750.17 2280.7 750.17 Q2284.33 750.17 2286.14 746.628 Q2287.97 743.063 2287.97 735.957 Q2287.97 728.827 2286.14 725.286 Q2284.33 721.721 2280.7 721.721 M2280.7 718.017 Q2286.51 718.017 2289.57 722.623 Q2292.64 727.207 2292.64 735.957 Q2292.64 744.684 2289.57 749.29 Q2286.51 753.873 2280.7 753.873 Q2274.89 753.873 2271.81 749.29 Q2268.76 744.684 2268.76 735.957 Q2268.76 727.207 2271.81 722.623 Q2274.89 718.017 2280.7 718.017 Z\" fill=\"#000000\" fill-rule=\"nonzero\" fill-opacity=\"1\" /><path clip-path=\"url(#clip300)\" d=\"M2300.86 747.322 L2305.75 747.322 L2305.75 753.202 L2300.86 753.202 L2300.86 747.322 Z\" fill=\"#000000\" fill-rule=\"nonzero\" fill-opacity=\"1\" /><path clip-path=\"url(#clip300)\" d=\"M2316.74 749.267 L2324.38 749.267 L2324.38 722.901 L2316.07 724.568 L2316.07 720.309 L2324.33 718.642 L2329.01 718.642 L2329.01 749.267 L2336.65 749.267 L2336.65 753.202 L2316.74 753.202 L2316.74 749.267 Z\" fill=\"#000000\" fill-rule=\"nonzero\" fill-opacity=\"1\" /><path clip-path=\"url(#clip300)\" d=\"M2350.12 749.267 L2366.44 749.267 L2366.44 753.202 L2344.5 753.202 L2344.5 749.267 Q2347.16 746.512 2351.74 741.883 Q2356.35 737.23 2357.53 735.887 Q2359.77 733.364 2360.65 731.628 Q2361.56 729.869 2361.56 728.179 Q2361.56 725.424 2359.61 723.688 Q2357.69 721.952 2354.59 721.952 Q2352.39 721.952 2349.94 722.716 Q2347.51 723.48 2344.73 725.031 L2344.73 720.309 Q2347.55 719.174 2350.01 718.596 Q2352.46 718.017 2354.5 718.017 Q2359.87 718.017 2363.06 720.702 Q2366.26 723.387 2366.26 727.878 Q2366.26 730.008 2365.45 731.929 Q2364.66 733.827 2362.55 736.42 Q2361.97 737.091 2358.87 740.309 Q2355.77 743.503 2350.12 749.267 Z\" fill=\"#000000\" fill-rule=\"nonzero\" fill-opacity=\"1\" /><path clip-path=\"url(#clip300)\" d=\"M2376.3 718.642 L2394.66 718.642 L2394.66 722.577 L2380.58 722.577 L2380.58 731.049 Q2381.6 730.702 2382.62 730.54 Q2383.64 730.355 2384.66 730.355 Q2390.45 730.355 2393.82 733.526 Q2397.2 736.697 2397.2 742.114 Q2397.2 747.693 2393.73 750.795 Q2390.26 753.873 2383.94 753.873 Q2381.76 753.873 2379.5 753.503 Q2377.25 753.133 2374.84 752.392 L2374.84 747.693 Q2376.93 748.827 2379.15 749.383 Q2381.37 749.938 2383.85 749.938 Q2387.85 749.938 2390.19 747.832 Q2392.53 745.725 2392.53 742.114 Q2392.53 738.503 2390.19 736.397 Q2387.85 734.29 2383.85 734.29 Q2381.97 734.29 2380.1 734.707 Q2378.25 735.123 2376.3 736.003 L2376.3 718.642 Z\" fill=\"#000000\" fill-rule=\"nonzero\" fill-opacity=\"1\" /><polyline clip-path=\"url(#clip300)\" style=\"stroke:#000000; stroke-linecap:round; stroke-linejoin:round; stroke-width:4; stroke-opacity:1; fill:none\" points=\"2232.76,739.551 2256.76,739.551 \"/>\n",
       "<path clip-path=\"url(#clip300)\" d=\"M2280.7 572.341 Q2277.09 572.341 2275.26 575.906 Q2273.45 579.448 2273.45 586.577 Q2273.45 593.684 2275.26 597.249 Q2277.09 600.79 2280.7 600.79 Q2284.33 600.79 2286.14 597.249 Q2287.97 593.684 2287.97 586.577 Q2287.97 579.448 2286.14 575.906 Q2284.33 572.341 2280.7 572.341 M2280.7 568.638 Q2286.51 568.638 2289.57 573.244 Q2292.64 577.827 2292.64 586.577 Q2292.64 595.304 2289.57 599.911 Q2286.51 604.494 2280.7 604.494 Q2274.89 604.494 2271.81 599.911 Q2268.76 595.304 2268.76 586.577 Q2268.76 577.827 2271.81 573.244 Q2274.89 568.638 2280.7 568.638 Z\" fill=\"#000000\" fill-rule=\"nonzero\" fill-opacity=\"1\" /><path clip-path=\"url(#clip300)\" d=\"M2300.86 597.943 L2305.75 597.943 L2305.75 603.823 L2300.86 603.823 L2300.86 597.943 Z\" fill=\"#000000\" fill-rule=\"nonzero\" fill-opacity=\"1\" /><path clip-path=\"url(#clip300)\" d=\"M2316.74 599.887 L2324.38 599.887 L2324.38 573.522 L2316.07 575.189 L2316.07 570.929 L2324.33 569.263 L2329.01 569.263 L2329.01 599.887 L2336.65 599.887 L2336.65 603.823 L2316.74 603.823 L2316.74 599.887 Z\" fill=\"#000000\" fill-rule=\"nonzero\" fill-opacity=\"1\" /><path clip-path=\"url(#clip300)\" d=\"M2346.14 569.263 L2364.5 569.263 L2364.5 573.198 L2350.42 573.198 L2350.42 581.67 Q2351.44 581.323 2352.46 581.161 Q2353.48 580.976 2354.5 580.976 Q2360.28 580.976 2363.66 584.147 Q2367.04 587.318 2367.04 592.735 Q2367.04 598.313 2363.57 601.415 Q2360.1 604.494 2353.78 604.494 Q2351.6 604.494 2349.33 604.124 Q2347.09 603.753 2344.68 603.012 L2344.68 598.313 Q2346.76 599.448 2348.99 600.003 Q2351.21 600.559 2353.69 600.559 Q2357.69 600.559 2360.03 598.452 Q2362.37 596.346 2362.37 592.735 Q2362.37 589.124 2360.03 587.017 Q2357.69 584.911 2353.69 584.911 Q2351.81 584.911 2349.94 585.327 Q2348.08 585.744 2346.14 586.624 L2346.14 569.263 Z\" fill=\"#000000\" fill-rule=\"nonzero\" fill-opacity=\"1\" /><path clip-path=\"url(#clip300)\" d=\"M2386.26 572.341 Q2382.64 572.341 2380.82 575.906 Q2379.01 579.448 2379.01 586.577 Q2379.01 593.684 2380.82 597.249 Q2382.64 600.79 2386.26 600.79 Q2389.89 600.79 2391.7 597.249 Q2393.52 593.684 2393.52 586.577 Q2393.52 579.448 2391.7 575.906 Q2389.89 572.341 2386.26 572.341 M2386.26 568.638 Q2392.07 568.638 2395.12 573.244 Q2398.2 577.827 2398.2 586.577 Q2398.2 595.304 2395.12 599.911 Q2392.07 604.494 2386.26 604.494 Q2380.45 604.494 2377.37 599.911 Q2374.31 595.304 2374.31 586.577 Q2374.31 577.827 2377.37 573.244 Q2380.45 568.638 2386.26 568.638 Z\" fill=\"#000000\" fill-rule=\"nonzero\" fill-opacity=\"1\" /><polyline clip-path=\"url(#clip300)\" style=\"stroke:#000000; stroke-linecap:round; stroke-linejoin:round; stroke-width:4; stroke-opacity:1; fill:none\" points=\"2232.76,590.171 2256.76,590.171 \"/>\n",
       "<path clip-path=\"url(#clip300)\" d=\"M2280.7 422.962 Q2277.09 422.962 2275.26 426.527 Q2273.45 430.068 2273.45 437.198 Q2273.45 444.304 2275.26 447.869 Q2277.09 451.411 2280.7 451.411 Q2284.33 451.411 2286.14 447.869 Q2287.97 444.304 2287.97 437.198 Q2287.97 430.068 2286.14 426.527 Q2284.33 422.962 2280.7 422.962 M2280.7 419.258 Q2286.51 419.258 2289.57 423.865 Q2292.64 428.448 2292.64 437.198 Q2292.64 445.925 2289.57 450.531 Q2286.51 455.114 2280.7 455.114 Q2274.89 455.114 2271.81 450.531 Q2268.76 445.925 2268.76 437.198 Q2268.76 428.448 2271.81 423.865 Q2274.89 419.258 2280.7 419.258 Z\" fill=\"#000000\" fill-rule=\"nonzero\" fill-opacity=\"1\" /><path clip-path=\"url(#clip300)\" d=\"M2300.86 448.564 L2305.75 448.564 L2305.75 454.443 L2300.86 454.443 L2300.86 448.564 Z\" fill=\"#000000\" fill-rule=\"nonzero\" fill-opacity=\"1\" /><path clip-path=\"url(#clip300)\" d=\"M2316.74 450.508 L2324.38 450.508 L2324.38 424.142 L2316.07 425.809 L2316.07 421.55 L2324.33 419.883 L2329.01 419.883 L2329.01 450.508 L2336.65 450.508 L2336.65 454.443 L2316.74 454.443 L2316.74 450.508 Z\" fill=\"#000000\" fill-rule=\"nonzero\" fill-opacity=\"1\" /><path clip-path=\"url(#clip300)\" d=\"M2344.91 419.883 L2367.14 419.883 L2367.14 421.874 L2354.59 454.443 L2349.7 454.443 L2361.51 423.818 L2344.91 423.818 L2344.91 419.883 Z\" fill=\"#000000\" fill-rule=\"nonzero\" fill-opacity=\"1\" /><path clip-path=\"url(#clip300)\" d=\"M2376.3 419.883 L2394.66 419.883 L2394.66 423.818 L2380.58 423.818 L2380.58 432.291 Q2381.6 431.943 2382.62 431.781 Q2383.64 431.596 2384.66 431.596 Q2390.45 431.596 2393.82 434.767 Q2397.2 437.939 2397.2 443.355 Q2397.2 448.934 2393.73 452.036 Q2390.26 455.114 2383.94 455.114 Q2381.76 455.114 2379.5 454.744 Q2377.25 454.374 2374.84 453.633 L2374.84 448.934 Q2376.93 450.068 2379.15 450.624 Q2381.37 451.179 2383.85 451.179 Q2387.85 451.179 2390.19 449.073 Q2392.53 446.966 2392.53 443.355 Q2392.53 439.744 2390.19 437.638 Q2387.85 435.531 2383.85 435.531 Q2381.97 435.531 2380.1 435.948 Q2378.25 436.365 2376.3 437.244 L2376.3 419.883 Z\" fill=\"#000000\" fill-rule=\"nonzero\" fill-opacity=\"1\" /><polyline clip-path=\"url(#clip300)\" style=\"stroke:#000000; stroke-linecap:round; stroke-linejoin:round; stroke-width:4; stroke-opacity:1; fill:none\" points=\"2232.76,440.792 2256.76,440.792 \"/>\n",
       "<path clip-path=\"url(#clip300)\" d=\"M2280.7 273.582 Q2277.09 273.582 2275.26 277.147 Q2273.45 280.689 2273.45 287.819 Q2273.45 294.925 2275.26 298.49 Q2277.09 302.031 2280.7 302.031 Q2284.33 302.031 2286.14 298.49 Q2287.97 294.925 2287.97 287.819 Q2287.97 280.689 2286.14 277.147 Q2284.33 273.582 2280.7 273.582 M2280.7 269.879 Q2286.51 269.879 2289.57 274.485 Q2292.64 279.069 2292.64 287.819 Q2292.64 296.545 2289.57 301.152 Q2286.51 305.735 2280.7 305.735 Q2274.89 305.735 2271.81 301.152 Q2268.76 296.545 2268.76 287.819 Q2268.76 279.069 2271.81 274.485 Q2274.89 269.879 2280.7 269.879 Z\" fill=\"#000000\" fill-rule=\"nonzero\" fill-opacity=\"1\" /><path clip-path=\"url(#clip300)\" d=\"M2300.86 299.184 L2305.75 299.184 L2305.75 305.064 L2300.86 305.064 L2300.86 299.184 Z\" fill=\"#000000\" fill-rule=\"nonzero\" fill-opacity=\"1\" /><path clip-path=\"url(#clip300)\" d=\"M2319.96 301.129 L2336.28 301.129 L2336.28 305.064 L2314.33 305.064 L2314.33 301.129 Q2317 298.374 2321.58 293.744 Q2326.19 289.092 2327.37 287.749 Q2329.61 285.226 2330.49 283.49 Q2331.39 281.731 2331.39 280.041 Q2331.39 277.286 2329.45 275.55 Q2327.53 273.814 2324.43 273.814 Q2322.23 273.814 2319.77 274.578 Q2317.34 275.342 2314.57 276.893 L2314.57 272.17 Q2317.39 271.036 2319.84 270.457 Q2322.3 269.879 2324.33 269.879 Q2329.7 269.879 2332.9 272.564 Q2336.09 275.249 2336.09 279.74 Q2336.09 281.869 2335.28 283.791 Q2334.5 285.689 2332.39 288.281 Q2331.81 288.953 2328.71 292.17 Q2325.61 295.365 2319.96 301.129 Z\" fill=\"#000000\" fill-rule=\"nonzero\" fill-opacity=\"1\" /><path clip-path=\"url(#clip300)\" d=\"M2356.09 273.582 Q2352.48 273.582 2350.65 277.147 Q2348.85 280.689 2348.85 287.819 Q2348.85 294.925 2350.65 298.49 Q2352.48 302.031 2356.09 302.031 Q2359.73 302.031 2361.53 298.49 Q2363.36 294.925 2363.36 287.819 Q2363.36 280.689 2361.53 277.147 Q2359.73 273.582 2356.09 273.582 M2356.09 269.879 Q2361.9 269.879 2364.96 274.485 Q2368.04 279.069 2368.04 287.819 Q2368.04 296.545 2364.96 301.152 Q2361.9 305.735 2356.09 305.735 Q2350.28 305.735 2347.2 301.152 Q2344.15 296.545 2344.15 287.819 Q2344.15 279.069 2347.2 274.485 Q2350.28 269.879 2356.09 269.879 Z\" fill=\"#000000\" fill-rule=\"nonzero\" fill-opacity=\"1\" /><path clip-path=\"url(#clip300)\" d=\"M2386.26 273.582 Q2382.64 273.582 2380.82 277.147 Q2379.01 280.689 2379.01 287.819 Q2379.01 294.925 2380.82 298.49 Q2382.64 302.031 2386.26 302.031 Q2389.89 302.031 2391.7 298.49 Q2393.52 294.925 2393.52 287.819 Q2393.52 280.689 2391.7 277.147 Q2389.89 273.582 2386.26 273.582 M2386.26 269.879 Q2392.07 269.879 2395.12 274.485 Q2398.2 279.069 2398.2 287.819 Q2398.2 296.545 2395.12 301.152 Q2392.07 305.735 2386.26 305.735 Q2380.45 305.735 2377.37 301.152 Q2374.31 296.545 2374.31 287.819 Q2374.31 279.069 2377.37 274.485 Q2380.45 269.879 2386.26 269.879 Z\" fill=\"#000000\" fill-rule=\"nonzero\" fill-opacity=\"1\" /><polyline clip-path=\"url(#clip300)\" style=\"stroke:#000000; stroke-linecap:round; stroke-linejoin:round; stroke-width:4; stroke-opacity:1; fill:none\" points=\"2232.76,291.413 2256.76,291.413 \"/>\n",
       "<path clip-path=\"url(#clip300)\" d=\"M2280.7 124.203 Q2277.09 124.203 2275.26 127.768 Q2273.45 131.31 2273.45 138.439 Q2273.45 145.546 2275.26 149.11 Q2277.09 152.652 2280.7 152.652 Q2284.33 152.652 2286.14 149.11 Q2287.97 145.546 2287.97 138.439 Q2287.97 131.31 2286.14 127.768 Q2284.33 124.203 2280.7 124.203 M2280.7 120.499 Q2286.51 120.499 2289.57 125.106 Q2292.64 129.689 2292.64 138.439 Q2292.64 147.166 2289.57 151.772 Q2286.51 156.356 2280.7 156.356 Q2274.89 156.356 2271.81 151.772 Q2268.76 147.166 2268.76 138.439 Q2268.76 129.689 2271.81 125.106 Q2274.89 120.499 2280.7 120.499 Z\" fill=\"#000000\" fill-rule=\"nonzero\" fill-opacity=\"1\" /><path clip-path=\"url(#clip300)\" d=\"M2300.86 149.805 L2305.75 149.805 L2305.75 155.684 L2300.86 155.684 L2300.86 149.805 Z\" fill=\"#000000\" fill-rule=\"nonzero\" fill-opacity=\"1\" /><path clip-path=\"url(#clip300)\" d=\"M2319.96 151.749 L2336.28 151.749 L2336.28 155.684 L2314.33 155.684 L2314.33 151.749 Q2317 148.995 2321.58 144.365 Q2326.19 139.712 2327.37 138.37 Q2329.61 135.847 2330.49 134.11 Q2331.39 132.351 2331.39 130.661 Q2331.39 127.907 2329.45 126.171 Q2327.53 124.435 2324.43 124.435 Q2322.23 124.435 2319.77 125.198 Q2317.34 125.962 2314.57 127.513 L2314.57 122.791 Q2317.39 121.657 2319.84 121.078 Q2322.3 120.499 2324.33 120.499 Q2329.7 120.499 2332.9 123.185 Q2336.09 125.87 2336.09 130.36 Q2336.09 132.49 2335.28 134.411 Q2334.5 136.309 2332.39 138.902 Q2331.81 139.573 2328.71 142.791 Q2325.61 145.985 2319.96 151.749 Z\" fill=\"#000000\" fill-rule=\"nonzero\" fill-opacity=\"1\" /><path clip-path=\"url(#clip300)\" d=\"M2350.12 151.749 L2366.44 151.749 L2366.44 155.684 L2344.5 155.684 L2344.5 151.749 Q2347.16 148.995 2351.74 144.365 Q2356.35 139.712 2357.53 138.37 Q2359.77 135.847 2360.65 134.11 Q2361.56 132.351 2361.56 130.661 Q2361.56 127.907 2359.61 126.171 Q2357.69 124.435 2354.59 124.435 Q2352.39 124.435 2349.94 125.198 Q2347.51 125.962 2344.73 127.513 L2344.73 122.791 Q2347.55 121.657 2350.01 121.078 Q2352.46 120.499 2354.5 120.499 Q2359.87 120.499 2363.06 123.185 Q2366.26 125.87 2366.26 130.36 Q2366.26 132.49 2365.45 134.411 Q2364.66 136.309 2362.55 138.902 Q2361.97 139.573 2358.87 142.791 Q2355.77 145.985 2350.12 151.749 Z\" fill=\"#000000\" fill-rule=\"nonzero\" fill-opacity=\"1\" /><path clip-path=\"url(#clip300)\" d=\"M2376.3 121.124 L2394.66 121.124 L2394.66 125.06 L2380.58 125.06 L2380.58 133.532 Q2381.6 133.184 2382.62 133.022 Q2383.64 132.837 2384.66 132.837 Q2390.45 132.837 2393.82 136.009 Q2397.2 139.18 2397.2 144.596 Q2397.2 150.175 2393.73 153.277 Q2390.26 156.356 2383.94 156.356 Q2381.76 156.356 2379.5 155.985 Q2377.25 155.615 2374.84 154.874 L2374.84 150.175 Q2376.93 151.309 2379.15 151.865 Q2381.37 152.421 2383.85 152.421 Q2387.85 152.421 2390.19 150.314 Q2392.53 148.208 2392.53 144.596 Q2392.53 140.985 2390.19 138.879 Q2387.85 136.772 2383.85 136.772 Q2381.97 136.772 2380.1 137.189 Q2378.25 137.606 2376.3 138.485 L2376.3 121.124 Z\" fill=\"#000000\" fill-rule=\"nonzero\" fill-opacity=\"1\" /><polyline clip-path=\"url(#clip300)\" style=\"stroke:#000000; stroke-linecap:round; stroke-linejoin:round; stroke-width:4; stroke-opacity:1; fill:none\" points=\"2232.76,142.033 2256.76,142.033 \"/>\n",
       "<polyline clip-path=\"url(#clip300)\" style=\"stroke:#000000; stroke-linecap:round; stroke-linejoin:round; stroke-width:4; stroke-opacity:1; fill:none\" points=\"2232.76,1486.45 2232.76,47.2441 \"/>\n",
       "</svg>\n"
      ],
      "text/html": [
       "<img src=\"data:image/png;base64,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\" />"
      ]
     },
     "execution_count": 720,
     "metadata": {},
     "output_type": "execute_result"
    }
   ],
   "source": [
    "heatmap( pd.x, pd.y,  Amp2, format=:png)"
   ]
  },
  {
   "cell_type": "code",
   "execution_count": null,
   "metadata": {},
   "outputs": [],
   "source": []
  }
 ],
 "metadata": {
  "kernelspec": {
   "display_name": "Julia (24 threads) 1.10.5",
   "language": "julia",
   "name": "julia-_24-threads_-1.10"
  },
  "language_info": {
   "file_extension": ".jl",
   "mimetype": "application/julia",
   "name": "julia",
   "version": "1.10.5"
  }
 },
 "nbformat": 4,
 "nbformat_minor": 4
}
