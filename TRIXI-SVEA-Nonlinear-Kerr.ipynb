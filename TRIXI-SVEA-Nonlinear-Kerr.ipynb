{
 "cells": [
  {
   "cell_type": "code",
   "execution_count": 1,
   "metadata": {},
   "outputs": [
    {
     "data": {
      "text/plain": [
       "v\"1.10.5\""
      ]
     },
     "execution_count": 1,
     "metadata": {},
     "output_type": "execute_result"
    }
   ],
   "source": [
    "VERSION"
   ]
  },
  {
   "cell_type": "code",
   "execution_count": 2,
   "metadata": {},
   "outputs": [
    {
     "name": "stderr",
     "output_type": "stream",
     "text": [
      "\u001b[32m\u001b[1m  Activating\u001b[22m\u001b[39m new project at `~/TRIXI`\n"
     ]
    }
   ],
   "source": [
    "] activate ."
   ]
  },
  {
   "cell_type": "code",
   "execution_count": 3,
   "metadata": {},
   "outputs": [],
   "source": [
    "using OrdinaryDiffEq\n",
    "using Trixi\n",
    "using Plots"
   ]
  },
  {
   "cell_type": "markdown",
   "metadata": {},
   "source": [
    "# Nonlinear Kerr Effect"
   ]
  },
  {
   "cell_type": "markdown",
   "metadata": {},
   "source": [
    "This notebook describes how to use `Trixi.jl` to simulate the Slowly-Varying-Envelope-Approximation (SVEA) and Paraxial Wave Equations for a guassian beam including optical absorption and the nonlinear Kerr effect.\n",
    "\n",
    "This notebook is based off the previous notebook for the SVEA Paraxial wave equation and many things will be reused. "
   ]
  },
  {
   "cell_type": "markdown",
   "metadata": {},
   "source": [
    "# Adding Longitudinal Dispersion and Nonlinear Instantaneous Refractive Index (Kerr Effect)"
   ]
  },
  {
   "cell_type": "markdown",
   "metadata": {},
   "source": [
    "In the previous notebook, we used the textbook *Fundamentals of Nonlinear Optics* by Powers. We start from the same equation. The numbers of these equations will continue from the previous notebook.\n",
    "\n",
    "The full time dependent paraxial wave equation is given by Equation 10.79 in Powers: \n",
    "\n",
    "\\begin{equation}\n",
    "    \\frac{\\partial}{\\partial t} A + \\frac{i v_{g}}{2 k_{0} v_{g}^{2}} \\left. \\left( 1 - k_{0} \\frac{\\partial v_{g}}{\\partial \\omega}  \\right)\\right|_{\\omega_{0}} \\frac{\\partial^2}{\\partial t^2} A  + v_{g} \\frac{\\partial}{\\partial z} A - i\\frac{v_{g}}{2 k_{0}} \\nabla^{2} A = \\frac{i \\mu_{0} \\omega_{0}^{2}}{2 k_{0}} P_{NL} e^{- i k_{0} z} \n",
    "    \\tag{20}\n",
    "\\end{equation}"
   ]
  },
  {
   "cell_type": "markdown",
   "metadata": {},
   "source": [
    "In Boyd's textbook, Equation 7.5.23, the group velocity dispersion (which is usually labeled as either $\\kappa_2$ or $\\beta_{2}$ ) is given by: \n",
    "\n",
    "\\begin{equation}\n",
    "    \\begin{aligned}\n",
    "    \\kappa_{2} &= \\left. \\left( \\frac{d^{2} k}{d \\omega^{2}} \\right) \\right|_{\\omega = \\omega_{0}} \\\\\n",
    "    &= \\frac{d}{d \\omega} \\left. \\left( \\frac{1}{v_{g}\\left(  \\omega \\right)}   \\right) \\right|_{\\omega = \\omega_{0}} \\\\\n",
    "    &= \\left. \\left( \\frac{1}{v_{g}^{2}\\left(  \\omega \\right)}  \\frac{d v_{g}\\left(  \\omega \\right)}{d \\omega} \\right)  \\right|_{\\omega = \\omega_{0}}\n",
    "    \\end{aligned}\n",
    "\\end{equation}"
   ]
  },
  {
   "cell_type": "markdown",
   "metadata": {},
   "source": [
    "We can add optical absorption and Kerr effect:\n",
    "\n",
    "\\begin{equation}\n",
    "    \\frac{\\partial}{\\partial t} A + \\frac{i}{2}\\left( \\frac{1}{k_{0} v_{g}} - v_{g} \\kappa_{2}  \\right)  \\frac{\\partial^2}{\\partial t^2} A + \\frac{\\alpha}{2} A  + v_{g} \\frac{\\partial}{\\partial z} A - i\\frac{v_{g}}{2 k_{0}} \\nabla^{2} A = i k_{0} n_{2} I A\n",
    "    \\tag{21}\n",
    "\\end{equation}\n",
    "\n",
    "But we'll make the substitution for the full velocity dispersion with $\\beta_{2}$:\n",
    "\n",
    "\\begin{equation}\n",
    "    \\frac{\\partial}{\\partial t} A + \\frac{i}{2}\\beta_{2}  \\frac{\\partial^2}{\\partial t^2} A  + v_{g} \\frac{\\partial}{\\partial z} A - i\\frac{v_{g}}{2 k_{0}} \\nabla^{2} A = -\\frac{\\alpha}{2} A + i k_{0} n_{2} I A\n",
    "    \\tag{22}\n",
    "\\end{equation}\n",
    "\n",
    "where $n_{2}$ is the instantaneous second order nonlinear refractive index. More can be found in Boyd and this wikipedia article: https://en.wikipedia.org/wiki/Kerr_effect\n",
    "\n",
    "We put the optical absorption (extinction coefficient term) and the nonlinear Kerr effect on the RHS because we will use `Trixi.jl` function for source terms."
   ]
  },
  {
   "cell_type": "markdown",
   "metadata": {},
   "source": [
    "The intensity $I$ is:\n",
    "\n",
    "\\begin{equation}\n",
    "    \\begin{aligned}\n",
    "    I &= \\frac{v_{p} \\epsilon_{0} \\epsilon_{r} \\mu_{r} }{2} \\left| E \\right|^{2} = \\frac{c \\epsilon_{0} n}{2}\\left| E \\right|^{2} \\\\\n",
    "    &= \\frac{c \\epsilon_{0}}{2} \\sqrt{\\frac{\\epsilon_{r}}{\\mu_{r}}} \\;\\;\\left| E \\right|^{2}\n",
    "    \\end{aligned}\n",
    "\\end{equation}\n",
    "\n",
    "in SI units. In CGS units the formula is: \n",
    "\n",
    "\\begin{aligned}\n",
    "    I = \\frac{c}{8 \\pi} \\sqrt{\\frac{\\epsilon_{r}}{\\mu_{r}}}  \\;\\; \\left| E \\right|^{2}\n",
    "\\end{aligned}"
   ]
  },
  {
   "cell_type": "markdown",
   "metadata": {},
   "source": [
    "We need to set this up into single derivatives in time so we have to re-write this with the following substitutions:\n",
    "\n",
    "\\begin{equation}\n",
    "    \\begin{aligned}\n",
    "    B = \\partial_{t} A\n",
    "    \\end{aligned}\n",
    "\\end{equation}\n",
    "\n",
    "Then our equation becomes a coupled system: \n",
    "\n",
    "\\begin{equation}\n",
    "    \\begin{aligned}\n",
    "    \\frac{i}{2}\\beta_{2}  \\frac{\\partial}{\\partial t} B  + v_{g} \\frac{\\partial}{\\partial z} A - i\\frac{v_{g}}{2 k_{0}} \\nabla^{2} A &= - B -\\frac{\\alpha}{2} A + i k_{0} n_{2} I A \\\\\n",
    "    \\partial_{t} A &= B\n",
    "    \\end{aligned}\n",
    "    \\tag{23}\n",
    "\\end{equation}"
   ]
  },
  {
   "cell_type": "markdown",
   "metadata": {},
   "source": [
    "Again, this needs to be split into the real and imaginary parts: \n",
    "\n",
    "\\begin{equation}\n",
    "    \\begin{aligned}\n",
    "    A(\\mathbf{x},t) &= A_{r}(\\mathbf{x},t) + i A_{i}(\\mathbf{x},t) \\\\\n",
    "    B(\\mathbf{x},t) &= B_{r}(\\mathbf{x},t) + i B_{i}(\\mathbf{x},t)\n",
    "    \\end{aligned}\n",
    "\\end{equation}"
   ]
  },
  {
   "cell_type": "markdown",
   "metadata": {},
   "source": [
    "\\begin{equation}\n",
    "    \\begin{aligned}\n",
    "    \\frac{i}{2}\\beta_{2}  \\frac{\\partial}{\\partial t} \\left( B_{r} + i B_{i} \\right) + v_{g} \\frac{\\partial}{\\partial z} \\left( A_{r} + i A_{i} \\right) - i\\frac{v_{g}}{2 k_{0}} \\nabla^{2} \\left( A_{r} + i A_{i} \\right) &= - \\left( B_{r} + i B_{i} \\right) -\\frac{\\alpha}{2} \\left( A_{r} + i A_{i} \\right) + i k_{0} n_{2} I \\left( A_{r} + i A_{i} \\right) \\\\\n",
    "    \\partial_{t} \\left( A_{r} + i A_{i} \\right) &= \\left( B_{r} + i B_{i} \\right)\n",
    "    \\end{aligned}\n",
    "    \\tag{24}\n",
    "\\end{equation}"
   ]
  },
  {
   "cell_type": "markdown",
   "metadata": {},
   "source": [
    "The Real part of the system is: \n",
    "\n",
    "\\begin{equation}\n",
    "    \\begin{aligned}\n",
    "        -\\frac{\\beta_{2}}{2} \\partial_{t} B_{i} + v_{g} \\partial_{z} A_{r} + \\frac{v_{g}}{2 k_{0}} \\nabla^{2} A_{i} &= -B_{r} - \\frac{\\alpha}{2} A_{r} - k_{0} n_{2} I A_{i} \\\\\n",
    "        \\partial_{t} A_{r} = B_{r}\n",
    "    \\end{aligned}\n",
    "    \\tag{25}\n",
    "\\end{equation}\n",
    "\n",
    "And the imaginary part:\n",
    "\n",
    "\\begin{equation}\n",
    "    \\begin{aligned}\n",
    "        \\frac{\\beta_{2}}{2} \\partial_{t} B_{r} + v_{g}\\partial_{z} A_{i} - \\frac{v_{g}}{2 k_{0}} \\nabla^{2} A_{r} &= - B_{i} - \\frac{\\alpha}{2} A_{i} +  k_{0} n_{2} I A_{r} \\\\\n",
    "        \\partial_{t} A_{i} &= B_{i}\n",
    "    \\end{aligned}\n",
    "    \\tag{26}\n",
    "\\end{equation}"
   ]
  },
  {
   "cell_type": "markdown",
   "metadata": {},
   "source": [
    "We re-write to leave the time dependence without multiplication:\n",
    "\n",
    "\n",
    "\\begin{equation}\n",
    "    \\begin{aligned}\n",
    "         \\partial_{t} B_{i} - \\frac{2 v_{g}}{\\beta_{2}} \\partial_{z} A_{r} - \\frac{ v_{g}}{ \\beta_{2} k_{0}} \\nabla^{2} A_{i} &=  \\frac{2}{\\beta_{2}} B_{r} - \\frac{\\alpha}{\\beta_{2}} A_{r} - \\frac{ 2 k_{0} n_{2} }{\\beta_{2}} I A_{i} \\\\\n",
    "         &\\\\\n",
    "        \\partial_{t} A_{r} = B_{r}\n",
    "    \\end{aligned}\n",
    "    \\tag{27}\n",
    "\\end{equation}\n",
    "\n",
    "And the imaginary part:\n",
    "\n",
    "\\begin{equation}\n",
    "    \\begin{aligned}\n",
    "         \\partial_{t} B_{r} + \\frac{2 v_{g}}{\\beta_{2}}\\partial_{z} A_{i} - \\frac{v_{g}}{\\beta_{2} k_{0}} \\nabla^{2} A_{r} &= - \\frac{2}{\\beta_{2}} B_{i} - \\frac{\\alpha}{\\beta_{2}} A_{i} + \\frac{2 k_{0} n_{2}}{\\beta_{2}} I A_{r} \\\\\n",
    "         &\\\\\n",
    "        \\partial_{t} A_{i} &= B_{i}\n",
    "    \\end{aligned}\n",
    "    \\tag{28}\n",
    "\\end{equation}"
   ]
  },
  {
   "cell_type": "markdown",
   "metadata": {},
   "source": [
    "# Creating new Equations in Trixi"
   ]
  },
  {
   "cell_type": "markdown",
   "metadata": {},
   "source": [
    "**NOTE**: `Trixi.jl` uses $x$, $y$, $z$ for the 1st, 2nd, and 3rd dimension. Most optics books use $z$ as the longitudinal direction and $y$,$z$ for the transverse ($\\perp$). Because we're doing a 2D simulation in `Trixi.jl` we will use $x$ and $z$ interchageably for the longitudinal direction, and use $y$, $\\perp$, $r$ interchangeably for the transverse direction"
   ]
  },
  {
   "cell_type": "markdown",
   "metadata": {},
   "source": [
    "## Advection equations"
   ]
  },
  {
   "cell_type": "markdown",
   "metadata": {},
   "source": [
    "The hyperbolic advection terms of the system of equations are: \n",
    "\n",
    "\\begin{equation}\n",
    "    \\begin{aligned}\n",
    "         \\partial_{t} B_{i} - \\frac{2 v_{g}}{\\beta_{2}} \\partial_{z} A_{r} &= 0 \\\\\n",
    "         &\\\\\n",
    "        \\partial_{t} A_{r} = 0\n",
    "    \\end{aligned}\n",
    "    \\tag{29}\n",
    "\\end{equation}\n",
    "\n",
    "And the imaginary part:\n",
    "\n",
    "\\begin{equation}\n",
    "    \\begin{aligned}\n",
    "         \\partial_{t} B_{r} + \\frac{2 v_{g}}{\\beta_{2}}\\partial_{z} A_{i} &= 0 \\\\\n",
    "         &\\\\\n",
    "        \\partial_{t} A_{i} &= 0\n",
    "    \\end{aligned}\n",
    "    \\tag{30}\n",
    "\\end{equation}"
   ]
  },
  {
   "cell_type": "markdown",
   "metadata": {},
   "source": [
    "We note here that the equations for $B_{r}$ and $B_{i}$ have an advection velocity in the transverse-direction of zero: \n",
    "\n",
    "$$v_{B,\\perp} \\partial_{\\perp} B \\rightarrow 0$$\n",
    "\n",
    "For the $A_{r}$ and $A_{i}$ terms, the advection velocity in both directions is zero: \n",
    "\n",
    "\\begin{equation}\n",
    "    v_{A,z} \\partial_{z} A + v_{A,\\perp} \\partial_{\\perp} A = 0\n",
    "\\end{equation}"
   ]
  },
  {
   "cell_type": "markdown",
   "metadata": {},
   "source": [
    "Let's write our advection equation into `Trixi.jl`"
   ]
  },
  {
   "cell_type": "code",
   "execution_count": 4,
   "metadata": {},
   "outputs": [],
   "source": [
    "# Define new physics\n",
    "using Trixi\n",
    "using Trixi: AbstractEquations, get_node_vars\n",
    "import Trixi: varnames, default_analysis_integrals, flux, max_abs_speed_naive,\n",
    "              have_nonconservative_terms"
   ]
  },
  {
   "cell_type": "code",
   "execution_count": 5,
   "metadata": {},
   "outputs": [],
   "source": [
    "# Since there is no native support for the Linear Advection equation with two variables\n",
    "# variables: Ar, Ai, Br, Bi\n",
    "struct LinearAdvectionEquation4v2D{T} <: AbstractEquations{2 #= spatial dimension =#,\n",
    "                                                                   4 #= two variables (u,a) =#}\n",
    "    advection_speed::T #the advection speed for all 4 variables in 2D so it will be an array with 8 total entries\n",
    "    diffusion_speed::T #the diffusion speed for all 4 variables in 2D so it will be an array with 8 total entries\n",
    "    k0::T #constant central wavenumber ,for all 4 variables in 2D so it will be an array with 8 total entries\n",
    "    k0src::T #constant central wavenumber for the source terms ,for all 4 variables in 2D so it will be an array with 4 total entries\n",
    "    b2::T #\\beta_2 group velocity dispersion ,for all 4 variables in 2D so it will be an array with 8 total entries\n",
    "    b2src::T #\\beta_2 group velocity dispersion for the source terms ,for all 4 variables in 2D so it will be an array with 4 total entries\n",
    "    n2::T #instantaneous nonlinear second order refractive index ,for all 4 variables in 2D so it will be an array with 4 total entries\n",
    "    alpha::T # optical absorption coefficient,for all 4 variables in 2D so it will be an array with 4 total entries\n",
    "end"
   ]
  },
  {
   "cell_type": "markdown",
   "metadata": {},
   "source": [
    "We define our new 2-variable, 2-dimension linear sacalar advection equations as shown above. We create a new struct that is a `Trixi.jl` type of `AbstractEquations` (hence the `<:`). `AbstractEquations{a,b}` is a type where the the `a` is the spatial dimensions of the system, and `b` are the variables of the system. \n",
    "\n",
    "Notice that we add the `{T <: Real}` to initialize the struct `LinearAdvectionEquation2v2D` to take in `T` values that belong to the `Real` type of Julia. \n",
    "\n",
    "Inside the struct, we want it to hold the speed of light and the central wavenumber: `speed_of_light` and `k0`, respectively. These two parameters will be 2-valued vectors where the first value will be the speed in the longitudinal direction and the second will be the speed in the transverse direction"
   ]
  },
  {
   "cell_type": "markdown",
   "metadata": {},
   "source": [
    "Next we need to define the variable names of our 2-variable, 2-dimensional linear scalar advection equation. The variables will be the real and imaginary part ($A_{r}$, $A_{i}$). These two variables are the conservative and the primitive so we use multiple-dispatch to overload the `Trixi.jl` function `varnames()`"
   ]
  },
  {
   "cell_type": "code",
   "execution_count": 6,
   "metadata": {},
   "outputs": [
    {
     "data": {
      "text/plain": [
       "default_analysis_integrals (generic function with 6 methods)"
      ]
     },
     "execution_count": 6,
     "metadata": {},
     "output_type": "execute_result"
    }
   ],
   "source": [
    "varnames(::typeof(cons2cons), ::LinearAdvectionEquation4v2D) = (\"Ar\", \"Ai\", \"Br\", \"Bi\")\n",
    "varnames(::typeof(cons2prim), ::LinearAdvectionEquation4v2D) = (\"Ar\", \"Ai\", \"Br\", \"Bi\")\n",
    "\n",
    "default_analysis_integrals(::LinearAdvectionEquation4v2D) = ()"
   ]
  },
  {
   "cell_type": "markdown",
   "metadata": {},
   "source": [
    "### Defining Flux"
   ]
  },
  {
   "cell_type": "markdown",
   "metadata": {},
   "source": [
    "We need to identify the flux for the 2v2D Linear Advection Equations:\n",
    "\n",
    "\\begin{equation}\n",
    "    \\mathbf{F}_{r} = \\begin{pmatrix}\n",
    "    f_{r,z} \\\\\n",
    "    f_{r, \\perp}\n",
    "    \\end{pmatrix} =  \\begin{pmatrix}\n",
    "    c_{z} \\\\\n",
    "    c_{\\perp}\n",
    "    \\end{pmatrix} A_{r} \n",
    "    \\tag{7}\n",
    "\\end{equation}\n",
    "\n",
    "\n",
    "As shown above, the flux is just simpy the group velocity ($v_{g}$) which in vacuum is just the speed of light. However, because `TreeMesh()` only allows for square domains so we need to normalize the domain in each direction. This is why we need to have 2-values for the speed and wavenumber"
   ]
  },
  {
   "cell_type": "code",
   "execution_count": 7,
   "metadata": {},
   "outputs": [
    {
     "data": {
      "text/plain": [
       "flux (generic function with 51 methods)"
      ]
     },
     "execution_count": 7,
     "metadata": {},
     "output_type": "execute_result"
    }
   ],
   "source": [
    "# Calculate 2D flux for a single point\n",
    "@inline function flux(u, orientation::Integer,\n",
    "                      equations::LinearAdvectionEquation4v2D)\n",
    "    Ar, Ai, Br, Bi = u\n",
    "\n",
    "    if orientation == 1\n",
    "        # advective flux components in the x-direction\n",
    "        f1 = equations.advection_speed[1] * Ar\n",
    "        f2 = equations.advection_speed[2] * Ai\n",
    "        f3 = equations.advection_speed[3] * Ai\n",
    "        f4 = equations.advection_speed[4] * Ar\n",
    "\n",
    "        return SVector(f1, f2, f3, f4)\n",
    "    else # if orientation == 2 the transverse direction\n",
    "        # advective flux components in the y-direction transverse\n",
    "        #  in the transverse direction there is no advection \n",
    "        g1 = equations.advection_speed[5] * Ar\n",
    "        g2 = equations.advection_speed[6] * Ai\n",
    "        g3 = equations.advection_speed[7] * Ai\n",
    "        g4 = equations.advection_speed[8] * Ar\n",
    "\n",
    "        return SVector(g1, g2, g3, g4)\n",
    "    end\n",
    "end"
   ]
  },
  {
   "cell_type": "markdown",
   "metadata": {},
   "source": [
    "The flux function requires the input variable (which can be a scalar or vector), orientation (z or y directions), and equation type. \n",
    "\n",
    "We first unpack the scalar terms from the input variable `u` which should be a vector of the two scalar variables $A_{r}$ and $A_{i}$. \n",
    "\n",
    "Next we return a static vector `SVector()` of the fluxes as shown above."
   ]
  },
  {
   "cell_type": "markdown",
   "metadata": {},
   "source": [
    "### Defining Speed Limits"
   ]
  },
  {
   "cell_type": "markdown",
   "metadata": {},
   "source": [
    "We need to calculate the maximum speed possible for our fluxes. We do this by multiple-dispatching the `Trixi.jl` function `max_abs_speed_naive()`. "
   ]
  },
  {
   "cell_type": "code",
   "execution_count": 8,
   "metadata": {},
   "outputs": [
    {
     "data": {
      "text/plain": [
       "max_abs_speeds (generic function with 1 method)"
      ]
     },
     "execution_count": 8,
     "metadata": {},
     "output_type": "execute_result"
    }
   ],
   "source": [
    "# Calculate maximum wave speed for local Lax-Friedrichs-type dissipation\n",
    "@inline function max_abs_speed_naive(u_ll, u_rr, orientation::Int,\n",
    "                                     equations::LinearAdvectionEquation4v2D)\n",
    "    cd = 0.0\n",
    "    if orientation == 1\n",
    "        cd = equations.advection_speed[1]\n",
    "    end\n",
    "    λ_max = abs(cd)\n",
    "end\n",
    "\n",
    "@inline have_constant_speed(::LinearAdvectionEquation4v2D) = True()\n",
    "\n",
    "@inline function max_abs_speeds(equations::LinearAdvectionEquation4v2D)\n",
    "    if equations.orientation == 1\n",
    "        return SVector(equations.advection_speed[1], equations.advection_speed[2], equations.advection_speed[3], equations.advection_speed[4])\n",
    "    else\n",
    "        return SVector(equations.advection_speed[5], equations.advection_speed[6], equations.advection_speed[7], equations.advection_speed[8])\n",
    "    end\n",
    "end"
   ]
  },
  {
   "cell_type": "markdown",
   "metadata": {},
   "source": [
    "Additionally, we need to set the maximum absolute speed possible using the `max_abs_speeds()`. Again, this is a `Trixi.jl` function so it will be multiple-dispatched with the `equations::LinearAdvectionEquation2v2D` input type. In this function, it must return the maximum absolute speed for the two variables ($A_r$, $A_i$). THe return function should be a 2-valued `SVector` corresponding to the speeds of $A_r$ and $A_i$. Additionally, the speeds should depend on the direction of the flux (`orientation`)."
   ]
  },
  {
   "cell_type": "code",
   "execution_count": null,
   "metadata": {},
   "outputs": [],
   "source": []
  },
  {
   "cell_type": "markdown",
   "metadata": {},
   "source": [
    "## Parabolic Diffusion Terms (Diffraction)"
   ]
  },
  {
   "cell_type": "markdown",
   "metadata": {},
   "source": [
    "The parabolic diffusion (diffraction) terms of tour system is: \n",
    "\n",
    "\\begin{equation}\n",
    "    \\begin{aligned}\n",
    "        \\partial_{t} A_{r} &= 0 \\\\\n",
    "        \\partial_{t} A_{i} &= 0 \\\\\n",
    "        \\partial_{t} B_{r} - \\frac{v_{g}}{\\beta_{2} k_{0}} \\nabla^{2} A_{r} &= 0 \\\\\n",
    "        \\partial_{t} B_{i} - \\frac{v_{g}}{\\beta_{2} k_{0}} \\nabla^{2} A_{i} &= 0\n",
    "    \\end{aligned}\n",
    "    \\tag{31}\n",
    "\\end{equation}\n",
    "\n"
   ]
  },
  {
   "cell_type": "markdown",
   "metadata": {},
   "source": [
    "### Creating Parabolic Equation Struct"
   ]
  },
  {
   "cell_type": "markdown",
   "metadata": {},
   "source": [
    "We need to make an equation struct to hold all the information for the diffraction term. We can use the code from the tutorial: https://trixi-framework.github.io/Trixi.jl/stable/tutorials/adding_new_parabolic_terms/"
   ]
  },
  {
   "cell_type": "code",
   "execution_count": 9,
   "metadata": {},
   "outputs": [],
   "source": [
    "struct ConstantAnisotropicDiffusion2D{E, T} <: Trixi.AbstractEquationsParabolic{2, 2, GradientVariablesConservative}\n",
    "    # diffusivity::T\n",
    "    equations_hyperbolic::E\n",
    "    advection_speed::T #the advection speed for all 4 variables in 2D so it will be an array with 8 total entries\n",
    "    diffusion_speed::T #the diffusion speed for all 4 variables in 2D so it will be an array with 8 total entries\n",
    "    k0::T #constant central wavenumber ,for all 4 variables in 2D so it will be an array with 8 total entries\n",
    "    k0src::T #constant central wavenumber for the source terms ,for all 4 variables in 2D so it will be an array with 4 total entries\n",
    "    b2::T #\\beta_2 group velocity dispersion ,for all 4 variables in 2D so it will be an array with 8 total entries\n",
    "    b2src::T #\\beta_2 group velocity dispersion for the source terms ,for all 4 variables in 2D so it will be an array with 4 total entries\n",
    "    n2::T #instantaneous nonlinear second order refractive index ,for all 4 variables in 2D so it will be an array with 4 total entries\n",
    "    alpha::T # optical absorption coefficient,for all 4 variables in 2D so it will be an array with 4 total entries\n",
    "end"
   ]
  },
  {
   "cell_type": "markdown",
   "metadata": {},
   "source": [
    "Creating the abstract struct: \n",
    "\n",
    "`struct ConstantAnisotropicDiffusion2D{E, T}`\n",
    "\n",
    "where the `E` is the abstract type which will be used to refer to the `equation` type, and the `T` will be used to refer to the diffusivity type. In this case, because it is 2D it will be a 2D vector type.\n",
    "\n",
    "This abstract struct allows for anisotropic diffusion in the longitudinal and transverse direction. In this case, the SVEA is not anisotropic but we will leave it in case users want to play around with it. \n",
    "\n",
    "This struct will belong to (`<:`):\n",
    "\n",
    "`Trixi.AbstractEquationsParabolic{2, 1, GradientVariablesConservative}`\n",
    "\n",
    "Where the `2` is the number of dimensions, `1` is the number of variables, and `GradientVariablesConservative` is chosen because the hyperbolic system is conservative. This is the case because there is no dissipation mechanism (i.e. optical absorption from air)."
   ]
  },
  {
   "cell_type": "markdown",
   "metadata": {},
   "source": [
    "Next we need to map the parabolic variables to the hyperbolic variables. `Trixi.jl` already has a function to obtain the variable names: `varnames()`. Since the `LinearScalarAdvectionEquation2D` is already part of the `Trixi.jl` package and part of the `equation` abstract type, `varnames()` will be able to act and return something for the hyperbolic terms. \n",
    "\n",
    "We need to define a function via multiple-dispatch to do the same for our parabolic terms. We do this below:"
   ]
  },
  {
   "cell_type": "code",
   "execution_count": 10,
   "metadata": {},
   "outputs": [
    {
     "data": {
      "text/plain": [
       "varnames (generic function with 73 methods)"
      ]
     },
     "execution_count": 10,
     "metadata": {},
     "output_type": "execute_result"
    }
   ],
   "source": [
    "varnames(variable_mapping, equations_parabolic::ConstantAnisotropicDiffusion2D) =\n",
    "  varnames(variable_mapping, equations_parabolic.equations_hyperbolic)"
   ]
  },
  {
   "cell_type": "markdown",
   "metadata": {},
   "source": [
    "In this new multiple-dispatched `varnames()`, the first input argument is the same as the the one from the `Trixi.jl` package. `variable_mapping` is the map from one set of variables to the other. \n",
    "\n",
    "The second argument then defines our multiple-dispatch where we have define this function to take effect when the second argument is a type `::ConstantAnisotropicDiffusion2D`. When this is the case, it actually just calls the original `varnames()` and inputs the `ConstantAnisotropicDiffusion2D` struct's hyperbolic equations which we defined in the abstract struct above!"
   ]
  },
  {
   "cell_type": "markdown",
   "metadata": {},
   "source": [
    "### Parabolic Flux"
   ]
  },
  {
   "cell_type": "markdown",
   "metadata": {},
   "source": [
    "Next, we define the viscous flux function. We assume that the mixed hyperbolic-parabolic system is of the form:\n",
    "\n",
    "\\begin{equation}\n",
    "    \\frac{\\partial}{\\partial t} A + \\frac{\\partial}{\\partial x} \\left[ f_{1}\\left( A \\right) + g_{1}\\left( A, \\nabla A \\right)  \\right] + \\frac{\\partial}{\\partial y} \\left[ f_{2}\\left( A \\right) + g_{2}\\left( A, \\nabla A \\right)  \\right] = 0\n",
    "    \\tag{10}\n",
    "\\end{equation}"
   ]
  },
  {
   "cell_type": "markdown",
   "metadata": {},
   "source": [
    "where $f_{1}(A)$ and $f_{2}(A)$ are the hyperbolic fluxes. $g_{1}(A, \\nabla A)$ and $g_{2}(A \\nabla A)$ denotes the viscous fluxes. For anisotropic diffusion, the viscous fluxes are the first and second components of the matrix-vector product involving `diffusivity` and the gradient vector. Here, we specialize the flux to our new parabolic equation type `ConstantAnisotropicDiffusion2D`"
   ]
  },
  {
   "cell_type": "markdown",
   "metadata": {},
   "source": [
    "However, because we have to scalar values ($A_{r} $, $A_{i}$), we'll follow along the `compressible_navier_stokes_2d.jl` source code, specifically the parabolic diffusion flux for the `CompressibleNavierStokesDiffusion2D`.\n",
    "\n",
    "https://github.com/trixi-framework/Trixi.jl/blob/1d7b2561ff656cb9b8c826ee8b7ee389a3370917/src/equations/compressible_navier_stokes_2d.jl"
   ]
  },
  {
   "cell_type": "markdown",
   "metadata": {},
   "source": [
    "In our case, the viscous stress tensor is anisotropic such that: \n",
    "\n",
    "\\begin{equation}\n",
    "    \\tau_{z} = -\\frac{v_{g,z}}{\\beta_{2,z} k_{0,z}}\\begin{bmatrix}\n",
    "    0 & 0 & 0 & 0\\\\\n",
    "    0 & 0  & 0 & 0 \\\\\n",
    "    1 & 0  & 0 & 0 \\\\\n",
    "    0 & 1  & 0 & 0 \\\\\n",
    "    \\end{bmatrix}\n",
    "    \\tag{32}\n",
    "\\end{equation}\n",
    "\n",
    "and\n",
    "\n",
    "\\begin{equation}\n",
    "    \\tau_{r} = -\\frac{v_{g,r}}{\\beta_{2,r} k_{0,r}}\\begin{bmatrix}\n",
    "    0 & 0 & 0 & 0\\\\\n",
    "    0 & 0  & 0 & 0 \\\\\n",
    "    1 & 0  & 0 & 0 \\\\\n",
    "    0 & 1  & 0 & 0 \\\\\n",
    "    \\end{bmatrix}\n",
    "    \\tag{33}\n",
    "\\end{equation}\n",
    "\n",
    "so that the diffusive flux in the z-direction is: \n",
    "\n",
    "\\begin{equation}\n",
    "    \\tau_{z}\\cdot \\begin{pmatrix}\n",
    "    A_{r} \\\\\n",
    "    A_{i} \\\\\n",
    "    B_{r} \\\\\n",
    "    B_{i}\n",
    "    \\end{pmatrix} = -\\frac{v_{g,z}}{\\beta_{2,z} k_{0,z}} \\begin{pmatrix}\n",
    "    0 \\\\\n",
    "    0 \\\\\n",
    "    A_{r} \\\\\n",
    "    A_{i}\n",
    "    \\end{pmatrix}\n",
    "    \\tag{34}\n",
    "\\end{equation}\n",
    "\n",
    "and the diffusive flux in the transverse y-direction is: \n",
    "\n",
    "\\begin{equation}\n",
    "    \\tau_{r}\\cdot \\begin{pmatrix}\n",
    "    A_{r} \\\\\n",
    "    A_{i} \\\\\n",
    "    B_{r} \\\\\n",
    "    B_{i}\n",
    "    \\end{pmatrix} = -\\frac{v_{g,r}}{\\beta_{2,r} k_{0,r}} \\begin{pmatrix}\n",
    "    0 \\\\\n",
    "    0 \\\\\n",
    "    A_{r} \\\\\n",
    "    A_{i}\n",
    "    \\end{pmatrix}\n",
    "    \\tag{35}\n",
    "\\end{equation}"
   ]
  },
  {
   "cell_type": "code",
   "execution_count": 11,
   "metadata": {},
   "outputs": [
    {
     "data": {
      "text/plain": [
       "flux (generic function with 52 methods)"
      ]
     },
     "execution_count": 11,
     "metadata": {},
     "output_type": "execute_result"
    }
   ],
   "source": [
    "# Explicit formulas for the diffusive Navier-Stokes fluxes are available, e.g., in Section 2\n",
    "# of the paper by Rueda-Ramírez, Hennemann, Hindenlang, Winters, and Gassner\n",
    "# \"An Entropy Stable Nodal Discontinuous Galerkin Method for the resistive\n",
    "#  MHD Equations. Part II: Subcell Finite Volume Shock Capturing\"\n",
    "# where one sets the magnetic field components equal to 0.\n",
    "function flux(u, gradients, orientation::Integer, equations::ConstantAnisotropicDiffusion2D)\n",
    "    \n",
    "    # Here `gradients` is assumed to contain the gradients of the primitive variables (rho, v1, v2, T)\n",
    "    # either computed directly or reverse engineered from the gradient of the entropy variables\n",
    "    # by way of the `convert_gradient_variables` function.\n",
    "    dArdz, dAidz, dBrdz, dBidz = gradients[1]\n",
    "    dArdy, dAidy, dBrdy, dBidy = gradients[2]\n",
    "\n",
    "    # Components of viscous stress tensor\n",
    "\n",
    "    tauz_11 = 0.0\n",
    "    tauz_12 = 0.0\n",
    "    tauz_13 = 0.0\n",
    "    tauz_14 = 0.0\n",
    "    \n",
    "    tauz_21 = 0.0\n",
    "    tauz_22 = 0.0\n",
    "    tauz_23 = 0.0\n",
    "    tauz_24 = 0.0\n",
    "\n",
    "    tauz_31 = 1.0\n",
    "    tauz_32 = 0.0\n",
    "    tauz_33 = 0.0\n",
    "    tauz_34 = 0.0\n",
    "\n",
    "    tauz_41 = 0.0\n",
    "    tauz_42 = 1.0\n",
    "    tauz_43 = 0.0\n",
    "    tauz_44 = 0.0\n",
    "    \n",
    "    taur_11 = 0.0\n",
    "    taur_12 = 0.0\n",
    "    taur_13 = 0.0\n",
    "    taur_14 = 0.0\n",
    "    \n",
    "    taur_21 = 0.0\n",
    "    taur_22 = 0.0\n",
    "    taur_23 = 0.0\n",
    "    taur_24 = 0.0\n",
    "\n",
    "    taur_31 = 1.0\n",
    "    taur_32 = 0.0\n",
    "    taur_33 = 0.0\n",
    "    taur_34 = 0.0\n",
    "\n",
    "    taur_41 = 0.0\n",
    "    taur_42 = 1.0\n",
    "    taur_43 = 0.0\n",
    "    taur_44 = 0.0\n",
    "    \n",
    "    if orientation == 1\n",
    "        # viscous flux components in the x-direction\n",
    "        f1 = 0.0\n",
    "        f2 = 0.0\n",
    "        f3 = tauz_31 * dArdz\n",
    "        f4 = tauz_42 * dAidz\n",
    "\n",
    "        return SVector(f1, f2, f3, f4)\n",
    "    else # if orientation == 2\n",
    "        # viscous flux components in the y-direction\n",
    "        g1 = 0.0\n",
    "        g2 = 0.0\n",
    "        g3 = taur_31 * dArdy\n",
    "        g4 = taur_42 * dAidy\n",
    "\n",
    "        return SVector(g1, g2, g3, g4)\n",
    "    end\n",
    "end"
   ]
  },
  {
   "cell_type": "markdown",
   "metadata": {},
   "source": [
    "# Source Terms"
   ]
  },
  {
   "cell_type": "markdown",
   "metadata": {},
   "source": [
    "The source terms are the optical absorption, nonlinear Kerr terms along with the time derivatives of our amplitudes:\n",
    "\n",
    "\\begin{equation}\n",
    "    \\begin{aligned}\n",
    "        \\partial_{t} A_{r} &= B_{r} \\\\\n",
    "        \\partial_{t} A_{i} &= B_{i} \\\\\n",
    "        \\partial_{t} B_{r} &= -\\frac{2}{\\beta_{2}} B_{i} - \\frac{\\alpha}{\\beta_{2}} A_{i} + \\frac{2 k_{0} n_{2}}{\\beta_{2}} I A_{r} \\\\\n",
    "        \\partial_{t} B_{i} &= -\\frac{2}{\\beta_{2}} B_{r} - \\frac{\\alpha}{\\beta_{2}} A_{r} + \\frac{2 k_{0} n_{2}}{\\beta_{2}} I A_{i}\n",
    "    \\end{aligned}\n",
    "    \\tag{35}\n",
    "\\end{equation}\n"
   ]
  },
  {
   "cell_type": "markdown",
   "metadata": {},
   "source": [
    "THe documentation of `Trixi.jl` has a page on adding source terms such as those above: https://trixi-framework.github.io/Trixi.jl/stable/tutorials/custom_semidiscretization/#Using-a-custom-ODE-right-hand-side-function\n",
    "\n",
    "We need to define a function with the name `source_terms_standard(u,x,t,equations)` and it should return an `SVector`:"
   ]
  },
  {
   "cell_type": "code",
   "execution_count": 12,
   "metadata": {},
   "outputs": [
    {
     "data": {
      "text/plain": [
       "source_terms_standard (generic function with 1 method)"
      ]
     },
     "execution_count": 12,
     "metadata": {},
     "output_type": "execute_result"
    }
   ],
   "source": [
    "function source_terms_standard(u, x, t, equations::LinearAdvectionEquation4v2D)\n",
    "\n",
    "    Ar, Ai, Br, Bi = u\n",
    "\n",
    "    #intensity\n",
    "    Aint = Ar^2 + Ai^2\n",
    "\n",
    "    Arsrc = Br #source term for Ar\n",
    "    Aisrc = Bi #source term for Ai\n",
    "    \n",
    "    Brsrc = -0.5*equations.b2src[3]*Bi - 0.5*equations.alpha[3]/equations.b2src[3]*Ai + 2.0*equations.k0src[3]*equations.n2[3]/equations.b2src[3]*Aint*Ar\n",
    "\n",
    "    Bisrc = -0.5*equations.b2src[4]*Br - 0.5*equations.alpha[4]/equations.b2src[4]*Ar + 2.0*equations.k0src[4]*equations.n2[4]/equations.b2src[4]*Aint*Ai\n",
    "    \n",
    "    \n",
    "    return SVector(Arsrc, Aisrc, Brsrc, Bisrc)\n",
    "end"
   ]
  },
  {
   "cell_type": "markdown",
   "metadata": {},
   "source": [
    "# Putting it All Together"
   ]
  },
  {
   "cell_type": "markdown",
   "metadata": {},
   "source": [
    "## Initialize Equations"
   ]
  },
  {
   "cell_type": "markdown",
   "metadata": {},
   "source": [
    "Let's initialize the hyperbolic advection equations. We need to define the speed of light and wavenumber. Let's also define the central wavelength and central frequency of our laser."
   ]
  },
  {
   "cell_type": "markdown",
   "metadata": {},
   "source": [
    "We define the group velocity as the group velocity in vacuum: $v_g = c$\n",
    "\n",
    "While $k_0$ is the central wave number. We'll use a central wavelength of $\\lambda_0 = 1 \\mu \\mathrm{m}$"
   ]
  },
  {
   "cell_type": "code",
   "execution_count": 13,
   "metadata": {},
   "outputs": [],
   "source": [
    "c = 2.998e8 #m/s speed of light in vacuum\n",
    "l0 = 1.0e-6 #central wavelength in meters\n",
    "k0 = 2.0*pi/l0 #central wavenumber\n",
    "omega0 = c*k0 ; #central angular frequency (2*pi f)\n",
    "beta2 = 1.0 # beta_2 group velocity dispersion function\n",
    "a = 1.0 # alpha optical absorption coefficient\n",
    "N2 = 1.0 # instantaneous second order nonliner index of refraction"
   ]
  },
  {
   "cell_type": "markdown",
   "metadata": {},
   "source": [
    "We'll use a material with relatively high absorption and dispersion in order to see some actual results. "
   ]
  },
  {
   "cell_type": "markdown",
   "metadata": {},
   "source": [
    "We'll use the wavelength as the normalization for the space variables (z,y)"
   ]
  },
  {
   "cell_type": "markdown",
   "metadata": {},
   "source": [
    "Let's now define our advection equation. We will normalize the speed to the speed of light and the length to our total length of the simulation. Let's say we want to see the laser travel: \n",
    "\n",
    "$$ Z_{norm} = 10 \\:\\mathrm{mm}$$\n",
    "\n",
    "and we want the radial normalization:\n",
    "\n",
    "$$ R_{norm} = 2 \\:\\mathrm{mm}$$\n",
    "\n",
    "This will be our normalization lengths. THis comes into play in the **Anisotropic Flux** in both the hyperbolic and parabolic equations . So then our light speed and wavenumber needs to be normalized in the longitudinal and transverse direction as follows: "
   ]
  },
  {
   "cell_type": "code",
   "execution_count": 14,
   "metadata": {},
   "outputs": [
    {
     "data": {
      "text/plain": [
       "628318.5307179588"
      ]
     },
     "execution_count": 14,
     "metadata": {},
     "output_type": "execute_result"
    }
   ],
   "source": [
    "Znorm = 10.0e-2 #normalization factor in longitudinal direction\n",
    "Rnorm = 0.002 #normalizaiton in transverse\n",
    "l0znorm = l0/Znorm #normalized wavelength\n",
    "l0rnorm = l0/Rnorm #normalized wavelength\n",
    "k0znorm = 2.0*pi/l0znorm #normalized wavenumber\n",
    "k0rnorm = 2.0*pi/l0rnorm #normalized wavenumber\n",
    "\n",
    "cznorm = 1.0 #normalized speed of light\n",
    "Tnorm = Znorm/c\n",
    "crnorm = c*Tnorm/l0rnorm\n",
    "\n",
    "omega0norm = omega0*Tnorm\n",
    "\n",
    "# println(\"Normalization Length: \", Lnorm)\n",
    "# println(\"Normalized wavelength: \", l0norm)\n",
    "# println(\"Normalized wavenumber: \", k0norm)\n",
    "# println(\"Normalized speed of light: \", cnorm)\n",
    "# println(\"Normalization time: \", Tnorm)"
   ]
  },
  {
   "cell_type": "code",
   "execution_count": null,
   "metadata": {},
   "outputs": [],
   "source": [
    "advspeed = (0.0, 0.0, 0.0, 0.0, -2.0/beta2 * cznorm, -2.0/beta2 * crnorm, 2.0/beta2 * cznorm, -2.0/beta2 * crnorm)\n",
    "\n",
    "difspeed = (0.0, 0.0, 0.0, 0.0, -cznorm/beta2/k0znorm, -crnorm/beta2/k0rnorm, -cznorm/beta2/k0znorm, -crnorm/beta2/k0rnorm)\n",
    "\n",
    "k0norm = (k0znorm, k0rnorm, k0znorm, k0rnorm, k0znorm, k0rnorm, k0znorm, k0rnorm)\n",
    "\n",
    "k0src = (k0znorm, k0rnorm, k0znorm, k0rnorm)\n",
    "\n",
    "b2 = (beta2, beta2, beta2, beta2, beta2, beta2, beta2, beta2)\n",
    "\n",
    "b2src = (beta2, beta2, beta2, beta2)\n",
    "\n",
    "n2 = (N2, N2, N2, N2)\n",
    "alpha = (0.0, 0.0, a, a, a, a)"
   ]
  },
  {
   "cell_type": "markdown",
   "metadata": {},
   "source": [
    "Notice that we also normalized time by the speed of light and total distance of travel. We will use this for the initial conditions"
   ]
  },
  {
   "cell_type": "markdown",
   "metadata": {},
   "source": [
    "Now let's initialize our hyperbolic equations"
   ]
  },
  {
   "cell_type": "code",
   "execution_count": null,
   "metadata": {},
   "outputs": [],
   "source": [
    "equations_hyperbolic = LinearAdvectionEquation4v2D()"
   ]
  },
  {
   "cell_type": "markdown",
   "metadata": {},
   "source": [
    "Note that in defining `equations_hyperbolic` we use to inputs into our custom `LinearAdvectionEquation2v2D()` function. This is because the parametric struct has two variables within it as we defined it: `speed_of_light` and `k0`. This means that we can initialize these parameters of the struct by inputting them as arguments in chronological order. "
   ]
  },
  {
   "cell_type": "markdown",
   "metadata": {},
   "source": [
    "Let's now initialize the parabolic part of our equation. Similar to the hyperbolic initialization, we input the arguments for the hyperbolic equations, the speed of light, and wavenumber"
   ]
  },
  {
   "cell_type": "code",
   "execution_count": null,
   "metadata": {},
   "outputs": [],
   "source": [
    "equations_parabolic = ConstantAnisotropicDiffusion2D(equations_hyperbolic, cnorm, k0norm)"
   ]
  }
 ],
 "metadata": {
  "kernelspec": {
   "display_name": "Julia (24 threads) 1.10.5",
   "language": "julia",
   "name": "julia-_24-threads_-1.10"
  },
  "language_info": {
   "file_extension": ".jl",
   "mimetype": "application/julia",
   "name": "julia",
   "version": "1.10.5"
  }
 },
 "nbformat": 4,
 "nbformat_minor": 4
}
